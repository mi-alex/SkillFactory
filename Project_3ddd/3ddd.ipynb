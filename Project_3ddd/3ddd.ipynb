{
 "cells": [
  {
   "cell_type": "code",
   "execution_count": 204,
   "metadata": {},
   "outputs": [
    {
     "name": "stdout",
     "output_type": "stream",
     "text": [
      "Append: [1, '2024-11-28', 'Christmas tree with fireplace 5', 'https://3dsky.org/3dmodels/show/novogodniaia_elka_s_kaminom_5', 'Decoration', 'Other decorative objects', '3dsMax 2016 + obj', 'Corona', 'None', 'None', '2024-11-11', 'dofen', 313, 151]\n",
      "Append: [2, '2024-11-28', 'Benuta Leon Cream Wool Rug', 'https://3dsky.org/3dmodels/show/benuta_leon_cream_wool_rug', 'Decoration', 'Carpets', '3dsMax 2015 + obj', 'Corona', 'None', 'None', '2024-11-03', '3Dmitruk', 335, 199]\n",
      "Append: [3, '2024-11-28', 'Indoor Plant Set 89', 'https://3dsky.org/3dmodels/show/indoor_plant_set_89_23', 'Plants', 'Indoor', '3dsMax 2015 + obj', 'Corona', 'V-Ray', 'None', '2024-04-30', 'mh.designer', 211, 44]\n",
      "Append: [4, '2024-11-28', 'Office chair Ashley', 'https://3dsky.org/3dmodels/show/ofisnoe_kreslo_eshli', 'Furniture', 'Office furniture', '3dsMax 2015 + obj', 'Corona', 'None', 'None', '2024-10-13', 'illidan_', 6, 128]\n",
      "Append: [5, '2024-11-28', 'Clothes for wardrobe NG15', 'https://3dsky.org/3dmodels/show/odezhda_dlia_garderoba_ng15', 'Decoration', 'Clothes', '3dsMax 2016 + obj', 'Corona', 'V-Ray', 'None', '2024-11-12', 'niga2323', 743, 88]\n",
      "Append: [6, '2024-11-28', 'Boucle Fabric', 'https://3dsky.org/3dmodels/show/boucle_fabric', 'Materials', 'Miscellaneous', '3dsMax 2019 + obj', 'Corona', 'None', 'None', '2024-10-27', 'marchik3d', 148, 364]\n",
      "Append: [7, '2024-11-28', 'Decorative Set 089', 'https://3dsky.org/3dmodels/show/decorative_set_089_4', 'Decoration', 'Decorative set', '3dsMax 2016 + fbx', 'Corona', 'V-Ray', 'None', '2024-10-27', 'Moriiiz', 87, 225]\n",
      "Append: [8, '2024-11-28', 'Benuta Dave Rectangular Fur Rug (3 colors)', 'https://3dsky.org/3dmodels/show/benuta_dave_rectangular_fur_rug_3_colors', 'Decoration', 'Carpets', '3dsMax 2015 + obj', 'Corona', 'None', 'None', '2024-06-27', '3Dmitruk', 335, 534]\n",
      "Append: [9, '2024-11-28', 'Curtains with Roman blinds 2', 'https://3dsky.org/3dmodels/show/shtory_s_rimskimi_shtorami_2', 'Decoration', 'Curtain', '3dsMax 2014 + obj', 'Corona', 'None', 'None', '2024-08-26', 'Rolan05', 128, 240]\n",
      "Append: [10, '2024-11-28', 'Kitchen 10', 'https://3dsky.org/3dmodels/show/kukhnia_10_6', 'Kitchen', 'Kitchen', '3dsMax 2015 + obj', 'Corona', 'None', 'None', '2024-06-29', 'RazorS95', 11, 74]\n",
      "Append: [11, '2024-11-28', 'Decorative Set 088', 'https://3dsky.org/3dmodels/show/decorative_set_088_2', 'Decoration', 'Decorative set', '3dsMax 2016 + fbx', 'Corona', 'V-Ray', 'None', '2024-10-13', 'Moriiiz', 87, 193]\n",
      "Append: [12, '2024-11-28', 'Carpeting. Seamless carpet', 'https://3dsky.org/3dmodels/show/carpeting_seamless_carpet', 'Materials', 'Miscellaneous', '3dsMax 2015 + fbx', 'Corona', 'V-Ray', 'None', '2024-09-10', 'sofiakholina', 770, 138]\n",
      "Append: [13, '2024-11-28', 'Dressing room 28', 'https://3dsky.org/3dmodels/show/garderobnaia_28', 'Furniture', 'Wardrobe & Display cabinets', '3dsMax 2017 + fbx', 'Corona', 'None', 'None', '2024-11-14', 'protektor', 322, 61]\n",
      "Append: [14, '2024-11-28', 'Dressing room 16', 'https://3dsky.org/3dmodels/show/garderobnaia_16_1', 'Furniture', 'Wardrobe & Display cabinets', '3dsMax 2017 + fbx', 'Corona', 'None', 'None', '2024-05-06', 'protektor', 322, 386]\n",
      "Append: [15, '2024-11-28', 'A set of clothes in bright colors for a wardrobe or showroom and a store', 'https://3dsky.org/3dmodels/show/a_set_of_clothes_in_bright_colors_for_a_wardrobe_or_showroom_and_a_store', 'Decoration', 'Clothes', '3dsMax 2015 + fbx', 'Corona', 'V-Ray', 'None', '2024-10-26', 'sofiakholina', 770, 189]\n",
      "Append: [16, '2024-11-28', 'Cairns pedestal Divan.ru', 'https://3dsky.org/3dmodels/show/kerns_tumba_divan_ru', 'Furniture', 'Sideboard & Chest of drawer', '3dsMax 2016 + obj', 'Corona', 'V-Ray', 'None', '2024-11-05', 'niga2323', 743, 60]\n",
      "Append: [17, '2024-11-28', 'coffee table decor set 005', 'https://3dsky.org/3dmodels/show/coffee_table_decor_set_005', 'Decoration', 'Decorative set', '3dsMax 2015 + fbx', 'Corona', 'V-Ray', 'None', '2024-11-15', 'Mitya87', 189, 105]\n",
      "Append: [18, '2024-11-28', 'Roman blinds, Roman blinds', 'https://3dsky.org/3dmodels/show/roman_blinds_rimskie_shtory', 'Decoration', 'Curtain', '3dsMax 2016 + obj', 'Corona', 'None', 'None', '2024-11-12', 'Neeo', 417, 81]\n",
      "Append: [19, '2024-11-28', 'Basic wardrobe made of cabinet furniture with doors', 'https://3dsky.org/3dmodels/show/basic_wardrobe_made_of_cabinet_furniture_with_doors', 'Furniture', 'Wardrobe & Display cabinets', '3dsMax 2015 + fbx', 'Corona', 'V-Ray', 'None', '2024-11-12', 'sofiakholina', 770, 105]\n",
      "Append: [20, '2024-11-28', 'TV wall with Xiaomi laser projector', 'https://3dsky.org/3dmodels/show/tv_stena_s_lazernym_proektorom_xiaomi', 'Furniture', 'TV Wall', '3dsMax 2015 + fbx', 'Corona', 'V-Ray', 'None', '2023-12-09', 'aoverina', 2219, 1479]\n",
      "Append: [21, '2024-11-28', 'Omnires mixers', 'https://3dsky.org/3dmodels/show/smesiteli_omnires', 'Bathroom', 'Faucet', '3dsMax 2018 + fbx', 'Corona', 'V-Ray', 'None', '2024-10-12', 'fffaaa12', 1215, 70]\n",
      "Append: [22, '2024-11-28', 'Office chair Sergio La Redoute', 'https://3dsky.org/3dmodels/show/kreslo_ofisnoe_sergio_la_redoute', 'Furniture', 'Office furniture', '3dsMax 2013 + obj', 'Corona', 'V-Ray', 'None', '2024-10-13', 'Артур56', 245, 77]\n",
      "Append: [23, '2024-11-28', 'Children play area | Interactive', 'https://3dsky.org/3dmodels/show/children_play_area_interactive', 'Childroom', 'Miscellaneous', '3dsMax 2016 + fbx', 'Corona', 'V-Ray', 'None', '2024-11-04', 'lzv_cg', 82, 146]\n",
      "Append: [24, '2024-11-28', 'Snow', 'https://3dsky.org/3dmodels/show/sneg_4', 'Materials', 'Miscellaneous', '3dsMax 2013 + obj', 'Corona', 'None', 'None', '2024-11-09', 'maltsev_stepan', 307, 54]\n",
      "Append: [25, '2024-11-28', 'Glass Block Wall 08', 'https://3dsky.org/3dmodels/show/glass_block_wall_08', 'Decoration', 'Other decorative objects', '3dsMax 2014 + fbx', 'Corona', 'V-Ray', 'None', '2022-05-26', 'NK3D', 128, 811]\n",
      "Append: [26, '2024-11-28', 'Bathroom decor with a set of different cosmetic products', 'https://3dsky.org/3dmodels/show/bathroom_decor_with_a_set_of_different_cosmetic_products', 'Bathroom', 'Bathroom accessories', '3dsMax 2015 + fbx', 'Corona', 'V-Ray', 'None', '2024-07-10', 'sofiakholina', 770, 264]\n",
      "Append: [27, '2024-11-28', 'Moooi Drape Lights', 'https://3dsky.org/3dmodels/show/moooi_drape_lights', 'Lighting', 'Pendant light', '3dsMax 2014 + obj', 'None', 'V-Ray', 'None', '2024-10-28', 'Karloo', 100, 94]\n",
      "Append: [28, '2024-11-28', 'Grilles for ventilation and air conditioning Redvent', 'https://3dsky.org/3dmodels/show/reshetki_dlia_ventiliatsii_i_konditsionirovaniia_redvent', 'Other Models', 'Miscellaneous', '3dsMax 2017 + obj', 'Corona', 'V-Ray', 'None', '2024-10-27', 'DashutaG', 30, 81]\n",
      "Append: [29, '2024-11-28', 'Siena Kids Bed By Como', 'https://3dsky.org/3dmodels/show/siena_kids_bed_by_como_5', 'Childroom', 'Bed', '3dsMax 2015 + obj', 'Corona', 'None', 'None', '2024-02-18', 'ZikKoo', 417, 768]\n",
      "Append: [30, '2024-11-28', 'Padel', 'https://3dsky.org/3dmodels/show/padel_padel', 'Other Models', 'Sports', '3dsMax 2017 + obj', 'Corona', 'V-Ray', 'None', '2023-11-03', 'alexsm2014', 22, 116]\n",
      "Append: [31, '2024-11-28', 'Robot vacuum cleaner Xiaomi Robot Vacuum Cleaner X20', 'https://3dsky.org/3dmodels/show/robot_pylesos_xiaomi_robot_vacuum_cleaner_x20', 'Technology', 'Household appliance', '3dsMax 2018 + fbx', 'Corona', 'None', 'None', '2024-05-31', 'dilya_1', 99, 127]\n",
      "Append: [32, '2024-11-28', 'Faucets and showers Boheme uno set 2', 'https://3dsky.org/3dmodels/show/faucets_and_showers_boheme_uno_set_2', 'Bathroom', 'Faucet', '3dsMax 2017 + fbx', 'Corona', 'V-Ray', 'None', '2024-09-13', 'Ashlesha', 22, 59]\n",
      "Append: [33, '2024-11-28', 'Porcelain tiles Nolana Estima', 'https://3dsky.org/3dmodels/show/keramogranit_nolana_estima', 'Materials', 'Tile', '3dsMax 2020 + obj', 'Corona', 'None', 'None', '2024-09-14', 'RazorS95', 11, 165]\n",
      "Append: [34, '2024-11-28', 'Bathroom decor set P06', 'https://3dsky.org/3dmodels/show/bathroom_decor_set_p06', 'Bathroom', 'Bathroom accessories', '3dsMax 2020 + fbx', 'Corona', 'None', 'None', '2024-08-06', 'picture.cg', 8, 90]\n",
      "Append: [35, '2024-11-28', 'Cecily Nara bedside table Cosmo', 'https://3dsky.org/3dmodels/show/cecily_nara_prikrovatnaia_tumba_cosmo', 'Furniture', 'Sideboard & Chest of drawer', '3dsMax 2016 + obj', 'Corona', 'V-Ray', 'None', '2024-10-21', 'niga2323', 743, 70]\n",
      "Append: [36, '2024-11-28', 'kitchen 0252', 'https://3dsky.org/3dmodels/show/kitchen_0252', 'Kitchen', 'Kitchen', '3dsMax 2014 + fbx', 'Corona', 'V-Ray', 'None', '2024-11-05', 'Hasan3596', 97, 53]\n",
      "Append: [37, '2024-11-28', 'Lindsay Laurie coffee table Divan.ru', 'https://3dsky.org/3dmodels/show/lindsi_lori_zhurnalnyi_stolik_divan_ru', 'Furniture', 'Table', '3dsMax 2016 + obj', 'Corona', 'V-Ray', 'None', '2024-11-05', 'niga2323', 743, 30]\n",
      "Append: [38, '2024-11-28', 'Track system centersvet Infinity', 'https://3dsky.org/3dmodels/show/trekovaia_sistema_centersvet_infinity', 'Lighting', 'Technical lighting', '3dsMax 2020 + obj', 'Corona', 'None', 'None', '2024-10-30', 'Beliy', 22, 27]\n",
      "Append: [39, '2024-11-28', 'HOMARY island for dressing room NG16', 'https://3dsky.org/3dmodels/show/homary_ostrov_dlia_garderobnoi_ng16', 'Furniture', 'Other', '3dsMax 2016 + obj', 'Corona', 'V-Ray', 'None', '2024-11-18', 'niga2323', 743, 236]\n",
      "Append: [40, '2024-11-28', 'Nice Christmas tree', 'https://3dsky.org/3dmodels/show/khoroshaia_elochka', 'Decoration', 'Other decorative objects', '3dsMax 2015 + fbx', 'Corona', 'None', 'None', '2023-11-23', 'fffaaa12', 1215, 1408]\n",
      "Append: [41, '2024-11-28', 'Bathroom furniture 21', 'https://3dsky.org/3dmodels/show/mebel_dlia_vannoi_komnaty_21', 'Bathroom', 'Bathroom furniture', '3dsMax 2013 + obj', 'Corona', 'None', 'None', '2024-07-28', 'don2432', 170, 199]\n",
      "Append: [42, '2024-11-28', 'Cookware set NG5', 'https://3dsky.org/3dmodels/show/nabor_posudy_ng5', 'Kitchen', 'Tableware', '3dsMax 2016 + obj', 'Corona', 'V-Ray', 'None', '2024-10-07', 'niga2323', 743, 317]\n",
      "Append: [43, '2024-11-28', '3DArt Relief NG41', 'https://3dsky.org/3dmodels/show/3dart_relef_ng41', 'Decoration', 'Frame', '3dsMax 2016 + obj', 'Corona', 'V-Ray', 'None', '2024-10-22', 'niga2323', 743, 83]\n",
      "Append: [44, '2024-11-28', 'West Elm Curved Modern Upholstered Bed', 'https://3dsky.org/3dmodels/show/west_elm_curved_modern_upholstered_bed_9', 'Furniture', 'Bed', '3dsMax 2016 + obj', 'Corona', 'V-Ray', 'None', '2024-11-06', 'Ney', 610, 82]\n",
      "Append: [45, '2024-11-28', 'Wine with chocolate set/1', 'https://3dsky.org/3dmodels/show/vino_s_shokoladom_set_1', 'Kitchen', 'Food and drinks', '3dsMax 2016 + obj', 'Corona', 'None', 'None', '2024-08-02', 'unrepeatable', 73, 257]\n",
      "Append: [46, '2024-11-28', 'garage tools set 23', 'https://3dsky.org/3dmodels/show/garage_tools_set_23_1', 'Furniture', 'Rack', '3dsMax 2013 + obj', 'Corona', 'V-Ray', 'None', '2024-08-19', 'pluse44', 9, 72]\n",
      "Append: [47, '2024-11-28', 'Equipe BALI', 'https://3dsky.org/3dmodels/show/equipe_bali_2', 'Textures', 'Tile', '3dsMax 2016 + obj', 'Corona', 'V-Ray', 'None', '2024-09-25', 'StanisLOVE.viz', 160, 94]\n",
      "Append: [48, '2024-11-28', 'Milam chair Divan.ru', 'https://3dsky.org/3dmodels/show/milam_stul_divan_ru', 'Furniture', 'Chair', '3dsMax 2016 + obj', 'Corona', 'V-Ray', 'None', '2024-10-08', 'niga2323', 743, 89]\n",
      "Append: [49, '2024-11-28', 'A bouquet of lilacs in a glass vase', 'https://3dsky.org/3dmodels/show/buket_sireni_v_stekliannoi_vaze_1', 'Plants', 'Bouquet', '3dsMax 2012 + obj', 'Corona', 'V-Ray', 'None', '2024-10-22', 'auralis', 226, 187]\n",
      "Append: [50, '2024-11-28', 'Bouquet 06', 'https://3dsky.org/3dmodels/show/bouquet_06_10', 'Plants', 'Bouquet', '3dsMax 2020 + fbx', 'Corona', 'None', 'None', '2024-11-08', 'Mahikoo', 10, 112]\n",
      "Append: [51, '2024-11-28', 'Laundry Room _ 0005', 'https://3dsky.org/3dmodels/show/laundry_room_0005', 'Bathroom', 'Bathroom accessories', '3dsMax 2013 + fbx', 'Corona', 'V-Ray', 'None', '2021-09-22', 'grol69', 311, 933]\n",
      "Append: [52, '2024-11-28', 'Sinks and faucets Omoikiri', 'https://3dsky.org/3dmodels/show/moiki_i_smesiteli_omoikiri', 'Kitchen', 'Sink', '3dsMax 2017 + fbx', 'Corona', 'None', 'None', '2023-10-15', 'oleksandroleksandr', 125, 501]\n",
      "Append: [53, '2024-11-28', 'Equipe Hopp', 'https://3dsky.org/3dmodels/show/equipe_hopp_2', 'Textures', 'Tile', '3dsMax 2016 + obj', 'Corona', 'V-Ray', 'None', '2024-02-28', 'StanisLOVE.viz', 160, 236]\n",
      "Append: [54, '2024-11-28', 'Panel with waves', 'https://3dsky.org/3dmodels/show/panel_s_volnami', 'Decoration', 'Sculpture', '3dsMax 2017 + obj', 'Corona', 'V-Ray', 'None', '2024-04-28', 'Manax', 69, 485]\n",
      "Append: [55, '2024-11-28', 'Realistic meadow grass', 'https://3dsky.org/3dmodels/show/realistichnaia_lugovaia_trava', 'Plants', 'Grass', '3dsMax 2020 + obj', 'Corona', 'None', 'None', '2024-09-05', 'AlexHappy', 1663, 439]\n",
      "Append: [56, '2024-11-28', 'Herringbone parquet chevron s8', 'https://3dsky.org/3dmodels/show/parket_elochka_shevron_s8', 'Textures', 'Floor coverings', '3dsMax 2016 + obj', 'Corona', 'V-Ray', 'None', '2024-05-24', 'StanisLOVE.viz', 160, 210]\n",
      "Append: [57, '2024-11-28', 'Volhovec Rift Doors', 'https://3dsky.org/3dmodels/show/volhovec_rift_doors_1', 'Other Models', 'Doors', '3dsMax 2014 + obj', 'Corona', 'V-Ray', 'None', '2024-07-03', 'Игорь1969', 66, 196]\n",
      "Append: [58, '2024-11-28', \"Soft seat by the window in the children's room\", 'https://3dsky.org/3dmodels/show/soft_seat_by_the_window_in_the_children_room', 'Childroom', 'Miscellaneous', '3dsMax 2016 + fbx', 'Corona', 'V-Ray', 'None', '2024-07-25', 'lzv_cg', 82, 333]\n",
      "Append: [59, '2024-11-28', 'Faucets and showers Boheme uno set 1', 'https://3dsky.org/3dmodels/show/faucets_and_showers_boheme_uno_set_1', 'Bathroom', 'Bathtub', '3dsMax 2017 + fbx', 'Corona', 'V-Ray', 'None', '2024-09-10', 'Ashlesha', 22, 40]\n",
      "Append: [60, '2024-11-28', 'Faucets and showers Boheme Specter set', 'https://3dsky.org/3dmodels/show/faucets_and_showers_boheme_spectre_set', 'Bathroom', 'Faucet', '3dsMax 2017 + fbx', 'Corona', 'V-Ray', 'None', '2024-10-04', 'Ashlesha', 22, 26]\n",
      "Append: [61, '2024-11-28', 'Parquet board 4', 'https://3dsky.org/3dmodels/show/parketnaia_doska_4_1', 'Textures', 'Floor coverings', '3dsMax 2016 + obj', 'Corona', 'V-Ray', 'None', '2024-10-21', 'dofen', 313, 79]\n",
      "Append: [62, '2024-11-28', 'Decorative Set 270', 'https://3dsky.org/3dmodels/show/decorative_set_270_1', 'Decoration', 'Decorative set', '3dsMax 2015 + obj', 'Corona', 'None', 'None', '2024-10-28', '☆☆Roohollah.3DArtist☆☆', 566, 38]\n",
      "Append: [63, '2024-11-28', 'Bedside table Tammi', 'https://3dsky.org/3dmodels/show/tumba_prikrovatnaia_tammi', 'Furniture', 'Sideboard & Chest of drawer', '3dsMax 2021 + fbx', 'Corona', 'None', 'None', '2024-10-13', 'evgeni77712', 5, 42]\n",
      "Append: [64, '2024-11-28', 'Pila Vessels en gold / Jug', 'https://3dsky.org/3dmodels/show/pila_vessels_en_gold_kuvshin', 'Decoration', 'Vase', '3dsMax 2020 + fbx', 'Corona', 'V-Ray', 'None', '2024-11-03', 'picture.cg', 8, 215]\n",
      "Append: [65, '2024-11-28', 'kitchen modern-067', 'https://3dsky.org/3dmodels/show/kitchen_modern_067', 'Kitchen', 'Kitchen', '3dsMax 2015 + obj', 'Corona', 'V-Ray', 'None', '2024-10-22', 'moon_3dart296', 24, 56]\n",
      "Append: [66, '2024-11-28', 'Minotti Pilots Bench', 'https://3dsky.org/3dmodels/show/minotti_pilotis_bench', 'Furniture', 'Other soft seating', '3dsMax 2013 + obj', 'Corona', 'V-Ray', 'None', '2024-11-01', 'horrortechnology', 714, 59]\n",
      "Append: [67, '2024-11-28', 'Dinning Set 162', 'https://3dsky.org/3dmodels/show/dinning_set_162', 'Furniture', 'Table + Chair', '3dsMax 2012 + fbx', 'Corona', 'V-Ray', 'None', '2024-11-02', 'лааппп', 76, 26]\n",
      "Append: [68, '2024-11-28', 'Bathroom accessories Z42', 'https://3dsky.org/3dmodels/show/bathroom_accessories_z42', 'Bathroom', 'Bathroom accessories', '3dsMax 2016 + obj', 'Corona', 'V-Ray', 'None', '2024-11-13', 'zyazdiyan', 34, 21]\n",
      "Append: [69, '2024-11-28', 'FloorGen Tools 1.5.4', 'https://3dsky.org/3dmodels/show/floorgen_tools_1_5_4', 'Scripts', 'Scripts', 'Script', 'Corona', 'V-Ray', 'None', '2019-04-14', '-NiK-', 40, 801]\n",
      "Append: [70, '2024-11-28', 'Christmas tree 5', 'https://3dsky.org/3dmodels/show/novogodniaia_elka_5_1', 'Decoration', 'Other decorative objects', '3dsMax 2015 + fbx', 'Corona', 'V-Ray', 'None', '2022-12-10', 'fffaaa12', 1215, 609]\n",
      "Append: [71, '2024-11-28', 'Wet asphalt with leaves. Autumn. Editable', 'https://3dsky.org/3dmodels/show/mokryi_asfalt_s_listiami_osen_redaktiruemyi', 'Architecture', 'Urban environment', '3dsMax 2020 + fbx', 'Corona', 'V-Ray', 'None', '2023-10-24', 'paz', 130, 471]\n",
      "Append: [72, '2024-11-28', 'Serving NG3', 'https://3dsky.org/3dmodels/show/cervirovka_ng3', 'Kitchen', 'Tableware', '3dsMax 2016 + obj', 'Corona', 'V-Ray', 'None', '2023-08-22', 'niga2323', 743, 455]\n",
      "Append: [73, '2024-11-28', 'Indoor Plant 702 - Olive Plant', 'https://3dsky.org/3dmodels/show/indoor_plant_702_olive_plant', 'Plants', 'Indoor', '3dsMax 2015 + obj', 'Corona', 'V-Ray', 'None', '2024-03-18', '3Design.FB', 1562, 252]\n",
      "Append: [74, '2024-11-28', 'Wardrobe system Rimadesio Dress Bold', 'https://3dsky.org/3dmodels/show/garderobnaia_sistema_rimadesio_dress_bold', 'Furniture', 'Wardrobe & Display cabinets', '3dsMax 2013 + obj', 'Corona', 'V-Ray', 'None', '2024-06-20', 'restereo', 98, 502]\n",
      "Append: [75, '2024-11-28', 'Hotel Bathroom Accessories LE LABO', 'https://3dsky.org/3dmodels/show/hotel_bathroom_accessories_le_labo', 'Bathroom', 'Bathroom accessories', '3dsMax 2016 + obj', 'Corona', 'V-Ray', 'None', '2024-04-25', 'lzv_cg', 82, 409]\n",
      "Append: [76, '2024-11-28', 'Rubber Coating', 'https://3dsky.org/3dmodels/show/rezinovoe_pokrytie_1', 'Materials', 'Miscellaneous', '3dsMax 2011 + obj', 'Corona', 'None', 'None', '2024-08-13', 'maltsev_stepan', 307, 185]\n",
      "Append: [77, '2024-11-28', 'Ventilation system.', 'https://3dsky.org/3dmodels/show/industrialnyi_potolok_2', 'Other Models', 'Miscellaneous', '3dsMax 2015 + fbx', 'Corona', 'V-Ray', 'None', '2024-08-24', 'slipknot1111', 20, 145]\n",
      "Append: [78, '2024-11-28', 'Interactive panel for children room', 'https://3dsky.org/3dmodels/show/interactive_panel_for_children_room', 'Childroom', 'Miscellaneous', '3dsMax 2016 + fbx', 'Corona', 'V-Ray', 'None', '2024-08-15', 'lzv_cg', 82, 335]\n",
      "Append: [79, '2024-11-28', 'Christmas tree with fireplace 4', 'https://3dsky.org/3dmodels/show/novogodniaia_elka_s_kaminom_4', 'Decoration', 'Other decorative objects', '3dsMax 2016 + obj', 'Corona', 'None', 'None', '2023-12-22', 'dofen', 313, 343]\n",
      "Append: [80, '2024-11-28', 'Round carpet', 'https://3dsky.org/3dmodels/show/kruglyi_kovior', 'Decoration', 'Carpets', '3dsMax 2017 + obj', 'Corona', 'V-Ray', 'None', '2024-08-16', 'miklob', 18, 205]\n",
      "Append: [81, '2024-11-28', 'Kitchen Appliance Bosch Kitchen 81', 'https://3dsky.org/3dmodels/show/kitchen_appliance_bosch_kitchen_81_2', 'Kitchen', 'Kitchen', '3dsMax 2015 + obj', 'Corona', 'V-Ray', 'None', '2024-09-17', 'freesection', 134, 219]\n",
      "Append: [82, '2024-11-28', 'Curtains 9', 'https://3dsky.org/3dmodels/show/curtains_9_12', 'Decoration', 'Curtain', '3dsMax 2015 + fbx', 'Corona', 'None', 'None', '2024-09-14', 'fffaaa12', 1215, 64]\n",
      "Append: [83, '2024-11-28', 'EWRIKA Penelope electric heated towel rail', 'https://3dsky.org/3dmodels/show/ewrika_penelopa_polotentsesushitel_elektricheskii', 'Bathroom', 'Towel rail', '3dsMax 2016 + obj', 'Corona', 'V-Ray', 'None', '2024-10-21', 'niga2323', 743, 48]\n",
      "Append: [84, '2024-11-28', 'A set for a clothing store and showroom', 'https://3dsky.org/3dmodels/show/a_set_for_a_clothing_store_and_showroom', 'Other Models', 'Shop', '3dsMax 2015 + fbx', 'Corona', 'V-Ray', 'None', '2024-10-29', 'sofiakholina', 770, 172]\n",
      "Append: [85, '2024-11-28', 'Pinboard with childrens drawings', 'https://3dsky.org/3dmodels/show/pinbord_doska_s_detskimi_risunkami', 'Childroom', 'Miscellaneous', '3dsMax 2017 + obj', 'Corona', 'V-Ray', 'None', '2024-10-14', 'DashutaG', 30, 87]\n",
      "Append: [86, '2024-11-28', 'Furniture Composition 271', 'https://3dsky.org/3dmodels/show/furniture_composition_271', 'Furniture', 'Wardrobe & Display cabinets', '3dsMax 2013 + obj', 'Corona', 'V-Ray', 'None', '2024-10-19', 'Stt.HuynOneShine', 177, 75]\n",
      "Append: [87, '2024-11-28', 'TV Wall 52', 'https://3dsky.org/3dmodels/show/tv_wall_52_7', 'Furniture', 'TV Wall', '3dsMax 2016 + obj', 'Corona', 'V-Ray', 'None', '2024-10-27', 'sirous21', 231, 58]\n",
      "Append: [88, '2024-11-28', 'Indoor Plant Set 0147', 'https://3dsky.org/3dmodels/show/indoor_plant_set_0147_1', 'Plants', 'Indoor', '3dsMax 2015 + fbx', 'Corona', 'V-Ray', 'None', '2024-11-09', 'mojdeh', 151, 29]\n",
      "Append: [89, '2024-11-28', 'Childrens open wardrobe with desk, modular, modern, 25', 'https://3dsky.org/3dmodels/show/shkaf_otkrytyi_detskii_s_pismennym_stolom_modulnyi_sovremennyi_25', 'Childroom', 'Wardrobe', '3dsMax 2013 + obj', 'Corona', 'None', 'None', '2024-11-13', 'don2432', 170, 42]\n",
      "Append: [90, '2024-11-28', 'LAUNDRY SET (Poliform FITTED + ASKO)', 'https://3dsky.org/3dmodels/show/laundry_set_poliform_fitted_asko', 'Bathroom', 'Bathroom accessories', '3dsMax 2012 + obj', 'Corona', 'V-Ray', 'None', '2019-08-24', 'vitaly_y_panov', 223, 2212]\n",
      "Append: [91, '2024-11-28', 'Bakery Equipment', 'https://3dsky.org/3dmodels/show/oborudovanie_dlia_pekarni', 'Other Models', 'Restaurant', '3dsMax 2014 + obj', 'Corona', 'V-Ray', 'None', '2020-05-19', 'Стаска', 72, 1260]\n",
      "Append: [92, '2024-11-28', 'Photo Studio Kit', 'https://3dsky.org/3dmodels/show/photo_studio_kit', 'Other Models', 'Miscellaneous', '3dsMax 2014 + obj', 'Corona', 'V-Ray', 'None', '2021-01-15', 'quantum_4141', 98, 656]\n",
      "Append: [93, '2024-11-28', 'Set of ceilings Armstrong and Grilyato', 'https://3dsky.org/3dmodels/show/nabor_potolkov_armstrong_i_griliato_1', 'Other Models', 'Miscellaneous', '3dsMax 2013 + fbx', 'Corona', 'V-Ray', 'None', '2022-08-18', 'solomon5555', 428, 825]\n",
      "Append: [94, '2024-11-28', 'Boen parquet board wood flooring', 'https://3dsky.org/3dmodels/show/parketnaia_doska_boen', 'Textures', 'Floor coverings', '3dsMax 2016 + obj', 'Corona', 'V-Ray', 'None', '2024-01-07', 'dofen', 313, 875]\n",
      "Append: [95, '2024-11-28', 'Accessories for public toilets black set 152 part 4', 'https://3dsky.org/3dmodels/show/aksessuary_dlia_obshchestvennykh_tualetov_black_set_152_part_4', 'Bathroom', 'Bathroom accessories', '3dsMax 2013 + obj', 'Corona', 'V-Ray', 'None', '2022-05-07', 'madMIX', 82, 439]\n",
      "Append: [96, '2024-11-28', 'Curtain 28/ curtains', 'https://3dsky.org/3dmodels/show/curtain_28_shtory', 'Decoration', 'Curtain', '3dsMax 2018 + obj', 'Corona', 'None', 'None', '2024-03-16', 'ElenaSokha', 252, 294]\n",
      "Append: [97, '2024-11-28', 'Decorative set with a small beige bag', 'https://3dsky.org/3dmodels/show/dekorativnyi_nabor_s_malenkoi_sumkoi_bezh', 'Decoration', 'Decorative set', '3dsMax 2017 + obj', 'Corona', 'V-Ray', 'None', '2024-05-19', 'Lana3D', 27, 27]\n",
      "Append: [98, '2024-11-28', 'Coffee Shop 6', 'https://3dsky.org/3dmodels/show/coffee_shop_6_1', 'Other Models', 'Restaurant', '3dsMax 2012 + obj', 'Corona', 'V-Ray', 'None', '2024-03-11', 'omnomn', 309, 599]\n",
      "Append: [99, '2024-11-28', 'Khmara by Makhno Rough Plaster Pendant Lamps', 'https://3dsky.org/3dmodels/show/khmara_by_makhno_rough_plaster_pendant_lamps_set_01_3', 'Lighting', 'Pendant light', '3dsMax 2018 + obj', 'Corona', 'V-Ray', 'None', '2024-03-12', 'CG__Aryan', 28, 306]\n",
      "Append: [100, '2024-11-28', 'Double bath curtain on Sunerzha cornice', 'https://3dsky.org/3dmodels/show/dvoinaia_shtora_dlia_vanny_na_karnize_sunerzha', 'Bathroom', 'Bathroom accessories', '3dsMax 2017 + obj', 'Corona', 'None', 'None', '2024-05-28', 'DashutaG', 30, 290]\n",
      "Append: [101, '2024-11-28', 'Oval island for dressing room NG14', 'https://3dsky.org/3dmodels/show/ovalnyi_ostrov_dlia_garderobnoi_ng14', 'Furniture', 'Other', '3dsMax 2016 + obj', 'Corona', 'V-Ray', 'None', '2024-07-09', 'niga2323', 743, 441]\n",
      "Append: [102, '2024-11-28', 'A wall with a rack for gym equipment 2', 'https://3dsky.org/3dmodels/show/a_wall_with_a_rack_for_gym_equipment_2', 'Other Models', 'Sports', '3dsMax 2015 + fbx', 'Corona', 'V-Ray', 'None', '2024-06-12', 'sofiakholina', 770, 278]\n",
      "Append: [103, '2024-11-28', 'Emmi Armchair by Minotti', 'https://3dsky.org/3dmodels/show/emmi_armchair_by_minotti_2', 'Furniture', 'Arm chair', '3dsMax 2014 + obj', 'Corona', 'V-Ray', 'None', '2024-07-26', 'wesftgyhnj', 192, 295]\n",
      "Append: [104, '2024-11-28', 'Bathroom furniture 11', 'https://3dsky.org/3dmodels/show/mebel_dlia_vannoi_11_3', 'Bathroom', 'Bathroom furniture', '3dsMax 2017 + obj', 'Corona', 'V-Ray', 'None', '2024-08-02', 'Lana3D', 27, 297]\n",
      "Append: [105, '2024-11-28', '541 hallway zone 14 minimal modular wardeobe with seating niche', 'https://3dsky.org/3dmodels/show/541_hallway_zone_14_minimal_modular_wardeobe_with_seating_niche', 'Furniture', 'Hallway', '3dsMax 2015 + fbx', 'Corona', 'V-Ray', 'None', '2024-09-05', 'mazeeem', 1518, 259]\n",
      "Append: [106, '2024-11-28', 'Canon printer set.', 'https://3dsky.org/3dmodels/show/nabor_printerov_canon_1', 'Technology', 'PC & other electronics', '3dsMax 2015 + fbx', 'Corona', 'V-Ray', 'None', '2024-09-24', 'slipknot1111', 20, 40]\n",
      "Append: [107, '2024-11-28', 'Calder Lander Build table Divan.ru', 'https://3dsky.org/3dmodels/show/kolder_lander_bild_stolik_divan_ru', 'Furniture', 'Table', '3dsMax 2016 + obj', 'Corona', 'V-Ray', 'None', '2024-10-23', 'niga2323', 743, 64]\n",
      "Append: [108, '2024-11-28', 'Equipe MASSIMO', 'https://3dsky.org/3dmodels/show/equipe_massimo', 'Textures', 'Tile', '3dsMax 2016 + obj', 'Corona', 'V-Ray', 'None', '2024-09-25', 'StanisLOVE.viz', 160, 67]\n",
      "Append: [109, '2024-11-28', 'Furniture composition GHS-2617', 'https://3dsky.org/3dmodels/show/furniture_composition_ghs_2617', 'Childroom', 'Wardrobe', '3dsMax 2015 + obj', 'Corona', 'None', 'None', '2024-10-16', 'andesign.sbrother', 86, 48]\n",
      "Append: [110, '2024-11-28', 'Shower cabin 07', 'https://3dsky.org/3dmodels/show/shower_cabin_07', 'Bathroom', 'Shower', '3dsMax 2017 + obj', 'Corona', 'V-Ray', 'None', '2024-10-19', '3Design.Dii', 117, 32]\n",
      "Append: [111, '2024-11-28', 'Christmas Tree and Decoration 78', 'https://3dsky.org/3dmodels/show/christmas_tree_and_decoration_78', 'Decoration', 'Other decorative objects', '3dsMax 2015 + obj', 'Corona', 'V-Ray', 'None', '2024-11-12', '3Design.FB', 1562, 120]\n",
      "Append: [112, '2024-11-28', 'Pinch Pleat Linen Curtain with Roller Blind', 'https://3dsky.org/3dmodels/show/pinch_pleat_linen_curtain_with_roller_blind', 'Decoration', 'Curtain', '3dsMax 2013 + fbx', 'Corona', 'V-Ray', 'None', '2024-11-20', 'kapusta', 125, 45]\n",
      "Append: [113, '2024-11-28', 'Wonderful Christmas Tree', 'https://3dsky.org/3dmodels/show/elochka_1', 'Decoration', 'Other decorative objects', '3dsMax 2015 + fbx', 'Corona', 'V-Ray', 'None', '2024-11-16', 'fffaaa12', 1215, 73]\n",
      "Append: [114, '2024-11-28', 'Kitchen table Loft Tobacco and chairs Dick divan.ru', 'https://3dsky.org/3dmodels/show/kukhonnyi_stol_loft_tobacco_i_stulia_dik_divan_ru', 'Furniture', 'Table + Chair', '3dsMax 2017 + fbx', 'Corona', 'V-Ray', 'None', '2024-11-13', 'c3dm', 184, 15]\n",
      "Append: [115, '2024-11-28', 'Guitar. Guitar set for stage. Musical instrument. Microphone', 'https://3dsky.org/3dmodels/show/gitara_stsenicheskii_nabor_gitarista_muzykalnyi_instrument_mikrofon', 'Other Models', 'Musical instrument', '3dsMax 2016 + fbx', 'Corona', 'V-Ray', 'None', '2021-03-02', 'paradize', 89, 476]\n",
      "Append: [116, '2024-11-28', 'Thermal curtain Ballu', 'https://3dsky.org/3dmodels/show/thermal_curtain_ballu', 'Technology', 'Household appliance', '3dsMax 2016 + fbx', 'Corona', 'V-Ray', 'None', '2022-02-09', 'Sergio46', 450, 190]\n",
      "Append: [117, '2024-11-28', 'Christmas Tree Street', 'https://3dsky.org/3dmodels/show/ulichnaia_novogodniaia_elka', 'Architecture', 'Urban environment', '3dsMax 2016 + fbx', 'Corona', 'None', 'None', '2021-11-27', 'Al-make', 50, 288]\n",
      "Append: [118, '2024-11-28', 'Yoga & Meditation Set', 'https://3dsky.org/3dmodels/show/yoga_meditation_set', 'Other Models', 'Sports', '3dsMax 2014 + obj', 'Corona', 'V-Ray', 'None', '2023-09-20', 'wesftgyhnj', 192, 499]\n",
      "Append: [119, '2024-11-28', 'Dressing room 24', 'https://3dsky.org/3dmodels/show/garderobnaia_24', 'Furniture', 'Wardrobe & Display cabinets', '3dsMax 2017 + fbx', 'Corona', 'None', 'None', '2024-06-03', 'protektor', 322, 349]\n",
      "Append: [120, '2024-11-28', 'Timo Saona', 'https://3dsky.org/3dmodels/show/timo_saona', 'Bathroom', 'Faucet', '3dsMax 2014 + fbx', 'Corona', 'V-Ray', 'None', '2024-05-28', 'tokyokyoto', 78, 183]\n"
     ]
    }
   ],
   "source": [
    "# Парсинг топа продаж 3dsky\n",
    "from selenium import webdriver\n",
    "from selenium.webdriver.common.by import By\n",
    "from selenium.webdriver.chrome.service import Service\n",
    "from selenium.webdriver.common.keys import Keys\n",
    "from selenium.webdriver.chrome.options import Options\n",
    "from datetime import datetime\n",
    "import time\n",
    "\n",
    "# Настройка Selenium\n",
    "chrome_options = Options()\n",
    "chrome_options.add_argument(\"--headless\")  # Запуск без интерфейса (опционально)\n",
    "chrome_options.add_argument(\"--disable-gpu\")\n",
    "chrome_options.add_argument(\"--window-size=1920,1080\")\n",
    "chrome_service = Service(\"C:\\\\Users\\\\mi_al\\\\Desktop\\\\chromedriver-win64\\\\chromedriver.exe\")  # Замените на путь к вашему ChromeDriver\n",
    "\n",
    "# Инициализация констант и переменных\n",
    "result = []                                                         # итоговый список\n",
    "maxpage = 2                                                         # сколько страниц топа грузим\n",
    "basic_url = \"https://3dsky.org/3dmodels?order=sell_rating&page=\"    # адрес (без номера страницы)\n",
    "pause_time = 5                                                      # время задержки на загрузку в сек\n",
    "page_size = 60                                                      # число моделей на странице\n",
    "\n",
    "# Формируем список моделей\n",
    "for page in range(maxpage):\n",
    "    # Инициализация браузера\n",
    "    driver = webdriver.Chrome(service=chrome_service, options=chrome_options)\n",
    "    \n",
    "    url = \"https://3dsky.org/3dmodels?order=sell_rating&page=\" + str(page + 1)\n",
    "    driver.get(url)\n",
    "\n",
    "    # Небольшая пауза для загрузки контента\n",
    "    time.sleep(pause_time)\n",
    "\n",
    "    # Парсинг данных\n",
    "    try:\n",
    "        # Получаем список моделей с заданной страницы топа\n",
    "        models = driver.find_elements(By.CSS_SELECTOR, \"div.model-title\")\n",
    "\n",
    "        for n, model in enumerate(models, 1):\n",
    "            # Извлечение данных\n",
    "            curdate = str(datetime.now().date())\n",
    "            title = model.find_element(By.TAG_NAME, \"a\").get_attribute(\"title\") if model.find_elements(By.TAG_NAME, \"a\") else \"No title\"\n",
    "            link = model.find_element(By.TAG_NAME, \"a\").get_attribute(\"href\") if model.find_elements(By.TAG_NAME, \"a\") else \"No link\"\n",
    "            #print(f\"Название: {title}, Ссылка: {link}\")\n",
    "            \n",
    "            # Формируем заготовку строки: номер строки, текущая дата, название модели, ссылка              \n",
    "            line_num = page*page_size + n\n",
    "            result.append([line_num, curdate, title, link])\n",
    "\n",
    "    finally:\n",
    "        # Закрытие браузера\n",
    "        driver.quit()\n",
    "\n",
    "# В цикле по списку получаем подробную информацию по каждой модели\n",
    "for model in result:\n",
    "    # Инициализация браузера\n",
    "    driver = webdriver.Chrome(service=chrome_service, options=chrome_options)\n",
    "    \n",
    "    # Открытие страницы конкретной модели\n",
    "    url = model[3]\n",
    "    driver.get(url)\n",
    "    \n",
    "    # Небольшая пауза для загрузки контента\n",
    "    time.sleep(pause_time)\n",
    "    \n",
    "    # Парсинг данных\n",
    "    try:\n",
    "        category = driver.find_elements(By.CSS_SELECTOR, \"body > app-root > app-model > app-base-wide > main > section.container.main-base-container > div.row.white-background > div.col-md-12.model-page-top.ng-tns-c55-0 > div.favourite-and-category.ng-tns-c55-0.ng-star-inserted > div:nth-child(1) > div.category.ng-tns-c55-0 > a > span\")\n",
    "        subcategory = driver.find_elements(By.CSS_SELECTOR, \"body > app-root > app-model > app-base-wide > main > section.container.main-base-container > div.row.white-background > div.col-md-12.model-page-top.ng-tns-c55-0 > div.favourite-and-category.ng-tns-c55-0.ng-star-inserted > div:nth-child(1) > div.subcategory.ng-tns-c55-0 > a > span\")\n",
    "        platform = driver.find_elements(By.CSS_SELECTOR, \"#info-desktop > div.model-info-block.ng-tns-c55-0 > table > tbody > tr:nth-child(1) > td:nth-child(2)\")\n",
    "        renders = driver.find_elements(By.CSS_SELECTOR, \"#info-desktop > div.model-info-block.ng-tns-c55-0 > table > tbody > tr:nth-child(2) > td:nth-child(2) > div\")\n",
    "        published = driver.find_elements(By.CSS_SELECTOR, \"#info-desktop > div.model-info-block.ng-tns-c55-0 > div.publication-date.ng-tns-c55-0.ng-star-inserted\")\n",
    "        username = driver.find_elements(By.CSS_SELECTOR, \"#info-desktop > div:nth-child(1) > div > div > a > div > div > div.model-user-name.ng-tns-c55-0\")\n",
    "        followers = driver.find_elements(By.CSS_SELECTOR, \"#info-desktop > div:nth-child(1) > div > div > a > div > div > div.model-subscribe-count.ng-tns-c55-0.ng-star-inserted\")\n",
    "        selected = driver.find_elements(By.CSS_SELECTOR, \"#info-desktop > div:nth-child(1) > div > div > div:nth-child(3) > div.price-block.ng-tns-c55-0.ng-star-inserted > div.bookmarks-block-wrapper-mobile.ng-tns-c55-0.ng-star-inserted > div > div\")\n",
    "        \n",
    "        # Добавляем полученные данные в строку: категория, подкатегория, платформа, рендер\n",
    "        if category:\n",
    "            model.append(category[0].text)\n",
    "        if subcategory:\n",
    "            model.append(subcategory[0].text)\n",
    "        if platform:\n",
    "            model.append(platform[0].text)\n",
    "        \n",
    "        render_text = renders[0].text\n",
    "        if ('Corona' in render_text) and ('V-Ray' in render_text):\n",
    "            model.extend(['Corona','V-Ray','None'])\n",
    "        elif ('Corona' in render_text):\n",
    "            model.extend(['Corona','None','None'])\n",
    "        elif ('V-Ray' in render_text):\n",
    "            model.extend(['None','V-Ray','None'])\n",
    "        elif ('Standard' in render_text):\n",
    "            model.extend(['None','None','Standard'])\n",
    "        else:\n",
    "            model.extend(['None','None','None'])\n",
    "        \n",
    "        if published:\n",
    "            pub_date = \" \".join(str(published[0].text).split(\" \")[1:])\n",
    "            date_object = datetime.strptime(pub_date, \"%d %B %Y\")\n",
    "            formatted_date = date_object.strftime(\"%Y-%m-%d\")\n",
    "            model.append(formatted_date)\n",
    "        if username:\n",
    "            model.append(username[0].text)\n",
    "        if followers:\n",
    "            model.append(int(followers[0].text.split(\" \")[0]))\n",
    "        if selected:\n",
    "            selected_text = driver.execute_script(\"return arguments[0].innerText;\", selected[0])\n",
    "            model.append(int(selected_text.strip()))\n",
    "    \n",
    "        print(f'Append: {model}')\n",
    "       \n",
    "    finally:\n",
    "        # Закрытие браузера\n",
    "        driver.quit()\n",
    "\n",
    "# Выводим результат для контроля\n",
    "# print(result)"
   ]
  },
  {
   "cell_type": "code",
   "execution_count": 205,
   "metadata": {},
   "outputs": [
    {
     "name": "stdout",
     "output_type": "stream",
     "text": [
      "Данные успешно сохранены в output.xlsx\n"
     ]
    }
   ],
   "source": [
    "# Добавляем результат в конец файла\n",
    "import pandas as pd\n",
    "file_path = \"output.xlsx\"\n",
    "\n",
    "# Чтение данных\n",
    "existing_data = pd.read_excel(file_path)\n",
    "\n",
    "# Преобразование текущих данных DataFrame\n",
    "new_data_df = pd.DataFrame(result[0:], columns=['N','Curdate','Title','Link','Category','Subcategory','Platform','Corona','V-Ray','Standard','Pubdate','Username','Followers','Selected'])\n",
    "\n",
    "# Конкатенация и запись результата в Excel\n",
    "updated_data = pd.concat([existing_data, new_data_df], ignore_index=True)\n",
    "updated_data.to_excel(file_path, index=False)\n",
    "\n",
    "# Выводим результат для контроля\n",
    "print(f\"Данные успешно сохранены в {file_path}\")\n"
   ]
  },
  {
   "cell_type": "code",
   "execution_count": 98,
   "metadata": {},
   "outputs": [
    {
     "name": "stdout",
     "output_type": "stream",
     "text": [
      "Corona\n"
     ]
    }
   ],
   "source": [
    "# Песочница для апробации парсинга конкретного элемента\n",
    "# Настройка Selenium\n",
    "chrome_options = Options()\n",
    "chrome_options.add_argument(\"--headless\")  # Запуск без интерфейса (опционально)\n",
    "chrome_options.add_argument(\"--disable-gpu\")\n",
    "chrome_options.add_argument(\"--window-size=1920,1080\")\n",
    "chrome_service = Service(\"C:\\\\Users\\\\mi_al\\\\Desktop\\\\chromedriver-win64\\\\chromedriver.exe\")  # Замените на путь к вашему ChromeDriver\n",
    "\n",
    "# Инициализация браузера\n",
    "driver = webdriver.Chrome(service=chrome_service, options=chrome_options)\n",
    "\n",
    "# Открытие сайта\n",
    "url = \"https://3dsky.org/3dmodels/show/kerns_tumba_divan_ru\"\n",
    "driver.get(url)\n",
    "\n",
    "# Небольшая пауза для загрузки контента\n",
    "time.sleep(5)  # Настройте задержку в зависимости от скорости интернета\n",
    "\n",
    "# Парсинг данных\n",
    "try:\n",
    "    # Пример: Найти все элементы с моделями (настройте селектор под сайт)\n",
    "    models = driver.find_elements(By.CSS_SELECTOR, \"#info-desktop > div.model-info-block.ng-tns-c55-0 > table > tbody > tr:nth-child(2) > td:nth-child(2) > div > div\")\n",
    "    print(models[1].text)\n",
    "    \n",
    "\n",
    "   \n",
    "    #published = str(models[0].text)\n",
    "\n",
    "finally:\n",
    "    # Закрытие браузера\n",
    "    driver.quit()"
   ]
  },
  {
   "cell_type": "code",
   "execution_count": 206,
   "metadata": {},
   "outputs": [
    {
     "data": {
      "text/html": [
       "<div>\n",
       "<style scoped>\n",
       "    .dataframe tbody tr th:only-of-type {\n",
       "        vertical-align: middle;\n",
       "    }\n",
       "\n",
       "    .dataframe tbody tr th {\n",
       "        vertical-align: top;\n",
       "    }\n",
       "\n",
       "    .dataframe thead th {\n",
       "        text-align: right;\n",
       "    }\n",
       "</style>\n",
       "<table border=\"1\" class=\"dataframe\">\n",
       "  <thead>\n",
       "    <tr style=\"text-align: right;\">\n",
       "      <th></th>\n",
       "      <th>N</th>\n",
       "      <th>Curdate</th>\n",
       "      <th>Title</th>\n",
       "      <th>Link</th>\n",
       "      <th>Category</th>\n",
       "      <th>Subcategory</th>\n",
       "      <th>Platform</th>\n",
       "      <th>Corona</th>\n",
       "      <th>V-Ray</th>\n",
       "      <th>Standard</th>\n",
       "      <th>Pubdate</th>\n",
       "      <th>Username</th>\n",
       "      <th>Followers</th>\n",
       "      <th>Selected</th>\n",
       "      <th>Duration</th>\n",
       "    </tr>\n",
       "  </thead>\n",
       "  <tbody>\n",
       "    <tr>\n",
       "      <th>0</th>\n",
       "      <td>1</td>\n",
       "      <td>2024-11-28</td>\n",
       "      <td>Christmas tree with fireplace 5</td>\n",
       "      <td>https://3dsky.org/3dmodels/show/novogodniaia_e...</td>\n",
       "      <td>Decoration</td>\n",
       "      <td>Other decorative objects</td>\n",
       "      <td>3dsMax 2016 + obj</td>\n",
       "      <td>Corona</td>\n",
       "      <td>None</td>\n",
       "      <td>None</td>\n",
       "      <td>2024-11-11</td>\n",
       "      <td>dofen</td>\n",
       "      <td>313</td>\n",
       "      <td>151</td>\n",
       "      <td>17</td>\n",
       "    </tr>\n",
       "    <tr>\n",
       "      <th>1</th>\n",
       "      <td>2</td>\n",
       "      <td>2024-11-28</td>\n",
       "      <td>Benuta Leon Cream Wool Rug</td>\n",
       "      <td>https://3dsky.org/3dmodels/show/benuta_leon_cr...</td>\n",
       "      <td>Decoration</td>\n",
       "      <td>Carpets</td>\n",
       "      <td>3dsMax 2015 + obj</td>\n",
       "      <td>Corona</td>\n",
       "      <td>None</td>\n",
       "      <td>None</td>\n",
       "      <td>2024-11-03</td>\n",
       "      <td>3Dmitruk</td>\n",
       "      <td>335</td>\n",
       "      <td>199</td>\n",
       "      <td>25</td>\n",
       "    </tr>\n",
       "    <tr>\n",
       "      <th>2</th>\n",
       "      <td>3</td>\n",
       "      <td>2024-11-28</td>\n",
       "      <td>Indoor Plant Set 89</td>\n",
       "      <td>https://3dsky.org/3dmodels/show/indoor_plant_s...</td>\n",
       "      <td>Plants</td>\n",
       "      <td>Indoor</td>\n",
       "      <td>3dsMax 2015 + obj</td>\n",
       "      <td>Corona</td>\n",
       "      <td>V-Ray</td>\n",
       "      <td>None</td>\n",
       "      <td>2024-04-30</td>\n",
       "      <td>mh.designer</td>\n",
       "      <td>211</td>\n",
       "      <td>44</td>\n",
       "      <td>212</td>\n",
       "    </tr>\n",
       "    <tr>\n",
       "      <th>3</th>\n",
       "      <td>4</td>\n",
       "      <td>2024-11-28</td>\n",
       "      <td>Office chair Ashley</td>\n",
       "      <td>https://3dsky.org/3dmodels/show/ofisnoe_kreslo...</td>\n",
       "      <td>Furniture</td>\n",
       "      <td>Office furniture</td>\n",
       "      <td>3dsMax 2015 + obj</td>\n",
       "      <td>Corona</td>\n",
       "      <td>None</td>\n",
       "      <td>None</td>\n",
       "      <td>2024-10-13</td>\n",
       "      <td>illidan_</td>\n",
       "      <td>6</td>\n",
       "      <td>128</td>\n",
       "      <td>46</td>\n",
       "    </tr>\n",
       "    <tr>\n",
       "      <th>4</th>\n",
       "      <td>5</td>\n",
       "      <td>2024-11-28</td>\n",
       "      <td>Clothes for wardrobe NG15</td>\n",
       "      <td>https://3dsky.org/3dmodels/show/odezhda_dlia_g...</td>\n",
       "      <td>Decoration</td>\n",
       "      <td>Clothes</td>\n",
       "      <td>3dsMax 2016 + obj</td>\n",
       "      <td>Corona</td>\n",
       "      <td>V-Ray</td>\n",
       "      <td>None</td>\n",
       "      <td>2024-11-12</td>\n",
       "      <td>niga2323</td>\n",
       "      <td>743</td>\n",
       "      <td>88</td>\n",
       "      <td>16</td>\n",
       "    </tr>\n",
       "    <tr>\n",
       "      <th>...</th>\n",
       "      <td>...</td>\n",
       "      <td>...</td>\n",
       "      <td>...</td>\n",
       "      <td>...</td>\n",
       "      <td>...</td>\n",
       "      <td>...</td>\n",
       "      <td>...</td>\n",
       "      <td>...</td>\n",
       "      <td>...</td>\n",
       "      <td>...</td>\n",
       "      <td>...</td>\n",
       "      <td>...</td>\n",
       "      <td>...</td>\n",
       "      <td>...</td>\n",
       "      <td>...</td>\n",
       "    </tr>\n",
       "    <tr>\n",
       "      <th>115</th>\n",
       "      <td>116</td>\n",
       "      <td>2024-11-28</td>\n",
       "      <td>Thermal curtain Ballu</td>\n",
       "      <td>https://3dsky.org/3dmodels/show/thermal_curtai...</td>\n",
       "      <td>Technology</td>\n",
       "      <td>Household appliance</td>\n",
       "      <td>3dsMax 2016 + fbx</td>\n",
       "      <td>Corona</td>\n",
       "      <td>V-Ray</td>\n",
       "      <td>None</td>\n",
       "      <td>2022-02-09</td>\n",
       "      <td>Sergio46</td>\n",
       "      <td>450</td>\n",
       "      <td>190</td>\n",
       "      <td>1023</td>\n",
       "    </tr>\n",
       "    <tr>\n",
       "      <th>116</th>\n",
       "      <td>117</td>\n",
       "      <td>2024-11-28</td>\n",
       "      <td>Christmas Tree Street</td>\n",
       "      <td>https://3dsky.org/3dmodels/show/ulichnaia_novo...</td>\n",
       "      <td>Architecture</td>\n",
       "      <td>Urban environment</td>\n",
       "      <td>3dsMax 2016 + fbx</td>\n",
       "      <td>Corona</td>\n",
       "      <td>None</td>\n",
       "      <td>None</td>\n",
       "      <td>2021-11-27</td>\n",
       "      <td>Al-make</td>\n",
       "      <td>50</td>\n",
       "      <td>288</td>\n",
       "      <td>1097</td>\n",
       "    </tr>\n",
       "    <tr>\n",
       "      <th>117</th>\n",
       "      <td>118</td>\n",
       "      <td>2024-11-28</td>\n",
       "      <td>Yoga &amp; Meditation Set</td>\n",
       "      <td>https://3dsky.org/3dmodels/show/yoga_meditatio...</td>\n",
       "      <td>Other Models</td>\n",
       "      <td>Sports</td>\n",
       "      <td>3dsMax 2014 + obj</td>\n",
       "      <td>Corona</td>\n",
       "      <td>V-Ray</td>\n",
       "      <td>None</td>\n",
       "      <td>2023-09-20</td>\n",
       "      <td>wesftgyhnj</td>\n",
       "      <td>192</td>\n",
       "      <td>499</td>\n",
       "      <td>435</td>\n",
       "    </tr>\n",
       "    <tr>\n",
       "      <th>118</th>\n",
       "      <td>119</td>\n",
       "      <td>2024-11-28</td>\n",
       "      <td>Dressing room 24</td>\n",
       "      <td>https://3dsky.org/3dmodels/show/garderobnaia_24</td>\n",
       "      <td>Furniture</td>\n",
       "      <td>Wardrobe &amp; Display cabinets</td>\n",
       "      <td>3dsMax 2017 + fbx</td>\n",
       "      <td>Corona</td>\n",
       "      <td>None</td>\n",
       "      <td>None</td>\n",
       "      <td>2024-06-03</td>\n",
       "      <td>protektor</td>\n",
       "      <td>322</td>\n",
       "      <td>349</td>\n",
       "      <td>178</td>\n",
       "    </tr>\n",
       "    <tr>\n",
       "      <th>119</th>\n",
       "      <td>120</td>\n",
       "      <td>2024-11-28</td>\n",
       "      <td>Timo Saona</td>\n",
       "      <td>https://3dsky.org/3dmodels/show/timo_saona</td>\n",
       "      <td>Bathroom</td>\n",
       "      <td>Faucet</td>\n",
       "      <td>3dsMax 2014 + fbx</td>\n",
       "      <td>Corona</td>\n",
       "      <td>V-Ray</td>\n",
       "      <td>None</td>\n",
       "      <td>2024-05-28</td>\n",
       "      <td>tokyokyoto</td>\n",
       "      <td>78</td>\n",
       "      <td>183</td>\n",
       "      <td>184</td>\n",
       "    </tr>\n",
       "  </tbody>\n",
       "</table>\n",
       "<p>120 rows × 15 columns</p>\n",
       "</div>"
      ],
      "text/plain": [
       "       N     Curdate                            Title  \\\n",
       "0      1  2024-11-28  Christmas tree with fireplace 5   \n",
       "1      2  2024-11-28       Benuta Leon Cream Wool Rug   \n",
       "2      3  2024-11-28              Indoor Plant Set 89   \n",
       "3      4  2024-11-28              Office chair Ashley   \n",
       "4      5  2024-11-28        Clothes for wardrobe NG15   \n",
       "..   ...         ...                              ...   \n",
       "115  116  2024-11-28            Thermal curtain Ballu   \n",
       "116  117  2024-11-28            Christmas Tree Street   \n",
       "117  118  2024-11-28            Yoga & Meditation Set   \n",
       "118  119  2024-11-28                 Dressing room 24   \n",
       "119  120  2024-11-28                       Timo Saona   \n",
       "\n",
       "                                                  Link      Category  \\\n",
       "0    https://3dsky.org/3dmodels/show/novogodniaia_e...    Decoration   \n",
       "1    https://3dsky.org/3dmodels/show/benuta_leon_cr...    Decoration   \n",
       "2    https://3dsky.org/3dmodels/show/indoor_plant_s...        Plants   \n",
       "3    https://3dsky.org/3dmodels/show/ofisnoe_kreslo...     Furniture   \n",
       "4    https://3dsky.org/3dmodels/show/odezhda_dlia_g...    Decoration   \n",
       "..                                                 ...           ...   \n",
       "115  https://3dsky.org/3dmodels/show/thermal_curtai...    Technology   \n",
       "116  https://3dsky.org/3dmodels/show/ulichnaia_novo...  Architecture   \n",
       "117  https://3dsky.org/3dmodels/show/yoga_meditatio...  Other Models   \n",
       "118    https://3dsky.org/3dmodels/show/garderobnaia_24     Furniture   \n",
       "119         https://3dsky.org/3dmodels/show/timo_saona      Bathroom   \n",
       "\n",
       "                     Subcategory           Platform  Corona  V-Ray Standard  \\\n",
       "0       Other decorative objects  3dsMax 2016 + obj  Corona   None     None   \n",
       "1                        Carpets  3dsMax 2015 + obj  Corona   None     None   \n",
       "2                         Indoor  3dsMax 2015 + obj  Corona  V-Ray     None   \n",
       "3               Office furniture  3dsMax 2015 + obj  Corona   None     None   \n",
       "4                        Clothes  3dsMax 2016 + obj  Corona  V-Ray     None   \n",
       "..                           ...                ...     ...    ...      ...   \n",
       "115          Household appliance  3dsMax 2016 + fbx  Corona  V-Ray     None   \n",
       "116            Urban environment  3dsMax 2016 + fbx  Corona   None     None   \n",
       "117                       Sports  3dsMax 2014 + obj  Corona  V-Ray     None   \n",
       "118  Wardrobe & Display cabinets  3dsMax 2017 + fbx  Corona   None     None   \n",
       "119                       Faucet  3dsMax 2014 + fbx  Corona  V-Ray     None   \n",
       "\n",
       "       Pubdate     Username  Followers  Selected  Duration  \n",
       "0   2024-11-11        dofen        313       151        17  \n",
       "1   2024-11-03     3Dmitruk        335       199        25  \n",
       "2   2024-04-30  mh.designer        211        44       212  \n",
       "3   2024-10-13     illidan_          6       128        46  \n",
       "4   2024-11-12     niga2323        743        88        16  \n",
       "..         ...          ...        ...       ...       ...  \n",
       "115 2022-02-09     Sergio46        450       190      1023  \n",
       "116 2021-11-27      Al-make         50       288      1097  \n",
       "117 2023-09-20   wesftgyhnj        192       499       435  \n",
       "118 2024-06-03    protektor        322       349       178  \n",
       "119 2024-05-28   tokyokyoto         78       183       184  \n",
       "\n",
       "[120 rows x 15 columns]"
      ]
     },
     "metadata": {},
     "output_type": "display_data"
    }
   ],
   "source": [
    "import pandas as pd\n",
    "import plotly.express as px\n",
    "\n",
    "result_vis = pd.DataFrame(result, columns=['N','Curdate','Title','Link','Category','Subcategory','Platform','Corona','V-Ray','Standard','Pubdate','Username','Followers','Selected'])\n",
    "result_vis['Pubdate'] = pd.to_datetime(result_vis['Pubdate'])\n",
    "#result_vis.drop('N', axis=1, inplace=True)\n",
    "\n",
    "current_date = datetime.now()\n",
    "result_vis['Duration'] = (current_date - result_vis['Pubdate']).dt.days\n",
    "\n",
    "display(result_vis)"
   ]
  },
  {
   "cell_type": "code",
   "execution_count": 207,
   "metadata": {},
   "outputs": [
    {
     "data": {
      "application/vnd.plotly.v1+json": {
       "config": {
        "plotlyServerURL": "https://plot.ly"
       },
       "data": [
        {
         "alignmentgroup": "True",
         "hovertemplate": "Category=%{x}<br>Count=%{y}<extra></extra>",
         "legendgroup": "",
         "marker": {
          "color": "#636efa",
          "pattern": {
           "shape": ""
          }
         },
         "name": "",
         "offsetgroup": "",
         "orientation": "v",
         "showlegend": false,
         "textposition": "auto",
         "type": "bar",
         "x": [
          "Decoration",
          "Furniture",
          "Bathroom",
          "Other Models",
          "Kitchen",
          "Childroom",
          "Plants",
          "Textures",
          "Materials",
          "Lighting",
          "Technology",
          "Architecture",
          "Scripts"
         ],
         "xaxis": "x",
         "y": [
          25,
          25,
          17,
          12,
          8,
          7,
          6,
          6,
          5,
          3,
          3,
          2,
          1
         ],
         "yaxis": "y"
        }
       ],
       "layout": {
        "barmode": "relative",
        "legend": {
         "tracegroupgap": 0
        },
        "template": {
         "data": {
          "bar": [
           {
            "error_x": {
             "color": "#2a3f5f"
            },
            "error_y": {
             "color": "#2a3f5f"
            },
            "marker": {
             "line": {
              "color": "#E5ECF6",
              "width": 0.5
             },
             "pattern": {
              "fillmode": "overlay",
              "size": 10,
              "solidity": 0.2
             }
            },
            "type": "bar"
           }
          ],
          "barpolar": [
           {
            "marker": {
             "line": {
              "color": "#E5ECF6",
              "width": 0.5
             },
             "pattern": {
              "fillmode": "overlay",
              "size": 10,
              "solidity": 0.2
             }
            },
            "type": "barpolar"
           }
          ],
          "carpet": [
           {
            "aaxis": {
             "endlinecolor": "#2a3f5f",
             "gridcolor": "white",
             "linecolor": "white",
             "minorgridcolor": "white",
             "startlinecolor": "#2a3f5f"
            },
            "baxis": {
             "endlinecolor": "#2a3f5f",
             "gridcolor": "white",
             "linecolor": "white",
             "minorgridcolor": "white",
             "startlinecolor": "#2a3f5f"
            },
            "type": "carpet"
           }
          ],
          "choropleth": [
           {
            "colorbar": {
             "outlinewidth": 0,
             "ticks": ""
            },
            "type": "choropleth"
           }
          ],
          "contour": [
           {
            "colorbar": {
             "outlinewidth": 0,
             "ticks": ""
            },
            "colorscale": [
             [
              0,
              "#0d0887"
             ],
             [
              0.1111111111111111,
              "#46039f"
             ],
             [
              0.2222222222222222,
              "#7201a8"
             ],
             [
              0.3333333333333333,
              "#9c179e"
             ],
             [
              0.4444444444444444,
              "#bd3786"
             ],
             [
              0.5555555555555556,
              "#d8576b"
             ],
             [
              0.6666666666666666,
              "#ed7953"
             ],
             [
              0.7777777777777778,
              "#fb9f3a"
             ],
             [
              0.8888888888888888,
              "#fdca26"
             ],
             [
              1,
              "#f0f921"
             ]
            ],
            "type": "contour"
           }
          ],
          "contourcarpet": [
           {
            "colorbar": {
             "outlinewidth": 0,
             "ticks": ""
            },
            "type": "contourcarpet"
           }
          ],
          "heatmap": [
           {
            "colorbar": {
             "outlinewidth": 0,
             "ticks": ""
            },
            "colorscale": [
             [
              0,
              "#0d0887"
             ],
             [
              0.1111111111111111,
              "#46039f"
             ],
             [
              0.2222222222222222,
              "#7201a8"
             ],
             [
              0.3333333333333333,
              "#9c179e"
             ],
             [
              0.4444444444444444,
              "#bd3786"
             ],
             [
              0.5555555555555556,
              "#d8576b"
             ],
             [
              0.6666666666666666,
              "#ed7953"
             ],
             [
              0.7777777777777778,
              "#fb9f3a"
             ],
             [
              0.8888888888888888,
              "#fdca26"
             ],
             [
              1,
              "#f0f921"
             ]
            ],
            "type": "heatmap"
           }
          ],
          "heatmapgl": [
           {
            "colorbar": {
             "outlinewidth": 0,
             "ticks": ""
            },
            "colorscale": [
             [
              0,
              "#0d0887"
             ],
             [
              0.1111111111111111,
              "#46039f"
             ],
             [
              0.2222222222222222,
              "#7201a8"
             ],
             [
              0.3333333333333333,
              "#9c179e"
             ],
             [
              0.4444444444444444,
              "#bd3786"
             ],
             [
              0.5555555555555556,
              "#d8576b"
             ],
             [
              0.6666666666666666,
              "#ed7953"
             ],
             [
              0.7777777777777778,
              "#fb9f3a"
             ],
             [
              0.8888888888888888,
              "#fdca26"
             ],
             [
              1,
              "#f0f921"
             ]
            ],
            "type": "heatmapgl"
           }
          ],
          "histogram": [
           {
            "marker": {
             "pattern": {
              "fillmode": "overlay",
              "size": 10,
              "solidity": 0.2
             }
            },
            "type": "histogram"
           }
          ],
          "histogram2d": [
           {
            "colorbar": {
             "outlinewidth": 0,
             "ticks": ""
            },
            "colorscale": [
             [
              0,
              "#0d0887"
             ],
             [
              0.1111111111111111,
              "#46039f"
             ],
             [
              0.2222222222222222,
              "#7201a8"
             ],
             [
              0.3333333333333333,
              "#9c179e"
             ],
             [
              0.4444444444444444,
              "#bd3786"
             ],
             [
              0.5555555555555556,
              "#d8576b"
             ],
             [
              0.6666666666666666,
              "#ed7953"
             ],
             [
              0.7777777777777778,
              "#fb9f3a"
             ],
             [
              0.8888888888888888,
              "#fdca26"
             ],
             [
              1,
              "#f0f921"
             ]
            ],
            "type": "histogram2d"
           }
          ],
          "histogram2dcontour": [
           {
            "colorbar": {
             "outlinewidth": 0,
             "ticks": ""
            },
            "colorscale": [
             [
              0,
              "#0d0887"
             ],
             [
              0.1111111111111111,
              "#46039f"
             ],
             [
              0.2222222222222222,
              "#7201a8"
             ],
             [
              0.3333333333333333,
              "#9c179e"
             ],
             [
              0.4444444444444444,
              "#bd3786"
             ],
             [
              0.5555555555555556,
              "#d8576b"
             ],
             [
              0.6666666666666666,
              "#ed7953"
             ],
             [
              0.7777777777777778,
              "#fb9f3a"
             ],
             [
              0.8888888888888888,
              "#fdca26"
             ],
             [
              1,
              "#f0f921"
             ]
            ],
            "type": "histogram2dcontour"
           }
          ],
          "mesh3d": [
           {
            "colorbar": {
             "outlinewidth": 0,
             "ticks": ""
            },
            "type": "mesh3d"
           }
          ],
          "parcoords": [
           {
            "line": {
             "colorbar": {
              "outlinewidth": 0,
              "ticks": ""
             }
            },
            "type": "parcoords"
           }
          ],
          "pie": [
           {
            "automargin": true,
            "type": "pie"
           }
          ],
          "scatter": [
           {
            "fillpattern": {
             "fillmode": "overlay",
             "size": 10,
             "solidity": 0.2
            },
            "type": "scatter"
           }
          ],
          "scatter3d": [
           {
            "line": {
             "colorbar": {
              "outlinewidth": 0,
              "ticks": ""
             }
            },
            "marker": {
             "colorbar": {
              "outlinewidth": 0,
              "ticks": ""
             }
            },
            "type": "scatter3d"
           }
          ],
          "scattercarpet": [
           {
            "marker": {
             "colorbar": {
              "outlinewidth": 0,
              "ticks": ""
             }
            },
            "type": "scattercarpet"
           }
          ],
          "scattergeo": [
           {
            "marker": {
             "colorbar": {
              "outlinewidth": 0,
              "ticks": ""
             }
            },
            "type": "scattergeo"
           }
          ],
          "scattergl": [
           {
            "marker": {
             "colorbar": {
              "outlinewidth": 0,
              "ticks": ""
             }
            },
            "type": "scattergl"
           }
          ],
          "scattermapbox": [
           {
            "marker": {
             "colorbar": {
              "outlinewidth": 0,
              "ticks": ""
             }
            },
            "type": "scattermapbox"
           }
          ],
          "scatterpolar": [
           {
            "marker": {
             "colorbar": {
              "outlinewidth": 0,
              "ticks": ""
             }
            },
            "type": "scatterpolar"
           }
          ],
          "scatterpolargl": [
           {
            "marker": {
             "colorbar": {
              "outlinewidth": 0,
              "ticks": ""
             }
            },
            "type": "scatterpolargl"
           }
          ],
          "scatterternary": [
           {
            "marker": {
             "colorbar": {
              "outlinewidth": 0,
              "ticks": ""
             }
            },
            "type": "scatterternary"
           }
          ],
          "surface": [
           {
            "colorbar": {
             "outlinewidth": 0,
             "ticks": ""
            },
            "colorscale": [
             [
              0,
              "#0d0887"
             ],
             [
              0.1111111111111111,
              "#46039f"
             ],
             [
              0.2222222222222222,
              "#7201a8"
             ],
             [
              0.3333333333333333,
              "#9c179e"
             ],
             [
              0.4444444444444444,
              "#bd3786"
             ],
             [
              0.5555555555555556,
              "#d8576b"
             ],
             [
              0.6666666666666666,
              "#ed7953"
             ],
             [
              0.7777777777777778,
              "#fb9f3a"
             ],
             [
              0.8888888888888888,
              "#fdca26"
             ],
             [
              1,
              "#f0f921"
             ]
            ],
            "type": "surface"
           }
          ],
          "table": [
           {
            "cells": {
             "fill": {
              "color": "#EBF0F8"
             },
             "line": {
              "color": "white"
             }
            },
            "header": {
             "fill": {
              "color": "#C8D4E3"
             },
             "line": {
              "color": "white"
             }
            },
            "type": "table"
           }
          ]
         },
         "layout": {
          "annotationdefaults": {
           "arrowcolor": "#2a3f5f",
           "arrowhead": 0,
           "arrowwidth": 1
          },
          "autotypenumbers": "strict",
          "coloraxis": {
           "colorbar": {
            "outlinewidth": 0,
            "ticks": ""
           }
          },
          "colorscale": {
           "diverging": [
            [
             0,
             "#8e0152"
            ],
            [
             0.1,
             "#c51b7d"
            ],
            [
             0.2,
             "#de77ae"
            ],
            [
             0.3,
             "#f1b6da"
            ],
            [
             0.4,
             "#fde0ef"
            ],
            [
             0.5,
             "#f7f7f7"
            ],
            [
             0.6,
             "#e6f5d0"
            ],
            [
             0.7,
             "#b8e186"
            ],
            [
             0.8,
             "#7fbc41"
            ],
            [
             0.9,
             "#4d9221"
            ],
            [
             1,
             "#276419"
            ]
           ],
           "sequential": [
            [
             0,
             "#0d0887"
            ],
            [
             0.1111111111111111,
             "#46039f"
            ],
            [
             0.2222222222222222,
             "#7201a8"
            ],
            [
             0.3333333333333333,
             "#9c179e"
            ],
            [
             0.4444444444444444,
             "#bd3786"
            ],
            [
             0.5555555555555556,
             "#d8576b"
            ],
            [
             0.6666666666666666,
             "#ed7953"
            ],
            [
             0.7777777777777778,
             "#fb9f3a"
            ],
            [
             0.8888888888888888,
             "#fdca26"
            ],
            [
             1,
             "#f0f921"
            ]
           ],
           "sequentialminus": [
            [
             0,
             "#0d0887"
            ],
            [
             0.1111111111111111,
             "#46039f"
            ],
            [
             0.2222222222222222,
             "#7201a8"
            ],
            [
             0.3333333333333333,
             "#9c179e"
            ],
            [
             0.4444444444444444,
             "#bd3786"
            ],
            [
             0.5555555555555556,
             "#d8576b"
            ],
            [
             0.6666666666666666,
             "#ed7953"
            ],
            [
             0.7777777777777778,
             "#fb9f3a"
            ],
            [
             0.8888888888888888,
             "#fdca26"
            ],
            [
             1,
             "#f0f921"
            ]
           ]
          },
          "colorway": [
           "#636efa",
           "#EF553B",
           "#00cc96",
           "#ab63fa",
           "#FFA15A",
           "#19d3f3",
           "#FF6692",
           "#B6E880",
           "#FF97FF",
           "#FECB52"
          ],
          "font": {
           "color": "#2a3f5f"
          },
          "geo": {
           "bgcolor": "white",
           "lakecolor": "white",
           "landcolor": "#E5ECF6",
           "showlakes": true,
           "showland": true,
           "subunitcolor": "white"
          },
          "hoverlabel": {
           "align": "left"
          },
          "hovermode": "closest",
          "mapbox": {
           "style": "light"
          },
          "paper_bgcolor": "white",
          "plot_bgcolor": "#E5ECF6",
          "polar": {
           "angularaxis": {
            "gridcolor": "white",
            "linecolor": "white",
            "ticks": ""
           },
           "bgcolor": "#E5ECF6",
           "radialaxis": {
            "gridcolor": "white",
            "linecolor": "white",
            "ticks": ""
           }
          },
          "scene": {
           "xaxis": {
            "backgroundcolor": "#E5ECF6",
            "gridcolor": "white",
            "gridwidth": 2,
            "linecolor": "white",
            "showbackground": true,
            "ticks": "",
            "zerolinecolor": "white"
           },
           "yaxis": {
            "backgroundcolor": "#E5ECF6",
            "gridcolor": "white",
            "gridwidth": 2,
            "linecolor": "white",
            "showbackground": true,
            "ticks": "",
            "zerolinecolor": "white"
           },
           "zaxis": {
            "backgroundcolor": "#E5ECF6",
            "gridcolor": "white",
            "gridwidth": 2,
            "linecolor": "white",
            "showbackground": true,
            "ticks": "",
            "zerolinecolor": "white"
           }
          },
          "shapedefaults": {
           "line": {
            "color": "#2a3f5f"
           }
          },
          "ternary": {
           "aaxis": {
            "gridcolor": "white",
            "linecolor": "white",
            "ticks": ""
           },
           "baxis": {
            "gridcolor": "white",
            "linecolor": "white",
            "ticks": ""
           },
           "bgcolor": "#E5ECF6",
           "caxis": {
            "gridcolor": "white",
            "linecolor": "white",
            "ticks": ""
           }
          },
          "title": {
           "x": 0.05
          },
          "xaxis": {
           "automargin": true,
           "gridcolor": "white",
           "linecolor": "white",
           "ticks": "",
           "title": {
            "standoff": 15
           },
           "zerolinecolor": "white",
           "zerolinewidth": 2
          },
          "yaxis": {
           "automargin": true,
           "gridcolor": "white",
           "linecolor": "white",
           "ticks": "",
           "title": {
            "standoff": 15
           },
           "zerolinecolor": "white",
           "zerolinewidth": 2
          }
         }
        },
        "title": {
         "text": "Top 120 Count by Category"
        },
        "xaxis": {
         "anchor": "y",
         "domain": [
          0,
          1
         ],
         "title": {
          "text": "Category"
         }
        },
        "yaxis": {
         "anchor": "x",
         "domain": [
          0,
          1
         ],
         "title": {
          "text": "Count"
         }
        }
       }
      }
     },
     "metadata": {},
     "output_type": "display_data"
    }
   ],
   "source": [
    "result_grouped_cat = result_vis.groupby(by=['Category'], as_index=False).size()\n",
    "result_grouped_cat.columns = ['Category', 'Count']\n",
    "result_grouped_sort = result_grouped_cat.sort_values(by='Count', ascending=False) # type: ignore\n",
    "\n",
    "fig1 = px.bar(result_grouped_sort, x='Category', y='Count', title='Top 120 Count by Category')\n",
    "fig1.show()"
   ]
  },
  {
   "cell_type": "code",
   "execution_count": 208,
   "metadata": {},
   "outputs": [
    {
     "data": {
      "application/vnd.plotly.v1+json": {
       "config": {
        "plotlyServerURL": "https://plot.ly"
       },
       "data": [
        {
         "alignmentgroup": "True",
         "hovertemplate": "Category=Bathroom<br>Subcategory=%{x}<br>Count=%{y}<extra></extra>",
         "legendgroup": "Bathroom",
         "marker": {
          "color": "#636efa",
          "pattern": {
           "shape": ""
          }
         },
         "name": "Bathroom",
         "offsetgroup": "Bathroom",
         "orientation": "v",
         "showlegend": true,
         "textposition": "auto",
         "type": "bar",
         "x": [
          "Bathroom accessories",
          "Faucet",
          "Bathroom furniture",
          "Bathtub",
          "Shower",
          "Towel rail"
         ],
         "xaxis": "x",
         "y": [
          8,
          4,
          2,
          1,
          1,
          1
         ],
         "yaxis": "y"
        },
        {
         "alignmentgroup": "True",
         "hovertemplate": "Category=Decoration<br>Subcategory=%{x}<br>Count=%{y}<extra></extra>",
         "legendgroup": "Decoration",
         "marker": {
          "color": "#EF553B",
          "pattern": {
           "shape": ""
          }
         },
         "name": "Decoration",
         "offsetgroup": "Decoration",
         "orientation": "v",
         "showlegend": true,
         "textposition": "auto",
         "type": "bar",
         "x": [
          "Other decorative objects",
          "Curtain",
          "Decorative set",
          "Carpets",
          "Clothes",
          "Vase",
          "Sculpture",
          "Frame"
         ],
         "xaxis": "x",
         "y": [
          7,
          5,
          5,
          3,
          2,
          1,
          1,
          1
         ],
         "yaxis": "y"
        },
        {
         "alignmentgroup": "True",
         "hovertemplate": "Category=Furniture<br>Subcategory=%{x}<br>Count=%{y}<extra></extra>",
         "legendgroup": "Furniture",
         "marker": {
          "color": "#00cc96",
          "pattern": {
           "shape": ""
          }
         },
         "name": "Furniture",
         "offsetgroup": "Furniture",
         "orientation": "v",
         "showlegend": true,
         "textposition": "auto",
         "type": "bar",
         "x": [
          "Wardrobe & Display cabinets",
          "Sideboard & Chest of drawer",
          "TV Wall",
          "Table + Chair",
          "Table",
          "Other",
          "Office furniture",
          "Arm chair",
          "Bed",
          "Chair",
          "Rack",
          "Hallway",
          "Other soft seating"
         ],
         "xaxis": "x",
         "y": [
          6,
          3,
          2,
          2,
          2,
          2,
          2,
          1,
          1,
          1,
          1,
          1,
          1
         ],
         "yaxis": "y"
        },
        {
         "alignmentgroup": "True",
         "hovertemplate": "Category=Other Models<br>Subcategory=%{x}<br>Count=%{y}<extra></extra>",
         "legendgroup": "Other Models",
         "marker": {
          "color": "#ab63fa",
          "pattern": {
           "shape": ""
          }
         },
         "name": "Other Models",
         "offsetgroup": "Other Models",
         "orientation": "v",
         "showlegend": true,
         "textposition": "auto",
         "type": "bar",
         "x": [
          "Miscellaneous",
          "Sports",
          "Restaurant",
          "Musical instrument",
          "Shop",
          "Doors"
         ],
         "xaxis": "x",
         "y": [
          4,
          3,
          2,
          1,
          1,
          1
         ],
         "yaxis": "y"
        },
        {
         "alignmentgroup": "True",
         "hovertemplate": "Category=Materials<br>Subcategory=%{x}<br>Count=%{y}<extra></extra>",
         "legendgroup": "Materials",
         "marker": {
          "color": "#FFA15A",
          "pattern": {
           "shape": ""
          }
         },
         "name": "Materials",
         "offsetgroup": "Materials",
         "orientation": "v",
         "showlegend": true,
         "textposition": "auto",
         "type": "bar",
         "x": [
          "Miscellaneous",
          "Tile"
         ],
         "xaxis": "x",
         "y": [
          4,
          1
         ],
         "yaxis": "y"
        },
        {
         "alignmentgroup": "True",
         "hovertemplate": "Category=Childroom<br>Subcategory=%{x}<br>Count=%{y}<extra></extra>",
         "legendgroup": "Childroom",
         "marker": {
          "color": "#19d3f3",
          "pattern": {
           "shape": ""
          }
         },
         "name": "Childroom",
         "offsetgroup": "Childroom",
         "orientation": "v",
         "showlegend": true,
         "textposition": "auto",
         "type": "bar",
         "x": [
          "Miscellaneous",
          "Wardrobe",
          "Bed"
         ],
         "xaxis": "x",
         "y": [
          4,
          2,
          1
         ],
         "yaxis": "y"
        },
        {
         "alignmentgroup": "True",
         "hovertemplate": "Category=Kitchen<br>Subcategory=%{x}<br>Count=%{y}<extra></extra>",
         "legendgroup": "Kitchen",
         "marker": {
          "color": "#FF6692",
          "pattern": {
           "shape": ""
          }
         },
         "name": "Kitchen",
         "offsetgroup": "Kitchen",
         "orientation": "v",
         "showlegend": true,
         "textposition": "auto",
         "type": "bar",
         "x": [
          "Kitchen",
          "Tableware",
          "Sink",
          "Food and drinks"
         ],
         "xaxis": "x",
         "y": [
          4,
          2,
          1,
          1
         ],
         "yaxis": "y"
        },
        {
         "alignmentgroup": "True",
         "hovertemplate": "Category=Textures<br>Subcategory=%{x}<br>Count=%{y}<extra></extra>",
         "legendgroup": "Textures",
         "marker": {
          "color": "#B6E880",
          "pattern": {
           "shape": ""
          }
         },
         "name": "Textures",
         "offsetgroup": "Textures",
         "orientation": "v",
         "showlegend": true,
         "textposition": "auto",
         "type": "bar",
         "x": [
          "Floor coverings",
          "Tile"
         ],
         "xaxis": "x",
         "y": [
          3,
          3
         ],
         "yaxis": "y"
        },
        {
         "alignmentgroup": "True",
         "hovertemplate": "Category=Plants<br>Subcategory=%{x}<br>Count=%{y}<extra></extra>",
         "legendgroup": "Plants",
         "marker": {
          "color": "#FF97FF",
          "pattern": {
           "shape": ""
          }
         },
         "name": "Plants",
         "offsetgroup": "Plants",
         "orientation": "v",
         "showlegend": true,
         "textposition": "auto",
         "type": "bar",
         "x": [
          "Indoor",
          "Bouquet",
          "Grass"
         ],
         "xaxis": "x",
         "y": [
          3,
          2,
          1
         ],
         "yaxis": "y"
        },
        {
         "alignmentgroup": "True",
         "hovertemplate": "Category=Technology<br>Subcategory=%{x}<br>Count=%{y}<extra></extra>",
         "legendgroup": "Technology",
         "marker": {
          "color": "#FECB52",
          "pattern": {
           "shape": ""
          }
         },
         "name": "Technology",
         "offsetgroup": "Technology",
         "orientation": "v",
         "showlegend": true,
         "textposition": "auto",
         "type": "bar",
         "x": [
          "Household appliance",
          "PC & other electronics"
         ],
         "xaxis": "x",
         "y": [
          2,
          1
         ],
         "yaxis": "y"
        },
        {
         "alignmentgroup": "True",
         "hovertemplate": "Category=Lighting<br>Subcategory=%{x}<br>Count=%{y}<extra></extra>",
         "legendgroup": "Lighting",
         "marker": {
          "color": "#636efa",
          "pattern": {
           "shape": ""
          }
         },
         "name": "Lighting",
         "offsetgroup": "Lighting",
         "orientation": "v",
         "showlegend": true,
         "textposition": "auto",
         "type": "bar",
         "x": [
          "Pendant light",
          "Technical lighting"
         ],
         "xaxis": "x",
         "y": [
          2,
          1
         ],
         "yaxis": "y"
        },
        {
         "alignmentgroup": "True",
         "hovertemplate": "Category=Architecture<br>Subcategory=%{x}<br>Count=%{y}<extra></extra>",
         "legendgroup": "Architecture",
         "marker": {
          "color": "#EF553B",
          "pattern": {
           "shape": ""
          }
         },
         "name": "Architecture",
         "offsetgroup": "Architecture",
         "orientation": "v",
         "showlegend": true,
         "textposition": "auto",
         "type": "bar",
         "x": [
          "Urban environment"
         ],
         "xaxis": "x",
         "y": [
          2
         ],
         "yaxis": "y"
        },
        {
         "alignmentgroup": "True",
         "hovertemplate": "Category=Scripts<br>Subcategory=%{x}<br>Count=%{y}<extra></extra>",
         "legendgroup": "Scripts",
         "marker": {
          "color": "#00cc96",
          "pattern": {
           "shape": ""
          }
         },
         "name": "Scripts",
         "offsetgroup": "Scripts",
         "orientation": "v",
         "showlegend": true,
         "textposition": "auto",
         "type": "bar",
         "x": [
          "Scripts"
         ],
         "xaxis": "x",
         "y": [
          1
         ],
         "yaxis": "y"
        }
       ],
       "layout": {
        "barmode": "relative",
        "legend": {
         "title": {
          "text": "Category"
         },
         "tracegroupgap": 0
        },
        "template": {
         "data": {
          "bar": [
           {
            "error_x": {
             "color": "#2a3f5f"
            },
            "error_y": {
             "color": "#2a3f5f"
            },
            "marker": {
             "line": {
              "color": "#E5ECF6",
              "width": 0.5
             },
             "pattern": {
              "fillmode": "overlay",
              "size": 10,
              "solidity": 0.2
             }
            },
            "type": "bar"
           }
          ],
          "barpolar": [
           {
            "marker": {
             "line": {
              "color": "#E5ECF6",
              "width": 0.5
             },
             "pattern": {
              "fillmode": "overlay",
              "size": 10,
              "solidity": 0.2
             }
            },
            "type": "barpolar"
           }
          ],
          "carpet": [
           {
            "aaxis": {
             "endlinecolor": "#2a3f5f",
             "gridcolor": "white",
             "linecolor": "white",
             "minorgridcolor": "white",
             "startlinecolor": "#2a3f5f"
            },
            "baxis": {
             "endlinecolor": "#2a3f5f",
             "gridcolor": "white",
             "linecolor": "white",
             "minorgridcolor": "white",
             "startlinecolor": "#2a3f5f"
            },
            "type": "carpet"
           }
          ],
          "choropleth": [
           {
            "colorbar": {
             "outlinewidth": 0,
             "ticks": ""
            },
            "type": "choropleth"
           }
          ],
          "contour": [
           {
            "colorbar": {
             "outlinewidth": 0,
             "ticks": ""
            },
            "colorscale": [
             [
              0,
              "#0d0887"
             ],
             [
              0.1111111111111111,
              "#46039f"
             ],
             [
              0.2222222222222222,
              "#7201a8"
             ],
             [
              0.3333333333333333,
              "#9c179e"
             ],
             [
              0.4444444444444444,
              "#bd3786"
             ],
             [
              0.5555555555555556,
              "#d8576b"
             ],
             [
              0.6666666666666666,
              "#ed7953"
             ],
             [
              0.7777777777777778,
              "#fb9f3a"
             ],
             [
              0.8888888888888888,
              "#fdca26"
             ],
             [
              1,
              "#f0f921"
             ]
            ],
            "type": "contour"
           }
          ],
          "contourcarpet": [
           {
            "colorbar": {
             "outlinewidth": 0,
             "ticks": ""
            },
            "type": "contourcarpet"
           }
          ],
          "heatmap": [
           {
            "colorbar": {
             "outlinewidth": 0,
             "ticks": ""
            },
            "colorscale": [
             [
              0,
              "#0d0887"
             ],
             [
              0.1111111111111111,
              "#46039f"
             ],
             [
              0.2222222222222222,
              "#7201a8"
             ],
             [
              0.3333333333333333,
              "#9c179e"
             ],
             [
              0.4444444444444444,
              "#bd3786"
             ],
             [
              0.5555555555555556,
              "#d8576b"
             ],
             [
              0.6666666666666666,
              "#ed7953"
             ],
             [
              0.7777777777777778,
              "#fb9f3a"
             ],
             [
              0.8888888888888888,
              "#fdca26"
             ],
             [
              1,
              "#f0f921"
             ]
            ],
            "type": "heatmap"
           }
          ],
          "heatmapgl": [
           {
            "colorbar": {
             "outlinewidth": 0,
             "ticks": ""
            },
            "colorscale": [
             [
              0,
              "#0d0887"
             ],
             [
              0.1111111111111111,
              "#46039f"
             ],
             [
              0.2222222222222222,
              "#7201a8"
             ],
             [
              0.3333333333333333,
              "#9c179e"
             ],
             [
              0.4444444444444444,
              "#bd3786"
             ],
             [
              0.5555555555555556,
              "#d8576b"
             ],
             [
              0.6666666666666666,
              "#ed7953"
             ],
             [
              0.7777777777777778,
              "#fb9f3a"
             ],
             [
              0.8888888888888888,
              "#fdca26"
             ],
             [
              1,
              "#f0f921"
             ]
            ],
            "type": "heatmapgl"
           }
          ],
          "histogram": [
           {
            "marker": {
             "pattern": {
              "fillmode": "overlay",
              "size": 10,
              "solidity": 0.2
             }
            },
            "type": "histogram"
           }
          ],
          "histogram2d": [
           {
            "colorbar": {
             "outlinewidth": 0,
             "ticks": ""
            },
            "colorscale": [
             [
              0,
              "#0d0887"
             ],
             [
              0.1111111111111111,
              "#46039f"
             ],
             [
              0.2222222222222222,
              "#7201a8"
             ],
             [
              0.3333333333333333,
              "#9c179e"
             ],
             [
              0.4444444444444444,
              "#bd3786"
             ],
             [
              0.5555555555555556,
              "#d8576b"
             ],
             [
              0.6666666666666666,
              "#ed7953"
             ],
             [
              0.7777777777777778,
              "#fb9f3a"
             ],
             [
              0.8888888888888888,
              "#fdca26"
             ],
             [
              1,
              "#f0f921"
             ]
            ],
            "type": "histogram2d"
           }
          ],
          "histogram2dcontour": [
           {
            "colorbar": {
             "outlinewidth": 0,
             "ticks": ""
            },
            "colorscale": [
             [
              0,
              "#0d0887"
             ],
             [
              0.1111111111111111,
              "#46039f"
             ],
             [
              0.2222222222222222,
              "#7201a8"
             ],
             [
              0.3333333333333333,
              "#9c179e"
             ],
             [
              0.4444444444444444,
              "#bd3786"
             ],
             [
              0.5555555555555556,
              "#d8576b"
             ],
             [
              0.6666666666666666,
              "#ed7953"
             ],
             [
              0.7777777777777778,
              "#fb9f3a"
             ],
             [
              0.8888888888888888,
              "#fdca26"
             ],
             [
              1,
              "#f0f921"
             ]
            ],
            "type": "histogram2dcontour"
           }
          ],
          "mesh3d": [
           {
            "colorbar": {
             "outlinewidth": 0,
             "ticks": ""
            },
            "type": "mesh3d"
           }
          ],
          "parcoords": [
           {
            "line": {
             "colorbar": {
              "outlinewidth": 0,
              "ticks": ""
             }
            },
            "type": "parcoords"
           }
          ],
          "pie": [
           {
            "automargin": true,
            "type": "pie"
           }
          ],
          "scatter": [
           {
            "fillpattern": {
             "fillmode": "overlay",
             "size": 10,
             "solidity": 0.2
            },
            "type": "scatter"
           }
          ],
          "scatter3d": [
           {
            "line": {
             "colorbar": {
              "outlinewidth": 0,
              "ticks": ""
             }
            },
            "marker": {
             "colorbar": {
              "outlinewidth": 0,
              "ticks": ""
             }
            },
            "type": "scatter3d"
           }
          ],
          "scattercarpet": [
           {
            "marker": {
             "colorbar": {
              "outlinewidth": 0,
              "ticks": ""
             }
            },
            "type": "scattercarpet"
           }
          ],
          "scattergeo": [
           {
            "marker": {
             "colorbar": {
              "outlinewidth": 0,
              "ticks": ""
             }
            },
            "type": "scattergeo"
           }
          ],
          "scattergl": [
           {
            "marker": {
             "colorbar": {
              "outlinewidth": 0,
              "ticks": ""
             }
            },
            "type": "scattergl"
           }
          ],
          "scattermapbox": [
           {
            "marker": {
             "colorbar": {
              "outlinewidth": 0,
              "ticks": ""
             }
            },
            "type": "scattermapbox"
           }
          ],
          "scatterpolar": [
           {
            "marker": {
             "colorbar": {
              "outlinewidth": 0,
              "ticks": ""
             }
            },
            "type": "scatterpolar"
           }
          ],
          "scatterpolargl": [
           {
            "marker": {
             "colorbar": {
              "outlinewidth": 0,
              "ticks": ""
             }
            },
            "type": "scatterpolargl"
           }
          ],
          "scatterternary": [
           {
            "marker": {
             "colorbar": {
              "outlinewidth": 0,
              "ticks": ""
             }
            },
            "type": "scatterternary"
           }
          ],
          "surface": [
           {
            "colorbar": {
             "outlinewidth": 0,
             "ticks": ""
            },
            "colorscale": [
             [
              0,
              "#0d0887"
             ],
             [
              0.1111111111111111,
              "#46039f"
             ],
             [
              0.2222222222222222,
              "#7201a8"
             ],
             [
              0.3333333333333333,
              "#9c179e"
             ],
             [
              0.4444444444444444,
              "#bd3786"
             ],
             [
              0.5555555555555556,
              "#d8576b"
             ],
             [
              0.6666666666666666,
              "#ed7953"
             ],
             [
              0.7777777777777778,
              "#fb9f3a"
             ],
             [
              0.8888888888888888,
              "#fdca26"
             ],
             [
              1,
              "#f0f921"
             ]
            ],
            "type": "surface"
           }
          ],
          "table": [
           {
            "cells": {
             "fill": {
              "color": "#EBF0F8"
             },
             "line": {
              "color": "white"
             }
            },
            "header": {
             "fill": {
              "color": "#C8D4E3"
             },
             "line": {
              "color": "white"
             }
            },
            "type": "table"
           }
          ]
         },
         "layout": {
          "annotationdefaults": {
           "arrowcolor": "#2a3f5f",
           "arrowhead": 0,
           "arrowwidth": 1
          },
          "autotypenumbers": "strict",
          "coloraxis": {
           "colorbar": {
            "outlinewidth": 0,
            "ticks": ""
           }
          },
          "colorscale": {
           "diverging": [
            [
             0,
             "#8e0152"
            ],
            [
             0.1,
             "#c51b7d"
            ],
            [
             0.2,
             "#de77ae"
            ],
            [
             0.3,
             "#f1b6da"
            ],
            [
             0.4,
             "#fde0ef"
            ],
            [
             0.5,
             "#f7f7f7"
            ],
            [
             0.6,
             "#e6f5d0"
            ],
            [
             0.7,
             "#b8e186"
            ],
            [
             0.8,
             "#7fbc41"
            ],
            [
             0.9,
             "#4d9221"
            ],
            [
             1,
             "#276419"
            ]
           ],
           "sequential": [
            [
             0,
             "#0d0887"
            ],
            [
             0.1111111111111111,
             "#46039f"
            ],
            [
             0.2222222222222222,
             "#7201a8"
            ],
            [
             0.3333333333333333,
             "#9c179e"
            ],
            [
             0.4444444444444444,
             "#bd3786"
            ],
            [
             0.5555555555555556,
             "#d8576b"
            ],
            [
             0.6666666666666666,
             "#ed7953"
            ],
            [
             0.7777777777777778,
             "#fb9f3a"
            ],
            [
             0.8888888888888888,
             "#fdca26"
            ],
            [
             1,
             "#f0f921"
            ]
           ],
           "sequentialminus": [
            [
             0,
             "#0d0887"
            ],
            [
             0.1111111111111111,
             "#46039f"
            ],
            [
             0.2222222222222222,
             "#7201a8"
            ],
            [
             0.3333333333333333,
             "#9c179e"
            ],
            [
             0.4444444444444444,
             "#bd3786"
            ],
            [
             0.5555555555555556,
             "#d8576b"
            ],
            [
             0.6666666666666666,
             "#ed7953"
            ],
            [
             0.7777777777777778,
             "#fb9f3a"
            ],
            [
             0.8888888888888888,
             "#fdca26"
            ],
            [
             1,
             "#f0f921"
            ]
           ]
          },
          "colorway": [
           "#636efa",
           "#EF553B",
           "#00cc96",
           "#ab63fa",
           "#FFA15A",
           "#19d3f3",
           "#FF6692",
           "#B6E880",
           "#FF97FF",
           "#FECB52"
          ],
          "font": {
           "color": "#2a3f5f"
          },
          "geo": {
           "bgcolor": "white",
           "lakecolor": "white",
           "landcolor": "#E5ECF6",
           "showlakes": true,
           "showland": true,
           "subunitcolor": "white"
          },
          "hoverlabel": {
           "align": "left"
          },
          "hovermode": "closest",
          "mapbox": {
           "style": "light"
          },
          "paper_bgcolor": "white",
          "plot_bgcolor": "#E5ECF6",
          "polar": {
           "angularaxis": {
            "gridcolor": "white",
            "linecolor": "white",
            "ticks": ""
           },
           "bgcolor": "#E5ECF6",
           "radialaxis": {
            "gridcolor": "white",
            "linecolor": "white",
            "ticks": ""
           }
          },
          "scene": {
           "xaxis": {
            "backgroundcolor": "#E5ECF6",
            "gridcolor": "white",
            "gridwidth": 2,
            "linecolor": "white",
            "showbackground": true,
            "ticks": "",
            "zerolinecolor": "white"
           },
           "yaxis": {
            "backgroundcolor": "#E5ECF6",
            "gridcolor": "white",
            "gridwidth": 2,
            "linecolor": "white",
            "showbackground": true,
            "ticks": "",
            "zerolinecolor": "white"
           },
           "zaxis": {
            "backgroundcolor": "#E5ECF6",
            "gridcolor": "white",
            "gridwidth": 2,
            "linecolor": "white",
            "showbackground": true,
            "ticks": "",
            "zerolinecolor": "white"
           }
          },
          "shapedefaults": {
           "line": {
            "color": "#2a3f5f"
           }
          },
          "ternary": {
           "aaxis": {
            "gridcolor": "white",
            "linecolor": "white",
            "ticks": ""
           },
           "baxis": {
            "gridcolor": "white",
            "linecolor": "white",
            "ticks": ""
           },
           "bgcolor": "#E5ECF6",
           "caxis": {
            "gridcolor": "white",
            "linecolor": "white",
            "ticks": ""
           }
          },
          "title": {
           "x": 0.05
          },
          "xaxis": {
           "automargin": true,
           "gridcolor": "white",
           "linecolor": "white",
           "ticks": "",
           "title": {
            "standoff": 15
           },
           "zerolinecolor": "white",
           "zerolinewidth": 2
          },
          "yaxis": {
           "automargin": true,
           "gridcolor": "white",
           "linecolor": "white",
           "ticks": "",
           "title": {
            "standoff": 15
           },
           "zerolinecolor": "white",
           "zerolinewidth": 2
          }
         }
        },
        "title": {
         "text": "Top 120 Count by Subcategory"
        },
        "xaxis": {
         "anchor": "y",
         "domain": [
          0,
          1
         ],
         "title": {
          "text": "Subcategory"
         }
        },
        "yaxis": {
         "anchor": "x",
         "domain": [
          0,
          1
         ],
         "title": {
          "text": "Count"
         }
        }
       }
      }
     },
     "metadata": {},
     "output_type": "display_data"
    }
   ],
   "source": [
    "result_grouped_subcat = result_vis.groupby(by=['Category', 'Subcategory'], as_index=False).size()\n",
    "result_grouped_subcat.columns = ['Category', 'Subcategory', 'Count']\n",
    "result_grouped_subsort = result_grouped_subcat.sort_values(by='Count', ascending=False) # type: ignore\n",
    "\n",
    "fig2 = px.bar(result_grouped_subsort, x='Subcategory', y='Count', color = 'Category', title='Top 120 Count by Subcategory')\n",
    "fig2.show()"
   ]
  },
  {
   "cell_type": "code",
   "execution_count": 209,
   "metadata": {},
   "outputs": [
    {
     "data": {
      "application/vnd.plotly.v1+json": {
       "config": {
        "plotlyServerURL": "https://plot.ly"
       },
       "data": [
        {
         "customdata": [
          [
           "Christmas tree with fireplace 5"
          ],
          [
           "Benuta Leon Cream Wool Rug"
          ],
          [
           "Indoor Plant Set 89"
          ],
          [
           "Office chair Ashley"
          ],
          [
           "Clothes for wardrobe NG15"
          ],
          [
           "Boucle Fabric"
          ],
          [
           "Decorative Set 089"
          ],
          [
           "Benuta Dave Rectangular Fur Rug (3 colors)"
          ],
          [
           "Curtains with Roman blinds 2"
          ],
          [
           "Kitchen 10"
          ],
          [
           "Decorative Set 088"
          ],
          [
           "Carpeting. Seamless carpet"
          ],
          [
           "Dressing room 28"
          ],
          [
           "Dressing room 16"
          ],
          [
           "A set of clothes in bright colors for a wardrobe or showroom and a store"
          ],
          [
           "Cairns pedestal Divan.ru"
          ],
          [
           "coffee table decor set 005"
          ],
          [
           "Roman blinds, Roman blinds"
          ],
          [
           "Basic wardrobe made of cabinet furniture with doors"
          ],
          [
           "TV wall with Xiaomi laser projector"
          ],
          [
           "Omnires mixers"
          ],
          [
           "Office chair Sergio La Redoute"
          ],
          [
           "Children play area | Interactive"
          ],
          [
           "Snow"
          ],
          [
           "Glass Block Wall 08"
          ],
          [
           "Bathroom decor with a set of different cosmetic products"
          ],
          [
           "Moooi Drape Lights"
          ],
          [
           "Grilles for ventilation and air conditioning Redvent"
          ],
          [
           "Siena Kids Bed By Como"
          ],
          [
           "Padel"
          ],
          [
           "Robot vacuum cleaner Xiaomi Robot Vacuum Cleaner X20"
          ],
          [
           "Faucets and showers Boheme uno set 2"
          ],
          [
           "Porcelain tiles Nolana Estima"
          ],
          [
           "Bathroom decor set P06"
          ],
          [
           "Cecily Nara bedside table Cosmo"
          ],
          [
           "kitchen 0252"
          ],
          [
           "Lindsay Laurie coffee table Divan.ru"
          ],
          [
           "Track system centersvet Infinity"
          ],
          [
           "HOMARY island for dressing room NG16"
          ],
          [
           "Nice Christmas tree"
          ],
          [
           "Bathroom furniture 21"
          ],
          [
           "Cookware set NG5"
          ],
          [
           "3DArt Relief NG41"
          ],
          [
           "West Elm Curved Modern Upholstered Bed"
          ],
          [
           "Wine with chocolate set/1"
          ],
          [
           "garage tools set 23"
          ],
          [
           "Equipe BALI"
          ],
          [
           "Milam chair Divan.ru"
          ],
          [
           "A bouquet of lilacs in a glass vase"
          ],
          [
           "Bouquet 06"
          ],
          [
           "Laundry Room _ 0005"
          ],
          [
           "Sinks and faucets Omoikiri"
          ],
          [
           "Equipe Hopp"
          ],
          [
           "Panel with waves"
          ],
          [
           "Realistic meadow grass"
          ],
          [
           "Herringbone parquet chevron s8"
          ],
          [
           "Volhovec Rift Doors"
          ],
          [
           "Soft seat by the window in the children's room"
          ],
          [
           "Faucets and showers Boheme uno set 1"
          ],
          [
           "Faucets and showers Boheme Specter set"
          ],
          [
           "Parquet board 4"
          ],
          [
           "Decorative Set 270"
          ],
          [
           "Bedside table Tammi"
          ],
          [
           "Pila Vessels en gold / Jug"
          ],
          [
           "kitchen modern-067"
          ],
          [
           "Minotti Pilots Bench"
          ],
          [
           "Dinning Set 162"
          ],
          [
           "Bathroom accessories Z42"
          ],
          [
           "FloorGen Tools 1.5.4"
          ],
          [
           "Christmas tree 5"
          ],
          [
           "Wet asphalt with leaves. Autumn. Editable"
          ],
          [
           "Serving NG3"
          ],
          [
           "Indoor Plant 702 - Olive Plant"
          ],
          [
           "Wardrobe system Rimadesio Dress Bold"
          ],
          [
           "Hotel Bathroom Accessories LE LABO"
          ],
          [
           "Rubber Coating"
          ],
          [
           "Ventilation system."
          ],
          [
           "Interactive panel for children room"
          ],
          [
           "Christmas tree with fireplace 4"
          ],
          [
           "Round carpet"
          ],
          [
           "Kitchen Appliance Bosch Kitchen 81"
          ],
          [
           "Curtains 9"
          ],
          [
           "EWRIKA Penelope electric heated towel rail"
          ],
          [
           "A set for a clothing store and showroom"
          ],
          [
           "Pinboard with childrens drawings"
          ],
          [
           "Furniture Composition 271"
          ],
          [
           "TV Wall 52"
          ],
          [
           "Indoor Plant Set 0147"
          ],
          [
           "Childrens open wardrobe with desk, modular, modern, 25"
          ],
          [
           "LAUNDRY SET (Poliform FITTED + ASKO)"
          ],
          [
           "Bakery Equipment"
          ],
          [
           "Photo Studio Kit"
          ],
          [
           "Set of ceilings Armstrong and Grilyato"
          ],
          [
           "Boen parquet board wood flooring"
          ],
          [
           "Accessories for public toilets black set 152 part 4"
          ],
          [
           "Curtain 28/ curtains"
          ],
          [
           "Decorative set with a small beige bag"
          ],
          [
           "Coffee Shop 6"
          ],
          [
           "Khmara by Makhno Rough Plaster Pendant Lamps"
          ],
          [
           "Double bath curtain on Sunerzha cornice"
          ],
          [
           "Oval island for dressing room NG14"
          ],
          [
           "A wall with a rack for gym equipment 2"
          ],
          [
           "Emmi Armchair by Minotti"
          ],
          [
           "Bathroom furniture 11"
          ],
          [
           "541 hallway zone 14 minimal modular wardeobe with seating niche"
          ],
          [
           "Canon printer set."
          ],
          [
           "Calder Lander Build table Divan.ru"
          ],
          [
           "Equipe MASSIMO"
          ],
          [
           "Furniture composition GHS-2617"
          ],
          [
           "Shower cabin 07"
          ],
          [
           "Christmas Tree and Decoration 78"
          ],
          [
           "Pinch Pleat Linen Curtain with Roller Blind"
          ],
          [
           "Wonderful Christmas Tree"
          ],
          [
           "Kitchen table Loft Tobacco and chairs Dick divan.ru"
          ],
          [
           "Guitar. Guitar set for stage. Musical instrument. Microphone"
          ],
          [
           "Thermal curtain Ballu"
          ],
          [
           "Christmas Tree Street"
          ],
          [
           "Yoga & Meditation Set"
          ],
          [
           "Dressing room 24"
          ],
          [
           "Timo Saona"
          ]
         ],
         "hovertemplate": "Selected=%{x}<br>Followers=%{y}<br>Title=%{customdata[0]}<br>N=%{marker.color}<extra></extra>",
         "legendgroup": "",
         "marker": {
          "color": [
           1,
           2,
           3,
           4,
           5,
           6,
           7,
           8,
           9,
           10,
           11,
           12,
           13,
           14,
           15,
           16,
           17,
           18,
           19,
           20,
           21,
           22,
           23,
           24,
           25,
           26,
           27,
           28,
           29,
           30,
           31,
           32,
           33,
           34,
           35,
           36,
           37,
           38,
           39,
           40,
           41,
           42,
           43,
           44,
           45,
           46,
           47,
           48,
           49,
           50,
           51,
           52,
           53,
           54,
           55,
           56,
           57,
           58,
           59,
           60,
           61,
           62,
           63,
           64,
           65,
           66,
           67,
           68,
           69,
           70,
           71,
           72,
           73,
           74,
           75,
           76,
           77,
           78,
           79,
           80,
           81,
           82,
           83,
           84,
           85,
           86,
           87,
           88,
           89,
           90,
           91,
           92,
           93,
           94,
           95,
           96,
           97,
           98,
           99,
           100,
           101,
           102,
           103,
           104,
           105,
           106,
           107,
           108,
           109,
           110,
           111,
           112,
           113,
           114,
           115,
           116,
           117,
           118,
           119,
           120
          ],
          "coloraxis": "coloraxis",
          "symbol": "circle"
         },
         "mode": "markers",
         "name": "",
         "orientation": "v",
         "showlegend": false,
         "type": "scatter",
         "x": [
          151,
          199,
          44,
          128,
          88,
          364,
          225,
          534,
          240,
          74,
          193,
          138,
          61,
          386,
          189,
          60,
          105,
          81,
          105,
          1479,
          70,
          77,
          146,
          54,
          811,
          264,
          94,
          81,
          768,
          116,
          127,
          59,
          165,
          90,
          70,
          53,
          30,
          27,
          236,
          1408,
          199,
          317,
          83,
          82,
          257,
          72,
          94,
          89,
          187,
          112,
          933,
          501,
          236,
          485,
          439,
          210,
          196,
          333,
          40,
          26,
          79,
          38,
          42,
          215,
          56,
          59,
          26,
          21,
          801,
          609,
          471,
          455,
          252,
          502,
          409,
          185,
          145,
          335,
          343,
          205,
          219,
          64,
          48,
          172,
          87,
          75,
          58,
          29,
          42,
          2212,
          1260,
          656,
          825,
          875,
          439,
          294,
          27,
          599,
          306,
          290,
          441,
          278,
          295,
          297,
          259,
          40,
          64,
          67,
          48,
          32,
          120,
          45,
          73,
          15,
          476,
          190,
          288,
          499,
          349,
          183
         ],
         "xaxis": "x",
         "y": [
          313,
          335,
          211,
          6,
          743,
          148,
          87,
          335,
          128,
          11,
          87,
          770,
          322,
          322,
          770,
          743,
          189,
          417,
          770,
          2219,
          1215,
          245,
          82,
          307,
          128,
          770,
          100,
          30,
          417,
          22,
          99,
          22,
          11,
          8,
          743,
          97,
          743,
          22,
          743,
          1215,
          170,
          743,
          743,
          610,
          73,
          9,
          160,
          743,
          226,
          10,
          311,
          125,
          160,
          69,
          1663,
          160,
          66,
          82,
          22,
          22,
          313,
          566,
          5,
          8,
          24,
          714,
          76,
          34,
          40,
          1215,
          130,
          743,
          1562,
          98,
          82,
          307,
          20,
          82,
          313,
          18,
          134,
          1215,
          743,
          770,
          30,
          177,
          231,
          151,
          170,
          223,
          72,
          98,
          428,
          313,
          82,
          252,
          27,
          309,
          28,
          30,
          743,
          770,
          192,
          27,
          1518,
          20,
          743,
          160,
          86,
          117,
          1562,
          125,
          1215,
          184,
          89,
          450,
          50,
          192,
          322,
          78
         ],
         "yaxis": "y"
        }
       ],
       "layout": {
        "coloraxis": {
         "colorbar": {
          "title": {
           "text": "N"
          }
         },
         "colorscale": [
          [
           0,
           "#0d0887"
          ],
          [
           0.1111111111111111,
           "#46039f"
          ],
          [
           0.2222222222222222,
           "#7201a8"
          ],
          [
           0.3333333333333333,
           "#9c179e"
          ],
          [
           0.4444444444444444,
           "#bd3786"
          ],
          [
           0.5555555555555556,
           "#d8576b"
          ],
          [
           0.6666666666666666,
           "#ed7953"
          ],
          [
           0.7777777777777778,
           "#fb9f3a"
          ],
          [
           0.8888888888888888,
           "#fdca26"
          ],
          [
           1,
           "#f0f921"
          ]
         ]
        },
        "legend": {
         "tracegroupgap": 0
        },
        "template": {
         "data": {
          "bar": [
           {
            "error_x": {
             "color": "#2a3f5f"
            },
            "error_y": {
             "color": "#2a3f5f"
            },
            "marker": {
             "line": {
              "color": "#E5ECF6",
              "width": 0.5
             },
             "pattern": {
              "fillmode": "overlay",
              "size": 10,
              "solidity": 0.2
             }
            },
            "type": "bar"
           }
          ],
          "barpolar": [
           {
            "marker": {
             "line": {
              "color": "#E5ECF6",
              "width": 0.5
             },
             "pattern": {
              "fillmode": "overlay",
              "size": 10,
              "solidity": 0.2
             }
            },
            "type": "barpolar"
           }
          ],
          "carpet": [
           {
            "aaxis": {
             "endlinecolor": "#2a3f5f",
             "gridcolor": "white",
             "linecolor": "white",
             "minorgridcolor": "white",
             "startlinecolor": "#2a3f5f"
            },
            "baxis": {
             "endlinecolor": "#2a3f5f",
             "gridcolor": "white",
             "linecolor": "white",
             "minorgridcolor": "white",
             "startlinecolor": "#2a3f5f"
            },
            "type": "carpet"
           }
          ],
          "choropleth": [
           {
            "colorbar": {
             "outlinewidth": 0,
             "ticks": ""
            },
            "type": "choropleth"
           }
          ],
          "contour": [
           {
            "colorbar": {
             "outlinewidth": 0,
             "ticks": ""
            },
            "colorscale": [
             [
              0,
              "#0d0887"
             ],
             [
              0.1111111111111111,
              "#46039f"
             ],
             [
              0.2222222222222222,
              "#7201a8"
             ],
             [
              0.3333333333333333,
              "#9c179e"
             ],
             [
              0.4444444444444444,
              "#bd3786"
             ],
             [
              0.5555555555555556,
              "#d8576b"
             ],
             [
              0.6666666666666666,
              "#ed7953"
             ],
             [
              0.7777777777777778,
              "#fb9f3a"
             ],
             [
              0.8888888888888888,
              "#fdca26"
             ],
             [
              1,
              "#f0f921"
             ]
            ],
            "type": "contour"
           }
          ],
          "contourcarpet": [
           {
            "colorbar": {
             "outlinewidth": 0,
             "ticks": ""
            },
            "type": "contourcarpet"
           }
          ],
          "heatmap": [
           {
            "colorbar": {
             "outlinewidth": 0,
             "ticks": ""
            },
            "colorscale": [
             [
              0,
              "#0d0887"
             ],
             [
              0.1111111111111111,
              "#46039f"
             ],
             [
              0.2222222222222222,
              "#7201a8"
             ],
             [
              0.3333333333333333,
              "#9c179e"
             ],
             [
              0.4444444444444444,
              "#bd3786"
             ],
             [
              0.5555555555555556,
              "#d8576b"
             ],
             [
              0.6666666666666666,
              "#ed7953"
             ],
             [
              0.7777777777777778,
              "#fb9f3a"
             ],
             [
              0.8888888888888888,
              "#fdca26"
             ],
             [
              1,
              "#f0f921"
             ]
            ],
            "type": "heatmap"
           }
          ],
          "heatmapgl": [
           {
            "colorbar": {
             "outlinewidth": 0,
             "ticks": ""
            },
            "colorscale": [
             [
              0,
              "#0d0887"
             ],
             [
              0.1111111111111111,
              "#46039f"
             ],
             [
              0.2222222222222222,
              "#7201a8"
             ],
             [
              0.3333333333333333,
              "#9c179e"
             ],
             [
              0.4444444444444444,
              "#bd3786"
             ],
             [
              0.5555555555555556,
              "#d8576b"
             ],
             [
              0.6666666666666666,
              "#ed7953"
             ],
             [
              0.7777777777777778,
              "#fb9f3a"
             ],
             [
              0.8888888888888888,
              "#fdca26"
             ],
             [
              1,
              "#f0f921"
             ]
            ],
            "type": "heatmapgl"
           }
          ],
          "histogram": [
           {
            "marker": {
             "pattern": {
              "fillmode": "overlay",
              "size": 10,
              "solidity": 0.2
             }
            },
            "type": "histogram"
           }
          ],
          "histogram2d": [
           {
            "colorbar": {
             "outlinewidth": 0,
             "ticks": ""
            },
            "colorscale": [
             [
              0,
              "#0d0887"
             ],
             [
              0.1111111111111111,
              "#46039f"
             ],
             [
              0.2222222222222222,
              "#7201a8"
             ],
             [
              0.3333333333333333,
              "#9c179e"
             ],
             [
              0.4444444444444444,
              "#bd3786"
             ],
             [
              0.5555555555555556,
              "#d8576b"
             ],
             [
              0.6666666666666666,
              "#ed7953"
             ],
             [
              0.7777777777777778,
              "#fb9f3a"
             ],
             [
              0.8888888888888888,
              "#fdca26"
             ],
             [
              1,
              "#f0f921"
             ]
            ],
            "type": "histogram2d"
           }
          ],
          "histogram2dcontour": [
           {
            "colorbar": {
             "outlinewidth": 0,
             "ticks": ""
            },
            "colorscale": [
             [
              0,
              "#0d0887"
             ],
             [
              0.1111111111111111,
              "#46039f"
             ],
             [
              0.2222222222222222,
              "#7201a8"
             ],
             [
              0.3333333333333333,
              "#9c179e"
             ],
             [
              0.4444444444444444,
              "#bd3786"
             ],
             [
              0.5555555555555556,
              "#d8576b"
             ],
             [
              0.6666666666666666,
              "#ed7953"
             ],
             [
              0.7777777777777778,
              "#fb9f3a"
             ],
             [
              0.8888888888888888,
              "#fdca26"
             ],
             [
              1,
              "#f0f921"
             ]
            ],
            "type": "histogram2dcontour"
           }
          ],
          "mesh3d": [
           {
            "colorbar": {
             "outlinewidth": 0,
             "ticks": ""
            },
            "type": "mesh3d"
           }
          ],
          "parcoords": [
           {
            "line": {
             "colorbar": {
              "outlinewidth": 0,
              "ticks": ""
             }
            },
            "type": "parcoords"
           }
          ],
          "pie": [
           {
            "automargin": true,
            "type": "pie"
           }
          ],
          "scatter": [
           {
            "fillpattern": {
             "fillmode": "overlay",
             "size": 10,
             "solidity": 0.2
            },
            "type": "scatter"
           }
          ],
          "scatter3d": [
           {
            "line": {
             "colorbar": {
              "outlinewidth": 0,
              "ticks": ""
             }
            },
            "marker": {
             "colorbar": {
              "outlinewidth": 0,
              "ticks": ""
             }
            },
            "type": "scatter3d"
           }
          ],
          "scattercarpet": [
           {
            "marker": {
             "colorbar": {
              "outlinewidth": 0,
              "ticks": ""
             }
            },
            "type": "scattercarpet"
           }
          ],
          "scattergeo": [
           {
            "marker": {
             "colorbar": {
              "outlinewidth": 0,
              "ticks": ""
             }
            },
            "type": "scattergeo"
           }
          ],
          "scattergl": [
           {
            "marker": {
             "colorbar": {
              "outlinewidth": 0,
              "ticks": ""
             }
            },
            "type": "scattergl"
           }
          ],
          "scattermapbox": [
           {
            "marker": {
             "colorbar": {
              "outlinewidth": 0,
              "ticks": ""
             }
            },
            "type": "scattermapbox"
           }
          ],
          "scatterpolar": [
           {
            "marker": {
             "colorbar": {
              "outlinewidth": 0,
              "ticks": ""
             }
            },
            "type": "scatterpolar"
           }
          ],
          "scatterpolargl": [
           {
            "marker": {
             "colorbar": {
              "outlinewidth": 0,
              "ticks": ""
             }
            },
            "type": "scatterpolargl"
           }
          ],
          "scatterternary": [
           {
            "marker": {
             "colorbar": {
              "outlinewidth": 0,
              "ticks": ""
             }
            },
            "type": "scatterternary"
           }
          ],
          "surface": [
           {
            "colorbar": {
             "outlinewidth": 0,
             "ticks": ""
            },
            "colorscale": [
             [
              0,
              "#0d0887"
             ],
             [
              0.1111111111111111,
              "#46039f"
             ],
             [
              0.2222222222222222,
              "#7201a8"
             ],
             [
              0.3333333333333333,
              "#9c179e"
             ],
             [
              0.4444444444444444,
              "#bd3786"
             ],
             [
              0.5555555555555556,
              "#d8576b"
             ],
             [
              0.6666666666666666,
              "#ed7953"
             ],
             [
              0.7777777777777778,
              "#fb9f3a"
             ],
             [
              0.8888888888888888,
              "#fdca26"
             ],
             [
              1,
              "#f0f921"
             ]
            ],
            "type": "surface"
           }
          ],
          "table": [
           {
            "cells": {
             "fill": {
              "color": "#EBF0F8"
             },
             "line": {
              "color": "white"
             }
            },
            "header": {
             "fill": {
              "color": "#C8D4E3"
             },
             "line": {
              "color": "white"
             }
            },
            "type": "table"
           }
          ]
         },
         "layout": {
          "annotationdefaults": {
           "arrowcolor": "#2a3f5f",
           "arrowhead": 0,
           "arrowwidth": 1
          },
          "autotypenumbers": "strict",
          "coloraxis": {
           "colorbar": {
            "outlinewidth": 0,
            "ticks": ""
           }
          },
          "colorscale": {
           "diverging": [
            [
             0,
             "#8e0152"
            ],
            [
             0.1,
             "#c51b7d"
            ],
            [
             0.2,
             "#de77ae"
            ],
            [
             0.3,
             "#f1b6da"
            ],
            [
             0.4,
             "#fde0ef"
            ],
            [
             0.5,
             "#f7f7f7"
            ],
            [
             0.6,
             "#e6f5d0"
            ],
            [
             0.7,
             "#b8e186"
            ],
            [
             0.8,
             "#7fbc41"
            ],
            [
             0.9,
             "#4d9221"
            ],
            [
             1,
             "#276419"
            ]
           ],
           "sequential": [
            [
             0,
             "#0d0887"
            ],
            [
             0.1111111111111111,
             "#46039f"
            ],
            [
             0.2222222222222222,
             "#7201a8"
            ],
            [
             0.3333333333333333,
             "#9c179e"
            ],
            [
             0.4444444444444444,
             "#bd3786"
            ],
            [
             0.5555555555555556,
             "#d8576b"
            ],
            [
             0.6666666666666666,
             "#ed7953"
            ],
            [
             0.7777777777777778,
             "#fb9f3a"
            ],
            [
             0.8888888888888888,
             "#fdca26"
            ],
            [
             1,
             "#f0f921"
            ]
           ],
           "sequentialminus": [
            [
             0,
             "#0d0887"
            ],
            [
             0.1111111111111111,
             "#46039f"
            ],
            [
             0.2222222222222222,
             "#7201a8"
            ],
            [
             0.3333333333333333,
             "#9c179e"
            ],
            [
             0.4444444444444444,
             "#bd3786"
            ],
            [
             0.5555555555555556,
             "#d8576b"
            ],
            [
             0.6666666666666666,
             "#ed7953"
            ],
            [
             0.7777777777777778,
             "#fb9f3a"
            ],
            [
             0.8888888888888888,
             "#fdca26"
            ],
            [
             1,
             "#f0f921"
            ]
           ]
          },
          "colorway": [
           "#636efa",
           "#EF553B",
           "#00cc96",
           "#ab63fa",
           "#FFA15A",
           "#19d3f3",
           "#FF6692",
           "#B6E880",
           "#FF97FF",
           "#FECB52"
          ],
          "font": {
           "color": "#2a3f5f"
          },
          "geo": {
           "bgcolor": "white",
           "lakecolor": "white",
           "landcolor": "#E5ECF6",
           "showlakes": true,
           "showland": true,
           "subunitcolor": "white"
          },
          "hoverlabel": {
           "align": "left"
          },
          "hovermode": "closest",
          "mapbox": {
           "style": "light"
          },
          "paper_bgcolor": "white",
          "plot_bgcolor": "#E5ECF6",
          "polar": {
           "angularaxis": {
            "gridcolor": "white",
            "linecolor": "white",
            "ticks": ""
           },
           "bgcolor": "#E5ECF6",
           "radialaxis": {
            "gridcolor": "white",
            "linecolor": "white",
            "ticks": ""
           }
          },
          "scene": {
           "xaxis": {
            "backgroundcolor": "#E5ECF6",
            "gridcolor": "white",
            "gridwidth": 2,
            "linecolor": "white",
            "showbackground": true,
            "ticks": "",
            "zerolinecolor": "white"
           },
           "yaxis": {
            "backgroundcolor": "#E5ECF6",
            "gridcolor": "white",
            "gridwidth": 2,
            "linecolor": "white",
            "showbackground": true,
            "ticks": "",
            "zerolinecolor": "white"
           },
           "zaxis": {
            "backgroundcolor": "#E5ECF6",
            "gridcolor": "white",
            "gridwidth": 2,
            "linecolor": "white",
            "showbackground": true,
            "ticks": "",
            "zerolinecolor": "white"
           }
          },
          "shapedefaults": {
           "line": {
            "color": "#2a3f5f"
           }
          },
          "ternary": {
           "aaxis": {
            "gridcolor": "white",
            "linecolor": "white",
            "ticks": ""
           },
           "baxis": {
            "gridcolor": "white",
            "linecolor": "white",
            "ticks": ""
           },
           "bgcolor": "#E5ECF6",
           "caxis": {
            "gridcolor": "white",
            "linecolor": "white",
            "ticks": ""
           }
          },
          "title": {
           "x": 0.05
          },
          "xaxis": {
           "automargin": true,
           "gridcolor": "white",
           "linecolor": "white",
           "ticks": "",
           "title": {
            "standoff": 15
           },
           "zerolinecolor": "white",
           "zerolinewidth": 2
          },
          "yaxis": {
           "automargin": true,
           "gridcolor": "white",
           "linecolor": "white",
           "ticks": "",
           "title": {
            "standoff": 15
           },
           "zerolinecolor": "white",
           "zerolinewidth": 2
          }
         }
        },
        "title": {
         "text": "Top 120 by Selected and Followers"
        },
        "xaxis": {
         "anchor": "y",
         "domain": [
          0,
          1
         ],
         "title": {
          "text": "Selected"
         },
         "type": "log"
        },
        "yaxis": {
         "anchor": "x",
         "domain": [
          0,
          1
         ],
         "title": {
          "text": "Followers"
         },
         "type": "log"
        }
       }
      }
     },
     "metadata": {},
     "output_type": "display_data"
    }
   ],
   "source": [
    "fig3 = px.scatter(result_vis, x='Selected', y='Followers', color='N', log_x=True, log_y=True, hover_data=['Title','Selected','Followers'], title='Top 120 by Selected and Followers')\n",
    "fig3.show()"
   ]
  },
  {
   "cell_type": "code",
   "execution_count": 210,
   "metadata": {},
   "outputs": [
    {
     "data": {
      "application/vnd.plotly.v1+json": {
       "config": {
        "plotlyServerURL": "https://plot.ly"
       },
       "data": [
        {
         "alignmentgroup": "True",
         "bingroup": "x",
         "hovertemplate": "Dur_Shrink=%{x}<br>count=%{y}<extra></extra>",
         "legendgroup": "",
         "marker": {
          "color": "#636efa",
          "pattern": {
           "shape": ""
          }
         },
         "name": "",
         "nbinsx": 50,
         "offsetgroup": "",
         "orientation": "v",
         "showlegend": false,
         "type": "histogram",
         "x": [
          17,
          25,
          212,
          46,
          16,
          32,
          32,
          154,
          94,
          152,
          46,
          79,
          14,
          206,
          33,
          23,
          13,
          16,
          16,
          355,
          47,
          46,
          24,
          19,
          500,
          141,
          31,
          32,
          284,
          391,
          181,
          76,
          75,
          114,
          38,
          23,
          23,
          29,
          10,
          371,
          123,
          52,
          37,
          22,
          118,
          101,
          64,
          51,
          37,
          20,
          500,
          410,
          274,
          214,
          84,
          188,
          148,
          126,
          79,
          55,
          38,
          31,
          46,
          25,
          37,
          27,
          26,
          15,
          500,
          500,
          401,
          464,
          255,
          161,
          217,
          107,
          96,
          105,
          342,
          104,
          72,
          75,
          38,
          30,
          45,
          40,
          32,
          19,
          15,
          500,
          500,
          500,
          500,
          326,
          500,
          257,
          193,
          262,
          261,
          184,
          142,
          169,
          125,
          118,
          84,
          65,
          36,
          64,
          43,
          40,
          16,
          8,
          12,
          15,
          500,
          500,
          500,
          435,
          178,
          184
         ],
         "xaxis": "x",
         "yaxis": "y"
        }
       ],
       "layout": {
        "barmode": "relative",
        "legend": {
         "tracegroupgap": 0
        },
        "template": {
         "data": {
          "bar": [
           {
            "error_x": {
             "color": "#2a3f5f"
            },
            "error_y": {
             "color": "#2a3f5f"
            },
            "marker": {
             "line": {
              "color": "#E5ECF6",
              "width": 0.5
             },
             "pattern": {
              "fillmode": "overlay",
              "size": 10,
              "solidity": 0.2
             }
            },
            "type": "bar"
           }
          ],
          "barpolar": [
           {
            "marker": {
             "line": {
              "color": "#E5ECF6",
              "width": 0.5
             },
             "pattern": {
              "fillmode": "overlay",
              "size": 10,
              "solidity": 0.2
             }
            },
            "type": "barpolar"
           }
          ],
          "carpet": [
           {
            "aaxis": {
             "endlinecolor": "#2a3f5f",
             "gridcolor": "white",
             "linecolor": "white",
             "minorgridcolor": "white",
             "startlinecolor": "#2a3f5f"
            },
            "baxis": {
             "endlinecolor": "#2a3f5f",
             "gridcolor": "white",
             "linecolor": "white",
             "minorgridcolor": "white",
             "startlinecolor": "#2a3f5f"
            },
            "type": "carpet"
           }
          ],
          "choropleth": [
           {
            "colorbar": {
             "outlinewidth": 0,
             "ticks": ""
            },
            "type": "choropleth"
           }
          ],
          "contour": [
           {
            "colorbar": {
             "outlinewidth": 0,
             "ticks": ""
            },
            "colorscale": [
             [
              0,
              "#0d0887"
             ],
             [
              0.1111111111111111,
              "#46039f"
             ],
             [
              0.2222222222222222,
              "#7201a8"
             ],
             [
              0.3333333333333333,
              "#9c179e"
             ],
             [
              0.4444444444444444,
              "#bd3786"
             ],
             [
              0.5555555555555556,
              "#d8576b"
             ],
             [
              0.6666666666666666,
              "#ed7953"
             ],
             [
              0.7777777777777778,
              "#fb9f3a"
             ],
             [
              0.8888888888888888,
              "#fdca26"
             ],
             [
              1,
              "#f0f921"
             ]
            ],
            "type": "contour"
           }
          ],
          "contourcarpet": [
           {
            "colorbar": {
             "outlinewidth": 0,
             "ticks": ""
            },
            "type": "contourcarpet"
           }
          ],
          "heatmap": [
           {
            "colorbar": {
             "outlinewidth": 0,
             "ticks": ""
            },
            "colorscale": [
             [
              0,
              "#0d0887"
             ],
             [
              0.1111111111111111,
              "#46039f"
             ],
             [
              0.2222222222222222,
              "#7201a8"
             ],
             [
              0.3333333333333333,
              "#9c179e"
             ],
             [
              0.4444444444444444,
              "#bd3786"
             ],
             [
              0.5555555555555556,
              "#d8576b"
             ],
             [
              0.6666666666666666,
              "#ed7953"
             ],
             [
              0.7777777777777778,
              "#fb9f3a"
             ],
             [
              0.8888888888888888,
              "#fdca26"
             ],
             [
              1,
              "#f0f921"
             ]
            ],
            "type": "heatmap"
           }
          ],
          "heatmapgl": [
           {
            "colorbar": {
             "outlinewidth": 0,
             "ticks": ""
            },
            "colorscale": [
             [
              0,
              "#0d0887"
             ],
             [
              0.1111111111111111,
              "#46039f"
             ],
             [
              0.2222222222222222,
              "#7201a8"
             ],
             [
              0.3333333333333333,
              "#9c179e"
             ],
             [
              0.4444444444444444,
              "#bd3786"
             ],
             [
              0.5555555555555556,
              "#d8576b"
             ],
             [
              0.6666666666666666,
              "#ed7953"
             ],
             [
              0.7777777777777778,
              "#fb9f3a"
             ],
             [
              0.8888888888888888,
              "#fdca26"
             ],
             [
              1,
              "#f0f921"
             ]
            ],
            "type": "heatmapgl"
           }
          ],
          "histogram": [
           {
            "marker": {
             "pattern": {
              "fillmode": "overlay",
              "size": 10,
              "solidity": 0.2
             }
            },
            "type": "histogram"
           }
          ],
          "histogram2d": [
           {
            "colorbar": {
             "outlinewidth": 0,
             "ticks": ""
            },
            "colorscale": [
             [
              0,
              "#0d0887"
             ],
             [
              0.1111111111111111,
              "#46039f"
             ],
             [
              0.2222222222222222,
              "#7201a8"
             ],
             [
              0.3333333333333333,
              "#9c179e"
             ],
             [
              0.4444444444444444,
              "#bd3786"
             ],
             [
              0.5555555555555556,
              "#d8576b"
             ],
             [
              0.6666666666666666,
              "#ed7953"
             ],
             [
              0.7777777777777778,
              "#fb9f3a"
             ],
             [
              0.8888888888888888,
              "#fdca26"
             ],
             [
              1,
              "#f0f921"
             ]
            ],
            "type": "histogram2d"
           }
          ],
          "histogram2dcontour": [
           {
            "colorbar": {
             "outlinewidth": 0,
             "ticks": ""
            },
            "colorscale": [
             [
              0,
              "#0d0887"
             ],
             [
              0.1111111111111111,
              "#46039f"
             ],
             [
              0.2222222222222222,
              "#7201a8"
             ],
             [
              0.3333333333333333,
              "#9c179e"
             ],
             [
              0.4444444444444444,
              "#bd3786"
             ],
             [
              0.5555555555555556,
              "#d8576b"
             ],
             [
              0.6666666666666666,
              "#ed7953"
             ],
             [
              0.7777777777777778,
              "#fb9f3a"
             ],
             [
              0.8888888888888888,
              "#fdca26"
             ],
             [
              1,
              "#f0f921"
             ]
            ],
            "type": "histogram2dcontour"
           }
          ],
          "mesh3d": [
           {
            "colorbar": {
             "outlinewidth": 0,
             "ticks": ""
            },
            "type": "mesh3d"
           }
          ],
          "parcoords": [
           {
            "line": {
             "colorbar": {
              "outlinewidth": 0,
              "ticks": ""
             }
            },
            "type": "parcoords"
           }
          ],
          "pie": [
           {
            "automargin": true,
            "type": "pie"
           }
          ],
          "scatter": [
           {
            "fillpattern": {
             "fillmode": "overlay",
             "size": 10,
             "solidity": 0.2
            },
            "type": "scatter"
           }
          ],
          "scatter3d": [
           {
            "line": {
             "colorbar": {
              "outlinewidth": 0,
              "ticks": ""
             }
            },
            "marker": {
             "colorbar": {
              "outlinewidth": 0,
              "ticks": ""
             }
            },
            "type": "scatter3d"
           }
          ],
          "scattercarpet": [
           {
            "marker": {
             "colorbar": {
              "outlinewidth": 0,
              "ticks": ""
             }
            },
            "type": "scattercarpet"
           }
          ],
          "scattergeo": [
           {
            "marker": {
             "colorbar": {
              "outlinewidth": 0,
              "ticks": ""
             }
            },
            "type": "scattergeo"
           }
          ],
          "scattergl": [
           {
            "marker": {
             "colorbar": {
              "outlinewidth": 0,
              "ticks": ""
             }
            },
            "type": "scattergl"
           }
          ],
          "scattermapbox": [
           {
            "marker": {
             "colorbar": {
              "outlinewidth": 0,
              "ticks": ""
             }
            },
            "type": "scattermapbox"
           }
          ],
          "scatterpolar": [
           {
            "marker": {
             "colorbar": {
              "outlinewidth": 0,
              "ticks": ""
             }
            },
            "type": "scatterpolar"
           }
          ],
          "scatterpolargl": [
           {
            "marker": {
             "colorbar": {
              "outlinewidth": 0,
              "ticks": ""
             }
            },
            "type": "scatterpolargl"
           }
          ],
          "scatterternary": [
           {
            "marker": {
             "colorbar": {
              "outlinewidth": 0,
              "ticks": ""
             }
            },
            "type": "scatterternary"
           }
          ],
          "surface": [
           {
            "colorbar": {
             "outlinewidth": 0,
             "ticks": ""
            },
            "colorscale": [
             [
              0,
              "#0d0887"
             ],
             [
              0.1111111111111111,
              "#46039f"
             ],
             [
              0.2222222222222222,
              "#7201a8"
             ],
             [
              0.3333333333333333,
              "#9c179e"
             ],
             [
              0.4444444444444444,
              "#bd3786"
             ],
             [
              0.5555555555555556,
              "#d8576b"
             ],
             [
              0.6666666666666666,
              "#ed7953"
             ],
             [
              0.7777777777777778,
              "#fb9f3a"
             ],
             [
              0.8888888888888888,
              "#fdca26"
             ],
             [
              1,
              "#f0f921"
             ]
            ],
            "type": "surface"
           }
          ],
          "table": [
           {
            "cells": {
             "fill": {
              "color": "#EBF0F8"
             },
             "line": {
              "color": "white"
             }
            },
            "header": {
             "fill": {
              "color": "#C8D4E3"
             },
             "line": {
              "color": "white"
             }
            },
            "type": "table"
           }
          ]
         },
         "layout": {
          "annotationdefaults": {
           "arrowcolor": "#2a3f5f",
           "arrowhead": 0,
           "arrowwidth": 1
          },
          "autotypenumbers": "strict",
          "coloraxis": {
           "colorbar": {
            "outlinewidth": 0,
            "ticks": ""
           }
          },
          "colorscale": {
           "diverging": [
            [
             0,
             "#8e0152"
            ],
            [
             0.1,
             "#c51b7d"
            ],
            [
             0.2,
             "#de77ae"
            ],
            [
             0.3,
             "#f1b6da"
            ],
            [
             0.4,
             "#fde0ef"
            ],
            [
             0.5,
             "#f7f7f7"
            ],
            [
             0.6,
             "#e6f5d0"
            ],
            [
             0.7,
             "#b8e186"
            ],
            [
             0.8,
             "#7fbc41"
            ],
            [
             0.9,
             "#4d9221"
            ],
            [
             1,
             "#276419"
            ]
           ],
           "sequential": [
            [
             0,
             "#0d0887"
            ],
            [
             0.1111111111111111,
             "#46039f"
            ],
            [
             0.2222222222222222,
             "#7201a8"
            ],
            [
             0.3333333333333333,
             "#9c179e"
            ],
            [
             0.4444444444444444,
             "#bd3786"
            ],
            [
             0.5555555555555556,
             "#d8576b"
            ],
            [
             0.6666666666666666,
             "#ed7953"
            ],
            [
             0.7777777777777778,
             "#fb9f3a"
            ],
            [
             0.8888888888888888,
             "#fdca26"
            ],
            [
             1,
             "#f0f921"
            ]
           ],
           "sequentialminus": [
            [
             0,
             "#0d0887"
            ],
            [
             0.1111111111111111,
             "#46039f"
            ],
            [
             0.2222222222222222,
             "#7201a8"
            ],
            [
             0.3333333333333333,
             "#9c179e"
            ],
            [
             0.4444444444444444,
             "#bd3786"
            ],
            [
             0.5555555555555556,
             "#d8576b"
            ],
            [
             0.6666666666666666,
             "#ed7953"
            ],
            [
             0.7777777777777778,
             "#fb9f3a"
            ],
            [
             0.8888888888888888,
             "#fdca26"
            ],
            [
             1,
             "#f0f921"
            ]
           ]
          },
          "colorway": [
           "#636efa",
           "#EF553B",
           "#00cc96",
           "#ab63fa",
           "#FFA15A",
           "#19d3f3",
           "#FF6692",
           "#B6E880",
           "#FF97FF",
           "#FECB52"
          ],
          "font": {
           "color": "#2a3f5f"
          },
          "geo": {
           "bgcolor": "white",
           "lakecolor": "white",
           "landcolor": "#E5ECF6",
           "showlakes": true,
           "showland": true,
           "subunitcolor": "white"
          },
          "hoverlabel": {
           "align": "left"
          },
          "hovermode": "closest",
          "mapbox": {
           "style": "light"
          },
          "paper_bgcolor": "white",
          "plot_bgcolor": "#E5ECF6",
          "polar": {
           "angularaxis": {
            "gridcolor": "white",
            "linecolor": "white",
            "ticks": ""
           },
           "bgcolor": "#E5ECF6",
           "radialaxis": {
            "gridcolor": "white",
            "linecolor": "white",
            "ticks": ""
           }
          },
          "scene": {
           "xaxis": {
            "backgroundcolor": "#E5ECF6",
            "gridcolor": "white",
            "gridwidth": 2,
            "linecolor": "white",
            "showbackground": true,
            "ticks": "",
            "zerolinecolor": "white"
           },
           "yaxis": {
            "backgroundcolor": "#E5ECF6",
            "gridcolor": "white",
            "gridwidth": 2,
            "linecolor": "white",
            "showbackground": true,
            "ticks": "",
            "zerolinecolor": "white"
           },
           "zaxis": {
            "backgroundcolor": "#E5ECF6",
            "gridcolor": "white",
            "gridwidth": 2,
            "linecolor": "white",
            "showbackground": true,
            "ticks": "",
            "zerolinecolor": "white"
           }
          },
          "shapedefaults": {
           "line": {
            "color": "#2a3f5f"
           }
          },
          "ternary": {
           "aaxis": {
            "gridcolor": "white",
            "linecolor": "white",
            "ticks": ""
           },
           "baxis": {
            "gridcolor": "white",
            "linecolor": "white",
            "ticks": ""
           },
           "bgcolor": "#E5ECF6",
           "caxis": {
            "gridcolor": "white",
            "linecolor": "white",
            "ticks": ""
           }
          },
          "title": {
           "x": 0.05
          },
          "xaxis": {
           "automargin": true,
           "gridcolor": "white",
           "linecolor": "white",
           "ticks": "",
           "title": {
            "standoff": 15
           },
           "zerolinecolor": "white",
           "zerolinewidth": 2
          },
          "yaxis": {
           "automargin": true,
           "gridcolor": "white",
           "linecolor": "white",
           "ticks": "",
           "title": {
            "standoff": 15
           },
           "zerolinecolor": "white",
           "zerolinewidth": 2
          }
         }
        },
        "title": {
         "text": "Top 120 Count by Duration"
        },
        "xaxis": {
         "anchor": "y",
         "domain": [
          0,
          1
         ],
         "title": {
          "text": "Dur_Shrink"
         }
        },
        "yaxis": {
         "anchor": "x",
         "domain": [
          0,
          1
         ],
         "title": {
          "text": "count"
         }
        }
       }
      }
     },
     "metadata": {},
     "output_type": "display_data"
    }
   ],
   "source": [
    "result_vis['Dur_Shrink'] = result_vis['Duration'].apply(lambda x: x if x<500 else 500)\n",
    "#display(result_vis)\n",
    "\n",
    "fig4 = px.histogram(result_vis, x='Dur_Shrink', nbins=50, title='Top 120 Count by Duration')\n",
    "fig4.show()"
   ]
  },
  {
   "cell_type": "code",
   "execution_count": 211,
   "metadata": {},
   "outputs": [
    {
     "data": {
      "application/vnd.plotly.v1+json": {
       "config": {
        "plotlyServerURL": "https://plot.ly"
       },
       "data": [
        {
         "alignmentgroup": "True",
         "hovertemplate": "Category=%{x}<br>Total_Ranking=%{y}<extra></extra>",
         "legendgroup": "",
         "marker": {
          "color": "#636efa",
          "pattern": {
           "shape": ""
          }
         },
         "name": "",
         "offsetgroup": "",
         "orientation": "v",
         "showlegend": false,
         "textposition": "auto",
         "type": "bar",
         "x": [
          "Decoration",
          "Furniture",
          "Bathroom",
          "Kitchen",
          "Other Models",
          "Materials",
          "Plants",
          "Childroom",
          "Textures",
          "Lighting",
          "Technology",
          "Architecture",
          "Scripts"
         ],
         "xaxis": "x",
         "y": [
          1804,
          1576,
          888,
          565,
          467,
          454,
          408,
          376,
          307,
          199,
          110,
          54,
          52
         ],
         "yaxis": "y"
        }
       ],
       "layout": {
        "barmode": "relative",
        "legend": {
         "tracegroupgap": 0
        },
        "template": {
         "data": {
          "bar": [
           {
            "error_x": {
             "color": "#2a3f5f"
            },
            "error_y": {
             "color": "#2a3f5f"
            },
            "marker": {
             "line": {
              "color": "#E5ECF6",
              "width": 0.5
             },
             "pattern": {
              "fillmode": "overlay",
              "size": 10,
              "solidity": 0.2
             }
            },
            "type": "bar"
           }
          ],
          "barpolar": [
           {
            "marker": {
             "line": {
              "color": "#E5ECF6",
              "width": 0.5
             },
             "pattern": {
              "fillmode": "overlay",
              "size": 10,
              "solidity": 0.2
             }
            },
            "type": "barpolar"
           }
          ],
          "carpet": [
           {
            "aaxis": {
             "endlinecolor": "#2a3f5f",
             "gridcolor": "white",
             "linecolor": "white",
             "minorgridcolor": "white",
             "startlinecolor": "#2a3f5f"
            },
            "baxis": {
             "endlinecolor": "#2a3f5f",
             "gridcolor": "white",
             "linecolor": "white",
             "minorgridcolor": "white",
             "startlinecolor": "#2a3f5f"
            },
            "type": "carpet"
           }
          ],
          "choropleth": [
           {
            "colorbar": {
             "outlinewidth": 0,
             "ticks": ""
            },
            "type": "choropleth"
           }
          ],
          "contour": [
           {
            "colorbar": {
             "outlinewidth": 0,
             "ticks": ""
            },
            "colorscale": [
             [
              0,
              "#0d0887"
             ],
             [
              0.1111111111111111,
              "#46039f"
             ],
             [
              0.2222222222222222,
              "#7201a8"
             ],
             [
              0.3333333333333333,
              "#9c179e"
             ],
             [
              0.4444444444444444,
              "#bd3786"
             ],
             [
              0.5555555555555556,
              "#d8576b"
             ],
             [
              0.6666666666666666,
              "#ed7953"
             ],
             [
              0.7777777777777778,
              "#fb9f3a"
             ],
             [
              0.8888888888888888,
              "#fdca26"
             ],
             [
              1,
              "#f0f921"
             ]
            ],
            "type": "contour"
           }
          ],
          "contourcarpet": [
           {
            "colorbar": {
             "outlinewidth": 0,
             "ticks": ""
            },
            "type": "contourcarpet"
           }
          ],
          "heatmap": [
           {
            "colorbar": {
             "outlinewidth": 0,
             "ticks": ""
            },
            "colorscale": [
             [
              0,
              "#0d0887"
             ],
             [
              0.1111111111111111,
              "#46039f"
             ],
             [
              0.2222222222222222,
              "#7201a8"
             ],
             [
              0.3333333333333333,
              "#9c179e"
             ],
             [
              0.4444444444444444,
              "#bd3786"
             ],
             [
              0.5555555555555556,
              "#d8576b"
             ],
             [
              0.6666666666666666,
              "#ed7953"
             ],
             [
              0.7777777777777778,
              "#fb9f3a"
             ],
             [
              0.8888888888888888,
              "#fdca26"
             ],
             [
              1,
              "#f0f921"
             ]
            ],
            "type": "heatmap"
           }
          ],
          "heatmapgl": [
           {
            "colorbar": {
             "outlinewidth": 0,
             "ticks": ""
            },
            "colorscale": [
             [
              0,
              "#0d0887"
             ],
             [
              0.1111111111111111,
              "#46039f"
             ],
             [
              0.2222222222222222,
              "#7201a8"
             ],
             [
              0.3333333333333333,
              "#9c179e"
             ],
             [
              0.4444444444444444,
              "#bd3786"
             ],
             [
              0.5555555555555556,
              "#d8576b"
             ],
             [
              0.6666666666666666,
              "#ed7953"
             ],
             [
              0.7777777777777778,
              "#fb9f3a"
             ],
             [
              0.8888888888888888,
              "#fdca26"
             ],
             [
              1,
              "#f0f921"
             ]
            ],
            "type": "heatmapgl"
           }
          ],
          "histogram": [
           {
            "marker": {
             "pattern": {
              "fillmode": "overlay",
              "size": 10,
              "solidity": 0.2
             }
            },
            "type": "histogram"
           }
          ],
          "histogram2d": [
           {
            "colorbar": {
             "outlinewidth": 0,
             "ticks": ""
            },
            "colorscale": [
             [
              0,
              "#0d0887"
             ],
             [
              0.1111111111111111,
              "#46039f"
             ],
             [
              0.2222222222222222,
              "#7201a8"
             ],
             [
              0.3333333333333333,
              "#9c179e"
             ],
             [
              0.4444444444444444,
              "#bd3786"
             ],
             [
              0.5555555555555556,
              "#d8576b"
             ],
             [
              0.6666666666666666,
              "#ed7953"
             ],
             [
              0.7777777777777778,
              "#fb9f3a"
             ],
             [
              0.8888888888888888,
              "#fdca26"
             ],
             [
              1,
              "#f0f921"
             ]
            ],
            "type": "histogram2d"
           }
          ],
          "histogram2dcontour": [
           {
            "colorbar": {
             "outlinewidth": 0,
             "ticks": ""
            },
            "colorscale": [
             [
              0,
              "#0d0887"
             ],
             [
              0.1111111111111111,
              "#46039f"
             ],
             [
              0.2222222222222222,
              "#7201a8"
             ],
             [
              0.3333333333333333,
              "#9c179e"
             ],
             [
              0.4444444444444444,
              "#bd3786"
             ],
             [
              0.5555555555555556,
              "#d8576b"
             ],
             [
              0.6666666666666666,
              "#ed7953"
             ],
             [
              0.7777777777777778,
              "#fb9f3a"
             ],
             [
              0.8888888888888888,
              "#fdca26"
             ],
             [
              1,
              "#f0f921"
             ]
            ],
            "type": "histogram2dcontour"
           }
          ],
          "mesh3d": [
           {
            "colorbar": {
             "outlinewidth": 0,
             "ticks": ""
            },
            "type": "mesh3d"
           }
          ],
          "parcoords": [
           {
            "line": {
             "colorbar": {
              "outlinewidth": 0,
              "ticks": ""
             }
            },
            "type": "parcoords"
           }
          ],
          "pie": [
           {
            "automargin": true,
            "type": "pie"
           }
          ],
          "scatter": [
           {
            "fillpattern": {
             "fillmode": "overlay",
             "size": 10,
             "solidity": 0.2
            },
            "type": "scatter"
           }
          ],
          "scatter3d": [
           {
            "line": {
             "colorbar": {
              "outlinewidth": 0,
              "ticks": ""
             }
            },
            "marker": {
             "colorbar": {
              "outlinewidth": 0,
              "ticks": ""
             }
            },
            "type": "scatter3d"
           }
          ],
          "scattercarpet": [
           {
            "marker": {
             "colorbar": {
              "outlinewidth": 0,
              "ticks": ""
             }
            },
            "type": "scattercarpet"
           }
          ],
          "scattergeo": [
           {
            "marker": {
             "colorbar": {
              "outlinewidth": 0,
              "ticks": ""
             }
            },
            "type": "scattergeo"
           }
          ],
          "scattergl": [
           {
            "marker": {
             "colorbar": {
              "outlinewidth": 0,
              "ticks": ""
             }
            },
            "type": "scattergl"
           }
          ],
          "scattermapbox": [
           {
            "marker": {
             "colorbar": {
              "outlinewidth": 0,
              "ticks": ""
             }
            },
            "type": "scattermapbox"
           }
          ],
          "scatterpolar": [
           {
            "marker": {
             "colorbar": {
              "outlinewidth": 0,
              "ticks": ""
             }
            },
            "type": "scatterpolar"
           }
          ],
          "scatterpolargl": [
           {
            "marker": {
             "colorbar": {
              "outlinewidth": 0,
              "ticks": ""
             }
            },
            "type": "scatterpolargl"
           }
          ],
          "scatterternary": [
           {
            "marker": {
             "colorbar": {
              "outlinewidth": 0,
              "ticks": ""
             }
            },
            "type": "scatterternary"
           }
          ],
          "surface": [
           {
            "colorbar": {
             "outlinewidth": 0,
             "ticks": ""
            },
            "colorscale": [
             [
              0,
              "#0d0887"
             ],
             [
              0.1111111111111111,
              "#46039f"
             ],
             [
              0.2222222222222222,
              "#7201a8"
             ],
             [
              0.3333333333333333,
              "#9c179e"
             ],
             [
              0.4444444444444444,
              "#bd3786"
             ],
             [
              0.5555555555555556,
              "#d8576b"
             ],
             [
              0.6666666666666666,
              "#ed7953"
             ],
             [
              0.7777777777777778,
              "#fb9f3a"
             ],
             [
              0.8888888888888888,
              "#fdca26"
             ],
             [
              1,
              "#f0f921"
             ]
            ],
            "type": "surface"
           }
          ],
          "table": [
           {
            "cells": {
             "fill": {
              "color": "#EBF0F8"
             },
             "line": {
              "color": "white"
             }
            },
            "header": {
             "fill": {
              "color": "#C8D4E3"
             },
             "line": {
              "color": "white"
             }
            },
            "type": "table"
           }
          ]
         },
         "layout": {
          "annotationdefaults": {
           "arrowcolor": "#2a3f5f",
           "arrowhead": 0,
           "arrowwidth": 1
          },
          "autotypenumbers": "strict",
          "coloraxis": {
           "colorbar": {
            "outlinewidth": 0,
            "ticks": ""
           }
          },
          "colorscale": {
           "diverging": [
            [
             0,
             "#8e0152"
            ],
            [
             0.1,
             "#c51b7d"
            ],
            [
             0.2,
             "#de77ae"
            ],
            [
             0.3,
             "#f1b6da"
            ],
            [
             0.4,
             "#fde0ef"
            ],
            [
             0.5,
             "#f7f7f7"
            ],
            [
             0.6,
             "#e6f5d0"
            ],
            [
             0.7,
             "#b8e186"
            ],
            [
             0.8,
             "#7fbc41"
            ],
            [
             0.9,
             "#4d9221"
            ],
            [
             1,
             "#276419"
            ]
           ],
           "sequential": [
            [
             0,
             "#0d0887"
            ],
            [
             0.1111111111111111,
             "#46039f"
            ],
            [
             0.2222222222222222,
             "#7201a8"
            ],
            [
             0.3333333333333333,
             "#9c179e"
            ],
            [
             0.4444444444444444,
             "#bd3786"
            ],
            [
             0.5555555555555556,
             "#d8576b"
            ],
            [
             0.6666666666666666,
             "#ed7953"
            ],
            [
             0.7777777777777778,
             "#fb9f3a"
            ],
            [
             0.8888888888888888,
             "#fdca26"
            ],
            [
             1,
             "#f0f921"
            ]
           ],
           "sequentialminus": [
            [
             0,
             "#0d0887"
            ],
            [
             0.1111111111111111,
             "#46039f"
            ],
            [
             0.2222222222222222,
             "#7201a8"
            ],
            [
             0.3333333333333333,
             "#9c179e"
            ],
            [
             0.4444444444444444,
             "#bd3786"
            ],
            [
             0.5555555555555556,
             "#d8576b"
            ],
            [
             0.6666666666666666,
             "#ed7953"
            ],
            [
             0.7777777777777778,
             "#fb9f3a"
            ],
            [
             0.8888888888888888,
             "#fdca26"
            ],
            [
             1,
             "#f0f921"
            ]
           ]
          },
          "colorway": [
           "#636efa",
           "#EF553B",
           "#00cc96",
           "#ab63fa",
           "#FFA15A",
           "#19d3f3",
           "#FF6692",
           "#B6E880",
           "#FF97FF",
           "#FECB52"
          ],
          "font": {
           "color": "#2a3f5f"
          },
          "geo": {
           "bgcolor": "white",
           "lakecolor": "white",
           "landcolor": "#E5ECF6",
           "showlakes": true,
           "showland": true,
           "subunitcolor": "white"
          },
          "hoverlabel": {
           "align": "left"
          },
          "hovermode": "closest",
          "mapbox": {
           "style": "light"
          },
          "paper_bgcolor": "white",
          "plot_bgcolor": "#E5ECF6",
          "polar": {
           "angularaxis": {
            "gridcolor": "white",
            "linecolor": "white",
            "ticks": ""
           },
           "bgcolor": "#E5ECF6",
           "radialaxis": {
            "gridcolor": "white",
            "linecolor": "white",
            "ticks": ""
           }
          },
          "scene": {
           "xaxis": {
            "backgroundcolor": "#E5ECF6",
            "gridcolor": "white",
            "gridwidth": 2,
            "linecolor": "white",
            "showbackground": true,
            "ticks": "",
            "zerolinecolor": "white"
           },
           "yaxis": {
            "backgroundcolor": "#E5ECF6",
            "gridcolor": "white",
            "gridwidth": 2,
            "linecolor": "white",
            "showbackground": true,
            "ticks": "",
            "zerolinecolor": "white"
           },
           "zaxis": {
            "backgroundcolor": "#E5ECF6",
            "gridcolor": "white",
            "gridwidth": 2,
            "linecolor": "white",
            "showbackground": true,
            "ticks": "",
            "zerolinecolor": "white"
           }
          },
          "shapedefaults": {
           "line": {
            "color": "#2a3f5f"
           }
          },
          "ternary": {
           "aaxis": {
            "gridcolor": "white",
            "linecolor": "white",
            "ticks": ""
           },
           "baxis": {
            "gridcolor": "white",
            "linecolor": "white",
            "ticks": ""
           },
           "bgcolor": "#E5ECF6",
           "caxis": {
            "gridcolor": "white",
            "linecolor": "white",
            "ticks": ""
           }
          },
          "title": {
           "x": 0.05
          },
          "xaxis": {
           "automargin": true,
           "gridcolor": "white",
           "linecolor": "white",
           "ticks": "",
           "title": {
            "standoff": 15
           },
           "zerolinecolor": "white",
           "zerolinewidth": 2
          },
          "yaxis": {
           "automargin": true,
           "gridcolor": "white",
           "linecolor": "white",
           "ticks": "",
           "title": {
            "standoff": 15
           },
           "zerolinecolor": "white",
           "zerolinewidth": 2
          }
         }
        },
        "title": {
         "text": "Top 120 total Rank by Category"
        },
        "xaxis": {
         "anchor": "y",
         "domain": [
          0,
          1
         ],
         "title": {
          "text": "Category"
         }
        },
        "yaxis": {
         "anchor": "x",
         "domain": [
          0,
          1
         ],
         "title": {
          "text": "Total_Ranking"
         }
        }
       }
      }
     },
     "metadata": {},
     "output_type": "display_data"
    }
   ],
   "source": [
    "result_vis['Ranking'] = 121 - result_vis['N']\n",
    "\n",
    "result_grouped_cat_ranking = result_vis.groupby(by=['Category'], as_index=False)['Ranking'].sum()\n",
    "result_grouped_cat_ranking.columns = ['Category', 'Total_Ranking']\n",
    "result_grouped_sort_ranking = result_grouped_cat_ranking.sort_values(by='Total_Ranking', ascending=False) # type: ignore\n",
    "\n",
    "fig5 = px.bar(result_grouped_sort_ranking, x='Category', y='Total_Ranking', title='Top 120 total Rank by Category')\n",
    "fig5.show()"
   ]
  },
  {
   "cell_type": "code",
   "execution_count": 212,
   "metadata": {},
   "outputs": [
    {
     "data": {
      "application/vnd.plotly.v1+json": {
       "config": {
        "plotlyServerURL": "https://plot.ly"
       },
       "data": [
        {
         "alignmentgroup": "True",
         "hovertemplate": "Category=%{x}<br>Ranking=%{y}<extra></extra>",
         "legendgroup": "Decoration",
         "marker": {
          "color": "#636efa"
         },
         "name": "Decoration",
         "notched": false,
         "offsetgroup": "Decoration",
         "orientation": "v",
         "showlegend": true,
         "type": "box",
         "x": [
          "Decoration",
          "Decoration",
          "Decoration",
          "Decoration",
          "Decoration",
          "Decoration",
          "Decoration",
          "Decoration",
          "Decoration",
          "Decoration",
          "Decoration",
          "Decoration",
          "Decoration",
          "Decoration",
          "Decoration",
          "Decoration",
          "Decoration",
          "Decoration",
          "Decoration",
          "Decoration",
          "Decoration",
          "Decoration",
          "Decoration",
          "Decoration",
          "Decoration"
         ],
         "x0": " ",
         "xaxis": "x",
         "y": [
          120,
          119,
          116,
          114,
          113,
          112,
          110,
          106,
          104,
          103,
          96,
          81,
          78,
          67,
          59,
          57,
          51,
          42,
          41,
          39,
          25,
          24,
          10,
          9,
          8
         ],
         "y0": " ",
         "yaxis": "y"
        },
        {
         "alignmentgroup": "True",
         "hovertemplate": "Category=%{x}<br>Ranking=%{y}<extra></extra>",
         "legendgroup": "Plants",
         "marker": {
          "color": "#EF553B"
         },
         "name": "Plants",
         "notched": false,
         "offsetgroup": "Plants",
         "orientation": "v",
         "showlegend": true,
         "type": "box",
         "x": [
          "Plants",
          "Plants",
          "Plants",
          "Plants",
          "Plants",
          "Plants"
         ],
         "x0": " ",
         "xaxis": "x",
         "y": [
          118,
          72,
          71,
          66,
          48,
          33
         ],
         "y0": " ",
         "yaxis": "y"
        },
        {
         "alignmentgroup": "True",
         "hovertemplate": "Category=%{x}<br>Ranking=%{y}<extra></extra>",
         "legendgroup": "Furniture",
         "marker": {
          "color": "#00cc96"
         },
         "name": "Furniture",
         "notched": false,
         "offsetgroup": "Furniture",
         "orientation": "v",
         "showlegend": true,
         "type": "box",
         "x": [
          "Furniture",
          "Furniture",
          "Furniture",
          "Furniture",
          "Furniture",
          "Furniture",
          "Furniture",
          "Furniture",
          "Furniture",
          "Furniture",
          "Furniture",
          "Furniture",
          "Furniture",
          "Furniture",
          "Furniture",
          "Furniture",
          "Furniture",
          "Furniture",
          "Furniture",
          "Furniture",
          "Furniture",
          "Furniture",
          "Furniture",
          "Furniture",
          "Furniture"
         ],
         "x0": " ",
         "xaxis": "x",
         "y": [
          117,
          108,
          107,
          105,
          102,
          101,
          99,
          86,
          84,
          82,
          77,
          75,
          73,
          58,
          55,
          54,
          47,
          35,
          34,
          20,
          18,
          16,
          14,
          7,
          2
         ],
         "y0": " ",
         "yaxis": "y"
        },
        {
         "alignmentgroup": "True",
         "hovertemplate": "Category=%{x}<br>Ranking=%{y}<extra></extra>",
         "legendgroup": "Materials",
         "marker": {
          "color": "#ab63fa"
         },
         "name": "Materials",
         "notched": false,
         "offsetgroup": "Materials",
         "orientation": "v",
         "showlegend": true,
         "type": "box",
         "x": [
          "Materials",
          "Materials",
          "Materials",
          "Materials",
          "Materials"
         ],
         "x0": " ",
         "xaxis": "x",
         "y": [
          115,
          109,
          97,
          88,
          45
         ],
         "y0": " ",
         "yaxis": "y"
        },
        {
         "alignmentgroup": "True",
         "hovertemplate": "Category=%{x}<br>Ranking=%{y}<extra></extra>",
         "legendgroup": "Kitchen",
         "marker": {
          "color": "#FFA15A"
         },
         "name": "Kitchen",
         "notched": false,
         "offsetgroup": "Kitchen",
         "orientation": "v",
         "showlegend": true,
         "type": "box",
         "x": [
          "Kitchen",
          "Kitchen",
          "Kitchen",
          "Kitchen",
          "Kitchen",
          "Kitchen",
          "Kitchen",
          "Kitchen"
         ],
         "x0": " ",
         "xaxis": "x",
         "y": [
          111,
          85,
          79,
          76,
          69,
          56,
          49,
          40
         ],
         "y0": " ",
         "yaxis": "y"
        },
        {
         "alignmentgroup": "True",
         "hovertemplate": "Category=%{x}<br>Ranking=%{y}<extra></extra>",
         "legendgroup": "Bathroom",
         "marker": {
          "color": "#19d3f3"
         },
         "name": "Bathroom",
         "notched": false,
         "offsetgroup": "Bathroom",
         "orientation": "v",
         "showlegend": true,
         "type": "box",
         "x": [
          "Bathroom",
          "Bathroom",
          "Bathroom",
          "Bathroom",
          "Bathroom",
          "Bathroom",
          "Bathroom",
          "Bathroom",
          "Bathroom",
          "Bathroom",
          "Bathroom",
          "Bathroom",
          "Bathroom",
          "Bathroom",
          "Bathroom",
          "Bathroom",
          "Bathroom"
         ],
         "x0": " ",
         "xaxis": "x",
         "y": [
          100,
          95,
          89,
          87,
          80,
          70,
          62,
          61,
          53,
          46,
          38,
          31,
          26,
          21,
          17,
          11,
          1
         ],
         "y0": " ",
         "yaxis": "y"
        },
        {
         "alignmentgroup": "True",
         "hovertemplate": "Category=%{x}<br>Ranking=%{y}<extra></extra>",
         "legendgroup": "Childroom",
         "marker": {
          "color": "#FF6692"
         },
         "name": "Childroom",
         "notched": false,
         "offsetgroup": "Childroom",
         "orientation": "v",
         "showlegend": true,
         "type": "box",
         "x": [
          "Childroom",
          "Childroom",
          "Childroom",
          "Childroom",
          "Childroom",
          "Childroom",
          "Childroom"
         ],
         "x0": " ",
         "xaxis": "x",
         "y": [
          98,
          92,
          63,
          43,
          36,
          32,
          12
         ],
         "y0": " ",
         "yaxis": "y"
        },
        {
         "alignmentgroup": "True",
         "hovertemplate": "Category=%{x}<br>Ranking=%{y}<extra></extra>",
         "legendgroup": "Lighting",
         "marker": {
          "color": "#B6E880"
         },
         "name": "Lighting",
         "notched": false,
         "offsetgroup": "Lighting",
         "orientation": "v",
         "showlegend": true,
         "type": "box",
         "x": [
          "Lighting",
          "Lighting",
          "Lighting"
         ],
         "x0": " ",
         "xaxis": "x",
         "y": [
          94,
          83,
          22
         ],
         "y0": " ",
         "yaxis": "y"
        },
        {
         "alignmentgroup": "True",
         "hovertemplate": "Category=%{x}<br>Ranking=%{y}<extra></extra>",
         "legendgroup": "Other Models",
         "marker": {
          "color": "#FF97FF"
         },
         "name": "Other Models",
         "notched": false,
         "offsetgroup": "Other Models",
         "orientation": "v",
         "showlegend": true,
         "type": "box",
         "x": [
          "Other Models",
          "Other Models",
          "Other Models",
          "Other Models",
          "Other Models",
          "Other Models",
          "Other Models",
          "Other Models",
          "Other Models",
          "Other Models",
          "Other Models",
          "Other Models"
         ],
         "x0": " ",
         "xaxis": "x",
         "y": [
          93,
          91,
          64,
          44,
          37,
          30,
          29,
          28,
          23,
          19,
          6,
          3
         ],
         "y0": " ",
         "yaxis": "y"
        },
        {
         "alignmentgroup": "True",
         "hovertemplate": "Category=%{x}<br>Ranking=%{y}<extra></extra>",
         "legendgroup": "Technology",
         "marker": {
          "color": "#FECB52"
         },
         "name": "Technology",
         "notched": false,
         "offsetgroup": "Technology",
         "orientation": "v",
         "showlegend": true,
         "type": "box",
         "x": [
          "Technology",
          "Technology",
          "Technology"
         ],
         "x0": " ",
         "xaxis": "x",
         "y": [
          90,
          15,
          5
         ],
         "y0": " ",
         "yaxis": "y"
        },
        {
         "alignmentgroup": "True",
         "hovertemplate": "Category=%{x}<br>Ranking=%{y}<extra></extra>",
         "legendgroup": "Textures",
         "marker": {
          "color": "#636efa"
         },
         "name": "Textures",
         "notched": false,
         "offsetgroup": "Textures",
         "orientation": "v",
         "showlegend": true,
         "type": "box",
         "x": [
          "Textures",
          "Textures",
          "Textures",
          "Textures",
          "Textures",
          "Textures"
         ],
         "x0": " ",
         "xaxis": "x",
         "y": [
          74,
          68,
          65,
          60,
          27,
          13
         ],
         "y0": " ",
         "yaxis": "y"
        },
        {
         "alignmentgroup": "True",
         "hovertemplate": "Category=%{x}<br>Ranking=%{y}<extra></extra>",
         "legendgroup": "Scripts",
         "marker": {
          "color": "#EF553B"
         },
         "name": "Scripts",
         "notched": false,
         "offsetgroup": "Scripts",
         "orientation": "v",
         "showlegend": true,
         "type": "box",
         "x": [
          "Scripts"
         ],
         "x0": " ",
         "xaxis": "x",
         "y": [
          52
         ],
         "y0": " ",
         "yaxis": "y"
        },
        {
         "alignmentgroup": "True",
         "hovertemplate": "Category=%{x}<br>Ranking=%{y}<extra></extra>",
         "legendgroup": "Architecture",
         "marker": {
          "color": "#00cc96"
         },
         "name": "Architecture",
         "notched": false,
         "offsetgroup": "Architecture",
         "orientation": "v",
         "showlegend": true,
         "type": "box",
         "x": [
          "Architecture",
          "Architecture"
         ],
         "x0": " ",
         "xaxis": "x",
         "y": [
          50,
          4
         ],
         "y0": " ",
         "yaxis": "y"
        }
       ],
       "layout": {
        "boxmode": "overlay",
        "legend": {
         "title": {
          "text": "Category"
         },
         "tracegroupgap": 0
        },
        "template": {
         "data": {
          "bar": [
           {
            "error_x": {
             "color": "#2a3f5f"
            },
            "error_y": {
             "color": "#2a3f5f"
            },
            "marker": {
             "line": {
              "color": "#E5ECF6",
              "width": 0.5
             },
             "pattern": {
              "fillmode": "overlay",
              "size": 10,
              "solidity": 0.2
             }
            },
            "type": "bar"
           }
          ],
          "barpolar": [
           {
            "marker": {
             "line": {
              "color": "#E5ECF6",
              "width": 0.5
             },
             "pattern": {
              "fillmode": "overlay",
              "size": 10,
              "solidity": 0.2
             }
            },
            "type": "barpolar"
           }
          ],
          "carpet": [
           {
            "aaxis": {
             "endlinecolor": "#2a3f5f",
             "gridcolor": "white",
             "linecolor": "white",
             "minorgridcolor": "white",
             "startlinecolor": "#2a3f5f"
            },
            "baxis": {
             "endlinecolor": "#2a3f5f",
             "gridcolor": "white",
             "linecolor": "white",
             "minorgridcolor": "white",
             "startlinecolor": "#2a3f5f"
            },
            "type": "carpet"
           }
          ],
          "choropleth": [
           {
            "colorbar": {
             "outlinewidth": 0,
             "ticks": ""
            },
            "type": "choropleth"
           }
          ],
          "contour": [
           {
            "colorbar": {
             "outlinewidth": 0,
             "ticks": ""
            },
            "colorscale": [
             [
              0,
              "#0d0887"
             ],
             [
              0.1111111111111111,
              "#46039f"
             ],
             [
              0.2222222222222222,
              "#7201a8"
             ],
             [
              0.3333333333333333,
              "#9c179e"
             ],
             [
              0.4444444444444444,
              "#bd3786"
             ],
             [
              0.5555555555555556,
              "#d8576b"
             ],
             [
              0.6666666666666666,
              "#ed7953"
             ],
             [
              0.7777777777777778,
              "#fb9f3a"
             ],
             [
              0.8888888888888888,
              "#fdca26"
             ],
             [
              1,
              "#f0f921"
             ]
            ],
            "type": "contour"
           }
          ],
          "contourcarpet": [
           {
            "colorbar": {
             "outlinewidth": 0,
             "ticks": ""
            },
            "type": "contourcarpet"
           }
          ],
          "heatmap": [
           {
            "colorbar": {
             "outlinewidth": 0,
             "ticks": ""
            },
            "colorscale": [
             [
              0,
              "#0d0887"
             ],
             [
              0.1111111111111111,
              "#46039f"
             ],
             [
              0.2222222222222222,
              "#7201a8"
             ],
             [
              0.3333333333333333,
              "#9c179e"
             ],
             [
              0.4444444444444444,
              "#bd3786"
             ],
             [
              0.5555555555555556,
              "#d8576b"
             ],
             [
              0.6666666666666666,
              "#ed7953"
             ],
             [
              0.7777777777777778,
              "#fb9f3a"
             ],
             [
              0.8888888888888888,
              "#fdca26"
             ],
             [
              1,
              "#f0f921"
             ]
            ],
            "type": "heatmap"
           }
          ],
          "heatmapgl": [
           {
            "colorbar": {
             "outlinewidth": 0,
             "ticks": ""
            },
            "colorscale": [
             [
              0,
              "#0d0887"
             ],
             [
              0.1111111111111111,
              "#46039f"
             ],
             [
              0.2222222222222222,
              "#7201a8"
             ],
             [
              0.3333333333333333,
              "#9c179e"
             ],
             [
              0.4444444444444444,
              "#bd3786"
             ],
             [
              0.5555555555555556,
              "#d8576b"
             ],
             [
              0.6666666666666666,
              "#ed7953"
             ],
             [
              0.7777777777777778,
              "#fb9f3a"
             ],
             [
              0.8888888888888888,
              "#fdca26"
             ],
             [
              1,
              "#f0f921"
             ]
            ],
            "type": "heatmapgl"
           }
          ],
          "histogram": [
           {
            "marker": {
             "pattern": {
              "fillmode": "overlay",
              "size": 10,
              "solidity": 0.2
             }
            },
            "type": "histogram"
           }
          ],
          "histogram2d": [
           {
            "colorbar": {
             "outlinewidth": 0,
             "ticks": ""
            },
            "colorscale": [
             [
              0,
              "#0d0887"
             ],
             [
              0.1111111111111111,
              "#46039f"
             ],
             [
              0.2222222222222222,
              "#7201a8"
             ],
             [
              0.3333333333333333,
              "#9c179e"
             ],
             [
              0.4444444444444444,
              "#bd3786"
             ],
             [
              0.5555555555555556,
              "#d8576b"
             ],
             [
              0.6666666666666666,
              "#ed7953"
             ],
             [
              0.7777777777777778,
              "#fb9f3a"
             ],
             [
              0.8888888888888888,
              "#fdca26"
             ],
             [
              1,
              "#f0f921"
             ]
            ],
            "type": "histogram2d"
           }
          ],
          "histogram2dcontour": [
           {
            "colorbar": {
             "outlinewidth": 0,
             "ticks": ""
            },
            "colorscale": [
             [
              0,
              "#0d0887"
             ],
             [
              0.1111111111111111,
              "#46039f"
             ],
             [
              0.2222222222222222,
              "#7201a8"
             ],
             [
              0.3333333333333333,
              "#9c179e"
             ],
             [
              0.4444444444444444,
              "#bd3786"
             ],
             [
              0.5555555555555556,
              "#d8576b"
             ],
             [
              0.6666666666666666,
              "#ed7953"
             ],
             [
              0.7777777777777778,
              "#fb9f3a"
             ],
             [
              0.8888888888888888,
              "#fdca26"
             ],
             [
              1,
              "#f0f921"
             ]
            ],
            "type": "histogram2dcontour"
           }
          ],
          "mesh3d": [
           {
            "colorbar": {
             "outlinewidth": 0,
             "ticks": ""
            },
            "type": "mesh3d"
           }
          ],
          "parcoords": [
           {
            "line": {
             "colorbar": {
              "outlinewidth": 0,
              "ticks": ""
             }
            },
            "type": "parcoords"
           }
          ],
          "pie": [
           {
            "automargin": true,
            "type": "pie"
           }
          ],
          "scatter": [
           {
            "fillpattern": {
             "fillmode": "overlay",
             "size": 10,
             "solidity": 0.2
            },
            "type": "scatter"
           }
          ],
          "scatter3d": [
           {
            "line": {
             "colorbar": {
              "outlinewidth": 0,
              "ticks": ""
             }
            },
            "marker": {
             "colorbar": {
              "outlinewidth": 0,
              "ticks": ""
             }
            },
            "type": "scatter3d"
           }
          ],
          "scattercarpet": [
           {
            "marker": {
             "colorbar": {
              "outlinewidth": 0,
              "ticks": ""
             }
            },
            "type": "scattercarpet"
           }
          ],
          "scattergeo": [
           {
            "marker": {
             "colorbar": {
              "outlinewidth": 0,
              "ticks": ""
             }
            },
            "type": "scattergeo"
           }
          ],
          "scattergl": [
           {
            "marker": {
             "colorbar": {
              "outlinewidth": 0,
              "ticks": ""
             }
            },
            "type": "scattergl"
           }
          ],
          "scattermapbox": [
           {
            "marker": {
             "colorbar": {
              "outlinewidth": 0,
              "ticks": ""
             }
            },
            "type": "scattermapbox"
           }
          ],
          "scatterpolar": [
           {
            "marker": {
             "colorbar": {
              "outlinewidth": 0,
              "ticks": ""
             }
            },
            "type": "scatterpolar"
           }
          ],
          "scatterpolargl": [
           {
            "marker": {
             "colorbar": {
              "outlinewidth": 0,
              "ticks": ""
             }
            },
            "type": "scatterpolargl"
           }
          ],
          "scatterternary": [
           {
            "marker": {
             "colorbar": {
              "outlinewidth": 0,
              "ticks": ""
             }
            },
            "type": "scatterternary"
           }
          ],
          "surface": [
           {
            "colorbar": {
             "outlinewidth": 0,
             "ticks": ""
            },
            "colorscale": [
             [
              0,
              "#0d0887"
             ],
             [
              0.1111111111111111,
              "#46039f"
             ],
             [
              0.2222222222222222,
              "#7201a8"
             ],
             [
              0.3333333333333333,
              "#9c179e"
             ],
             [
              0.4444444444444444,
              "#bd3786"
             ],
             [
              0.5555555555555556,
              "#d8576b"
             ],
             [
              0.6666666666666666,
              "#ed7953"
             ],
             [
              0.7777777777777778,
              "#fb9f3a"
             ],
             [
              0.8888888888888888,
              "#fdca26"
             ],
             [
              1,
              "#f0f921"
             ]
            ],
            "type": "surface"
           }
          ],
          "table": [
           {
            "cells": {
             "fill": {
              "color": "#EBF0F8"
             },
             "line": {
              "color": "white"
             }
            },
            "header": {
             "fill": {
              "color": "#C8D4E3"
             },
             "line": {
              "color": "white"
             }
            },
            "type": "table"
           }
          ]
         },
         "layout": {
          "annotationdefaults": {
           "arrowcolor": "#2a3f5f",
           "arrowhead": 0,
           "arrowwidth": 1
          },
          "autotypenumbers": "strict",
          "coloraxis": {
           "colorbar": {
            "outlinewidth": 0,
            "ticks": ""
           }
          },
          "colorscale": {
           "diverging": [
            [
             0,
             "#8e0152"
            ],
            [
             0.1,
             "#c51b7d"
            ],
            [
             0.2,
             "#de77ae"
            ],
            [
             0.3,
             "#f1b6da"
            ],
            [
             0.4,
             "#fde0ef"
            ],
            [
             0.5,
             "#f7f7f7"
            ],
            [
             0.6,
             "#e6f5d0"
            ],
            [
             0.7,
             "#b8e186"
            ],
            [
             0.8,
             "#7fbc41"
            ],
            [
             0.9,
             "#4d9221"
            ],
            [
             1,
             "#276419"
            ]
           ],
           "sequential": [
            [
             0,
             "#0d0887"
            ],
            [
             0.1111111111111111,
             "#46039f"
            ],
            [
             0.2222222222222222,
             "#7201a8"
            ],
            [
             0.3333333333333333,
             "#9c179e"
            ],
            [
             0.4444444444444444,
             "#bd3786"
            ],
            [
             0.5555555555555556,
             "#d8576b"
            ],
            [
             0.6666666666666666,
             "#ed7953"
            ],
            [
             0.7777777777777778,
             "#fb9f3a"
            ],
            [
             0.8888888888888888,
             "#fdca26"
            ],
            [
             1,
             "#f0f921"
            ]
           ],
           "sequentialminus": [
            [
             0,
             "#0d0887"
            ],
            [
             0.1111111111111111,
             "#46039f"
            ],
            [
             0.2222222222222222,
             "#7201a8"
            ],
            [
             0.3333333333333333,
             "#9c179e"
            ],
            [
             0.4444444444444444,
             "#bd3786"
            ],
            [
             0.5555555555555556,
             "#d8576b"
            ],
            [
             0.6666666666666666,
             "#ed7953"
            ],
            [
             0.7777777777777778,
             "#fb9f3a"
            ],
            [
             0.8888888888888888,
             "#fdca26"
            ],
            [
             1,
             "#f0f921"
            ]
           ]
          },
          "colorway": [
           "#636efa",
           "#EF553B",
           "#00cc96",
           "#ab63fa",
           "#FFA15A",
           "#19d3f3",
           "#FF6692",
           "#B6E880",
           "#FF97FF",
           "#FECB52"
          ],
          "font": {
           "color": "#2a3f5f"
          },
          "geo": {
           "bgcolor": "white",
           "lakecolor": "white",
           "landcolor": "#E5ECF6",
           "showlakes": true,
           "showland": true,
           "subunitcolor": "white"
          },
          "hoverlabel": {
           "align": "left"
          },
          "hovermode": "closest",
          "mapbox": {
           "style": "light"
          },
          "paper_bgcolor": "white",
          "plot_bgcolor": "#E5ECF6",
          "polar": {
           "angularaxis": {
            "gridcolor": "white",
            "linecolor": "white",
            "ticks": ""
           },
           "bgcolor": "#E5ECF6",
           "radialaxis": {
            "gridcolor": "white",
            "linecolor": "white",
            "ticks": ""
           }
          },
          "scene": {
           "xaxis": {
            "backgroundcolor": "#E5ECF6",
            "gridcolor": "white",
            "gridwidth": 2,
            "linecolor": "white",
            "showbackground": true,
            "ticks": "",
            "zerolinecolor": "white"
           },
           "yaxis": {
            "backgroundcolor": "#E5ECF6",
            "gridcolor": "white",
            "gridwidth": 2,
            "linecolor": "white",
            "showbackground": true,
            "ticks": "",
            "zerolinecolor": "white"
           },
           "zaxis": {
            "backgroundcolor": "#E5ECF6",
            "gridcolor": "white",
            "gridwidth": 2,
            "linecolor": "white",
            "showbackground": true,
            "ticks": "",
            "zerolinecolor": "white"
           }
          },
          "shapedefaults": {
           "line": {
            "color": "#2a3f5f"
           }
          },
          "ternary": {
           "aaxis": {
            "gridcolor": "white",
            "linecolor": "white",
            "ticks": ""
           },
           "baxis": {
            "gridcolor": "white",
            "linecolor": "white",
            "ticks": ""
           },
           "bgcolor": "#E5ECF6",
           "caxis": {
            "gridcolor": "white",
            "linecolor": "white",
            "ticks": ""
           }
          },
          "title": {
           "x": 0.05
          },
          "xaxis": {
           "automargin": true,
           "gridcolor": "white",
           "linecolor": "white",
           "ticks": "",
           "title": {
            "standoff": 15
           },
           "zerolinecolor": "white",
           "zerolinewidth": 2
          },
          "yaxis": {
           "automargin": true,
           "gridcolor": "white",
           "linecolor": "white",
           "ticks": "",
           "title": {
            "standoff": 15
           },
           "zerolinecolor": "white",
           "zerolinewidth": 2
          }
         }
        },
        "title": {
         "text": "Top 120 Rank distribution by Category"
        },
        "xaxis": {
         "anchor": "y",
         "categoryarray": [
          "Decoration",
          "Plants",
          "Furniture",
          "Materials",
          "Kitchen",
          "Bathroom",
          "Childroom",
          "Lighting",
          "Other Models",
          "Technology",
          "Textures",
          "Scripts",
          "Architecture"
         ],
         "categoryorder": "array",
         "domain": [
          0,
          1
         ],
         "title": {
          "text": "Category"
         }
        },
        "yaxis": {
         "anchor": "x",
         "domain": [
          0,
          1
         ],
         "title": {
          "text": "Ranking"
         }
        }
       }
      }
     },
     "metadata": {},
     "output_type": "display_data"
    }
   ],
   "source": [
    "fig6 = px.box(result_vis, x='Category', y='Ranking', color='Category', title='Top 120 Rank distribution by Category')\n",
    "fig6.show()"
   ]
  },
  {
   "cell_type": "code",
   "execution_count": 213,
   "metadata": {},
   "outputs": [
    {
     "data": {
      "application/vnd.plotly.v1+json": {
       "config": {
        "plotlyServerURL": "https://plot.ly"
       },
       "data": [
        {
         "alignmentgroup": "True",
         "hovertemplate": "Category=%{x}<br>Dur_Shrink=%{y}<extra></extra>",
         "legendgroup": "Decoration",
         "marker": {
          "color": "#636efa"
         },
         "name": "Decoration",
         "notched": false,
         "offsetgroup": "Decoration",
         "orientation": "v",
         "showlegend": true,
         "type": "box",
         "x": [
          "Decoration",
          "Decoration",
          "Decoration",
          "Decoration",
          "Decoration",
          "Decoration",
          "Decoration",
          "Decoration",
          "Decoration",
          "Decoration",
          "Decoration",
          "Decoration",
          "Decoration",
          "Decoration",
          "Decoration",
          "Decoration",
          "Decoration",
          "Decoration",
          "Decoration",
          "Decoration",
          "Decoration",
          "Decoration",
          "Decoration",
          "Decoration",
          "Decoration"
         ],
         "x0": " ",
         "xaxis": "x",
         "y": [
          17,
          25,
          16,
          32,
          154,
          94,
          46,
          33,
          13,
          16,
          500,
          371,
          37,
          214,
          31,
          25,
          500,
          342,
          104,
          75,
          257,
          193,
          16,
          8,
          12
         ],
         "y0": " ",
         "yaxis": "y"
        },
        {
         "alignmentgroup": "True",
         "hovertemplate": "Category=%{x}<br>Dur_Shrink=%{y}<extra></extra>",
         "legendgroup": "Plants",
         "marker": {
          "color": "#EF553B"
         },
         "name": "Plants",
         "notched": false,
         "offsetgroup": "Plants",
         "orientation": "v",
         "showlegend": true,
         "type": "box",
         "x": [
          "Plants",
          "Plants",
          "Plants",
          "Plants",
          "Plants",
          "Plants"
         ],
         "x0": " ",
         "xaxis": "x",
         "y": [
          212,
          37,
          20,
          84,
          255,
          19
         ],
         "y0": " ",
         "yaxis": "y"
        },
        {
         "alignmentgroup": "True",
         "hovertemplate": "Category=%{x}<br>Dur_Shrink=%{y}<extra></extra>",
         "legendgroup": "Furniture",
         "marker": {
          "color": "#00cc96"
         },
         "name": "Furniture",
         "notched": false,
         "offsetgroup": "Furniture",
         "orientation": "v",
         "showlegend": true,
         "type": "box",
         "x": [
          "Furniture",
          "Furniture",
          "Furniture",
          "Furniture",
          "Furniture",
          "Furniture",
          "Furniture",
          "Furniture",
          "Furniture",
          "Furniture",
          "Furniture",
          "Furniture",
          "Furniture",
          "Furniture",
          "Furniture",
          "Furniture",
          "Furniture",
          "Furniture",
          "Furniture",
          "Furniture",
          "Furniture",
          "Furniture",
          "Furniture",
          "Furniture",
          "Furniture"
         ],
         "x0": " ",
         "xaxis": "x",
         "y": [
          46,
          14,
          206,
          23,
          16,
          355,
          46,
          38,
          23,
          10,
          22,
          101,
          51,
          46,
          27,
          26,
          161,
          40,
          32,
          142,
          125,
          84,
          36,
          15,
          178
         ],
         "y0": " ",
         "yaxis": "y"
        },
        {
         "alignmentgroup": "True",
         "hovertemplate": "Category=%{x}<br>Dur_Shrink=%{y}<extra></extra>",
         "legendgroup": "Materials",
         "marker": {
          "color": "#ab63fa"
         },
         "name": "Materials",
         "notched": false,
         "offsetgroup": "Materials",
         "orientation": "v",
         "showlegend": true,
         "type": "box",
         "x": [
          "Materials",
          "Materials",
          "Materials",
          "Materials",
          "Materials"
         ],
         "x0": " ",
         "xaxis": "x",
         "y": [
          32,
          79,
          19,
          75,
          107
         ],
         "y0": " ",
         "yaxis": "y"
        },
        {
         "alignmentgroup": "True",
         "hovertemplate": "Category=%{x}<br>Dur_Shrink=%{y}<extra></extra>",
         "legendgroup": "Kitchen",
         "marker": {
          "color": "#FFA15A"
         },
         "name": "Kitchen",
         "notched": false,
         "offsetgroup": "Kitchen",
         "orientation": "v",
         "showlegend": true,
         "type": "box",
         "x": [
          "Kitchen",
          "Kitchen",
          "Kitchen",
          "Kitchen",
          "Kitchen",
          "Kitchen",
          "Kitchen",
          "Kitchen"
         ],
         "x0": " ",
         "xaxis": "x",
         "y": [
          152,
          23,
          52,
          118,
          410,
          37,
          464,
          72
         ],
         "y0": " ",
         "yaxis": "y"
        },
        {
         "alignmentgroup": "True",
         "hovertemplate": "Category=%{x}<br>Dur_Shrink=%{y}<extra></extra>",
         "legendgroup": "Bathroom",
         "marker": {
          "color": "#19d3f3"
         },
         "name": "Bathroom",
         "notched": false,
         "offsetgroup": "Bathroom",
         "orientation": "v",
         "showlegend": true,
         "type": "box",
         "x": [
          "Bathroom",
          "Bathroom",
          "Bathroom",
          "Bathroom",
          "Bathroom",
          "Bathroom",
          "Bathroom",
          "Bathroom",
          "Bathroom",
          "Bathroom",
          "Bathroom",
          "Bathroom",
          "Bathroom",
          "Bathroom",
          "Bathroom",
          "Bathroom",
          "Bathroom"
         ],
         "x0": " ",
         "xaxis": "x",
         "y": [
          47,
          141,
          76,
          114,
          123,
          500,
          79,
          55,
          15,
          217,
          38,
          500,
          500,
          184,
          118,
          40,
          184
         ],
         "y0": " ",
         "yaxis": "y"
        },
        {
         "alignmentgroup": "True",
         "hovertemplate": "Category=%{x}<br>Dur_Shrink=%{y}<extra></extra>",
         "legendgroup": "Childroom",
         "marker": {
          "color": "#FF6692"
         },
         "name": "Childroom",
         "notched": false,
         "offsetgroup": "Childroom",
         "orientation": "v",
         "showlegend": true,
         "type": "box",
         "x": [
          "Childroom",
          "Childroom",
          "Childroom",
          "Childroom",
          "Childroom",
          "Childroom",
          "Childroom"
         ],
         "x0": " ",
         "xaxis": "x",
         "y": [
          24,
          284,
          126,
          105,
          45,
          15,
          43
         ],
         "y0": " ",
         "yaxis": "y"
        },
        {
         "alignmentgroup": "True",
         "hovertemplate": "Category=%{x}<br>Dur_Shrink=%{y}<extra></extra>",
         "legendgroup": "Lighting",
         "marker": {
          "color": "#B6E880"
         },
         "name": "Lighting",
         "notched": false,
         "offsetgroup": "Lighting",
         "orientation": "v",
         "showlegend": true,
         "type": "box",
         "x": [
          "Lighting",
          "Lighting",
          "Lighting"
         ],
         "x0": " ",
         "xaxis": "x",
         "y": [
          31,
          29,
          261
         ],
         "y0": " ",
         "yaxis": "y"
        },
        {
         "alignmentgroup": "True",
         "hovertemplate": "Category=%{x}<br>Dur_Shrink=%{y}<extra></extra>",
         "legendgroup": "Other Models",
         "marker": {
          "color": "#FF97FF"
         },
         "name": "Other Models",
         "notched": false,
         "offsetgroup": "Other Models",
         "orientation": "v",
         "showlegend": true,
         "type": "box",
         "x": [
          "Other Models",
          "Other Models",
          "Other Models",
          "Other Models",
          "Other Models",
          "Other Models",
          "Other Models",
          "Other Models",
          "Other Models",
          "Other Models",
          "Other Models",
          "Other Models"
         ],
         "x0": " ",
         "xaxis": "x",
         "y": [
          32,
          391,
          148,
          96,
          30,
          500,
          500,
          500,
          262,
          169,
          500,
          435
         ],
         "y0": " ",
         "yaxis": "y"
        },
        {
         "alignmentgroup": "True",
         "hovertemplate": "Category=%{x}<br>Dur_Shrink=%{y}<extra></extra>",
         "legendgroup": "Technology",
         "marker": {
          "color": "#FECB52"
         },
         "name": "Technology",
         "notched": false,
         "offsetgroup": "Technology",
         "orientation": "v",
         "showlegend": true,
         "type": "box",
         "x": [
          "Technology",
          "Technology",
          "Technology"
         ],
         "x0": " ",
         "xaxis": "x",
         "y": [
          181,
          65,
          500
         ],
         "y0": " ",
         "yaxis": "y"
        },
        {
         "alignmentgroup": "True",
         "hovertemplate": "Category=%{x}<br>Dur_Shrink=%{y}<extra></extra>",
         "legendgroup": "Textures",
         "marker": {
          "color": "#636efa"
         },
         "name": "Textures",
         "notched": false,
         "offsetgroup": "Textures",
         "orientation": "v",
         "showlegend": true,
         "type": "box",
         "x": [
          "Textures",
          "Textures",
          "Textures",
          "Textures",
          "Textures",
          "Textures"
         ],
         "x0": " ",
         "xaxis": "x",
         "y": [
          64,
          274,
          188,
          38,
          326,
          64
         ],
         "y0": " ",
         "yaxis": "y"
        },
        {
         "alignmentgroup": "True",
         "hovertemplate": "Category=%{x}<br>Dur_Shrink=%{y}<extra></extra>",
         "legendgroup": "Scripts",
         "marker": {
          "color": "#EF553B"
         },
         "name": "Scripts",
         "notched": false,
         "offsetgroup": "Scripts",
         "orientation": "v",
         "showlegend": true,
         "type": "box",
         "x": [
          "Scripts"
         ],
         "x0": " ",
         "xaxis": "x",
         "y": [
          500
         ],
         "y0": " ",
         "yaxis": "y"
        },
        {
         "alignmentgroup": "True",
         "hovertemplate": "Category=%{x}<br>Dur_Shrink=%{y}<extra></extra>",
         "legendgroup": "Architecture",
         "marker": {
          "color": "#00cc96"
         },
         "name": "Architecture",
         "notched": false,
         "offsetgroup": "Architecture",
         "orientation": "v",
         "showlegend": true,
         "type": "box",
         "x": [
          "Architecture",
          "Architecture"
         ],
         "x0": " ",
         "xaxis": "x",
         "y": [
          401,
          500
         ],
         "y0": " ",
         "yaxis": "y"
        }
       ],
       "layout": {
        "boxmode": "overlay",
        "legend": {
         "title": {
          "text": "Category"
         },
         "tracegroupgap": 0
        },
        "template": {
         "data": {
          "bar": [
           {
            "error_x": {
             "color": "#2a3f5f"
            },
            "error_y": {
             "color": "#2a3f5f"
            },
            "marker": {
             "line": {
              "color": "#E5ECF6",
              "width": 0.5
             },
             "pattern": {
              "fillmode": "overlay",
              "size": 10,
              "solidity": 0.2
             }
            },
            "type": "bar"
           }
          ],
          "barpolar": [
           {
            "marker": {
             "line": {
              "color": "#E5ECF6",
              "width": 0.5
             },
             "pattern": {
              "fillmode": "overlay",
              "size": 10,
              "solidity": 0.2
             }
            },
            "type": "barpolar"
           }
          ],
          "carpet": [
           {
            "aaxis": {
             "endlinecolor": "#2a3f5f",
             "gridcolor": "white",
             "linecolor": "white",
             "minorgridcolor": "white",
             "startlinecolor": "#2a3f5f"
            },
            "baxis": {
             "endlinecolor": "#2a3f5f",
             "gridcolor": "white",
             "linecolor": "white",
             "minorgridcolor": "white",
             "startlinecolor": "#2a3f5f"
            },
            "type": "carpet"
           }
          ],
          "choropleth": [
           {
            "colorbar": {
             "outlinewidth": 0,
             "ticks": ""
            },
            "type": "choropleth"
           }
          ],
          "contour": [
           {
            "colorbar": {
             "outlinewidth": 0,
             "ticks": ""
            },
            "colorscale": [
             [
              0,
              "#0d0887"
             ],
             [
              0.1111111111111111,
              "#46039f"
             ],
             [
              0.2222222222222222,
              "#7201a8"
             ],
             [
              0.3333333333333333,
              "#9c179e"
             ],
             [
              0.4444444444444444,
              "#bd3786"
             ],
             [
              0.5555555555555556,
              "#d8576b"
             ],
             [
              0.6666666666666666,
              "#ed7953"
             ],
             [
              0.7777777777777778,
              "#fb9f3a"
             ],
             [
              0.8888888888888888,
              "#fdca26"
             ],
             [
              1,
              "#f0f921"
             ]
            ],
            "type": "contour"
           }
          ],
          "contourcarpet": [
           {
            "colorbar": {
             "outlinewidth": 0,
             "ticks": ""
            },
            "type": "contourcarpet"
           }
          ],
          "heatmap": [
           {
            "colorbar": {
             "outlinewidth": 0,
             "ticks": ""
            },
            "colorscale": [
             [
              0,
              "#0d0887"
             ],
             [
              0.1111111111111111,
              "#46039f"
             ],
             [
              0.2222222222222222,
              "#7201a8"
             ],
             [
              0.3333333333333333,
              "#9c179e"
             ],
             [
              0.4444444444444444,
              "#bd3786"
             ],
             [
              0.5555555555555556,
              "#d8576b"
             ],
             [
              0.6666666666666666,
              "#ed7953"
             ],
             [
              0.7777777777777778,
              "#fb9f3a"
             ],
             [
              0.8888888888888888,
              "#fdca26"
             ],
             [
              1,
              "#f0f921"
             ]
            ],
            "type": "heatmap"
           }
          ],
          "heatmapgl": [
           {
            "colorbar": {
             "outlinewidth": 0,
             "ticks": ""
            },
            "colorscale": [
             [
              0,
              "#0d0887"
             ],
             [
              0.1111111111111111,
              "#46039f"
             ],
             [
              0.2222222222222222,
              "#7201a8"
             ],
             [
              0.3333333333333333,
              "#9c179e"
             ],
             [
              0.4444444444444444,
              "#bd3786"
             ],
             [
              0.5555555555555556,
              "#d8576b"
             ],
             [
              0.6666666666666666,
              "#ed7953"
             ],
             [
              0.7777777777777778,
              "#fb9f3a"
             ],
             [
              0.8888888888888888,
              "#fdca26"
             ],
             [
              1,
              "#f0f921"
             ]
            ],
            "type": "heatmapgl"
           }
          ],
          "histogram": [
           {
            "marker": {
             "pattern": {
              "fillmode": "overlay",
              "size": 10,
              "solidity": 0.2
             }
            },
            "type": "histogram"
           }
          ],
          "histogram2d": [
           {
            "colorbar": {
             "outlinewidth": 0,
             "ticks": ""
            },
            "colorscale": [
             [
              0,
              "#0d0887"
             ],
             [
              0.1111111111111111,
              "#46039f"
             ],
             [
              0.2222222222222222,
              "#7201a8"
             ],
             [
              0.3333333333333333,
              "#9c179e"
             ],
             [
              0.4444444444444444,
              "#bd3786"
             ],
             [
              0.5555555555555556,
              "#d8576b"
             ],
             [
              0.6666666666666666,
              "#ed7953"
             ],
             [
              0.7777777777777778,
              "#fb9f3a"
             ],
             [
              0.8888888888888888,
              "#fdca26"
             ],
             [
              1,
              "#f0f921"
             ]
            ],
            "type": "histogram2d"
           }
          ],
          "histogram2dcontour": [
           {
            "colorbar": {
             "outlinewidth": 0,
             "ticks": ""
            },
            "colorscale": [
             [
              0,
              "#0d0887"
             ],
             [
              0.1111111111111111,
              "#46039f"
             ],
             [
              0.2222222222222222,
              "#7201a8"
             ],
             [
              0.3333333333333333,
              "#9c179e"
             ],
             [
              0.4444444444444444,
              "#bd3786"
             ],
             [
              0.5555555555555556,
              "#d8576b"
             ],
             [
              0.6666666666666666,
              "#ed7953"
             ],
             [
              0.7777777777777778,
              "#fb9f3a"
             ],
             [
              0.8888888888888888,
              "#fdca26"
             ],
             [
              1,
              "#f0f921"
             ]
            ],
            "type": "histogram2dcontour"
           }
          ],
          "mesh3d": [
           {
            "colorbar": {
             "outlinewidth": 0,
             "ticks": ""
            },
            "type": "mesh3d"
           }
          ],
          "parcoords": [
           {
            "line": {
             "colorbar": {
              "outlinewidth": 0,
              "ticks": ""
             }
            },
            "type": "parcoords"
           }
          ],
          "pie": [
           {
            "automargin": true,
            "type": "pie"
           }
          ],
          "scatter": [
           {
            "fillpattern": {
             "fillmode": "overlay",
             "size": 10,
             "solidity": 0.2
            },
            "type": "scatter"
           }
          ],
          "scatter3d": [
           {
            "line": {
             "colorbar": {
              "outlinewidth": 0,
              "ticks": ""
             }
            },
            "marker": {
             "colorbar": {
              "outlinewidth": 0,
              "ticks": ""
             }
            },
            "type": "scatter3d"
           }
          ],
          "scattercarpet": [
           {
            "marker": {
             "colorbar": {
              "outlinewidth": 0,
              "ticks": ""
             }
            },
            "type": "scattercarpet"
           }
          ],
          "scattergeo": [
           {
            "marker": {
             "colorbar": {
              "outlinewidth": 0,
              "ticks": ""
             }
            },
            "type": "scattergeo"
           }
          ],
          "scattergl": [
           {
            "marker": {
             "colorbar": {
              "outlinewidth": 0,
              "ticks": ""
             }
            },
            "type": "scattergl"
           }
          ],
          "scattermapbox": [
           {
            "marker": {
             "colorbar": {
              "outlinewidth": 0,
              "ticks": ""
             }
            },
            "type": "scattermapbox"
           }
          ],
          "scatterpolar": [
           {
            "marker": {
             "colorbar": {
              "outlinewidth": 0,
              "ticks": ""
             }
            },
            "type": "scatterpolar"
           }
          ],
          "scatterpolargl": [
           {
            "marker": {
             "colorbar": {
              "outlinewidth": 0,
              "ticks": ""
             }
            },
            "type": "scatterpolargl"
           }
          ],
          "scatterternary": [
           {
            "marker": {
             "colorbar": {
              "outlinewidth": 0,
              "ticks": ""
             }
            },
            "type": "scatterternary"
           }
          ],
          "surface": [
           {
            "colorbar": {
             "outlinewidth": 0,
             "ticks": ""
            },
            "colorscale": [
             [
              0,
              "#0d0887"
             ],
             [
              0.1111111111111111,
              "#46039f"
             ],
             [
              0.2222222222222222,
              "#7201a8"
             ],
             [
              0.3333333333333333,
              "#9c179e"
             ],
             [
              0.4444444444444444,
              "#bd3786"
             ],
             [
              0.5555555555555556,
              "#d8576b"
             ],
             [
              0.6666666666666666,
              "#ed7953"
             ],
             [
              0.7777777777777778,
              "#fb9f3a"
             ],
             [
              0.8888888888888888,
              "#fdca26"
             ],
             [
              1,
              "#f0f921"
             ]
            ],
            "type": "surface"
           }
          ],
          "table": [
           {
            "cells": {
             "fill": {
              "color": "#EBF0F8"
             },
             "line": {
              "color": "white"
             }
            },
            "header": {
             "fill": {
              "color": "#C8D4E3"
             },
             "line": {
              "color": "white"
             }
            },
            "type": "table"
           }
          ]
         },
         "layout": {
          "annotationdefaults": {
           "arrowcolor": "#2a3f5f",
           "arrowhead": 0,
           "arrowwidth": 1
          },
          "autotypenumbers": "strict",
          "coloraxis": {
           "colorbar": {
            "outlinewidth": 0,
            "ticks": ""
           }
          },
          "colorscale": {
           "diverging": [
            [
             0,
             "#8e0152"
            ],
            [
             0.1,
             "#c51b7d"
            ],
            [
             0.2,
             "#de77ae"
            ],
            [
             0.3,
             "#f1b6da"
            ],
            [
             0.4,
             "#fde0ef"
            ],
            [
             0.5,
             "#f7f7f7"
            ],
            [
             0.6,
             "#e6f5d0"
            ],
            [
             0.7,
             "#b8e186"
            ],
            [
             0.8,
             "#7fbc41"
            ],
            [
             0.9,
             "#4d9221"
            ],
            [
             1,
             "#276419"
            ]
           ],
           "sequential": [
            [
             0,
             "#0d0887"
            ],
            [
             0.1111111111111111,
             "#46039f"
            ],
            [
             0.2222222222222222,
             "#7201a8"
            ],
            [
             0.3333333333333333,
             "#9c179e"
            ],
            [
             0.4444444444444444,
             "#bd3786"
            ],
            [
             0.5555555555555556,
             "#d8576b"
            ],
            [
             0.6666666666666666,
             "#ed7953"
            ],
            [
             0.7777777777777778,
             "#fb9f3a"
            ],
            [
             0.8888888888888888,
             "#fdca26"
            ],
            [
             1,
             "#f0f921"
            ]
           ],
           "sequentialminus": [
            [
             0,
             "#0d0887"
            ],
            [
             0.1111111111111111,
             "#46039f"
            ],
            [
             0.2222222222222222,
             "#7201a8"
            ],
            [
             0.3333333333333333,
             "#9c179e"
            ],
            [
             0.4444444444444444,
             "#bd3786"
            ],
            [
             0.5555555555555556,
             "#d8576b"
            ],
            [
             0.6666666666666666,
             "#ed7953"
            ],
            [
             0.7777777777777778,
             "#fb9f3a"
            ],
            [
             0.8888888888888888,
             "#fdca26"
            ],
            [
             1,
             "#f0f921"
            ]
           ]
          },
          "colorway": [
           "#636efa",
           "#EF553B",
           "#00cc96",
           "#ab63fa",
           "#FFA15A",
           "#19d3f3",
           "#FF6692",
           "#B6E880",
           "#FF97FF",
           "#FECB52"
          ],
          "font": {
           "color": "#2a3f5f"
          },
          "geo": {
           "bgcolor": "white",
           "lakecolor": "white",
           "landcolor": "#E5ECF6",
           "showlakes": true,
           "showland": true,
           "subunitcolor": "white"
          },
          "hoverlabel": {
           "align": "left"
          },
          "hovermode": "closest",
          "mapbox": {
           "style": "light"
          },
          "paper_bgcolor": "white",
          "plot_bgcolor": "#E5ECF6",
          "polar": {
           "angularaxis": {
            "gridcolor": "white",
            "linecolor": "white",
            "ticks": ""
           },
           "bgcolor": "#E5ECF6",
           "radialaxis": {
            "gridcolor": "white",
            "linecolor": "white",
            "ticks": ""
           }
          },
          "scene": {
           "xaxis": {
            "backgroundcolor": "#E5ECF6",
            "gridcolor": "white",
            "gridwidth": 2,
            "linecolor": "white",
            "showbackground": true,
            "ticks": "",
            "zerolinecolor": "white"
           },
           "yaxis": {
            "backgroundcolor": "#E5ECF6",
            "gridcolor": "white",
            "gridwidth": 2,
            "linecolor": "white",
            "showbackground": true,
            "ticks": "",
            "zerolinecolor": "white"
           },
           "zaxis": {
            "backgroundcolor": "#E5ECF6",
            "gridcolor": "white",
            "gridwidth": 2,
            "linecolor": "white",
            "showbackground": true,
            "ticks": "",
            "zerolinecolor": "white"
           }
          },
          "shapedefaults": {
           "line": {
            "color": "#2a3f5f"
           }
          },
          "ternary": {
           "aaxis": {
            "gridcolor": "white",
            "linecolor": "white",
            "ticks": ""
           },
           "baxis": {
            "gridcolor": "white",
            "linecolor": "white",
            "ticks": ""
           },
           "bgcolor": "#E5ECF6",
           "caxis": {
            "gridcolor": "white",
            "linecolor": "white",
            "ticks": ""
           }
          },
          "title": {
           "x": 0.05
          },
          "xaxis": {
           "automargin": true,
           "gridcolor": "white",
           "linecolor": "white",
           "ticks": "",
           "title": {
            "standoff": 15
           },
           "zerolinecolor": "white",
           "zerolinewidth": 2
          },
          "yaxis": {
           "automargin": true,
           "gridcolor": "white",
           "linecolor": "white",
           "ticks": "",
           "title": {
            "standoff": 15
           },
           "zerolinecolor": "white",
           "zerolinewidth": 2
          }
         }
        },
        "title": {
         "text": "Top 120 Duration distribution by Category"
        },
        "xaxis": {
         "anchor": "y",
         "categoryarray": [
          "Decoration",
          "Plants",
          "Furniture",
          "Materials",
          "Kitchen",
          "Bathroom",
          "Childroom",
          "Lighting",
          "Other Models",
          "Technology",
          "Textures",
          "Scripts",
          "Architecture"
         ],
         "categoryorder": "array",
         "domain": [
          0,
          1
         ],
         "title": {
          "text": "Category"
         }
        },
        "yaxis": {
         "anchor": "x",
         "domain": [
          0,
          1
         ],
         "title": {
          "text": "Dur_Shrink"
         }
        }
       }
      }
     },
     "metadata": {},
     "output_type": "display_data"
    }
   ],
   "source": [
    "fig7 = px.box(result_vis, x='Category', y='Dur_Shrink', color='Category', title='Top 120 Duration distribution by Category')\n",
    "fig7.show()"
   ]
  },
  {
   "cell_type": "code",
   "execution_count": 214,
   "metadata": {},
   "outputs": [
    {
     "data": {
      "application/vnd.plotly.v1+json": {
       "config": {
        "plotlyServerURL": "https://plot.ly"
       },
       "data": [
        {
         "customdata": [
          [
           1,
           "Christmas tree with fireplace 5",
           "dofen",
           313
          ],
          [
           2,
           "Benuta Leon Cream Wool Rug",
           "3Dmitruk",
           335
          ],
          [
           5,
           "Clothes for wardrobe NG15",
           "niga2323",
           743
          ],
          [
           7,
           "Decorative Set 089",
           "Moriiiz",
           87
          ],
          [
           8,
           "Benuta Dave Rectangular Fur Rug (3 colors)",
           "3Dmitruk",
           335
          ],
          [
           9,
           "Curtains with Roman blinds 2",
           "Rolan05",
           128
          ],
          [
           11,
           "Decorative Set 088",
           "Moriiiz",
           87
          ],
          [
           15,
           "A set of clothes in bright colors for a wardrobe or showroom and a store",
           "sofiakholina",
           770
          ],
          [
           17,
           "coffee table decor set 005",
           "Mitya87",
           189
          ],
          [
           18,
           "Roman blinds, Roman blinds",
           "Neeo",
           417
          ],
          [
           25,
           "Glass Block Wall 08",
           "NK3D",
           128
          ],
          [
           40,
           "Nice Christmas tree",
           "fffaaa12",
           1215
          ],
          [
           43,
           "3DArt Relief NG41",
           "niga2323",
           743
          ],
          [
           54,
           "Panel with waves",
           "Manax",
           69
          ],
          [
           62,
           "Decorative Set 270",
           "☆☆Roohollah.3DArtist☆☆",
           566
          ],
          [
           64,
           "Pila Vessels en gold / Jug",
           "picture.cg",
           8
          ],
          [
           70,
           "Christmas tree 5",
           "fffaaa12",
           1215
          ],
          [
           79,
           "Christmas tree with fireplace 4",
           "dofen",
           313
          ],
          [
           80,
           "Round carpet",
           "miklob",
           18
          ],
          [
           82,
           "Curtains 9",
           "fffaaa12",
           1215
          ],
          [
           96,
           "Curtain 28/ curtains",
           "ElenaSokha",
           252
          ],
          [
           97,
           "Decorative set with a small beige bag",
           "Lana3D",
           27
          ],
          [
           111,
           "Christmas Tree and Decoration 78",
           "3Design.FB",
           1562
          ],
          [
           112,
           "Pinch Pleat Linen Curtain with Roller Blind",
           "kapusta",
           125
          ],
          [
           113,
           "Wonderful Christmas Tree",
           "fffaaa12",
           1215
          ]
         ],
         "hovertemplate": "Category=Decoration<br>Dur_Shrink=%{x}<br>Ranking=%{y}<br>Followers=%{customdata[3]}<br>N=%{customdata[0]}<br>Title=%{customdata[1]}<br>Username=%{customdata[2]}<extra></extra>",
         "legendgroup": "Decoration",
         "marker": {
          "color": "#636efa",
          "size": [
           313,
           335,
           743,
           87,
           335,
           128,
           87,
           770,
           189,
           417,
           128,
           1215,
           743,
           69,
           566,
           8,
           1215,
           313,
           18,
           1215,
           252,
           27,
           1562,
           125,
           1215
          ],
          "sizemode": "area",
          "sizeref": 5.5475,
          "symbol": "circle"
         },
         "mode": "markers",
         "name": "Decoration",
         "orientation": "v",
         "showlegend": true,
         "type": "scatter",
         "x": [
          17,
          25,
          16,
          32,
          154,
          94,
          46,
          33,
          13,
          16,
          500,
          371,
          37,
          214,
          31,
          25,
          500,
          342,
          104,
          75,
          257,
          193,
          16,
          8,
          12
         ],
         "xaxis": "x",
         "y": [
          120,
          119,
          116,
          114,
          113,
          112,
          110,
          106,
          104,
          103,
          96,
          81,
          78,
          67,
          59,
          57,
          51,
          42,
          41,
          39,
          25,
          24,
          10,
          9,
          8
         ],
         "yaxis": "y"
        },
        {
         "customdata": [
          [
           3,
           "Indoor Plant Set 89",
           "mh.designer",
           211
          ],
          [
           49,
           "A bouquet of lilacs in a glass vase",
           "auralis",
           226
          ],
          [
           50,
           "Bouquet 06",
           "Mahikoo",
           10
          ],
          [
           55,
           "Realistic meadow grass",
           "AlexHappy",
           1663
          ],
          [
           73,
           "Indoor Plant 702 - Olive Plant",
           "3Design.FB",
           1562
          ],
          [
           88,
           "Indoor Plant Set 0147",
           "mojdeh",
           151
          ]
         ],
         "hovertemplate": "Category=Plants<br>Dur_Shrink=%{x}<br>Ranking=%{y}<br>Followers=%{customdata[3]}<br>N=%{customdata[0]}<br>Title=%{customdata[1]}<br>Username=%{customdata[2]}<extra></extra>",
         "legendgroup": "Plants",
         "marker": {
          "color": "#EF553B",
          "size": [
           211,
           226,
           10,
           1663,
           1562,
           151
          ],
          "sizemode": "area",
          "sizeref": 5.5475,
          "symbol": "circle"
         },
         "mode": "markers",
         "name": "Plants",
         "orientation": "v",
         "showlegend": true,
         "type": "scatter",
         "x": [
          212,
          37,
          20,
          84,
          255,
          19
         ],
         "xaxis": "x",
         "y": [
          118,
          72,
          71,
          66,
          48,
          33
         ],
         "yaxis": "y"
        },
        {
         "customdata": [
          [
           4,
           "Office chair Ashley",
           "illidan_",
           6
          ],
          [
           13,
           "Dressing room 28",
           "protektor",
           322
          ],
          [
           14,
           "Dressing room 16",
           "protektor",
           322
          ],
          [
           16,
           "Cairns pedestal Divan.ru",
           "niga2323",
           743
          ],
          [
           19,
           "Basic wardrobe made of cabinet furniture with doors",
           "sofiakholina",
           770
          ],
          [
           20,
           "TV wall with Xiaomi laser projector",
           "aoverina",
           2219
          ],
          [
           22,
           "Office chair Sergio La Redoute",
           "Артур56",
           245
          ],
          [
           35,
           "Cecily Nara bedside table Cosmo",
           "niga2323",
           743
          ],
          [
           37,
           "Lindsay Laurie coffee table Divan.ru",
           "niga2323",
           743
          ],
          [
           39,
           "HOMARY island for dressing room NG16",
           "niga2323",
           743
          ],
          [
           44,
           "West Elm Curved Modern Upholstered Bed",
           "Ney",
           610
          ],
          [
           46,
           "garage tools set 23",
           "pluse44",
           9
          ],
          [
           48,
           "Milam chair Divan.ru",
           "niga2323",
           743
          ],
          [
           63,
           "Bedside table Tammi",
           "evgeni77712",
           5
          ],
          [
           66,
           "Minotti Pilots Bench",
           "horrortechnology",
           714
          ],
          [
           67,
           "Dinning Set 162",
           "лааппп",
           76
          ],
          [
           74,
           "Wardrobe system Rimadesio Dress Bold",
           "restereo",
           98
          ],
          [
           86,
           "Furniture Composition 271",
           "Stt.HuynOneShine",
           177
          ],
          [
           87,
           "TV Wall 52",
           "sirous21",
           231
          ],
          [
           101,
           "Oval island for dressing room NG14",
           "niga2323",
           743
          ],
          [
           103,
           "Emmi Armchair by Minotti",
           "wesftgyhnj",
           192
          ],
          [
           105,
           "541 hallway zone 14 minimal modular wardeobe with seating niche",
           "mazeeem",
           1518
          ],
          [
           107,
           "Calder Lander Build table Divan.ru",
           "niga2323",
           743
          ],
          [
           114,
           "Kitchen table Loft Tobacco and chairs Dick divan.ru",
           "c3dm",
           184
          ],
          [
           119,
           "Dressing room 24",
           "protektor",
           322
          ]
         ],
         "hovertemplate": "Category=Furniture<br>Dur_Shrink=%{x}<br>Ranking=%{y}<br>Followers=%{customdata[3]}<br>N=%{customdata[0]}<br>Title=%{customdata[1]}<br>Username=%{customdata[2]}<extra></extra>",
         "legendgroup": "Furniture",
         "marker": {
          "color": "#00cc96",
          "size": [
           6,
           322,
           322,
           743,
           770,
           2219,
           245,
           743,
           743,
           743,
           610,
           9,
           743,
           5,
           714,
           76,
           98,
           177,
           231,
           743,
           192,
           1518,
           743,
           184,
           322
          ],
          "sizemode": "area",
          "sizeref": 5.5475,
          "symbol": "circle"
         },
         "mode": "markers",
         "name": "Furniture",
         "orientation": "v",
         "showlegend": true,
         "type": "scatter",
         "x": [
          46,
          14,
          206,
          23,
          16,
          355,
          46,
          38,
          23,
          10,
          22,
          101,
          51,
          46,
          27,
          26,
          161,
          40,
          32,
          142,
          125,
          84,
          36,
          15,
          178
         ],
         "xaxis": "x",
         "y": [
          117,
          108,
          107,
          105,
          102,
          101,
          99,
          86,
          84,
          82,
          77,
          75,
          73,
          58,
          55,
          54,
          47,
          35,
          34,
          20,
          18,
          16,
          14,
          7,
          2
         ],
         "yaxis": "y"
        },
        {
         "customdata": [
          [
           6,
           "Boucle Fabric",
           "marchik3d",
           148
          ],
          [
           12,
           "Carpeting. Seamless carpet",
           "sofiakholina",
           770
          ],
          [
           24,
           "Snow",
           "maltsev_stepan",
           307
          ],
          [
           33,
           "Porcelain tiles Nolana Estima",
           "RazorS95",
           11
          ],
          [
           76,
           "Rubber Coating",
           "maltsev_stepan",
           307
          ]
         ],
         "hovertemplate": "Category=Materials<br>Dur_Shrink=%{x}<br>Ranking=%{y}<br>Followers=%{customdata[3]}<br>N=%{customdata[0]}<br>Title=%{customdata[1]}<br>Username=%{customdata[2]}<extra></extra>",
         "legendgroup": "Materials",
         "marker": {
          "color": "#ab63fa",
          "size": [
           148,
           770,
           307,
           11,
           307
          ],
          "sizemode": "area",
          "sizeref": 5.5475,
          "symbol": "circle"
         },
         "mode": "markers",
         "name": "Materials",
         "orientation": "v",
         "showlegend": true,
         "type": "scatter",
         "x": [
          32,
          79,
          19,
          75,
          107
         ],
         "xaxis": "x",
         "y": [
          115,
          109,
          97,
          88,
          45
         ],
         "yaxis": "y"
        },
        {
         "customdata": [
          [
           10,
           "Kitchen 10",
           "RazorS95",
           11
          ],
          [
           36,
           "kitchen 0252",
           "Hasan3596",
           97
          ],
          [
           42,
           "Cookware set NG5",
           "niga2323",
           743
          ],
          [
           45,
           "Wine with chocolate set/1",
           "unrepeatable",
           73
          ],
          [
           52,
           "Sinks and faucets Omoikiri",
           "oleksandroleksandr",
           125
          ],
          [
           65,
           "kitchen modern-067",
           "moon_3dart296",
           24
          ],
          [
           72,
           "Serving NG3",
           "niga2323",
           743
          ],
          [
           81,
           "Kitchen Appliance Bosch Kitchen 81",
           "freesection",
           134
          ]
         ],
         "hovertemplate": "Category=Kitchen<br>Dur_Shrink=%{x}<br>Ranking=%{y}<br>Followers=%{customdata[3]}<br>N=%{customdata[0]}<br>Title=%{customdata[1]}<br>Username=%{customdata[2]}<extra></extra>",
         "legendgroup": "Kitchen",
         "marker": {
          "color": "#FFA15A",
          "size": [
           11,
           97,
           743,
           73,
           125,
           24,
           743,
           134
          ],
          "sizemode": "area",
          "sizeref": 5.5475,
          "symbol": "circle"
         },
         "mode": "markers",
         "name": "Kitchen",
         "orientation": "v",
         "showlegend": true,
         "type": "scatter",
         "x": [
          152,
          23,
          52,
          118,
          410,
          37,
          464,
          72
         ],
         "xaxis": "x",
         "y": [
          111,
          85,
          79,
          76,
          69,
          56,
          49,
          40
         ],
         "yaxis": "y"
        },
        {
         "customdata": [
          [
           21,
           "Omnires mixers",
           "fffaaa12",
           1215
          ],
          [
           26,
           "Bathroom decor with a set of different cosmetic products",
           "sofiakholina",
           770
          ],
          [
           32,
           "Faucets and showers Boheme uno set 2",
           "Ashlesha",
           22
          ],
          [
           34,
           "Bathroom decor set P06",
           "picture.cg",
           8
          ],
          [
           41,
           "Bathroom furniture 21",
           "don2432",
           170
          ],
          [
           51,
           "Laundry Room _ 0005",
           "grol69",
           311
          ],
          [
           59,
           "Faucets and showers Boheme uno set 1",
           "Ashlesha",
           22
          ],
          [
           60,
           "Faucets and showers Boheme Specter set",
           "Ashlesha",
           22
          ],
          [
           68,
           "Bathroom accessories Z42",
           "zyazdiyan",
           34
          ],
          [
           75,
           "Hotel Bathroom Accessories LE LABO",
           "lzv_cg",
           82
          ],
          [
           83,
           "EWRIKA Penelope electric heated towel rail",
           "niga2323",
           743
          ],
          [
           90,
           "LAUNDRY SET (Poliform FITTED + ASKO)",
           "vitaly_y_panov",
           223
          ],
          [
           95,
           "Accessories for public toilets black set 152 part 4",
           "madMIX",
           82
          ],
          [
           100,
           "Double bath curtain on Sunerzha cornice",
           "DashutaG",
           30
          ],
          [
           104,
           "Bathroom furniture 11",
           "Lana3D",
           27
          ],
          [
           110,
           "Shower cabin 07",
           "3Design.Dii",
           117
          ],
          [
           120,
           "Timo Saona",
           "tokyokyoto",
           78
          ]
         ],
         "hovertemplate": "Category=Bathroom<br>Dur_Shrink=%{x}<br>Ranking=%{y}<br>Followers=%{customdata[3]}<br>N=%{customdata[0]}<br>Title=%{customdata[1]}<br>Username=%{customdata[2]}<extra></extra>",
         "legendgroup": "Bathroom",
         "marker": {
          "color": "#19d3f3",
          "size": [
           1215,
           770,
           22,
           8,
           170,
           311,
           22,
           22,
           34,
           82,
           743,
           223,
           82,
           30,
           27,
           117,
           78
          ],
          "sizemode": "area",
          "sizeref": 5.5475,
          "symbol": "circle"
         },
         "mode": "markers",
         "name": "Bathroom",
         "orientation": "v",
         "showlegend": true,
         "type": "scatter",
         "x": [
          47,
          141,
          76,
          114,
          123,
          500,
          79,
          55,
          15,
          217,
          38,
          500,
          500,
          184,
          118,
          40,
          184
         ],
         "xaxis": "x",
         "y": [
          100,
          95,
          89,
          87,
          80,
          70,
          62,
          61,
          53,
          46,
          38,
          31,
          26,
          21,
          17,
          11,
          1
         ],
         "yaxis": "y"
        },
        {
         "customdata": [
          [
           23,
           "Children play area | Interactive",
           "lzv_cg",
           82
          ],
          [
           29,
           "Siena Kids Bed By Como",
           "ZikKoo",
           417
          ],
          [
           58,
           "Soft seat by the window in the children's room",
           "lzv_cg",
           82
          ],
          [
           78,
           "Interactive panel for children room",
           "lzv_cg",
           82
          ],
          [
           85,
           "Pinboard with childrens drawings",
           "DashutaG",
           30
          ],
          [
           89,
           "Childrens open wardrobe with desk, modular, modern, 25",
           "don2432",
           170
          ],
          [
           109,
           "Furniture composition GHS-2617",
           "andesign.sbrother",
           86
          ]
         ],
         "hovertemplate": "Category=Childroom<br>Dur_Shrink=%{x}<br>Ranking=%{y}<br>Followers=%{customdata[3]}<br>N=%{customdata[0]}<br>Title=%{customdata[1]}<br>Username=%{customdata[2]}<extra></extra>",
         "legendgroup": "Childroom",
         "marker": {
          "color": "#FF6692",
          "size": [
           82,
           417,
           82,
           82,
           30,
           170,
           86
          ],
          "sizemode": "area",
          "sizeref": 5.5475,
          "symbol": "circle"
         },
         "mode": "markers",
         "name": "Childroom",
         "orientation": "v",
         "showlegend": true,
         "type": "scatter",
         "x": [
          24,
          284,
          126,
          105,
          45,
          15,
          43
         ],
         "xaxis": "x",
         "y": [
          98,
          92,
          63,
          43,
          36,
          32,
          12
         ],
         "yaxis": "y"
        },
        {
         "customdata": [
          [
           27,
           "Moooi Drape Lights",
           "Karloo",
           100
          ],
          [
           38,
           "Track system centersvet Infinity",
           "Beliy",
           22
          ],
          [
           99,
           "Khmara by Makhno Rough Plaster Pendant Lamps",
           "CG__Aryan",
           28
          ]
         ],
         "hovertemplate": "Category=Lighting<br>Dur_Shrink=%{x}<br>Ranking=%{y}<br>Followers=%{customdata[3]}<br>N=%{customdata[0]}<br>Title=%{customdata[1]}<br>Username=%{customdata[2]}<extra></extra>",
         "legendgroup": "Lighting",
         "marker": {
          "color": "#B6E880",
          "size": [
           100,
           22,
           28
          ],
          "sizemode": "area",
          "sizeref": 5.5475,
          "symbol": "circle"
         },
         "mode": "markers",
         "name": "Lighting",
         "orientation": "v",
         "showlegend": true,
         "type": "scatter",
         "x": [
          31,
          29,
          261
         ],
         "xaxis": "x",
         "y": [
          94,
          83,
          22
         ],
         "yaxis": "y"
        },
        {
         "customdata": [
          [
           28,
           "Grilles for ventilation and air conditioning Redvent",
           "DashutaG",
           30
          ],
          [
           30,
           "Padel",
           "alexsm2014",
           22
          ],
          [
           57,
           "Volhovec Rift Doors",
           "Игорь1969",
           66
          ],
          [
           77,
           "Ventilation system.",
           "slipknot1111",
           20
          ],
          [
           84,
           "A set for a clothing store and showroom",
           "sofiakholina",
           770
          ],
          [
           91,
           "Bakery Equipment",
           "Стаска",
           72
          ],
          [
           92,
           "Photo Studio Kit",
           "quantum_4141",
           98
          ],
          [
           93,
           "Set of ceilings Armstrong and Grilyato",
           "solomon5555",
           428
          ],
          [
           98,
           "Coffee Shop 6",
           "omnomn",
           309
          ],
          [
           102,
           "A wall with a rack for gym equipment 2",
           "sofiakholina",
           770
          ],
          [
           115,
           "Guitar. Guitar set for stage. Musical instrument. Microphone",
           "paradize",
           89
          ],
          [
           118,
           "Yoga & Meditation Set",
           "wesftgyhnj",
           192
          ]
         ],
         "hovertemplate": "Category=Other Models<br>Dur_Shrink=%{x}<br>Ranking=%{y}<br>Followers=%{customdata[3]}<br>N=%{customdata[0]}<br>Title=%{customdata[1]}<br>Username=%{customdata[2]}<extra></extra>",
         "legendgroup": "Other Models",
         "marker": {
          "color": "#FF97FF",
          "size": [
           30,
           22,
           66,
           20,
           770,
           72,
           98,
           428,
           309,
           770,
           89,
           192
          ],
          "sizemode": "area",
          "sizeref": 5.5475,
          "symbol": "circle"
         },
         "mode": "markers",
         "name": "Other Models",
         "orientation": "v",
         "showlegend": true,
         "type": "scatter",
         "x": [
          32,
          391,
          148,
          96,
          30,
          500,
          500,
          500,
          262,
          169,
          500,
          435
         ],
         "xaxis": "x",
         "y": [
          93,
          91,
          64,
          44,
          37,
          30,
          29,
          28,
          23,
          19,
          6,
          3
         ],
         "yaxis": "y"
        },
        {
         "customdata": [
          [
           31,
           "Robot vacuum cleaner Xiaomi Robot Vacuum Cleaner X20",
           "dilya_1",
           99
          ],
          [
           106,
           "Canon printer set.",
           "slipknot1111",
           20
          ],
          [
           116,
           "Thermal curtain Ballu",
           "Sergio46",
           450
          ]
         ],
         "hovertemplate": "Category=Technology<br>Dur_Shrink=%{x}<br>Ranking=%{y}<br>Followers=%{customdata[3]}<br>N=%{customdata[0]}<br>Title=%{customdata[1]}<br>Username=%{customdata[2]}<extra></extra>",
         "legendgroup": "Technology",
         "marker": {
          "color": "#FECB52",
          "size": [
           99,
           20,
           450
          ],
          "sizemode": "area",
          "sizeref": 5.5475,
          "symbol": "circle"
         },
         "mode": "markers",
         "name": "Technology",
         "orientation": "v",
         "showlegend": true,
         "type": "scatter",
         "x": [
          181,
          65,
          500
         ],
         "xaxis": "x",
         "y": [
          90,
          15,
          5
         ],
         "yaxis": "y"
        },
        {
         "customdata": [
          [
           47,
           "Equipe BALI",
           "StanisLOVE.viz",
           160
          ],
          [
           53,
           "Equipe Hopp",
           "StanisLOVE.viz",
           160
          ],
          [
           56,
           "Herringbone parquet chevron s8",
           "StanisLOVE.viz",
           160
          ],
          [
           61,
           "Parquet board 4",
           "dofen",
           313
          ],
          [
           94,
           "Boen parquet board wood flooring",
           "dofen",
           313
          ],
          [
           108,
           "Equipe MASSIMO",
           "StanisLOVE.viz",
           160
          ]
         ],
         "hovertemplate": "Category=Textures<br>Dur_Shrink=%{x}<br>Ranking=%{y}<br>Followers=%{customdata[3]}<br>N=%{customdata[0]}<br>Title=%{customdata[1]}<br>Username=%{customdata[2]}<extra></extra>",
         "legendgroup": "Textures",
         "marker": {
          "color": "#636efa",
          "size": [
           160,
           160,
           160,
           313,
           313,
           160
          ],
          "sizemode": "area",
          "sizeref": 5.5475,
          "symbol": "circle"
         },
         "mode": "markers",
         "name": "Textures",
         "orientation": "v",
         "showlegend": true,
         "type": "scatter",
         "x": [
          64,
          274,
          188,
          38,
          326,
          64
         ],
         "xaxis": "x",
         "y": [
          74,
          68,
          65,
          60,
          27,
          13
         ],
         "yaxis": "y"
        },
        {
         "customdata": [
          [
           69,
           "FloorGen Tools 1.5.4",
           "-NiK-",
           40
          ]
         ],
         "hovertemplate": "Category=Scripts<br>Dur_Shrink=%{x}<br>Ranking=%{y}<br>Followers=%{customdata[3]}<br>N=%{customdata[0]}<br>Title=%{customdata[1]}<br>Username=%{customdata[2]}<extra></extra>",
         "legendgroup": "Scripts",
         "marker": {
          "color": "#EF553B",
          "size": [
           40
          ],
          "sizemode": "area",
          "sizeref": 5.5475,
          "symbol": "circle"
         },
         "mode": "markers",
         "name": "Scripts",
         "orientation": "v",
         "showlegend": true,
         "type": "scatter",
         "x": [
          500
         ],
         "xaxis": "x",
         "y": [
          52
         ],
         "yaxis": "y"
        },
        {
         "customdata": [
          [
           71,
           "Wet asphalt with leaves. Autumn. Editable",
           "paz",
           130
          ],
          [
           117,
           "Christmas Tree Street",
           "Al-make",
           50
          ]
         ],
         "hovertemplate": "Category=Architecture<br>Dur_Shrink=%{x}<br>Ranking=%{y}<br>Followers=%{customdata[3]}<br>N=%{customdata[0]}<br>Title=%{customdata[1]}<br>Username=%{customdata[2]}<extra></extra>",
         "legendgroup": "Architecture",
         "marker": {
          "color": "#00cc96",
          "size": [
           130,
           50
          ],
          "sizemode": "area",
          "sizeref": 5.5475,
          "symbol": "circle"
         },
         "mode": "markers",
         "name": "Architecture",
         "orientation": "v",
         "showlegend": true,
         "type": "scatter",
         "x": [
          401,
          500
         ],
         "xaxis": "x",
         "y": [
          50,
          4
         ],
         "yaxis": "y"
        }
       ],
       "layout": {
        "legend": {
         "itemsizing": "constant",
         "title": {
          "text": "Category"
         },
         "tracegroupgap": 0
        },
        "template": {
         "data": {
          "bar": [
           {
            "error_x": {
             "color": "#2a3f5f"
            },
            "error_y": {
             "color": "#2a3f5f"
            },
            "marker": {
             "line": {
              "color": "#E5ECF6",
              "width": 0.5
             },
             "pattern": {
              "fillmode": "overlay",
              "size": 10,
              "solidity": 0.2
             }
            },
            "type": "bar"
           }
          ],
          "barpolar": [
           {
            "marker": {
             "line": {
              "color": "#E5ECF6",
              "width": 0.5
             },
             "pattern": {
              "fillmode": "overlay",
              "size": 10,
              "solidity": 0.2
             }
            },
            "type": "barpolar"
           }
          ],
          "carpet": [
           {
            "aaxis": {
             "endlinecolor": "#2a3f5f",
             "gridcolor": "white",
             "linecolor": "white",
             "minorgridcolor": "white",
             "startlinecolor": "#2a3f5f"
            },
            "baxis": {
             "endlinecolor": "#2a3f5f",
             "gridcolor": "white",
             "linecolor": "white",
             "minorgridcolor": "white",
             "startlinecolor": "#2a3f5f"
            },
            "type": "carpet"
           }
          ],
          "choropleth": [
           {
            "colorbar": {
             "outlinewidth": 0,
             "ticks": ""
            },
            "type": "choropleth"
           }
          ],
          "contour": [
           {
            "colorbar": {
             "outlinewidth": 0,
             "ticks": ""
            },
            "colorscale": [
             [
              0,
              "#0d0887"
             ],
             [
              0.1111111111111111,
              "#46039f"
             ],
             [
              0.2222222222222222,
              "#7201a8"
             ],
             [
              0.3333333333333333,
              "#9c179e"
             ],
             [
              0.4444444444444444,
              "#bd3786"
             ],
             [
              0.5555555555555556,
              "#d8576b"
             ],
             [
              0.6666666666666666,
              "#ed7953"
             ],
             [
              0.7777777777777778,
              "#fb9f3a"
             ],
             [
              0.8888888888888888,
              "#fdca26"
             ],
             [
              1,
              "#f0f921"
             ]
            ],
            "type": "contour"
           }
          ],
          "contourcarpet": [
           {
            "colorbar": {
             "outlinewidth": 0,
             "ticks": ""
            },
            "type": "contourcarpet"
           }
          ],
          "heatmap": [
           {
            "colorbar": {
             "outlinewidth": 0,
             "ticks": ""
            },
            "colorscale": [
             [
              0,
              "#0d0887"
             ],
             [
              0.1111111111111111,
              "#46039f"
             ],
             [
              0.2222222222222222,
              "#7201a8"
             ],
             [
              0.3333333333333333,
              "#9c179e"
             ],
             [
              0.4444444444444444,
              "#bd3786"
             ],
             [
              0.5555555555555556,
              "#d8576b"
             ],
             [
              0.6666666666666666,
              "#ed7953"
             ],
             [
              0.7777777777777778,
              "#fb9f3a"
             ],
             [
              0.8888888888888888,
              "#fdca26"
             ],
             [
              1,
              "#f0f921"
             ]
            ],
            "type": "heatmap"
           }
          ],
          "heatmapgl": [
           {
            "colorbar": {
             "outlinewidth": 0,
             "ticks": ""
            },
            "colorscale": [
             [
              0,
              "#0d0887"
             ],
             [
              0.1111111111111111,
              "#46039f"
             ],
             [
              0.2222222222222222,
              "#7201a8"
             ],
             [
              0.3333333333333333,
              "#9c179e"
             ],
             [
              0.4444444444444444,
              "#bd3786"
             ],
             [
              0.5555555555555556,
              "#d8576b"
             ],
             [
              0.6666666666666666,
              "#ed7953"
             ],
             [
              0.7777777777777778,
              "#fb9f3a"
             ],
             [
              0.8888888888888888,
              "#fdca26"
             ],
             [
              1,
              "#f0f921"
             ]
            ],
            "type": "heatmapgl"
           }
          ],
          "histogram": [
           {
            "marker": {
             "pattern": {
              "fillmode": "overlay",
              "size": 10,
              "solidity": 0.2
             }
            },
            "type": "histogram"
           }
          ],
          "histogram2d": [
           {
            "colorbar": {
             "outlinewidth": 0,
             "ticks": ""
            },
            "colorscale": [
             [
              0,
              "#0d0887"
             ],
             [
              0.1111111111111111,
              "#46039f"
             ],
             [
              0.2222222222222222,
              "#7201a8"
             ],
             [
              0.3333333333333333,
              "#9c179e"
             ],
             [
              0.4444444444444444,
              "#bd3786"
             ],
             [
              0.5555555555555556,
              "#d8576b"
             ],
             [
              0.6666666666666666,
              "#ed7953"
             ],
             [
              0.7777777777777778,
              "#fb9f3a"
             ],
             [
              0.8888888888888888,
              "#fdca26"
             ],
             [
              1,
              "#f0f921"
             ]
            ],
            "type": "histogram2d"
           }
          ],
          "histogram2dcontour": [
           {
            "colorbar": {
             "outlinewidth": 0,
             "ticks": ""
            },
            "colorscale": [
             [
              0,
              "#0d0887"
             ],
             [
              0.1111111111111111,
              "#46039f"
             ],
             [
              0.2222222222222222,
              "#7201a8"
             ],
             [
              0.3333333333333333,
              "#9c179e"
             ],
             [
              0.4444444444444444,
              "#bd3786"
             ],
             [
              0.5555555555555556,
              "#d8576b"
             ],
             [
              0.6666666666666666,
              "#ed7953"
             ],
             [
              0.7777777777777778,
              "#fb9f3a"
             ],
             [
              0.8888888888888888,
              "#fdca26"
             ],
             [
              1,
              "#f0f921"
             ]
            ],
            "type": "histogram2dcontour"
           }
          ],
          "mesh3d": [
           {
            "colorbar": {
             "outlinewidth": 0,
             "ticks": ""
            },
            "type": "mesh3d"
           }
          ],
          "parcoords": [
           {
            "line": {
             "colorbar": {
              "outlinewidth": 0,
              "ticks": ""
             }
            },
            "type": "parcoords"
           }
          ],
          "pie": [
           {
            "automargin": true,
            "type": "pie"
           }
          ],
          "scatter": [
           {
            "fillpattern": {
             "fillmode": "overlay",
             "size": 10,
             "solidity": 0.2
            },
            "type": "scatter"
           }
          ],
          "scatter3d": [
           {
            "line": {
             "colorbar": {
              "outlinewidth": 0,
              "ticks": ""
             }
            },
            "marker": {
             "colorbar": {
              "outlinewidth": 0,
              "ticks": ""
             }
            },
            "type": "scatter3d"
           }
          ],
          "scattercarpet": [
           {
            "marker": {
             "colorbar": {
              "outlinewidth": 0,
              "ticks": ""
             }
            },
            "type": "scattercarpet"
           }
          ],
          "scattergeo": [
           {
            "marker": {
             "colorbar": {
              "outlinewidth": 0,
              "ticks": ""
             }
            },
            "type": "scattergeo"
           }
          ],
          "scattergl": [
           {
            "marker": {
             "colorbar": {
              "outlinewidth": 0,
              "ticks": ""
             }
            },
            "type": "scattergl"
           }
          ],
          "scattermapbox": [
           {
            "marker": {
             "colorbar": {
              "outlinewidth": 0,
              "ticks": ""
             }
            },
            "type": "scattermapbox"
           }
          ],
          "scatterpolar": [
           {
            "marker": {
             "colorbar": {
              "outlinewidth": 0,
              "ticks": ""
             }
            },
            "type": "scatterpolar"
           }
          ],
          "scatterpolargl": [
           {
            "marker": {
             "colorbar": {
              "outlinewidth": 0,
              "ticks": ""
             }
            },
            "type": "scatterpolargl"
           }
          ],
          "scatterternary": [
           {
            "marker": {
             "colorbar": {
              "outlinewidth": 0,
              "ticks": ""
             }
            },
            "type": "scatterternary"
           }
          ],
          "surface": [
           {
            "colorbar": {
             "outlinewidth": 0,
             "ticks": ""
            },
            "colorscale": [
             [
              0,
              "#0d0887"
             ],
             [
              0.1111111111111111,
              "#46039f"
             ],
             [
              0.2222222222222222,
              "#7201a8"
             ],
             [
              0.3333333333333333,
              "#9c179e"
             ],
             [
              0.4444444444444444,
              "#bd3786"
             ],
             [
              0.5555555555555556,
              "#d8576b"
             ],
             [
              0.6666666666666666,
              "#ed7953"
             ],
             [
              0.7777777777777778,
              "#fb9f3a"
             ],
             [
              0.8888888888888888,
              "#fdca26"
             ],
             [
              1,
              "#f0f921"
             ]
            ],
            "type": "surface"
           }
          ],
          "table": [
           {
            "cells": {
             "fill": {
              "color": "#EBF0F8"
             },
             "line": {
              "color": "white"
             }
            },
            "header": {
             "fill": {
              "color": "#C8D4E3"
             },
             "line": {
              "color": "white"
             }
            },
            "type": "table"
           }
          ]
         },
         "layout": {
          "annotationdefaults": {
           "arrowcolor": "#2a3f5f",
           "arrowhead": 0,
           "arrowwidth": 1
          },
          "autotypenumbers": "strict",
          "coloraxis": {
           "colorbar": {
            "outlinewidth": 0,
            "ticks": ""
           }
          },
          "colorscale": {
           "diverging": [
            [
             0,
             "#8e0152"
            ],
            [
             0.1,
             "#c51b7d"
            ],
            [
             0.2,
             "#de77ae"
            ],
            [
             0.3,
             "#f1b6da"
            ],
            [
             0.4,
             "#fde0ef"
            ],
            [
             0.5,
             "#f7f7f7"
            ],
            [
             0.6,
             "#e6f5d0"
            ],
            [
             0.7,
             "#b8e186"
            ],
            [
             0.8,
             "#7fbc41"
            ],
            [
             0.9,
             "#4d9221"
            ],
            [
             1,
             "#276419"
            ]
           ],
           "sequential": [
            [
             0,
             "#0d0887"
            ],
            [
             0.1111111111111111,
             "#46039f"
            ],
            [
             0.2222222222222222,
             "#7201a8"
            ],
            [
             0.3333333333333333,
             "#9c179e"
            ],
            [
             0.4444444444444444,
             "#bd3786"
            ],
            [
             0.5555555555555556,
             "#d8576b"
            ],
            [
             0.6666666666666666,
             "#ed7953"
            ],
            [
             0.7777777777777778,
             "#fb9f3a"
            ],
            [
             0.8888888888888888,
             "#fdca26"
            ],
            [
             1,
             "#f0f921"
            ]
           ],
           "sequentialminus": [
            [
             0,
             "#0d0887"
            ],
            [
             0.1111111111111111,
             "#46039f"
            ],
            [
             0.2222222222222222,
             "#7201a8"
            ],
            [
             0.3333333333333333,
             "#9c179e"
            ],
            [
             0.4444444444444444,
             "#bd3786"
            ],
            [
             0.5555555555555556,
             "#d8576b"
            ],
            [
             0.6666666666666666,
             "#ed7953"
            ],
            [
             0.7777777777777778,
             "#fb9f3a"
            ],
            [
             0.8888888888888888,
             "#fdca26"
            ],
            [
             1,
             "#f0f921"
            ]
           ]
          },
          "colorway": [
           "#636efa",
           "#EF553B",
           "#00cc96",
           "#ab63fa",
           "#FFA15A",
           "#19d3f3",
           "#FF6692",
           "#B6E880",
           "#FF97FF",
           "#FECB52"
          ],
          "font": {
           "color": "#2a3f5f"
          },
          "geo": {
           "bgcolor": "white",
           "lakecolor": "white",
           "landcolor": "#E5ECF6",
           "showlakes": true,
           "showland": true,
           "subunitcolor": "white"
          },
          "hoverlabel": {
           "align": "left"
          },
          "hovermode": "closest",
          "mapbox": {
           "style": "light"
          },
          "paper_bgcolor": "white",
          "plot_bgcolor": "#E5ECF6",
          "polar": {
           "angularaxis": {
            "gridcolor": "white",
            "linecolor": "white",
            "ticks": ""
           },
           "bgcolor": "#E5ECF6",
           "radialaxis": {
            "gridcolor": "white",
            "linecolor": "white",
            "ticks": ""
           }
          },
          "scene": {
           "xaxis": {
            "backgroundcolor": "#E5ECF6",
            "gridcolor": "white",
            "gridwidth": 2,
            "linecolor": "white",
            "showbackground": true,
            "ticks": "",
            "zerolinecolor": "white"
           },
           "yaxis": {
            "backgroundcolor": "#E5ECF6",
            "gridcolor": "white",
            "gridwidth": 2,
            "linecolor": "white",
            "showbackground": true,
            "ticks": "",
            "zerolinecolor": "white"
           },
           "zaxis": {
            "backgroundcolor": "#E5ECF6",
            "gridcolor": "white",
            "gridwidth": 2,
            "linecolor": "white",
            "showbackground": true,
            "ticks": "",
            "zerolinecolor": "white"
           }
          },
          "shapedefaults": {
           "line": {
            "color": "#2a3f5f"
           }
          },
          "ternary": {
           "aaxis": {
            "gridcolor": "white",
            "linecolor": "white",
            "ticks": ""
           },
           "baxis": {
            "gridcolor": "white",
            "linecolor": "white",
            "ticks": ""
           },
           "bgcolor": "#E5ECF6",
           "caxis": {
            "gridcolor": "white",
            "linecolor": "white",
            "ticks": ""
           }
          },
          "title": {
           "x": 0.05
          },
          "xaxis": {
           "automargin": true,
           "gridcolor": "white",
           "linecolor": "white",
           "ticks": "",
           "title": {
            "standoff": 15
           },
           "zerolinecolor": "white",
           "zerolinewidth": 2
          },
          "yaxis": {
           "automargin": true,
           "gridcolor": "white",
           "linecolor": "white",
           "ticks": "",
           "title": {
            "standoff": 15
           },
           "zerolinecolor": "white",
           "zerolinewidth": 2
          }
         }
        },
        "title": {
         "text": "Top 120 by Duration and Ranking"
        },
        "xaxis": {
         "anchor": "y",
         "domain": [
          0,
          1
         ],
         "title": {
          "text": "Dur_Shrink"
         }
        },
        "yaxis": {
         "anchor": "x",
         "domain": [
          0,
          1
         ],
         "title": {
          "text": "Ranking"
         }
        }
       }
      }
     },
     "metadata": {},
     "output_type": "display_data"
    }
   ],
   "source": [
    "fig8 = px.scatter(result_vis, x='Dur_Shrink', y='Ranking', color='Category', size='Followers', hover_data=['N','Title','Username','Followers'], title='Top 120 by Duration and Ranking')\n",
    "fig8.show()"
   ]
  },
  {
   "cell_type": "code",
   "execution_count": 203,
   "metadata": {},
   "outputs": [],
   "source": [
    "fig1.write_html(\"Top 120 Count by Category.html\")\n",
    "fig2.write_html(\"Top 120 Count by Subcategory.html\")\n",
    "fig3.write_html(\"Top 120 by Selected and Followers.html\")\n",
    "fig4.write_html(\"Top 120 Count by Duration.html\")\n",
    "fig5.write_html(\"Top 120 total Rank by Category.html\")\n",
    "fig6.write_html(\"Top 120 Rank distribution by Category.html\")\n",
    "fig7.write_html(\"Top 120 Duration distribution by Category.html\")\n",
    "fig8.write_html(\"Top 120 by Duration and Ranking.html\")\n",
    "\n"
   ]
  },
  {
   "cell_type": "code",
   "execution_count": 218,
   "metadata": {},
   "outputs": [
    {
     "data": {
      "application/vnd.plotly.v1+json": {
       "config": {
        "plotlyServerURL": "https://plot.ly"
       },
       "data": [
        {
         "hovertemplate": "Title=Christmas tree with fireplace 5<br>Curdate=%{x}<br>Ranking=%{y}<extra></extra>",
         "legendgroup": "Christmas tree with fireplace 5",
         "line": {
          "color": "#636efa",
          "dash": "solid"
         },
         "marker": {
          "symbol": "circle"
         },
         "mode": "lines",
         "name": "Christmas tree with fireplace 5",
         "orientation": "v",
         "showlegend": true,
         "type": "scatter",
         "x": [
          "2024-11-26",
          "2024-11-27",
          "2024-11-28"
         ],
         "xaxis": "x",
         "y": [
          120,
          120,
          120
         ],
         "yaxis": "y"
        },
        {
         "hovertemplate": "Title=Benuta Leon Cream Wool Rug<br>Curdate=%{x}<br>Ranking=%{y}<extra></extra>",
         "legendgroup": "Benuta Leon Cream Wool Rug",
         "line": {
          "color": "#EF553B",
          "dash": "solid"
         },
         "marker": {
          "symbol": "circle"
         },
         "mode": "lines",
         "name": "Benuta Leon Cream Wool Rug",
         "orientation": "v",
         "showlegend": true,
         "type": "scatter",
         "x": [
          "2024-11-26",
          "2024-11-27",
          "2024-11-28"
         ],
         "xaxis": "x",
         "y": [
          119,
          119,
          119
         ],
         "yaxis": "y"
        },
        {
         "hovertemplate": "Title=Office chair Ashley<br>Curdate=%{x}<br>Ranking=%{y}<extra></extra>",
         "legendgroup": "Office chair Ashley",
         "line": {
          "color": "#00cc96",
          "dash": "solid"
         },
         "marker": {
          "symbol": "circle"
         },
         "mode": "lines",
         "name": "Office chair Ashley",
         "orientation": "v",
         "showlegend": true,
         "type": "scatter",
         "x": [
          "2024-11-26",
          "2024-11-27",
          "2024-11-28"
         ],
         "xaxis": "x",
         "y": [
          118,
          117,
          117
         ],
         "yaxis": "y"
        },
        {
         "hovertemplate": "Title=Indoor Plant Set 89<br>Curdate=%{x}<br>Ranking=%{y}<extra></extra>",
         "legendgroup": "Indoor Plant Set 89",
         "line": {
          "color": "#ab63fa",
          "dash": "solid"
         },
         "marker": {
          "symbol": "circle"
         },
         "mode": "lines",
         "name": "Indoor Plant Set 89",
         "orientation": "v",
         "showlegend": true,
         "type": "scatter",
         "x": [
          "2024-11-26",
          "2024-11-27",
          "2024-11-28"
         ],
         "xaxis": "x",
         "y": [
          117,
          116,
          118
         ],
         "yaxis": "y"
        },
        {
         "hovertemplate": "Title=Boucle Fabric<br>Curdate=%{x}<br>Ranking=%{y}<extra></extra>",
         "legendgroup": "Boucle Fabric",
         "line": {
          "color": "#FFA15A",
          "dash": "solid"
         },
         "marker": {
          "symbol": "circle"
         },
         "mode": "lines",
         "name": "Boucle Fabric",
         "orientation": "v",
         "showlegend": true,
         "type": "scatter",
         "x": [
          "2024-11-26",
          "2024-11-27",
          "2024-11-28"
         ],
         "xaxis": "x",
         "y": [
          116,
          118,
          115
         ],
         "yaxis": "y"
        },
        {
         "hovertemplate": "Title=Clothes for wardrobe NG15<br>Curdate=%{x}<br>Ranking=%{y}<extra></extra>",
         "legendgroup": "Clothes for wardrobe NG15",
         "line": {
          "color": "#19d3f3",
          "dash": "solid"
         },
         "marker": {
          "symbol": "circle"
         },
         "mode": "lines",
         "name": "Clothes for wardrobe NG15",
         "orientation": "v",
         "showlegend": true,
         "type": "scatter",
         "x": [
          "2024-11-26",
          "2024-11-27",
          "2024-11-28"
         ],
         "xaxis": "x",
         "y": [
          115,
          115,
          116
         ],
         "yaxis": "y"
        },
        {
         "hovertemplate": "Title=Benuta Dave Rectangular Fur Rug (3 colors)<br>Curdate=%{x}<br>Ranking=%{y}<extra></extra>",
         "legendgroup": "Benuta Dave Rectangular Fur Rug (3 colors)",
         "line": {
          "color": "#FF6692",
          "dash": "solid"
         },
         "marker": {
          "symbol": "circle"
         },
         "mode": "lines",
         "name": "Benuta Dave Rectangular Fur Rug (3 colors)",
         "orientation": "v",
         "showlegend": true,
         "type": "scatter",
         "x": [
          "2024-11-26",
          "2024-11-27",
          "2024-11-28"
         ],
         "xaxis": "x",
         "y": [
          114,
          114,
          113
         ],
         "yaxis": "y"
        },
        {
         "hovertemplate": "Title=Decorative Set 089<br>Curdate=%{x}<br>Ranking=%{y}<extra></extra>",
         "legendgroup": "Decorative Set 089",
         "line": {
          "color": "#B6E880",
          "dash": "solid"
         },
         "marker": {
          "symbol": "circle"
         },
         "mode": "lines",
         "name": "Decorative Set 089",
         "orientation": "v",
         "showlegend": true,
         "type": "scatter",
         "x": [
          "2024-11-26",
          "2024-11-27",
          "2024-11-28"
         ],
         "xaxis": "x",
         "y": [
          113,
          113,
          114
         ],
         "yaxis": "y"
        },
        {
         "hovertemplate": "Title=Kitchen 10<br>Curdate=%{x}<br>Ranking=%{y}<extra></extra>",
         "legendgroup": "Kitchen 10",
         "line": {
          "color": "#FF97FF",
          "dash": "solid"
         },
         "marker": {
          "symbol": "circle"
         },
         "mode": "lines",
         "name": "Kitchen 10",
         "orientation": "v",
         "showlegend": true,
         "type": "scatter",
         "x": [
          "2024-11-26",
          "2024-11-27",
          "2024-11-28"
         ],
         "xaxis": "x",
         "y": [
          112,
          112,
          111
         ],
         "yaxis": "y"
        },
        {
         "hovertemplate": "Title=Curtains with Roman blinds 2<br>Curdate=%{x}<br>Ranking=%{y}<extra></extra>",
         "legendgroup": "Curtains with Roman blinds 2",
         "line": {
          "color": "#FECB52",
          "dash": "solid"
         },
         "marker": {
          "symbol": "circle"
         },
         "mode": "lines",
         "name": "Curtains with Roman blinds 2",
         "orientation": "v",
         "showlegend": true,
         "type": "scatter",
         "x": [
          "2024-11-26",
          "2024-11-27",
          "2024-11-28"
         ],
         "xaxis": "x",
         "y": [
          111,
          111,
          112
         ],
         "yaxis": "y"
        },
        {
         "hovertemplate": "Title=Decorative Set 088<br>Curdate=%{x}<br>Ranking=%{y}<extra></extra>",
         "legendgroup": "Decorative Set 088",
         "line": {
          "color": "#636efa",
          "dash": "solid"
         },
         "marker": {
          "symbol": "circle"
         },
         "mode": "lines",
         "name": "Decorative Set 088",
         "orientation": "v",
         "showlegend": true,
         "type": "scatter",
         "x": [
          "2024-11-26",
          "2024-11-27",
          "2024-11-28"
         ],
         "xaxis": "x",
         "y": [
          110,
          110,
          110
         ],
         "yaxis": "y"
        },
        {
         "hovertemplate": "Title=A set of clothes in bright colors for a wardrobe or showroom and a store<br>Curdate=%{x}<br>Ranking=%{y}<extra></extra>",
         "legendgroup": "A set of clothes in bright colors for a wardrobe or showroom and a store",
         "line": {
          "color": "#EF553B",
          "dash": "solid"
         },
         "marker": {
          "symbol": "circle"
         },
         "mode": "lines",
         "name": "A set of clothes in bright colors for a wardrobe or showroom and a store",
         "orientation": "v",
         "showlegend": true,
         "type": "scatter",
         "x": [
          "2024-11-26",
          "2024-11-27",
          "2024-11-28"
         ],
         "xaxis": "x",
         "y": [
          109,
          100,
          106
         ],
         "yaxis": "y"
        },
        {
         "hovertemplate": "Title=Office chair Sergio La Redoute<br>Curdate=%{x}<br>Ranking=%{y}<extra></extra>",
         "legendgroup": "Office chair Sergio La Redoute",
         "line": {
          "color": "#00cc96",
          "dash": "solid"
         },
         "marker": {
          "symbol": "circle"
         },
         "mode": "lines",
         "name": "Office chair Sergio La Redoute",
         "orientation": "v",
         "showlegend": true,
         "type": "scatter",
         "x": [
          "2024-11-26",
          "2024-11-27",
          "2024-11-28"
         ],
         "xaxis": "x",
         "y": [
          108,
          107,
          99
         ],
         "yaxis": "y"
        },
        {
         "hovertemplate": "Title=TV wall with Xiaomi laser projector<br>Curdate=%{x}<br>Ranking=%{y}<extra></extra>",
         "legendgroup": "TV wall with Xiaomi laser projector",
         "line": {
          "color": "#ab63fa",
          "dash": "solid"
         },
         "marker": {
          "symbol": "circle"
         },
         "mode": "lines",
         "name": "TV wall with Xiaomi laser projector",
         "orientation": "v",
         "showlegend": true,
         "type": "scatter",
         "x": [
          "2024-11-26",
          "2024-11-27",
          "2024-11-28"
         ],
         "xaxis": "x",
         "y": [
          107,
          101,
          101
         ],
         "yaxis": "y"
        },
        {
         "hovertemplate": "Title=Dressing room 16<br>Curdate=%{x}<br>Ranking=%{y}<extra></extra>",
         "legendgroup": "Dressing room 16",
         "line": {
          "color": "#FFA15A",
          "dash": "solid"
         },
         "marker": {
          "symbol": "circle"
         },
         "mode": "lines",
         "name": "Dressing room 16",
         "orientation": "v",
         "showlegend": true,
         "type": "scatter",
         "x": [
          "2024-11-26",
          "2024-11-27",
          "2024-11-28"
         ],
         "xaxis": "x",
         "y": [
          106,
          109,
          107
         ],
         "yaxis": "y"
        },
        {
         "hovertemplate": "Title=Carpeting. Seamless carpet<br>Curdate=%{x}<br>Ranking=%{y}<extra></extra>",
         "legendgroup": "Carpeting. Seamless carpet",
         "line": {
          "color": "#19d3f3",
          "dash": "solid"
         },
         "marker": {
          "symbol": "circle"
         },
         "mode": "lines",
         "name": "Carpeting. Seamless carpet",
         "orientation": "v",
         "showlegend": true,
         "type": "scatter",
         "x": [
          "2024-11-26",
          "2024-11-27",
          "2024-11-28"
         ],
         "xaxis": "x",
         "y": [
          105,
          108,
          109
         ],
         "yaxis": "y"
        },
        {
         "hovertemplate": "Title=Roman blinds, Roman blinds<br>Curdate=%{x}<br>Ranking=%{y}<extra></extra>",
         "legendgroup": "Roman blinds, Roman blinds",
         "line": {
          "color": "#FF6692",
          "dash": "solid"
         },
         "marker": {
          "symbol": "circle"
         },
         "mode": "lines",
         "name": "Roman blinds, Roman blinds",
         "orientation": "v",
         "showlegend": true,
         "type": "scatter",
         "x": [
          "2024-11-26",
          "2024-11-27",
          "2024-11-28"
         ],
         "xaxis": "x",
         "y": [
          104,
          105,
          103
         ],
         "yaxis": "y"
        },
        {
         "hovertemplate": "Title=Basic wardrobe made of cabinet furniture with doors<br>Curdate=%{x}<br>Ranking=%{y}<extra></extra>",
         "legendgroup": "Basic wardrobe made of cabinet furniture with doors",
         "line": {
          "color": "#B6E880",
          "dash": "solid"
         },
         "marker": {
          "symbol": "circle"
         },
         "mode": "lines",
         "name": "Basic wardrobe made of cabinet furniture with doors",
         "orientation": "v",
         "showlegend": true,
         "type": "scatter",
         "x": [
          "2024-11-26",
          "2024-11-27",
          "2024-11-28"
         ],
         "xaxis": "x",
         "y": [
          103,
          104,
          102
         ],
         "yaxis": "y"
        },
        {
         "hovertemplate": "Title=Bathroom decor with a set of different cosmetic products<br>Curdate=%{x}<br>Ranking=%{y}<extra></extra>",
         "legendgroup": "Bathroom decor with a set of different cosmetic products",
         "line": {
          "color": "#FF97FF",
          "dash": "solid"
         },
         "marker": {
          "symbol": "circle"
         },
         "mode": "lines",
         "name": "Bathroom decor with a set of different cosmetic products",
         "orientation": "v",
         "showlegend": true,
         "type": "scatter",
         "x": [
          "2024-11-26",
          "2024-11-27",
          "2024-11-28"
         ],
         "xaxis": "x",
         "y": [
          102,
          96,
          95
         ],
         "yaxis": "y"
        },
        {
         "hovertemplate": "Title=Cecily Nara bedside table Cosmo<br>Curdate=%{x}<br>Ranking=%{y}<extra></extra>",
         "legendgroup": "Cecily Nara bedside table Cosmo",
         "line": {
          "color": "#FECB52",
          "dash": "solid"
         },
         "marker": {
          "symbol": "circle"
         },
         "mode": "lines",
         "name": "Cecily Nara bedside table Cosmo",
         "orientation": "v",
         "showlegend": true,
         "type": "scatter",
         "x": [
          "2024-11-26",
          "2024-11-27",
          "2024-11-28"
         ],
         "xaxis": "x",
         "y": [
          101,
          89,
          86
         ],
         "yaxis": "y"
        },
        {
         "hovertemplate": "Title=Cairns pedestal Divan.ru<br>Curdate=%{x}<br>Ranking=%{y}<extra></extra>",
         "legendgroup": "Cairns pedestal Divan.ru",
         "line": {
          "color": "#636efa",
          "dash": "solid"
         },
         "marker": {
          "symbol": "circle"
         },
         "mode": "lines",
         "name": "Cairns pedestal Divan.ru",
         "orientation": "v",
         "showlegend": true,
         "type": "scatter",
         "x": [
          "2024-11-26",
          "2024-11-27",
          "2024-11-28"
         ],
         "xaxis": "x",
         "y": [
          100,
          106,
          105
         ],
         "yaxis": "y"
        },
        {
         "hovertemplate": "Title=Snow<br>Curdate=%{x}<br>Ranking=%{y}<extra></extra>",
         "legendgroup": "Snow",
         "line": {
          "color": "#EF553B",
          "dash": "solid"
         },
         "marker": {
          "symbol": "circle"
         },
         "mode": "lines",
         "name": "Snow",
         "orientation": "v",
         "showlegend": true,
         "type": "scatter",
         "x": [
          "2024-11-26",
          "2024-11-27",
          "2024-11-28"
         ],
         "xaxis": "x",
         "y": [
          99,
          98,
          97
         ],
         "yaxis": "y"
        },
        {
         "hovertemplate": "Title=Glass Block Wall 08<br>Curdate=%{x}<br>Ranking=%{y}<extra></extra>",
         "legendgroup": "Glass Block Wall 08",
         "line": {
          "color": "#00cc96",
          "dash": "solid"
         },
         "marker": {
          "symbol": "circle"
         },
         "mode": "lines",
         "name": "Glass Block Wall 08",
         "orientation": "v",
         "showlegend": true,
         "type": "scatter",
         "x": [
          "2024-11-26",
          "2024-11-27",
          "2024-11-28"
         ],
         "xaxis": "x",
         "y": [
          98,
          97,
          96
         ],
         "yaxis": "y"
        },
        {
         "hovertemplate": "Title=Faucets and showers Boheme uno set 2<br>Curdate=%{x}<br>Ranking=%{y}<extra></extra>",
         "legendgroup": "Faucets and showers Boheme uno set 2",
         "line": {
          "color": "#ab63fa",
          "dash": "solid"
         },
         "marker": {
          "symbol": "circle"
         },
         "mode": "lines",
         "name": "Faucets and showers Boheme uno set 2",
         "orientation": "v",
         "showlegend": true,
         "type": "scatter",
         "x": [
          "2024-11-26",
          "2024-11-27",
          "2024-11-28"
         ],
         "xaxis": "x",
         "y": [
          97,
          84,
          89
         ],
         "yaxis": "y"
        },
        {
         "hovertemplate": "Title=Porcelain tiles Nolana Estima<br>Curdate=%{x}<br>Ranking=%{y}<extra></extra>",
         "legendgroup": "Porcelain tiles Nolana Estima",
         "line": {
          "color": "#FFA15A",
          "dash": "solid"
         },
         "marker": {
          "symbol": "circle"
         },
         "mode": "lines",
         "name": "Porcelain tiles Nolana Estima",
         "orientation": "v",
         "showlegend": true,
         "type": "scatter",
         "x": [
          "2024-11-26",
          "2024-11-27",
          "2024-11-28"
         ],
         "xaxis": "x",
         "y": [
          96,
          95,
          88
         ],
         "yaxis": "y"
        },
        {
         "hovertemplate": "Title=Omnires mixers<br>Curdate=%{x}<br>Ranking=%{y}<extra></extra>",
         "legendgroup": "Omnires mixers",
         "line": {
          "color": "#19d3f3",
          "dash": "solid"
         },
         "marker": {
          "symbol": "circle"
         },
         "mode": "lines",
         "name": "Omnires mixers",
         "orientation": "v",
         "showlegend": true,
         "type": "scatter",
         "x": [
          "2024-11-26",
          "2024-11-27",
          "2024-11-28"
         ],
         "xaxis": "x",
         "y": [
          95,
          103,
          100
         ],
         "yaxis": "y"
        },
        {
         "hovertemplate": "Title=3DArt Relief NG41<br>Curdate=%{x}<br>Ranking=%{y}<extra></extra>",
         "legendgroup": "3DArt Relief NG41",
         "line": {
          "color": "#FF6692",
          "dash": "solid"
         },
         "marker": {
          "symbol": "circle"
         },
         "mode": "lines",
         "name": "3DArt Relief NG41",
         "orientation": "v",
         "showlegend": true,
         "type": "scatter",
         "x": [
          "2024-11-26",
          "2024-11-27",
          "2024-11-28"
         ],
         "xaxis": "x",
         "y": [
          94,
          90,
          78
         ],
         "yaxis": "y"
        },
        {
         "hovertemplate": "Title=Decorative Set 270<br>Curdate=%{x}<br>Ranking=%{y}<extra></extra>",
         "legendgroup": "Decorative Set 270",
         "line": {
          "color": "#B6E880",
          "dash": "solid"
         },
         "marker": {
          "symbol": "circle"
         },
         "mode": "lines",
         "name": "Decorative Set 270",
         "orientation": "v",
         "showlegend": true,
         "type": "scatter",
         "x": [
          "2024-11-26",
          "2024-11-27",
          "2024-11-28"
         ],
         "xaxis": "x",
         "y": [
          93,
          93,
          59
         ],
         "yaxis": "y"
        },
        {
         "hovertemplate": "Title=Grilles for ventilation and air conditioning Redvent<br>Curdate=%{x}<br>Ranking=%{y}<extra></extra>",
         "legendgroup": "Grilles for ventilation and air conditioning Redvent",
         "line": {
          "color": "#FF97FF",
          "dash": "solid"
         },
         "marker": {
          "symbol": "circle"
         },
         "mode": "lines",
         "name": "Grilles for ventilation and air conditioning Redvent",
         "orientation": "v",
         "showlegend": true,
         "type": "scatter",
         "x": [
          "2024-11-26",
          "2024-11-27",
          "2024-11-28"
         ],
         "xaxis": "x",
         "y": [
          92,
          82,
          93
         ],
         "yaxis": "y"
        },
        {
         "hovertemplate": "Title=kitchen 0252<br>Curdate=%{x}<br>Ranking=%{y}<extra></extra>",
         "legendgroup": "kitchen 0252",
         "line": {
          "color": "#FECB52",
          "dash": "solid"
         },
         "marker": {
          "symbol": "circle"
         },
         "mode": "lines",
         "name": "kitchen 0252",
         "orientation": "v",
         "showlegend": true,
         "type": "scatter",
         "x": [
          "2024-11-26",
          "2024-11-27",
          "2024-11-28"
         ],
         "xaxis": "x",
         "y": [
          91,
          69,
          85
         ],
         "yaxis": "y"
        },
        {
         "hovertemplate": "Title=Dressing room 28<br>Curdate=%{x}<br>Ranking=%{y}<extra></extra>",
         "legendgroup": "Dressing room 28",
         "line": {
          "color": "#636efa",
          "dash": "solid"
         },
         "marker": {
          "symbol": "circle"
         },
         "mode": "lines",
         "name": "Dressing room 28",
         "orientation": "v",
         "showlegend": true,
         "type": "scatter",
         "x": [
          "2024-11-26",
          "2024-11-27",
          "2024-11-28"
         ],
         "xaxis": "x",
         "y": [
          90,
          99,
          108
         ],
         "yaxis": "y"
        },
        {
         "hovertemplate": "Title=Interactive panel for children room<br>Curdate=%{x}<br>Ranking=%{y}<extra></extra>",
         "legendgroup": "Interactive panel for children room",
         "line": {
          "color": "#EF553B",
          "dash": "solid"
         },
         "marker": {
          "symbol": "circle"
         },
         "mode": "lines",
         "name": "Interactive panel for children room",
         "orientation": "v",
         "showlegend": true,
         "type": "scatter",
         "x": [
          "2024-11-26",
          "2024-11-27",
          "2024-11-28"
         ],
         "xaxis": "x",
         "y": [
          89,
          73,
          43
         ],
         "yaxis": "y"
        },
        {
         "hovertemplate": "Title=Kitchen Appliance Bosch Kitchen 81<br>Curdate=%{x}<br>Ranking=%{y}<extra></extra>",
         "legendgroup": "Kitchen Appliance Bosch Kitchen 81",
         "line": {
          "color": "#00cc96",
          "dash": "solid"
         },
         "marker": {
          "symbol": "circle"
         },
         "mode": "lines",
         "name": "Kitchen Appliance Bosch Kitchen 81",
         "orientation": "v",
         "showlegend": true,
         "type": "scatter",
         "x": [
          "2024-11-26",
          "2024-11-27",
          "2024-11-28"
         ],
         "xaxis": "x",
         "y": [
          88,
          58,
          40
         ],
         "yaxis": "y"
        },
        {
         "hovertemplate": "Title=Children play area | Interactive<br>Curdate=%{x}<br>Ranking=%{y}<extra></extra>",
         "legendgroup": "Children play area | Interactive",
         "line": {
          "color": "#ab63fa",
          "dash": "solid"
         },
         "marker": {
          "symbol": "circle"
         },
         "mode": "lines",
         "name": "Children play area | Interactive",
         "orientation": "v",
         "showlegend": true,
         "type": "scatter",
         "x": [
          "2024-11-26",
          "2024-11-27",
          "2024-11-28"
         ],
         "xaxis": "x",
         "y": [
          87,
          87,
          98
         ],
         "yaxis": "y"
        },
        {
         "hovertemplate": "Title=Siena Kids Bed By Como<br>Curdate=%{x}<br>Ranking=%{y}<extra></extra>",
         "legendgroup": "Siena Kids Bed By Como",
         "line": {
          "color": "#FFA15A",
          "dash": "solid"
         },
         "marker": {
          "symbol": "circle"
         },
         "mode": "lines",
         "name": "Siena Kids Bed By Como",
         "orientation": "v",
         "showlegend": true,
         "type": "scatter",
         "x": [
          "2024-11-26",
          "2024-11-27",
          "2024-11-28"
         ],
         "xaxis": "x",
         "y": [
          86,
          92,
          92
         ],
         "yaxis": "y"
        },
        {
         "hovertemplate": "Title=Padel<br>Curdate=%{x}<br>Ranking=%{y}<extra></extra>",
         "legendgroup": "Padel",
         "line": {
          "color": "#19d3f3",
          "dash": "solid"
         },
         "marker": {
          "symbol": "circle"
         },
         "mode": "lines",
         "name": "Padel",
         "orientation": "v",
         "showlegend": true,
         "type": "scatter",
         "x": [
          "2024-11-26",
          "2024-11-27",
          "2024-11-28"
         ],
         "xaxis": "x",
         "y": [
          85,
          77,
          91
         ],
         "yaxis": "y"
        },
        {
         "hovertemplate": "Title=Robot vacuum cleaner Xiaomi Robot Vacuum Cleaner X20<br>Curdate=%{x}<br>Ranking=%{y}<extra></extra>",
         "legendgroup": "Robot vacuum cleaner Xiaomi Robot Vacuum Cleaner X20",
         "line": {
          "color": "#FF6692",
          "dash": "solid"
         },
         "marker": {
          "symbol": "circle"
         },
         "mode": "lines",
         "name": "Robot vacuum cleaner Xiaomi Robot Vacuum Cleaner X20",
         "orientation": "v",
         "showlegend": true,
         "type": "scatter",
         "x": [
          "2024-11-26",
          "2024-11-27",
          "2024-11-28"
         ],
         "xaxis": "x",
         "y": [
          84,
          76,
          90
         ],
         "yaxis": "y"
        },
        {
         "hovertemplate": "Title=Wine with chocolate set/1<br>Curdate=%{x}<br>Ranking=%{y}<extra></extra>",
         "legendgroup": "Wine with chocolate set/1",
         "line": {
          "color": "#B6E880",
          "dash": "solid"
         },
         "marker": {
          "symbol": "circle"
         },
         "mode": "lines",
         "name": "Wine with chocolate set/1",
         "orientation": "v",
         "showlegend": true,
         "type": "scatter",
         "x": [
          "2024-11-26",
          "2024-11-27",
          "2024-11-28"
         ],
         "xaxis": "x",
         "y": [
          83,
          85,
          76
         ],
         "yaxis": "y"
        },
        {
         "hovertemplate": "Title=A bouquet of lilacs in a glass vase<br>Curdate=%{x}<br>Ranking=%{y}<extra></extra>",
         "legendgroup": "A bouquet of lilacs in a glass vase",
         "line": {
          "color": "#FF97FF",
          "dash": "solid"
         },
         "marker": {
          "symbol": "circle"
         },
         "mode": "lines",
         "name": "A bouquet of lilacs in a glass vase",
         "orientation": "v",
         "showlegend": true,
         "type": "scatter",
         "x": [
          "2024-11-26",
          "2024-11-27",
          "2024-11-28"
         ],
         "xaxis": "x",
         "y": [
          82,
          91,
          72
         ],
         "yaxis": "y"
        },
        {
         "hovertemplate": "Title=Moooi Drape Lights<br>Curdate=%{x}<br>Ranking=%{y}<extra></extra>",
         "legendgroup": "Moooi Drape Lights",
         "line": {
          "color": "#FECB52",
          "dash": "solid"
         },
         "marker": {
          "symbol": "circle"
         },
         "mode": "lines",
         "name": "Moooi Drape Lights",
         "orientation": "v",
         "showlegend": true,
         "type": "scatter",
         "x": [
          "2024-11-26",
          "2024-11-27",
          "2024-11-28"
         ],
         "xaxis": "x",
         "y": [
          81,
          102,
          94
         ],
         "yaxis": "y"
        },
        {
         "hovertemplate": "Title=Pila Vessels en gold / Jug<br>Curdate=%{x}<br>Ranking=%{y}<extra></extra>",
         "legendgroup": "Pila Vessels en gold / Jug",
         "line": {
          "color": "#636efa",
          "dash": "solid"
         },
         "marker": {
          "symbol": "circle"
         },
         "mode": "lines",
         "name": "Pila Vessels en gold / Jug",
         "orientation": "v",
         "showlegend": true,
         "type": "scatter",
         "x": [
          "2024-11-26",
          "2024-11-27",
          "2024-11-28"
         ],
         "xaxis": "x",
         "y": [
          80,
          53,
          57
         ],
         "yaxis": "y"
        },
        {
         "hovertemplate": "Title=Panel with waves<br>Curdate=%{x}<br>Ranking=%{y}<extra></extra>",
         "legendgroup": "Panel with waves",
         "line": {
          "color": "#EF553B",
          "dash": "solid"
         },
         "marker": {
          "symbol": "circle"
         },
         "mode": "lines",
         "name": "Panel with waves",
         "orientation": "v",
         "showlegend": true,
         "type": "scatter",
         "x": [
          "2024-11-26",
          "2024-11-27",
          "2024-11-28"
         ],
         "xaxis": "x",
         "y": [
          79,
          63,
          67
         ],
         "yaxis": "y"
        },
        {
         "hovertemplate": "Title=Bathroom furniture 21<br>Curdate=%{x}<br>Ranking=%{y}<extra></extra>",
         "legendgroup": "Bathroom furniture 21",
         "line": {
          "color": "#00cc96",
          "dash": "solid"
         },
         "marker": {
          "symbol": "circle"
         },
         "mode": "lines",
         "name": "Bathroom furniture 21",
         "orientation": "v",
         "showlegend": true,
         "type": "scatter",
         "x": [
          "2024-11-26",
          "2024-11-27",
          "2024-11-28"
         ],
         "xaxis": "x",
         "y": [
          78,
          72,
          80
         ],
         "yaxis": "y"
        },
        {
         "hovertemplate": "Title=garage tools set 23<br>Curdate=%{x}<br>Ranking=%{y}<extra></extra>",
         "legendgroup": "garage tools set 23",
         "line": {
          "color": "#ab63fa",
          "dash": "solid"
         },
         "marker": {
          "symbol": "circle"
         },
         "mode": "lines",
         "name": "garage tools set 23",
         "orientation": "v",
         "showlegend": true,
         "type": "scatter",
         "x": [
          "2024-11-26",
          "2024-11-27",
          "2024-11-28"
         ],
         "xaxis": "x",
         "y": [
          77,
          59,
          75
         ],
         "yaxis": "y"
        },
        {
         "hovertemplate": "Title=Bathroom decor set P06<br>Curdate=%{x}<br>Ranking=%{y}<extra></extra>",
         "legendgroup": "Bathroom decor set P06",
         "line": {
          "color": "#FFA15A",
          "dash": "solid"
         },
         "marker": {
          "symbol": "circle"
         },
         "mode": "lines",
         "name": "Bathroom decor set P06",
         "orientation": "v",
         "showlegend": true,
         "type": "scatter",
         "x": [
          "2024-11-26",
          "2024-11-27",
          "2024-11-28"
         ],
         "xaxis": "x",
         "y": [
          76,
          94,
          87
         ],
         "yaxis": "y"
        },
        {
         "hovertemplate": "Title=Flat Metal Material<br>Curdate=%{x}<br>Ranking=%{y}<extra></extra>",
         "legendgroup": "Flat Metal Material",
         "line": {
          "color": "#19d3f3",
          "dash": "solid"
         },
         "marker": {
          "symbol": "circle"
         },
         "mode": "lines",
         "name": "Flat Metal Material",
         "orientation": "v",
         "showlegend": true,
         "type": "scatter",
         "x": [
          "2024-11-26",
          "2024-11-27"
         ],
         "xaxis": "x",
         "y": [
          75,
          57
         ],
         "yaxis": "y"
        },
        {
         "hovertemplate": "Title=Milam chair Divan.ru<br>Curdate=%{x}<br>Ranking=%{y}<extra></extra>",
         "legendgroup": "Milam chair Divan.ru",
         "line": {
          "color": "#FF6692",
          "dash": "solid"
         },
         "marker": {
          "symbol": "circle"
         },
         "mode": "lines",
         "name": "Milam chair Divan.ru",
         "orientation": "v",
         "showlegend": true,
         "type": "scatter",
         "x": [
          "2024-11-26",
          "2024-11-27",
          "2024-11-28"
         ],
         "xaxis": "x",
         "y": [
          74,
          71,
          73
         ],
         "yaxis": "y"
        },
        {
         "hovertemplate": "Title=Curtains 9<br>Curdate=%{x}<br>Ranking=%{y}<extra></extra>",
         "legendgroup": "Curtains 9",
         "line": {
          "color": "#B6E880",
          "dash": "solid"
         },
         "marker": {
          "symbol": "circle"
         },
         "mode": "lines",
         "name": "Curtains 9",
         "orientation": "v",
         "showlegend": true,
         "type": "scatter",
         "x": [
          "2024-11-26",
          "2024-11-27",
          "2024-11-28"
         ],
         "xaxis": "x",
         "y": [
          73,
          35,
          39
         ],
         "yaxis": "y"
        },
        {
         "hovertemplate": "Title=Parquet board 4<br>Curdate=%{x}<br>Ranking=%{y}<extra></extra>",
         "legendgroup": "Parquet board 4",
         "line": {
          "color": "#FF97FF",
          "dash": "solid"
         },
         "marker": {
          "symbol": "circle"
         },
         "mode": "lines",
         "name": "Parquet board 4",
         "orientation": "v",
         "showlegend": true,
         "type": "scatter",
         "x": [
          "2024-11-26",
          "2024-11-27",
          "2024-11-28"
         ],
         "xaxis": "x",
         "y": [
          72,
          70,
          60
         ],
         "yaxis": "y"
        },
        {
         "hovertemplate": "Title=West Elm Curved Modern Upholstered Bed<br>Curdate=%{x}<br>Ranking=%{y}<extra></extra>",
         "legendgroup": "West Elm Curved Modern Upholstered Bed",
         "line": {
          "color": "#FECB52",
          "dash": "solid"
         },
         "marker": {
          "symbol": "circle"
         },
         "mode": "lines",
         "name": "West Elm Curved Modern Upholstered Bed",
         "orientation": "v",
         "showlegend": true,
         "type": "scatter",
         "x": [
          "2024-11-26",
          "2024-11-27",
          "2024-11-28"
         ],
         "xaxis": "x",
         "y": [
          71,
          81,
          77
         ],
         "yaxis": "y"
        },
        {
         "hovertemplate": "Title=Lindsay Laurie coffee table Divan.ru<br>Curdate=%{x}<br>Ranking=%{y}<extra></extra>",
         "legendgroup": "Lindsay Laurie coffee table Divan.ru",
         "line": {
          "color": "#636efa",
          "dash": "solid"
         },
         "marker": {
          "symbol": "circle"
         },
         "mode": "lines",
         "name": "Lindsay Laurie coffee table Divan.ru",
         "orientation": "v",
         "showlegend": true,
         "type": "scatter",
         "x": [
          "2024-11-26",
          "2024-11-27",
          "2024-11-28"
         ],
         "xaxis": "x",
         "y": [
          70,
          88,
          84
         ],
         "yaxis": "y"
        },
        {
         "hovertemplate": "Title=Minotti Pilots Bench<br>Curdate=%{x}<br>Ranking=%{y}<extra></extra>",
         "legendgroup": "Minotti Pilots Bench",
         "line": {
          "color": "#EF553B",
          "dash": "solid"
         },
         "marker": {
          "symbol": "circle"
         },
         "mode": "lines",
         "name": "Minotti Pilots Bench",
         "orientation": "v",
         "showlegend": true,
         "type": "scatter",
         "x": [
          "2024-11-26",
          "2024-11-27",
          "2024-11-28"
         ],
         "xaxis": "x",
         "y": [
          69,
          28,
          55
         ],
         "yaxis": "y"
        },
        {
         "hovertemplate": "Title=Bouquet 06<br>Curdate=%{x}<br>Ranking=%{y}<extra></extra>",
         "legendgroup": "Bouquet 06",
         "line": {
          "color": "#00cc96",
          "dash": "solid"
         },
         "marker": {
          "symbol": "circle"
         },
         "mode": "lines",
         "name": "Bouquet 06",
         "orientation": "v",
         "showlegend": true,
         "type": "scatter",
         "x": [
          "2024-11-26",
          "2024-11-27",
          "2024-11-28"
         ],
         "xaxis": "x",
         "y": [
          68,
          79,
          71
         ],
         "yaxis": "y"
        },
        {
         "hovertemplate": "Title=Photo Studio Kit<br>Curdate=%{x}<br>Ranking=%{y}<extra></extra>",
         "legendgroup": "Photo Studio Kit",
         "line": {
          "color": "#ab63fa",
          "dash": "solid"
         },
         "marker": {
          "symbol": "circle"
         },
         "mode": "lines",
         "name": "Photo Studio Kit",
         "orientation": "v",
         "showlegend": true,
         "type": "scatter",
         "x": [
          "2024-11-26",
          "2024-11-27",
          "2024-11-28"
         ],
         "xaxis": "x",
         "y": [
          67,
          49,
          29
         ],
         "yaxis": "y"
        },
        {
         "hovertemplate": "Title=Laundry Room _ 0005<br>Curdate=%{x}<br>Ranking=%{y}<extra></extra>",
         "legendgroup": "Laundry Room _ 0005",
         "line": {
          "color": "#FFA15A",
          "dash": "solid"
         },
         "marker": {
          "symbol": "circle"
         },
         "mode": "lines",
         "name": "Laundry Room _ 0005",
         "orientation": "v",
         "showlegend": true,
         "type": "scatter",
         "x": [
          "2024-11-26",
          "2024-11-27",
          "2024-11-28"
         ],
         "xaxis": "x",
         "y": [
          66,
          67,
          70
         ],
         "yaxis": "y"
        },
        {
         "hovertemplate": "Title=Coffee Shop 6<br>Curdate=%{x}<br>Ranking=%{y}<extra></extra>",
         "legendgroup": "Coffee Shop 6",
         "line": {
          "color": "#19d3f3",
          "dash": "solid"
         },
         "marker": {
          "symbol": "circle"
         },
         "mode": "lines",
         "name": "Coffee Shop 6",
         "orientation": "v",
         "showlegend": true,
         "type": "scatter",
         "x": [
          "2024-11-26",
          "2024-11-27",
          "2024-11-28"
         ],
         "xaxis": "x",
         "y": [
          65,
          22,
          23
         ],
         "yaxis": "y"
        },
        {
         "hovertemplate": "Title=Equipe Hopp<br>Curdate=%{x}<br>Ranking=%{y}<extra></extra>",
         "legendgroup": "Equipe Hopp",
         "line": {
          "color": "#FF6692",
          "dash": "solid"
         },
         "marker": {
          "symbol": "circle"
         },
         "mode": "lines",
         "name": "Equipe Hopp",
         "orientation": "v",
         "showlegend": true,
         "type": "scatter",
         "x": [
          "2024-11-26",
          "2024-11-27",
          "2024-11-28"
         ],
         "xaxis": "x",
         "y": [
          64,
          64,
          68
         ],
         "yaxis": "y"
        },
        {
         "hovertemplate": "Title=Benuta Dave Round Fur Rug (3 colors)<br>Curdate=%{x}<br>Ranking=%{y}<extra></extra>",
         "legendgroup": "Benuta Dave Round Fur Rug (3 colors)",
         "line": {
          "color": "#B6E880",
          "dash": "solid"
         },
         "marker": {
          "symbol": "circle"
         },
         "mode": "lines",
         "name": "Benuta Dave Round Fur Rug (3 colors)",
         "orientation": "v",
         "showlegend": true,
         "type": "scatter",
         "x": [
          "2024-11-26",
          "2024-11-27"
         ],
         "xaxis": "x",
         "y": [
          63,
          19
         ],
         "yaxis": "y"
        },
        {
         "hovertemplate": "Title=Realistic meadow grass<br>Curdate=%{x}<br>Ranking=%{y}<extra></extra>",
         "legendgroup": "Realistic meadow grass",
         "line": {
          "color": "#FF97FF",
          "dash": "solid"
         },
         "marker": {
          "symbol": "circle"
         },
         "mode": "lines",
         "name": "Realistic meadow grass",
         "orientation": "v",
         "showlegend": true,
         "type": "scatter",
         "x": [
          "2024-11-26",
          "2024-11-27",
          "2024-11-28"
         ],
         "xaxis": "x",
         "y": [
          62,
          75,
          66
         ],
         "yaxis": "y"
        },
        {
         "hovertemplate": "Title=Herringbone parquet chevron s8<br>Curdate=%{x}<br>Ranking=%{y}<extra></extra>",
         "legendgroup": "Herringbone parquet chevron s8",
         "line": {
          "color": "#FECB52",
          "dash": "solid"
         },
         "marker": {
          "symbol": "circle"
         },
         "mode": "lines",
         "name": "Herringbone parquet chevron s8",
         "orientation": "v",
         "showlegend": true,
         "type": "scatter",
         "x": [
          "2024-11-26",
          "2024-11-27",
          "2024-11-28"
         ],
         "xaxis": "x",
         "y": [
          61,
          74,
          65
         ],
         "yaxis": "y"
        },
        {
         "hovertemplate": "Title=Ventilation system.<br>Curdate=%{x}<br>Ranking=%{y}<extra></extra>",
         "legendgroup": "Ventilation system.",
         "line": {
          "color": "#636efa",
          "dash": "solid"
         },
         "marker": {
          "symbol": "circle"
         },
         "mode": "lines",
         "name": "Ventilation system.",
         "orientation": "v",
         "showlegend": true,
         "type": "scatter",
         "x": [
          "2024-11-26",
          "2024-11-27",
          "2024-11-28"
         ],
         "xaxis": "x",
         "y": [
          60,
          83,
          44
         ],
         "yaxis": "y"
        },
        {
         "hovertemplate": "Title=Round carpet<br>Curdate=%{x}<br>Ranking=%{y}<extra></extra>",
         "legendgroup": "Round carpet",
         "line": {
          "color": "#EF553B",
          "dash": "solid"
         },
         "marker": {
          "symbol": "circle"
         },
         "mode": "lines",
         "name": "Round carpet",
         "orientation": "v",
         "showlegend": true,
         "type": "scatter",
         "x": [
          "2024-11-26",
          "2024-11-27",
          "2024-11-28"
         ],
         "xaxis": "x",
         "y": [
          59,
          60,
          41
         ],
         "yaxis": "y"
        },
        {
         "hovertemplate": "Title=541 hallway zone 14 minimal modular wardeobe with seating niche<br>Curdate=%{x}<br>Ranking=%{y}<extra></extra>",
         "legendgroup": "541 hallway zone 14 minimal modular wardeobe with seating niche",
         "line": {
          "color": "#00cc96",
          "dash": "solid"
         },
         "marker": {
          "symbol": "circle"
         },
         "mode": "lines",
         "name": "541 hallway zone 14 minimal modular wardeobe with seating niche",
         "orientation": "v",
         "showlegend": true,
         "type": "scatter",
         "x": [
          "2024-11-26",
          "2024-11-27",
          "2024-11-28"
         ],
         "xaxis": "x",
         "y": [
          58,
          38,
          16
         ],
         "yaxis": "y"
        },
        {
         "hovertemplate": "Title=Calder Lander Build table Divan.ru<br>Curdate=%{x}<br>Ranking=%{y}<extra></extra>",
         "legendgroup": "Calder Lander Build table Divan.ru",
         "line": {
          "color": "#ab63fa",
          "dash": "solid"
         },
         "marker": {
          "symbol": "circle"
         },
         "mode": "lines",
         "name": "Calder Lander Build table Divan.ru",
         "orientation": "v",
         "showlegend": true,
         "type": "scatter",
         "x": [
          "2024-11-26",
          "2024-11-27",
          "2024-11-28"
         ],
         "xaxis": "x",
         "y": [
          57,
          34,
          14
         ],
         "yaxis": "y"
        },
        {
         "hovertemplate": "Title=Rooftop HVAC Systems<br>Curdate=%{x}<br>Ranking=%{y}<extra></extra>",
         "legendgroup": "Rooftop HVAC Systems",
         "line": {
          "color": "#FFA15A",
          "dash": "solid"
         },
         "marker": {
          "symbol": "circle"
         },
         "mode": "lines",
         "name": "Rooftop HVAC Systems",
         "orientation": "v",
         "showlegend": true,
         "type": "scatter",
         "x": [
          "2024-11-26",
          "2024-11-27"
         ],
         "xaxis": "x",
         "y": [
          56,
          33
         ],
         "yaxis": "y"
        },
        {
         "hovertemplate": "Title=Equipe MASSIMO<br>Curdate=%{x}<br>Ranking=%{y}<extra></extra>",
         "legendgroup": "Equipe MASSIMO",
         "line": {
          "color": "#19d3f3",
          "dash": "solid"
         },
         "marker": {
          "symbol": "circle"
         },
         "mode": "lines",
         "name": "Equipe MASSIMO",
         "orientation": "v",
         "showlegend": true,
         "type": "scatter",
         "x": [
          "2024-11-26",
          "2024-11-27",
          "2024-11-28"
         ],
         "xaxis": "x",
         "y": [
          55,
          55,
          13
         ],
         "yaxis": "y"
        },
        {
         "hovertemplate": "Title=decorative set 19<br>Curdate=%{x}<br>Ranking=%{y}<extra></extra>",
         "legendgroup": "decorative set 19",
         "line": {
          "color": "#FF6692",
          "dash": "solid"
         },
         "marker": {
          "symbol": "circle"
         },
         "mode": "lines",
         "name": "decorative set 19",
         "orientation": "v",
         "showlegend": true,
         "type": "scatter",
         "x": [
          "2024-11-26",
          "2024-11-27"
         ],
         "xaxis": "x",
         "y": [
          54,
          52
         ],
         "yaxis": "y"
        },
        {
         "hovertemplate": "Title=Indoor Plant Set 0147<br>Curdate=%{x}<br>Ranking=%{y}<extra></extra>",
         "legendgroup": "Indoor Plant Set 0147",
         "line": {
          "color": "#B6E880",
          "dash": "solid"
         },
         "marker": {
          "symbol": "circle"
         },
         "mode": "lines",
         "name": "Indoor Plant Set 0147",
         "orientation": "v",
         "showlegend": true,
         "type": "scatter",
         "x": [
          "2024-11-26",
          "2024-11-27",
          "2024-11-28"
         ],
         "xaxis": "x",
         "y": [
          53,
          27,
          33
         ],
         "yaxis": "y"
        },
        {
         "hovertemplate": "Title=coffee table decor set 005<br>Curdate=%{x}<br>Ranking=%{y}<extra></extra>",
         "legendgroup": "coffee table decor set 005",
         "line": {
          "color": "#FF97FF",
          "dash": "solid"
         },
         "marker": {
          "symbol": "circle"
         },
         "mode": "lines",
         "name": "coffee table decor set 005",
         "orientation": "v",
         "showlegend": true,
         "type": "scatter",
         "x": [
          "2024-11-26",
          "2024-11-27",
          "2024-11-28"
         ],
         "xaxis": "x",
         "y": [
          52,
          78,
          104
         ],
         "yaxis": "y"
        },
        {
         "hovertemplate": "Title=Christmas Tree and Decoration 78<br>Curdate=%{x}<br>Ranking=%{y}<extra></extra>",
         "legendgroup": "Christmas Tree and Decoration 78",
         "line": {
          "color": "#FECB52",
          "dash": "solid"
         },
         "marker": {
          "symbol": "circle"
         },
         "mode": "lines",
         "name": "Christmas Tree and Decoration 78",
         "orientation": "v",
         "showlegend": true,
         "type": "scatter",
         "x": [
          "2024-11-26",
          "2024-11-27",
          "2024-11-28"
         ],
         "xaxis": "x",
         "y": [
          51,
          51,
          10
         ],
         "yaxis": "y"
        },
        {
         "hovertemplate": "Title=FloorGen Tools 1.5.4<br>Curdate=%{x}<br>Ranking=%{y}<extra></extra>",
         "legendgroup": "FloorGen Tools 1.5.4",
         "line": {
          "color": "#636efa",
          "dash": "solid"
         },
         "marker": {
          "symbol": "circle"
         },
         "mode": "lines",
         "name": "FloorGen Tools 1.5.4",
         "orientation": "v",
         "showlegend": true,
         "type": "scatter",
         "x": [
          "2024-11-26",
          "2024-11-27",
          "2024-11-28"
         ],
         "xaxis": "x",
         "y": [
          50,
          50,
          52
         ],
         "yaxis": "y"
        },
        {
         "hovertemplate": "Title=Set of ceilings Armstrong and Grilyato<br>Curdate=%{x}<br>Ranking=%{y}<extra></extra>",
         "legendgroup": "Set of ceilings Armstrong and Grilyato",
         "line": {
          "color": "#EF553B",
          "dash": "solid"
         },
         "marker": {
          "symbol": "circle"
         },
         "mode": "lines",
         "name": "Set of ceilings Armstrong and Grilyato",
         "orientation": "v",
         "showlegend": true,
         "type": "scatter",
         "x": [
          "2024-11-26",
          "2024-11-27",
          "2024-11-28"
         ],
         "xaxis": "x",
         "y": [
          49,
          48,
          28
         ],
         "yaxis": "y"
        },
        {
         "hovertemplate": "Title=Nice Christmas tree<br>Curdate=%{x}<br>Ranking=%{y}<extra></extra>",
         "legendgroup": "Nice Christmas tree",
         "line": {
          "color": "#00cc96",
          "dash": "solid"
         },
         "marker": {
          "symbol": "circle"
         },
         "mode": "lines",
         "name": "Nice Christmas tree",
         "orientation": "v",
         "showlegend": true,
         "type": "scatter",
         "x": [
          "2024-11-26",
          "2024-11-27",
          "2024-11-28"
         ],
         "xaxis": "x",
         "y": [
          48,
          66,
          81
         ],
         "yaxis": "y"
        },
        {
         "hovertemplate": "Title=Accessories for public toilets black set 152 part 4<br>Curdate=%{x}<br>Ranking=%{y}<extra></extra>",
         "legendgroup": "Accessories for public toilets black set 152 part 4",
         "line": {
          "color": "#ab63fa",
          "dash": "solid"
         },
         "marker": {
          "symbol": "circle"
         },
         "mode": "lines",
         "name": "Accessories for public toilets black set 152 part 4",
         "orientation": "v",
         "showlegend": true,
         "type": "scatter",
         "x": [
          "2024-11-26",
          "2024-11-27",
          "2024-11-28"
         ],
         "xaxis": "x",
         "y": [
          47,
          65,
          26
         ],
         "yaxis": "y"
        },
        {
         "hovertemplate": "Title=Sinks and faucets Omoikiri<br>Curdate=%{x}<br>Ranking=%{y}<extra></extra>",
         "legendgroup": "Sinks and faucets Omoikiri",
         "line": {
          "color": "#FFA15A",
          "dash": "solid"
         },
         "marker": {
          "symbol": "circle"
         },
         "mode": "lines",
         "name": "Sinks and faucets Omoikiri",
         "orientation": "v",
         "showlegend": true,
         "type": "scatter",
         "x": [
          "2024-11-26",
          "2024-11-27",
          "2024-11-28"
         ],
         "xaxis": "x",
         "y": [
          46,
          86,
          69
         ],
         "yaxis": "y"
        },
        {
         "hovertemplate": "Title=Clothes dryer in the closet<br>Curdate=%{x}<br>Ranking=%{y}<extra></extra>",
         "legendgroup": "Clothes dryer in the closet",
         "line": {
          "color": "#19d3f3",
          "dash": "solid"
         },
         "marker": {
          "symbol": "circle"
         },
         "mode": "lines",
         "name": "Clothes dryer in the closet",
         "orientation": "v",
         "showlegend": true,
         "type": "scatter",
         "x": [
          "2024-11-26",
          "2024-11-27"
         ],
         "xaxis": "x",
         "y": [
          45,
          44
         ],
         "yaxis": "y"
        },
        {
         "hovertemplate": "Title=Cezares Stylus + Boheme Uno + AlcaPlast Thin<br>Curdate=%{x}<br>Ranking=%{y}<extra></extra>",
         "legendgroup": "Cezares Stylus + Boheme Uno + AlcaPlast Thin",
         "line": {
          "color": "#FF6692",
          "dash": "solid"
         },
         "marker": {
          "symbol": "circle"
         },
         "mode": "lines",
         "name": "Cezares Stylus + Boheme Uno + AlcaPlast Thin",
         "orientation": "v",
         "showlegend": true,
         "type": "scatter",
         "x": [
          "2024-11-26",
          "2024-11-27"
         ],
         "xaxis": "x",
         "y": [
          44,
          43
         ],
         "yaxis": "y"
        },
        {
         "hovertemplate": "Title=Double bath curtain on Sunerzha cornice<br>Curdate=%{x}<br>Ranking=%{y}<extra></extra>",
         "legendgroup": "Double bath curtain on Sunerzha cornice",
         "line": {
          "color": "#B6E880",
          "dash": "solid"
         },
         "marker": {
          "symbol": "circle"
         },
         "mode": "lines",
         "name": "Double bath curtain on Sunerzha cornice",
         "orientation": "v",
         "showlegend": true,
         "type": "scatter",
         "x": [
          "2024-11-26",
          "2024-11-27",
          "2024-11-28"
         ],
         "xaxis": "x",
         "y": [
          43,
          62,
          21
         ],
         "yaxis": "y"
        },
        {
         "hovertemplate": "Title=Oval island for dressing room NG14<br>Curdate=%{x}<br>Ranking=%{y}<extra></extra>",
         "legendgroup": "Oval island for dressing room NG14",
         "line": {
          "color": "#FF97FF",
          "dash": "solid"
         },
         "marker": {
          "symbol": "circle"
         },
         "mode": "lines",
         "name": "Oval island for dressing room NG14",
         "orientation": "v",
         "showlegend": true,
         "type": "scatter",
         "x": [
          "2024-11-26",
          "2024-11-27",
          "2024-11-28"
         ],
         "xaxis": "x",
         "y": [
          42,
          18,
          20
         ],
         "yaxis": "y"
        },
        {
         "hovertemplate": "Title=Gianna Natural Walnut Wood King Bed Frame<br>Curdate=%{x}<br>Ranking=%{y}<extra></extra>",
         "legendgroup": "Gianna Natural Walnut Wood King Bed Frame",
         "line": {
          "color": "#FECB52",
          "dash": "solid"
         },
         "marker": {
          "symbol": "circle"
         },
         "mode": "lines",
         "name": "Gianna Natural Walnut Wood King Bed Frame",
         "orientation": "v",
         "showlegend": true,
         "type": "scatter",
         "x": [
          "2024-11-26",
          "2024-11-27"
         ],
         "xaxis": "x",
         "y": [
          41,
          17
         ],
         "yaxis": "y"
        },
        {
         "hovertemplate": "Title=Soft seat by the window in the children's room<br>Curdate=%{x}<br>Ranking=%{y}<extra></extra>",
         "legendgroup": "Soft seat by the window in the children's room",
         "line": {
          "color": "#636efa",
          "dash": "solid"
         },
         "marker": {
          "symbol": "circle"
         },
         "mode": "lines",
         "name": "Soft seat by the window in the children's room",
         "orientation": "v",
         "showlegend": true,
         "type": "scatter",
         "x": [
          "2024-11-26",
          "2024-11-27",
          "2024-11-28"
         ],
         "xaxis": "x",
         "y": [
          40,
          40,
          63
         ],
         "yaxis": "y"
        },
        {
         "hovertemplate": "Title=Cookware set NG5<br>Curdate=%{x}<br>Ranking=%{y}<extra></extra>",
         "legendgroup": "Cookware set NG5",
         "line": {
          "color": "#EF553B",
          "dash": "solid"
         },
         "marker": {
          "symbol": "circle"
         },
         "mode": "lines",
         "name": "Cookware set NG5",
         "orientation": "v",
         "showlegend": true,
         "type": "scatter",
         "x": [
          "2024-11-26",
          "2024-11-27",
          "2024-11-28"
         ],
         "xaxis": "x",
         "y": [
          39,
          39,
          79
         ],
         "yaxis": "y"
        },
        {
         "hovertemplate": "Title=Showcase with glasses<br>Curdate=%{x}<br>Ranking=%{y}<extra></extra>",
         "legendgroup": "Showcase with glasses",
         "line": {
          "color": "#00cc96",
          "dash": "solid"
         },
         "marker": {
          "symbol": "circle"
         },
         "mode": "lines",
         "name": "Showcase with glasses",
         "orientation": "v",
         "showlegend": true,
         "type": "scatter",
         "x": [
          "2024-11-26"
         ],
         "xaxis": "x",
         "y": [
          38
         ],
         "yaxis": "y"
        },
        {
         "hovertemplate": "Title=Champagne / set1<br>Curdate=%{x}<br>Ranking=%{y}<extra></extra>",
         "legendgroup": "Champagne / set1",
         "line": {
          "color": "#ab63fa",
          "dash": "solid"
         },
         "marker": {
          "symbol": "circle"
         },
         "mode": "lines",
         "name": "Champagne / set1",
         "orientation": "v",
         "showlegend": true,
         "type": "scatter",
         "x": [
          "2024-11-26",
          "2024-11-27"
         ],
         "xaxis": "x",
         "y": [
          37,
          11
         ],
         "yaxis": "y"
        },
        {
         "hovertemplate": "Title=Faucets and showers Boheme Specter set<br>Curdate=%{x}<br>Ranking=%{y}<extra></extra>",
         "legendgroup": "Faucets and showers Boheme Specter set",
         "line": {
          "color": "#FFA15A",
          "dash": "solid"
         },
         "marker": {
          "symbol": "circle"
         },
         "mode": "lines",
         "name": "Faucets and showers Boheme Specter set",
         "orientation": "v",
         "showlegend": true,
         "type": "scatter",
         "x": [
          "2024-11-26",
          "2024-11-27",
          "2024-11-28"
         ],
         "xaxis": "x",
         "y": [
          36,
          37,
          61
         ],
         "yaxis": "y"
        },
        {
         "hovertemplate": "Title=Houseplants 01<br>Curdate=%{x}<br>Ranking=%{y}<extra></extra>",
         "legendgroup": "Houseplants 01",
         "line": {
          "color": "#19d3f3",
          "dash": "solid"
         },
         "marker": {
          "symbol": "circle"
         },
         "mode": "lines",
         "name": "Houseplants 01",
         "orientation": "v",
         "showlegend": true,
         "type": "scatter",
         "x": [
          "2024-11-26"
         ],
         "xaxis": "x",
         "y": [
          35
         ],
         "yaxis": "y"
        },
        {
         "hovertemplate": "Title=Residential multi-storey building<br>Curdate=%{x}<br>Ranking=%{y}<extra></extra>",
         "legendgroup": "Residential multi-storey building",
         "line": {
          "color": "#FF6692",
          "dash": "solid"
         },
         "marker": {
          "symbol": "circle"
         },
         "mode": "lines",
         "name": "Residential multi-storey building",
         "orientation": "v",
         "showlegend": true,
         "type": "scatter",
         "x": [
          "2024-11-26"
         ],
         "xaxis": "x",
         "y": [
          34
         ],
         "yaxis": "y"
        },
        {
         "hovertemplate": "Title=Pinboard with childrens drawings<br>Curdate=%{x}<br>Ranking=%{y}<extra></extra>",
         "legendgroup": "Pinboard with childrens drawings",
         "line": {
          "color": "#B6E880",
          "dash": "solid"
         },
         "marker": {
          "symbol": "circle"
         },
         "mode": "lines",
         "name": "Pinboard with childrens drawings",
         "orientation": "v",
         "showlegend": true,
         "type": "scatter",
         "x": [
          "2024-11-26",
          "2024-11-27",
          "2024-11-28"
         ],
         "xaxis": "x",
         "y": [
          33,
          32,
          36
         ],
         "yaxis": "y"
        },
        {
         "hovertemplate": "Title=Kitchen set09<br>Curdate=%{x}<br>Ranking=%{y}<extra></extra>",
         "legendgroup": "Kitchen set09",
         "line": {
          "color": "#FF97FF",
          "dash": "solid"
         },
         "marker": {
          "symbol": "circle"
         },
         "mode": "lines",
         "name": "Kitchen set09",
         "orientation": "v",
         "showlegend": true,
         "type": "scatter",
         "x": [
          "2024-11-26",
          "2024-11-27"
         ],
         "xaxis": "x",
         "y": [
          32,
          30
         ],
         "yaxis": "y"
        },
        {
         "hovertemplate": "Title=Shower cabin 07<br>Curdate=%{x}<br>Ranking=%{y}<extra></extra>",
         "legendgroup": "Shower cabin 07",
         "line": {
          "color": "#FECB52",
          "dash": "solid"
         },
         "marker": {
          "symbol": "circle"
         },
         "mode": "lines",
         "name": "Shower cabin 07",
         "orientation": "v",
         "showlegend": true,
         "type": "scatter",
         "x": [
          "2024-11-26",
          "2024-11-28"
         ],
         "xaxis": "x",
         "y": [
          31,
          11
         ],
         "yaxis": "y"
        },
        {
         "hovertemplate": "Title=Track system centersvet Infinity<br>Curdate=%{x}<br>Ranking=%{y}<extra></extra>",
         "legendgroup": "Track system centersvet Infinity",
         "line": {
          "color": "#636efa",
          "dash": "solid"
         },
         "marker": {
          "symbol": "circle"
         },
         "mode": "lines",
         "name": "Track system centersvet Infinity",
         "orientation": "v",
         "showlegend": true,
         "type": "scatter",
         "x": [
          "2024-11-26",
          "2024-11-27",
          "2024-11-28"
         ],
         "xaxis": "x",
         "y": [
          30,
          80,
          83
         ],
         "yaxis": "y"
        },
        {
         "hovertemplate": "Title=Kitchen Decor Set With Pears<br>Curdate=%{x}<br>Ranking=%{y}<extra></extra>",
         "legendgroup": "Kitchen Decor Set With Pears",
         "line": {
          "color": "#EF553B",
          "dash": "solid"
         },
         "marker": {
          "symbol": "circle"
         },
         "mode": "lines",
         "name": "Kitchen Decor Set With Pears",
         "orientation": "v",
         "showlegend": true,
         "type": "scatter",
         "x": [
          "2024-11-26",
          "2024-11-27"
         ],
         "xaxis": "x",
         "y": [
          29,
          7
         ],
         "yaxis": "y"
        },
        {
         "hovertemplate": "Title=HOMARY island for dressing room NG16<br>Curdate=%{x}<br>Ranking=%{y}<extra></extra>",
         "legendgroup": "HOMARY island for dressing room NG16",
         "line": {
          "color": "#00cc96",
          "dash": "solid"
         },
         "marker": {
          "symbol": "circle"
         },
         "mode": "lines",
         "name": "HOMARY island for dressing room NG16",
         "orientation": "v",
         "showlegend": true,
         "type": "scatter",
         "x": [
          "2024-11-26",
          "2024-11-27",
          "2024-11-28"
         ],
         "xaxis": "x",
         "y": [
          28,
          68,
          82
         ],
         "yaxis": "y"
        },
        {
         "hovertemplate": "Title=TV Wall | set 1056<br>Curdate=%{x}<br>Ranking=%{y}<extra></extra>",
         "legendgroup": "TV Wall | set 1056",
         "line": {
          "color": "#ab63fa",
          "dash": "solid"
         },
         "marker": {
          "symbol": "circle"
         },
         "mode": "lines",
         "name": "TV Wall | set 1056",
         "orientation": "v",
         "showlegend": true,
         "type": "scatter",
         "x": [
          "2024-11-26"
         ],
         "xaxis": "x",
         "y": [
          27
         ],
         "yaxis": "y"
        },
        {
         "hovertemplate": "Title=Siena Kids Bed by Como<br>Curdate=%{x}<br>Ranking=%{y}<extra></extra>",
         "legendgroup": "Siena Kids Bed by Como",
         "line": {
          "color": "#FFA15A",
          "dash": "solid"
         },
         "marker": {
          "symbol": "circle"
         },
         "mode": "lines",
         "name": "Siena Kids Bed by Como",
         "orientation": "v",
         "showlegend": true,
         "type": "scatter",
         "x": [
          "2024-11-26"
         ],
         "xaxis": "x",
         "y": [
          26
         ],
         "yaxis": "y"
        },
        {
         "hovertemplate": "Title=LAUNDRY SET (Poliform FITTED + ASKO)<br>Curdate=%{x}<br>Ranking=%{y}<extra></extra>",
         "legendgroup": "LAUNDRY SET (Poliform FITTED + ASKO)",
         "line": {
          "color": "#19d3f3",
          "dash": "solid"
         },
         "marker": {
          "symbol": "circle"
         },
         "mode": "lines",
         "name": "LAUNDRY SET (Poliform FITTED + ASKO)",
         "orientation": "v",
         "showlegend": true,
         "type": "scatter",
         "x": [
          "2024-11-26",
          "2024-11-27",
          "2024-11-28"
         ],
         "xaxis": "x",
         "y": [
          25,
          4,
          31
         ],
         "yaxis": "y"
        },
        {
         "hovertemplate": "Title=LAUNDRY SET 2 (L'ORIGINE Aeterna + ASKO)<br>Curdate=%{x}<br>Ranking=%{y}<extra></extra>",
         "legendgroup": "LAUNDRY SET 2 (L'ORIGINE Aeterna + ASKO)",
         "line": {
          "color": "#FF6692",
          "dash": "solid"
         },
         "marker": {
          "symbol": "circle"
         },
         "mode": "lines",
         "name": "LAUNDRY SET 2 (L'ORIGINE Aeterna + ASKO)",
         "orientation": "v",
         "showlegend": true,
         "type": "scatter",
         "x": [
          "2024-11-26",
          "2024-11-27"
         ],
         "xaxis": "x",
         "y": [
          24,
          25
         ],
         "yaxis": "y"
        },
        {
         "hovertemplate": "Title=Christmas tree 5<br>Curdate=%{x}<br>Ranking=%{y}<extra></extra>",
         "legendgroup": "Christmas tree 5",
         "line": {
          "color": "#B6E880",
          "dash": "solid"
         },
         "marker": {
          "symbol": "circle"
         },
         "mode": "lines",
         "name": "Christmas tree 5",
         "orientation": "v",
         "showlegend": true,
         "type": "scatter",
         "x": [
          "2024-11-26",
          "2024-11-27",
          "2024-11-28"
         ],
         "xaxis": "x",
         "y": [
          23,
          47,
          51
         ],
         "yaxis": "y"
        },
        {
         "hovertemplate": "Title=Boen parquet board wood flooring<br>Curdate=%{x}<br>Ranking=%{y}<extra></extra>",
         "legendgroup": "Boen parquet board wood flooring",
         "line": {
          "color": "#FF97FF",
          "dash": "solid"
         },
         "marker": {
          "symbol": "circle"
         },
         "mode": "lines",
         "name": "Boen parquet board wood flooring",
         "orientation": "v",
         "showlegend": true,
         "type": "scatter",
         "x": [
          "2024-11-26",
          "2024-11-27",
          "2024-11-28"
         ],
         "xaxis": "x",
         "y": [
          22,
          46,
          27
         ],
         "yaxis": "y"
        },
        {
         "hovertemplate": "Title=Wet asphalt with leaves. Autumn. Editable<br>Curdate=%{x}<br>Ranking=%{y}<extra></extra>",
         "legendgroup": "Wet asphalt with leaves. Autumn. Editable",
         "line": {
          "color": "#FECB52",
          "dash": "solid"
         },
         "marker": {
          "symbol": "circle"
         },
         "mode": "lines",
         "name": "Wet asphalt with leaves. Autumn. Editable",
         "orientation": "v",
         "showlegend": true,
         "type": "scatter",
         "x": [
          "2024-11-26",
          "2024-11-27",
          "2024-11-28"
         ],
         "xaxis": "x",
         "y": [
          21,
          45,
          50
         ],
         "yaxis": "y"
        },
        {
         "hovertemplate": "Title=Serving NG3<br>Curdate=%{x}<br>Ranking=%{y}<extra></extra>",
         "legendgroup": "Serving NG3",
         "line": {
          "color": "#636efa",
          "dash": "solid"
         },
         "marker": {
          "symbol": "circle"
         },
         "mode": "lines",
         "name": "Serving NG3",
         "orientation": "v",
         "showlegend": true,
         "type": "scatter",
         "x": [
          "2024-11-26",
          "2024-11-28"
         ],
         "xaxis": "x",
         "y": [
          20,
          49
         ],
         "yaxis": "y"
        },
        {
         "hovertemplate": "Title=Indoor Plant 702 - Olive Plant<br>Curdate=%{x}<br>Ranking=%{y}<extra></extra>",
         "legendgroup": "Indoor Plant 702 - Olive Plant",
         "line": {
          "color": "#EF553B",
          "dash": "solid"
         },
         "marker": {
          "symbol": "circle"
         },
         "mode": "lines",
         "name": "Indoor Plant 702 - Olive Plant",
         "orientation": "v",
         "showlegend": true,
         "type": "scatter",
         "x": [
          "2024-11-26",
          "2024-11-28"
         ],
         "xaxis": "x",
         "y": [
          19,
          48
         ],
         "yaxis": "y"
        },
        {
         "hovertemplate": "Title=PlayStation 5 Collection<br>Curdate=%{x}<br>Ranking=%{y}<extra></extra>",
         "legendgroup": "PlayStation 5 Collection",
         "line": {
          "color": "#00cc96",
          "dash": "solid"
         },
         "marker": {
          "symbol": "circle"
         },
         "mode": "lines",
         "name": "PlayStation 5 Collection",
         "orientation": "v",
         "showlegend": true,
         "type": "scatter",
         "x": [
          "2024-11-26"
         ],
         "xaxis": "x",
         "y": [
          18
         ],
         "yaxis": "y"
        },
        {
         "hovertemplate": "Title=A wall with a rack for gym equipment 2<br>Curdate=%{x}<br>Ranking=%{y}<extra></extra>",
         "legendgroup": "A wall with a rack for gym equipment 2",
         "line": {
          "color": "#ab63fa",
          "dash": "solid"
         },
         "marker": {
          "symbol": "circle"
         },
         "mode": "lines",
         "name": "A wall with a rack for gym equipment 2",
         "orientation": "v",
         "showlegend": true,
         "type": "scatter",
         "x": [
          "2024-11-26",
          "2024-11-28"
         ],
         "xaxis": "x",
         "y": [
          17,
          19
         ],
         "yaxis": "y"
        },
        {
         "hovertemplate": "Title=Hotel Bathroom Accessories LE LABO<br>Curdate=%{x}<br>Ranking=%{y}<extra></extra>",
         "legendgroup": "Hotel Bathroom Accessories LE LABO",
         "line": {
          "color": "#FFA15A",
          "dash": "solid"
         },
         "marker": {
          "symbol": "circle"
         },
         "mode": "lines",
         "name": "Hotel Bathroom Accessories LE LABO",
         "orientation": "v",
         "showlegend": true,
         "type": "scatter",
         "x": [
          "2024-11-26",
          "2024-11-27",
          "2024-11-28"
         ],
         "xaxis": "x",
         "y": [
          16,
          41,
          46
         ],
         "yaxis": "y"
        },
        {
         "hovertemplate": "Title=Christmas tree with fireplace 4<br>Curdate=%{x}<br>Ranking=%{y}<extra></extra>",
         "legendgroup": "Christmas tree with fireplace 4",
         "line": {
          "color": "#19d3f3",
          "dash": "solid"
         },
         "marker": {
          "symbol": "circle"
         },
         "mode": "lines",
         "name": "Christmas tree with fireplace 4",
         "orientation": "v",
         "showlegend": true,
         "type": "scatter",
         "x": [
          "2024-11-26",
          "2024-11-27",
          "2024-11-28"
         ],
         "xaxis": "x",
         "y": [
          15,
          14,
          42
         ],
         "yaxis": "y"
        },
        {
         "hovertemplate": "Title=Faucets and showers Boheme uno set 1<br>Curdate=%{x}<br>Ranking=%{y}<extra></extra>",
         "legendgroup": "Faucets and showers Boheme uno set 1",
         "line": {
          "color": "#FF6692",
          "dash": "solid"
         },
         "marker": {
          "symbol": "circle"
         },
         "mode": "lines",
         "name": "Faucets and showers Boheme uno set 1",
         "orientation": "v",
         "showlegend": true,
         "type": "scatter",
         "x": [
          "2024-11-26",
          "2024-11-27",
          "2024-11-28"
         ],
         "xaxis": "x",
         "y": [
          14,
          13,
          62
         ],
         "yaxis": "y"
        },
        {
         "hovertemplate": "Title=Cafe Equipment Set 8<br>Curdate=%{x}<br>Ranking=%{y}<extra></extra>",
         "legendgroup": "Cafe Equipment Set 8",
         "line": {
          "color": "#B6E880",
          "dash": "solid"
         },
         "marker": {
          "symbol": "circle"
         },
         "mode": "lines",
         "name": "Cafe Equipment Set 8",
         "orientation": "v",
         "showlegend": true,
         "type": "scatter",
         "x": [
          "2024-11-26"
         ],
         "xaxis": "x",
         "y": [
          13
         ],
         "yaxis": "y"
        },
        {
         "hovertemplate": "Title=Office Furniture | 4 | Workplace<br>Curdate=%{x}<br>Ranking=%{y}<extra></extra>",
         "legendgroup": "Office Furniture | 4 | Workplace",
         "line": {
          "color": "#FF97FF",
          "dash": "solid"
         },
         "marker": {
          "symbol": "circle"
         },
         "mode": "lines",
         "name": "Office Furniture | 4 | Workplace",
         "orientation": "v",
         "showlegend": true,
         "type": "scatter",
         "x": [
          "2024-11-26"
         ],
         "xaxis": "x",
         "y": [
          12
         ],
         "yaxis": "y"
        },
        {
         "hovertemplate": "Title=Roman blinds<br>Curdate=%{x}<br>Ranking=%{y}<extra></extra>",
         "legendgroup": "Roman blinds",
         "line": {
          "color": "#FECB52",
          "dash": "solid"
         },
         "marker": {
          "symbol": "circle"
         },
         "mode": "lines",
         "name": "Roman blinds",
         "orientation": "v",
         "showlegend": true,
         "type": "scatter",
         "x": [
          "2024-11-26"
         ],
         "xaxis": "x",
         "y": [
          11
         ],
         "yaxis": "y"
        },
        {
         "hovertemplate": "Title=Mononova Roxen Sectional Sofa<br>Curdate=%{x}<br>Ranking=%{y}<extra></extra>",
         "legendgroup": "Mononova Roxen Sectional Sofa",
         "line": {
          "color": "#636efa",
          "dash": "solid"
         },
         "marker": {
          "symbol": "circle"
         },
         "mode": "lines",
         "name": "Mononova Roxen Sectional Sofa",
         "orientation": "v",
         "showlegend": true,
         "type": "scatter",
         "x": [
          "2024-11-26"
         ],
         "xaxis": "x",
         "y": [
          10
         ],
         "yaxis": "y"
        },
        {
         "hovertemplate": "Title=Wood planks 02<br>Curdate=%{x}<br>Ranking=%{y}<extra></extra>",
         "legendgroup": "Wood planks 02",
         "line": {
          "color": "#EF553B",
          "dash": "solid"
         },
         "marker": {
          "symbol": "circle"
         },
         "mode": "lines",
         "name": "Wood planks 02",
         "orientation": "v",
         "showlegend": true,
         "type": "scatter",
         "x": [
          "2024-11-26"
         ],
         "xaxis": "x",
         "y": [
          9
         ],
         "yaxis": "y"
        },
        {
         "hovertemplate": "Title=Arflex Marechiaro Modular sofa<br>Curdate=%{x}<br>Ranking=%{y}<extra></extra>",
         "legendgroup": "Arflex Marechiaro Modular sofa",
         "line": {
          "color": "#00cc96",
          "dash": "solid"
         },
         "marker": {
          "symbol": "circle"
         },
         "mode": "lines",
         "name": "Arflex Marechiaro Modular sofa",
         "orientation": "v",
         "showlegend": true,
         "type": "scatter",
         "x": [
          "2024-11-26",
          "2024-11-27"
         ],
         "xaxis": "x",
         "y": [
          8,
          56
         ],
         "yaxis": "y"
        },
        {
         "hovertemplate": "Title=Yves Sofa 014 by Minotti<br>Curdate=%{x}<br>Ranking=%{y}<extra></extra>",
         "legendgroup": "Yves Sofa 014 by Minotti",
         "line": {
          "color": "#ab63fa",
          "dash": "solid"
         },
         "marker": {
          "symbol": "circle"
         },
         "mode": "lines",
         "name": "Yves Sofa 014 by Minotti",
         "orientation": "v",
         "showlegend": true,
         "type": "scatter",
         "x": [
          "2024-11-26"
         ],
         "xaxis": "x",
         "y": [
          7
         ],
         "yaxis": "y"
        },
        {
         "hovertemplate": "Title=Bedside table Tammi<br>Curdate=%{x}<br>Ranking=%{y}<extra></extra>",
         "legendgroup": "Bedside table Tammi",
         "line": {
          "color": "#FFA15A",
          "dash": "solid"
         },
         "marker": {
          "symbol": "circle"
         },
         "mode": "lines",
         "name": "Bedside table Tammi",
         "orientation": "v",
         "showlegend": true,
         "type": "scatter",
         "x": [
          "2024-11-26",
          "2024-11-27",
          "2024-11-28"
         ],
         "xaxis": "x",
         "y": [
          6,
          54,
          58
         ],
         "yaxis": "y"
        },
        {
         "hovertemplate": "Title=kitchen modern-067<br>Curdate=%{x}<br>Ranking=%{y}<extra></extra>",
         "legendgroup": "kitchen modern-067",
         "line": {
          "color": "#19d3f3",
          "dash": "solid"
         },
         "marker": {
          "symbol": "circle"
         },
         "mode": "lines",
         "name": "kitchen modern-067",
         "orientation": "v",
         "showlegend": true,
         "type": "scatter",
         "x": [
          "2024-11-26",
          "2024-11-27",
          "2024-11-28"
         ],
         "xaxis": "x",
         "y": [
          5,
          8,
          56
         ],
         "yaxis": "y"
        },
        {
         "hovertemplate": "Title=Furniture composition GHS-2617<br>Curdate=%{x}<br>Ranking=%{y}<extra></extra>",
         "legendgroup": "Furniture composition GHS-2617",
         "line": {
          "color": "#FF6692",
          "dash": "solid"
         },
         "marker": {
          "symbol": "circle"
         },
         "mode": "lines",
         "name": "Furniture composition GHS-2617",
         "orientation": "v",
         "showlegend": true,
         "type": "scatter",
         "x": [
          "2024-11-26",
          "2024-11-28"
         ],
         "xaxis": "x",
         "y": [
          4,
          12
         ],
         "yaxis": "y"
        },
        {
         "hovertemplate": "Title=Furniture Composition 271<br>Curdate=%{x}<br>Ranking=%{y}<extra></extra>",
         "legendgroup": "Furniture Composition 271",
         "line": {
          "color": "#B6E880",
          "dash": "solid"
         },
         "marker": {
          "symbol": "circle"
         },
         "mode": "lines",
         "name": "Furniture Composition 271",
         "orientation": "v",
         "showlegend": true,
         "type": "scatter",
         "x": [
          "2024-11-26",
          "2024-11-27",
          "2024-11-28"
         ],
         "xaxis": "x",
         "y": [
          3,
          31,
          35
         ],
         "yaxis": "y"
        },
        {
         "hovertemplate": "Title=Kitchen in neoclassical style 71<br>Curdate=%{x}<br>Ranking=%{y}<extra></extra>",
         "legendgroup": "Kitchen in neoclassical style 71",
         "line": {
          "color": "#FF97FF",
          "dash": "solid"
         },
         "marker": {
          "symbol": "circle"
         },
         "mode": "lines",
         "name": "Kitchen in neoclassical style 71",
         "orientation": "v",
         "showlegend": true,
         "type": "scatter",
         "x": [
          "2024-11-26"
         ],
         "xaxis": "x",
         "y": [
          2
         ],
         "yaxis": "y"
        },
        {
         "hovertemplate": "Title=Bakery Equipment<br>Curdate=%{x}<br>Ranking=%{y}<extra></extra>",
         "legendgroup": "Bakery Equipment",
         "line": {
          "color": "#FECB52",
          "dash": "solid"
         },
         "marker": {
          "symbol": "circle"
         },
         "mode": "lines",
         "name": "Bakery Equipment",
         "orientation": "v",
         "showlegend": true,
         "type": "scatter",
         "x": [
          "2024-11-26",
          "2024-11-27",
          "2024-11-28"
         ],
         "xaxis": "x",
         "y": [
          1,
          3,
          30
         ],
         "yaxis": "y"
        },
        {
         "hovertemplate": "Title=Rubber Coating<br>Curdate=%{x}<br>Ranking=%{y}<extra></extra>",
         "legendgroup": "Rubber Coating",
         "line": {
          "color": "#636efa",
          "dash": "solid"
         },
         "marker": {
          "symbol": "circle"
         },
         "mode": "lines",
         "name": "Rubber Coating",
         "orientation": "v",
         "showlegend": true,
         "type": "scatter",
         "x": [
          "2024-11-27",
          "2024-11-28"
         ],
         "xaxis": "x",
         "y": [
          61,
          45
         ],
         "yaxis": "y"
        },
        {
         "hovertemplate": "Title=Wardrobe system Rimadesio Dress Bold<br>Curdate=%{x}<br>Ranking=%{y}<extra></extra>",
         "legendgroup": "Wardrobe system Rimadesio Dress Bold",
         "line": {
          "color": "#EF553B",
          "dash": "solid"
         },
         "marker": {
          "symbol": "circle"
         },
         "mode": "lines",
         "name": "Wardrobe system Rimadesio Dress Bold",
         "orientation": "v",
         "showlegend": true,
         "type": "scatter",
         "x": [
          "2024-11-27",
          "2024-11-28"
         ],
         "xaxis": "x",
         "y": [
          42,
          47
         ],
         "yaxis": "y"
        },
        {
         "hovertemplate": "Title=Canon printer set.<br>Curdate=%{x}<br>Ranking=%{y}<extra></extra>",
         "legendgroup": "Canon printer set.",
         "line": {
          "color": "#00cc96",
          "dash": "solid"
         },
         "marker": {
          "symbol": "circle"
         },
         "mode": "lines",
         "name": "Canon printer set.",
         "orientation": "v",
         "showlegend": true,
         "type": "scatter",
         "x": [
          "2024-11-27",
          "2024-11-28"
         ],
         "xaxis": "x",
         "y": [
          36,
          15
         ],
         "yaxis": "y"
        },
        {
         "hovertemplate": "Title=TV Wall 52<br>Curdate=%{x}<br>Ranking=%{y}<extra></extra>",
         "legendgroup": "TV Wall 52",
         "line": {
          "color": "#ab63fa",
          "dash": "solid"
         },
         "marker": {
          "symbol": "circle"
         },
         "mode": "lines",
         "name": "TV Wall 52",
         "orientation": "v",
         "showlegend": true,
         "type": "scatter",
         "x": [
          "2024-11-27",
          "2024-11-28"
         ],
         "xaxis": "x",
         "y": [
          29,
          34
         ],
         "yaxis": "y"
        },
        {
         "hovertemplate": "Title=Childrens open wardrobe with desk, modular, modern, 25<br>Curdate=%{x}<br>Ranking=%{y}<extra></extra>",
         "legendgroup": "Childrens open wardrobe with desk, modular, modern, 25",
         "line": {
          "color": "#FFA15A",
          "dash": "solid"
         },
         "marker": {
          "symbol": "circle"
         },
         "mode": "lines",
         "name": "Childrens open wardrobe with desk, modular, modern, 25",
         "orientation": "v",
         "showlegend": true,
         "type": "scatter",
         "x": [
          "2024-11-27",
          "2024-11-28"
         ],
         "xaxis": "x",
         "y": [
          26,
          32
         ],
         "yaxis": "y"
        },
        {
         "hovertemplate": "Title=Kitchen Equipment<br>Curdate=%{x}<br>Ranking=%{y}<extra></extra>",
         "legendgroup": "Kitchen Equipment",
         "line": {
          "color": "#19d3f3",
          "dash": "solid"
         },
         "marker": {
          "symbol": "circle"
         },
         "mode": "lines",
         "name": "Kitchen Equipment",
         "orientation": "v",
         "showlegend": true,
         "type": "scatter",
         "x": [
          "2024-11-27"
         ],
         "xaxis": "x",
         "y": [
          24
         ],
         "yaxis": "y"
        },
        {
         "hovertemplate": "Title=Guitar. Guitar set for stage. Musical instrument. Microphone<br>Curdate=%{x}<br>Ranking=%{y}<extra></extra>",
         "legendgroup": "Guitar. Guitar set for stage. Musical instrument. Microphone",
         "line": {
          "color": "#FF6692",
          "dash": "solid"
         },
         "marker": {
          "symbol": "circle"
         },
         "mode": "lines",
         "name": "Guitar. Guitar set for stage. Musical instrument. Microphone",
         "orientation": "v",
         "showlegend": true,
         "type": "scatter",
         "x": [
          "2024-11-27",
          "2024-11-28"
         ],
         "xaxis": "x",
         "y": [
          23,
          6
         ],
         "yaxis": "y"
        },
        {
         "hovertemplate": "Title=Dressing room 24<br>Curdate=%{x}<br>Ranking=%{y}<extra></extra>",
         "legendgroup": "Dressing room 24",
         "line": {
          "color": "#B6E880",
          "dash": "solid"
         },
         "marker": {
          "symbol": "circle"
         },
         "mode": "lines",
         "name": "Dressing room 24",
         "orientation": "v",
         "showlegend": true,
         "type": "scatter",
         "x": [
          "2024-11-27",
          "2024-11-28"
         ],
         "xaxis": "x",
         "y": [
          21,
          2
         ],
         "yaxis": "y"
        },
        {
         "hovertemplate": "Title=Khmara by Makhno Rough Plaster Pendant Lamps<br>Curdate=%{x}<br>Ranking=%{y}<extra></extra>",
         "legendgroup": "Khmara by Makhno Rough Plaster Pendant Lamps",
         "line": {
          "color": "#FF97FF",
          "dash": "solid"
         },
         "marker": {
          "symbol": "circle"
         },
         "mode": "lines",
         "name": "Khmara by Makhno Rough Plaster Pendant Lamps",
         "orientation": "v",
         "showlegend": true,
         "type": "scatter",
         "x": [
          "2024-11-27",
          "2024-11-28"
         ],
         "xaxis": "x",
         "y": [
          20,
          22
         ],
         "yaxis": "y"
        },
        {
         "hovertemplate": "Title=Volhovec Rift Doors<br>Curdate=%{x}<br>Ranking=%{y}<extra></extra>",
         "legendgroup": "Volhovec Rift Doors",
         "line": {
          "color": "#FECB52",
          "dash": "solid"
         },
         "marker": {
          "symbol": "circle"
         },
         "mode": "lines",
         "name": "Volhovec Rift Doors",
         "orientation": "v",
         "showlegend": true,
         "type": "scatter",
         "x": [
          "2024-11-27",
          "2024-11-28"
         ],
         "xaxis": "x",
         "y": [
          16,
          64
         ],
         "yaxis": "y"
        },
        {
         "hovertemplate": "Title=Saba Italia Pixel sofa<br>Curdate=%{x}<br>Ranking=%{y}<extra></extra>",
         "legendgroup": "Saba Italia Pixel sofa",
         "line": {
          "color": "#636efa",
          "dash": "solid"
         },
         "marker": {
          "symbol": "circle"
         },
         "mode": "lines",
         "name": "Saba Italia Pixel sofa",
         "orientation": "v",
         "showlegend": true,
         "type": "scatter",
         "x": [
          "2024-11-27"
         ],
         "xaxis": "x",
         "y": [
          15
         ],
         "yaxis": "y"
        },
        {
         "hovertemplate": "Title=Pattie Armchair by Minotti<br>Curdate=%{x}<br>Ranking=%{y}<extra></extra>",
         "legendgroup": "Pattie Armchair by Minotti",
         "line": {
          "color": "#EF553B",
          "dash": "solid"
         },
         "marker": {
          "symbol": "circle"
         },
         "mode": "lines",
         "name": "Pattie Armchair by Minotti",
         "orientation": "v",
         "showlegend": true,
         "type": "scatter",
         "x": [
          "2024-11-27"
         ],
         "xaxis": "x",
         "y": [
          12
         ],
         "yaxis": "y"
        },
        {
         "hovertemplate": "Title=Equipe BALI<br>Curdate=%{x}<br>Ranking=%{y}<extra></extra>",
         "legendgroup": "Equipe BALI",
         "line": {
          "color": "#00cc96",
          "dash": "solid"
         },
         "marker": {
          "symbol": "circle"
         },
         "mode": "lines",
         "name": "Equipe BALI",
         "orientation": "v",
         "showlegend": true,
         "type": "scatter",
         "x": [
          "2024-11-27",
          "2024-11-28"
         ],
         "xaxis": "x",
         "y": [
          10,
          74
         ],
         "yaxis": "y"
        },
        {
         "hovertemplate": "Title=Thick and Linen Curtains with Roman Shade<br>Curdate=%{x}<br>Ranking=%{y}<extra></extra>",
         "legendgroup": "Thick and Linen Curtains with Roman Shade",
         "line": {
          "color": "#ab63fa",
          "dash": "solid"
         },
         "marker": {
          "symbol": "circle"
         },
         "mode": "lines",
         "name": "Thick and Linen Curtains with Roman Shade",
         "orientation": "v",
         "showlegend": true,
         "type": "scatter",
         "x": [
          "2024-11-27"
         ],
         "xaxis": "x",
         "y": [
          9
         ],
         "yaxis": "y"
        },
        {
         "hovertemplate": "Title=ATO rug by Gallotti&Radice<br>Curdate=%{x}<br>Ranking=%{y}<extra></extra>",
         "legendgroup": "ATO rug by Gallotti&Radice",
         "line": {
          "color": "#FFA15A",
          "dash": "solid"
         },
         "marker": {
          "symbol": "circle"
         },
         "mode": "lines",
         "name": "ATO rug by Gallotti&Radice",
         "orientation": "v",
         "showlegend": true,
         "type": "scatter",
         "x": [
          "2024-11-27"
         ],
         "xaxis": "x",
         "y": [
          6
         ],
         "yaxis": "y"
        },
        {
         "hovertemplate": "Title=Bathroom accessories Z42<br>Curdate=%{x}<br>Ranking=%{y}<extra></extra>",
         "legendgroup": "Bathroom accessories Z42",
         "line": {
          "color": "#19d3f3",
          "dash": "solid"
         },
         "marker": {
          "symbol": "circle"
         },
         "mode": "lines",
         "name": "Bathroom accessories Z42",
         "orientation": "v",
         "showlegend": true,
         "type": "scatter",
         "x": [
          "2024-11-27",
          "2024-11-28"
         ],
         "xaxis": "x",
         "y": [
          5,
          53
         ],
         "yaxis": "y"
        },
        {
         "hovertemplate": "Title=Christmas Tree Street<br>Curdate=%{x}<br>Ranking=%{y}<extra></extra>",
         "legendgroup": "Christmas Tree Street",
         "line": {
          "color": "#FF6692",
          "dash": "solid"
         },
         "marker": {
          "symbol": "circle"
         },
         "mode": "lines",
         "name": "Christmas Tree Street",
         "orientation": "v",
         "showlegend": true,
         "type": "scatter",
         "x": [
          "2024-11-27",
          "2024-11-28"
         ],
         "xaxis": "x",
         "y": [
          2,
          4
         ],
         "yaxis": "y"
        },
        {
         "hovertemplate": "Title=Curtain 28/ curtains<br>Curdate=%{x}<br>Ranking=%{y}<extra></extra>",
         "legendgroup": "Curtain 28/ curtains",
         "line": {
          "color": "#B6E880",
          "dash": "solid"
         },
         "marker": {
          "symbol": "circle"
         },
         "mode": "lines",
         "name": "Curtain 28/ curtains",
         "orientation": "v",
         "showlegend": true,
         "type": "scatter",
         "x": [
          "2024-11-27",
          "2024-11-28"
         ],
         "xaxis": "x",
         "y": [
          1,
          25
         ],
         "yaxis": "y"
        },
        {
         "hovertemplate": "Title=Dinning Set 162<br>Curdate=%{x}<br>Ranking=%{y}<extra></extra>",
         "legendgroup": "Dinning Set 162",
         "line": {
          "color": "#FF97FF",
          "dash": "solid"
         },
         "marker": {
          "symbol": "circle"
         },
         "mode": "lines",
         "name": "Dinning Set 162",
         "orientation": "v",
         "showlegend": true,
         "type": "scatter",
         "x": [
          "2024-11-28"
         ],
         "xaxis": "x",
         "y": [
          54
         ],
         "yaxis": "y"
        },
        {
         "hovertemplate": "Title=EWRIKA Penelope electric heated towel rail<br>Curdate=%{x}<br>Ranking=%{y}<extra></extra>",
         "legendgroup": "EWRIKA Penelope electric heated towel rail",
         "line": {
          "color": "#FECB52",
          "dash": "solid"
         },
         "marker": {
          "symbol": "circle"
         },
         "mode": "lines",
         "name": "EWRIKA Penelope electric heated towel rail",
         "orientation": "v",
         "showlegend": true,
         "type": "scatter",
         "x": [
          "2024-11-28"
         ],
         "xaxis": "x",
         "y": [
          38
         ],
         "yaxis": "y"
        },
        {
         "hovertemplate": "Title=A set for a clothing store and showroom<br>Curdate=%{x}<br>Ranking=%{y}<extra></extra>",
         "legendgroup": "A set for a clothing store and showroom",
         "line": {
          "color": "#636efa",
          "dash": "solid"
         },
         "marker": {
          "symbol": "circle"
         },
         "mode": "lines",
         "name": "A set for a clothing store and showroom",
         "orientation": "v",
         "showlegend": true,
         "type": "scatter",
         "x": [
          "2024-11-28"
         ],
         "xaxis": "x",
         "y": [
          37
         ],
         "yaxis": "y"
        },
        {
         "hovertemplate": "Title=Decorative set with a small beige bag<br>Curdate=%{x}<br>Ranking=%{y}<extra></extra>",
         "legendgroup": "Decorative set with a small beige bag",
         "line": {
          "color": "#EF553B",
          "dash": "solid"
         },
         "marker": {
          "symbol": "circle"
         },
         "mode": "lines",
         "name": "Decorative set with a small beige bag",
         "orientation": "v",
         "showlegend": true,
         "type": "scatter",
         "x": [
          "2024-11-28"
         ],
         "xaxis": "x",
         "y": [
          24
         ],
         "yaxis": "y"
        },
        {
         "hovertemplate": "Title=Emmi Armchair by Minotti<br>Curdate=%{x}<br>Ranking=%{y}<extra></extra>",
         "legendgroup": "Emmi Armchair by Minotti",
         "line": {
          "color": "#00cc96",
          "dash": "solid"
         },
         "marker": {
          "symbol": "circle"
         },
         "mode": "lines",
         "name": "Emmi Armchair by Minotti",
         "orientation": "v",
         "showlegend": true,
         "type": "scatter",
         "x": [
          "2024-11-28"
         ],
         "xaxis": "x",
         "y": [
          18
         ],
         "yaxis": "y"
        },
        {
         "hovertemplate": "Title=Bathroom furniture 11<br>Curdate=%{x}<br>Ranking=%{y}<extra></extra>",
         "legendgroup": "Bathroom furniture 11",
         "line": {
          "color": "#ab63fa",
          "dash": "solid"
         },
         "marker": {
          "symbol": "circle"
         },
         "mode": "lines",
         "name": "Bathroom furniture 11",
         "orientation": "v",
         "showlegend": true,
         "type": "scatter",
         "x": [
          "2024-11-28"
         ],
         "xaxis": "x",
         "y": [
          17
         ],
         "yaxis": "y"
        },
        {
         "hovertemplate": "Title=Pinch Pleat Linen Curtain with Roller Blind<br>Curdate=%{x}<br>Ranking=%{y}<extra></extra>",
         "legendgroup": "Pinch Pleat Linen Curtain with Roller Blind",
         "line": {
          "color": "#FFA15A",
          "dash": "solid"
         },
         "marker": {
          "symbol": "circle"
         },
         "mode": "lines",
         "name": "Pinch Pleat Linen Curtain with Roller Blind",
         "orientation": "v",
         "showlegend": true,
         "type": "scatter",
         "x": [
          "2024-11-28"
         ],
         "xaxis": "x",
         "y": [
          9
         ],
         "yaxis": "y"
        },
        {
         "hovertemplate": "Title=Wonderful Christmas Tree<br>Curdate=%{x}<br>Ranking=%{y}<extra></extra>",
         "legendgroup": "Wonderful Christmas Tree",
         "line": {
          "color": "#19d3f3",
          "dash": "solid"
         },
         "marker": {
          "symbol": "circle"
         },
         "mode": "lines",
         "name": "Wonderful Christmas Tree",
         "orientation": "v",
         "showlegend": true,
         "type": "scatter",
         "x": [
          "2024-11-28"
         ],
         "xaxis": "x",
         "y": [
          8
         ],
         "yaxis": "y"
        },
        {
         "hovertemplate": "Title=Kitchen table Loft Tobacco and chairs Dick divan.ru<br>Curdate=%{x}<br>Ranking=%{y}<extra></extra>",
         "legendgroup": "Kitchen table Loft Tobacco and chairs Dick divan.ru",
         "line": {
          "color": "#FF6692",
          "dash": "solid"
         },
         "marker": {
          "symbol": "circle"
         },
         "mode": "lines",
         "name": "Kitchen table Loft Tobacco and chairs Dick divan.ru",
         "orientation": "v",
         "showlegend": true,
         "type": "scatter",
         "x": [
          "2024-11-28"
         ],
         "xaxis": "x",
         "y": [
          7
         ],
         "yaxis": "y"
        },
        {
         "hovertemplate": "Title=Thermal curtain Ballu<br>Curdate=%{x}<br>Ranking=%{y}<extra></extra>",
         "legendgroup": "Thermal curtain Ballu",
         "line": {
          "color": "#B6E880",
          "dash": "solid"
         },
         "marker": {
          "symbol": "circle"
         },
         "mode": "lines",
         "name": "Thermal curtain Ballu",
         "orientation": "v",
         "showlegend": true,
         "type": "scatter",
         "x": [
          "2024-11-28"
         ],
         "xaxis": "x",
         "y": [
          5
         ],
         "yaxis": "y"
        },
        {
         "hovertemplate": "Title=Yoga & Meditation Set<br>Curdate=%{x}<br>Ranking=%{y}<extra></extra>",
         "legendgroup": "Yoga & Meditation Set",
         "line": {
          "color": "#FF97FF",
          "dash": "solid"
         },
         "marker": {
          "symbol": "circle"
         },
         "mode": "lines",
         "name": "Yoga & Meditation Set",
         "orientation": "v",
         "showlegend": true,
         "type": "scatter",
         "x": [
          "2024-11-28"
         ],
         "xaxis": "x",
         "y": [
          3
         ],
         "yaxis": "y"
        },
        {
         "hovertemplate": "Title=Timo Saona<br>Curdate=%{x}<br>Ranking=%{y}<extra></extra>",
         "legendgroup": "Timo Saona",
         "line": {
          "color": "#FECB52",
          "dash": "solid"
         },
         "marker": {
          "symbol": "circle"
         },
         "mode": "lines",
         "name": "Timo Saona",
         "orientation": "v",
         "showlegend": true,
         "type": "scatter",
         "x": [
          "2024-11-28"
         ],
         "xaxis": "x",
         "y": [
          1
         ],
         "yaxis": "y"
        }
       ],
       "layout": {
        "legend": {
         "title": {
          "text": "Title"
         },
         "tracegroupgap": 0
        },
        "template": {
         "data": {
          "bar": [
           {
            "error_x": {
             "color": "#2a3f5f"
            },
            "error_y": {
             "color": "#2a3f5f"
            },
            "marker": {
             "line": {
              "color": "#E5ECF6",
              "width": 0.5
             },
             "pattern": {
              "fillmode": "overlay",
              "size": 10,
              "solidity": 0.2
             }
            },
            "type": "bar"
           }
          ],
          "barpolar": [
           {
            "marker": {
             "line": {
              "color": "#E5ECF6",
              "width": 0.5
             },
             "pattern": {
              "fillmode": "overlay",
              "size": 10,
              "solidity": 0.2
             }
            },
            "type": "barpolar"
           }
          ],
          "carpet": [
           {
            "aaxis": {
             "endlinecolor": "#2a3f5f",
             "gridcolor": "white",
             "linecolor": "white",
             "minorgridcolor": "white",
             "startlinecolor": "#2a3f5f"
            },
            "baxis": {
             "endlinecolor": "#2a3f5f",
             "gridcolor": "white",
             "linecolor": "white",
             "minorgridcolor": "white",
             "startlinecolor": "#2a3f5f"
            },
            "type": "carpet"
           }
          ],
          "choropleth": [
           {
            "colorbar": {
             "outlinewidth": 0,
             "ticks": ""
            },
            "type": "choropleth"
           }
          ],
          "contour": [
           {
            "colorbar": {
             "outlinewidth": 0,
             "ticks": ""
            },
            "colorscale": [
             [
              0,
              "#0d0887"
             ],
             [
              0.1111111111111111,
              "#46039f"
             ],
             [
              0.2222222222222222,
              "#7201a8"
             ],
             [
              0.3333333333333333,
              "#9c179e"
             ],
             [
              0.4444444444444444,
              "#bd3786"
             ],
             [
              0.5555555555555556,
              "#d8576b"
             ],
             [
              0.6666666666666666,
              "#ed7953"
             ],
             [
              0.7777777777777778,
              "#fb9f3a"
             ],
             [
              0.8888888888888888,
              "#fdca26"
             ],
             [
              1,
              "#f0f921"
             ]
            ],
            "type": "contour"
           }
          ],
          "contourcarpet": [
           {
            "colorbar": {
             "outlinewidth": 0,
             "ticks": ""
            },
            "type": "contourcarpet"
           }
          ],
          "heatmap": [
           {
            "colorbar": {
             "outlinewidth": 0,
             "ticks": ""
            },
            "colorscale": [
             [
              0,
              "#0d0887"
             ],
             [
              0.1111111111111111,
              "#46039f"
             ],
             [
              0.2222222222222222,
              "#7201a8"
             ],
             [
              0.3333333333333333,
              "#9c179e"
             ],
             [
              0.4444444444444444,
              "#bd3786"
             ],
             [
              0.5555555555555556,
              "#d8576b"
             ],
             [
              0.6666666666666666,
              "#ed7953"
             ],
             [
              0.7777777777777778,
              "#fb9f3a"
             ],
             [
              0.8888888888888888,
              "#fdca26"
             ],
             [
              1,
              "#f0f921"
             ]
            ],
            "type": "heatmap"
           }
          ],
          "heatmapgl": [
           {
            "colorbar": {
             "outlinewidth": 0,
             "ticks": ""
            },
            "colorscale": [
             [
              0,
              "#0d0887"
             ],
             [
              0.1111111111111111,
              "#46039f"
             ],
             [
              0.2222222222222222,
              "#7201a8"
             ],
             [
              0.3333333333333333,
              "#9c179e"
             ],
             [
              0.4444444444444444,
              "#bd3786"
             ],
             [
              0.5555555555555556,
              "#d8576b"
             ],
             [
              0.6666666666666666,
              "#ed7953"
             ],
             [
              0.7777777777777778,
              "#fb9f3a"
             ],
             [
              0.8888888888888888,
              "#fdca26"
             ],
             [
              1,
              "#f0f921"
             ]
            ],
            "type": "heatmapgl"
           }
          ],
          "histogram": [
           {
            "marker": {
             "pattern": {
              "fillmode": "overlay",
              "size": 10,
              "solidity": 0.2
             }
            },
            "type": "histogram"
           }
          ],
          "histogram2d": [
           {
            "colorbar": {
             "outlinewidth": 0,
             "ticks": ""
            },
            "colorscale": [
             [
              0,
              "#0d0887"
             ],
             [
              0.1111111111111111,
              "#46039f"
             ],
             [
              0.2222222222222222,
              "#7201a8"
             ],
             [
              0.3333333333333333,
              "#9c179e"
             ],
             [
              0.4444444444444444,
              "#bd3786"
             ],
             [
              0.5555555555555556,
              "#d8576b"
             ],
             [
              0.6666666666666666,
              "#ed7953"
             ],
             [
              0.7777777777777778,
              "#fb9f3a"
             ],
             [
              0.8888888888888888,
              "#fdca26"
             ],
             [
              1,
              "#f0f921"
             ]
            ],
            "type": "histogram2d"
           }
          ],
          "histogram2dcontour": [
           {
            "colorbar": {
             "outlinewidth": 0,
             "ticks": ""
            },
            "colorscale": [
             [
              0,
              "#0d0887"
             ],
             [
              0.1111111111111111,
              "#46039f"
             ],
             [
              0.2222222222222222,
              "#7201a8"
             ],
             [
              0.3333333333333333,
              "#9c179e"
             ],
             [
              0.4444444444444444,
              "#bd3786"
             ],
             [
              0.5555555555555556,
              "#d8576b"
             ],
             [
              0.6666666666666666,
              "#ed7953"
             ],
             [
              0.7777777777777778,
              "#fb9f3a"
             ],
             [
              0.8888888888888888,
              "#fdca26"
             ],
             [
              1,
              "#f0f921"
             ]
            ],
            "type": "histogram2dcontour"
           }
          ],
          "mesh3d": [
           {
            "colorbar": {
             "outlinewidth": 0,
             "ticks": ""
            },
            "type": "mesh3d"
           }
          ],
          "parcoords": [
           {
            "line": {
             "colorbar": {
              "outlinewidth": 0,
              "ticks": ""
             }
            },
            "type": "parcoords"
           }
          ],
          "pie": [
           {
            "automargin": true,
            "type": "pie"
           }
          ],
          "scatter": [
           {
            "fillpattern": {
             "fillmode": "overlay",
             "size": 10,
             "solidity": 0.2
            },
            "type": "scatter"
           }
          ],
          "scatter3d": [
           {
            "line": {
             "colorbar": {
              "outlinewidth": 0,
              "ticks": ""
             }
            },
            "marker": {
             "colorbar": {
              "outlinewidth": 0,
              "ticks": ""
             }
            },
            "type": "scatter3d"
           }
          ],
          "scattercarpet": [
           {
            "marker": {
             "colorbar": {
              "outlinewidth": 0,
              "ticks": ""
             }
            },
            "type": "scattercarpet"
           }
          ],
          "scattergeo": [
           {
            "marker": {
             "colorbar": {
              "outlinewidth": 0,
              "ticks": ""
             }
            },
            "type": "scattergeo"
           }
          ],
          "scattergl": [
           {
            "marker": {
             "colorbar": {
              "outlinewidth": 0,
              "ticks": ""
             }
            },
            "type": "scattergl"
           }
          ],
          "scattermapbox": [
           {
            "marker": {
             "colorbar": {
              "outlinewidth": 0,
              "ticks": ""
             }
            },
            "type": "scattermapbox"
           }
          ],
          "scatterpolar": [
           {
            "marker": {
             "colorbar": {
              "outlinewidth": 0,
              "ticks": ""
             }
            },
            "type": "scatterpolar"
           }
          ],
          "scatterpolargl": [
           {
            "marker": {
             "colorbar": {
              "outlinewidth": 0,
              "ticks": ""
             }
            },
            "type": "scatterpolargl"
           }
          ],
          "scatterternary": [
           {
            "marker": {
             "colorbar": {
              "outlinewidth": 0,
              "ticks": ""
             }
            },
            "type": "scatterternary"
           }
          ],
          "surface": [
           {
            "colorbar": {
             "outlinewidth": 0,
             "ticks": ""
            },
            "colorscale": [
             [
              0,
              "#0d0887"
             ],
             [
              0.1111111111111111,
              "#46039f"
             ],
             [
              0.2222222222222222,
              "#7201a8"
             ],
             [
              0.3333333333333333,
              "#9c179e"
             ],
             [
              0.4444444444444444,
              "#bd3786"
             ],
             [
              0.5555555555555556,
              "#d8576b"
             ],
             [
              0.6666666666666666,
              "#ed7953"
             ],
             [
              0.7777777777777778,
              "#fb9f3a"
             ],
             [
              0.8888888888888888,
              "#fdca26"
             ],
             [
              1,
              "#f0f921"
             ]
            ],
            "type": "surface"
           }
          ],
          "table": [
           {
            "cells": {
             "fill": {
              "color": "#EBF0F8"
             },
             "line": {
              "color": "white"
             }
            },
            "header": {
             "fill": {
              "color": "#C8D4E3"
             },
             "line": {
              "color": "white"
             }
            },
            "type": "table"
           }
          ]
         },
         "layout": {
          "annotationdefaults": {
           "arrowcolor": "#2a3f5f",
           "arrowhead": 0,
           "arrowwidth": 1
          },
          "autotypenumbers": "strict",
          "coloraxis": {
           "colorbar": {
            "outlinewidth": 0,
            "ticks": ""
           }
          },
          "colorscale": {
           "diverging": [
            [
             0,
             "#8e0152"
            ],
            [
             0.1,
             "#c51b7d"
            ],
            [
             0.2,
             "#de77ae"
            ],
            [
             0.3,
             "#f1b6da"
            ],
            [
             0.4,
             "#fde0ef"
            ],
            [
             0.5,
             "#f7f7f7"
            ],
            [
             0.6,
             "#e6f5d0"
            ],
            [
             0.7,
             "#b8e186"
            ],
            [
             0.8,
             "#7fbc41"
            ],
            [
             0.9,
             "#4d9221"
            ],
            [
             1,
             "#276419"
            ]
           ],
           "sequential": [
            [
             0,
             "#0d0887"
            ],
            [
             0.1111111111111111,
             "#46039f"
            ],
            [
             0.2222222222222222,
             "#7201a8"
            ],
            [
             0.3333333333333333,
             "#9c179e"
            ],
            [
             0.4444444444444444,
             "#bd3786"
            ],
            [
             0.5555555555555556,
             "#d8576b"
            ],
            [
             0.6666666666666666,
             "#ed7953"
            ],
            [
             0.7777777777777778,
             "#fb9f3a"
            ],
            [
             0.8888888888888888,
             "#fdca26"
            ],
            [
             1,
             "#f0f921"
            ]
           ],
           "sequentialminus": [
            [
             0,
             "#0d0887"
            ],
            [
             0.1111111111111111,
             "#46039f"
            ],
            [
             0.2222222222222222,
             "#7201a8"
            ],
            [
             0.3333333333333333,
             "#9c179e"
            ],
            [
             0.4444444444444444,
             "#bd3786"
            ],
            [
             0.5555555555555556,
             "#d8576b"
            ],
            [
             0.6666666666666666,
             "#ed7953"
            ],
            [
             0.7777777777777778,
             "#fb9f3a"
            ],
            [
             0.8888888888888888,
             "#fdca26"
            ],
            [
             1,
             "#f0f921"
            ]
           ]
          },
          "colorway": [
           "#636efa",
           "#EF553B",
           "#00cc96",
           "#ab63fa",
           "#FFA15A",
           "#19d3f3",
           "#FF6692",
           "#B6E880",
           "#FF97FF",
           "#FECB52"
          ],
          "font": {
           "color": "#2a3f5f"
          },
          "geo": {
           "bgcolor": "white",
           "lakecolor": "white",
           "landcolor": "#E5ECF6",
           "showlakes": true,
           "showland": true,
           "subunitcolor": "white"
          },
          "hoverlabel": {
           "align": "left"
          },
          "hovermode": "closest",
          "mapbox": {
           "style": "light"
          },
          "paper_bgcolor": "white",
          "plot_bgcolor": "#E5ECF6",
          "polar": {
           "angularaxis": {
            "gridcolor": "white",
            "linecolor": "white",
            "ticks": ""
           },
           "bgcolor": "#E5ECF6",
           "radialaxis": {
            "gridcolor": "white",
            "linecolor": "white",
            "ticks": ""
           }
          },
          "scene": {
           "xaxis": {
            "backgroundcolor": "#E5ECF6",
            "gridcolor": "white",
            "gridwidth": 2,
            "linecolor": "white",
            "showbackground": true,
            "ticks": "",
            "zerolinecolor": "white"
           },
           "yaxis": {
            "backgroundcolor": "#E5ECF6",
            "gridcolor": "white",
            "gridwidth": 2,
            "linecolor": "white",
            "showbackground": true,
            "ticks": "",
            "zerolinecolor": "white"
           },
           "zaxis": {
            "backgroundcolor": "#E5ECF6",
            "gridcolor": "white",
            "gridwidth": 2,
            "linecolor": "white",
            "showbackground": true,
            "ticks": "",
            "zerolinecolor": "white"
           }
          },
          "shapedefaults": {
           "line": {
            "color": "#2a3f5f"
           }
          },
          "ternary": {
           "aaxis": {
            "gridcolor": "white",
            "linecolor": "white",
            "ticks": ""
           },
           "baxis": {
            "gridcolor": "white",
            "linecolor": "white",
            "ticks": ""
           },
           "bgcolor": "#E5ECF6",
           "caxis": {
            "gridcolor": "white",
            "linecolor": "white",
            "ticks": ""
           }
          },
          "title": {
           "x": 0.05
          },
          "xaxis": {
           "automargin": true,
           "gridcolor": "white",
           "linecolor": "white",
           "ticks": "",
           "title": {
            "standoff": 15
           },
           "zerolinecolor": "white",
           "zerolinewidth": 2
          },
          "yaxis": {
           "automargin": true,
           "gridcolor": "white",
           "linecolor": "white",
           "ticks": "",
           "title": {
            "standoff": 15
           },
           "zerolinecolor": "white",
           "zerolinewidth": 2
          }
         }
        },
        "title": {
         "text": "Top 120 Rank Dynamics"
        },
        "xaxis": {
         "anchor": "y",
         "domain": [
          0,
          1
         ],
         "title": {
          "text": "Curdate"
         }
        },
        "yaxis": {
         "anchor": "x",
         "domain": [
          0,
          1
         ],
         "title": {
          "text": "Ranking"
         }
        }
       }
      }
     },
     "metadata": {},
     "output_type": "display_data"
    }
   ],
   "source": [
    "# Чтение данных\n",
    "dynamic_data = pd.read_excel(file_path)\n",
    "dynamic_data['Ranking'] = 121 - dynamic_data['N']\n",
    "\n",
    "fig9 = px.line(dynamic_data, x='Curdate', y='Ranking', color='Title', title='Top 120 Rank Dynamics')\n",
    "fig9.show()"
   ]
  },
  {
   "cell_type": "code",
   "execution_count": 219,
   "metadata": {},
   "outputs": [],
   "source": [
    "fig9.write_html(\"Top 120 Rank Dynamics.html\")"
   ]
  }
 ],
 "metadata": {
  "kernelspec": {
   "display_name": "Python 3",
   "language": "python",
   "name": "python3"
  },
  "language_info": {
   "codemirror_mode": {
    "name": "ipython",
    "version": 3
   },
   "file_extension": ".py",
   "mimetype": "text/x-python",
   "name": "python",
   "nbconvert_exporter": "python",
   "pygments_lexer": "ipython3",
   "version": "3.9.13"
  }
 },
 "nbformat": 4,
 "nbformat_minor": 2
}
