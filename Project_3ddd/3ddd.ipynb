{
 "cells": [
  {
   "cell_type": "code",
   "execution_count": 239,
   "metadata": {},
   "outputs": [
    {
     "name": "stdout",
     "output_type": "stream",
     "text": [
      "Append: [1, '2024-12-01', 'Christmas tree with fireplace 5', 'https://3dsky.org/3dmodels/show/novogodniaia_elka_s_kaminom_5', 'Decoration', 'Other decorative objects', '3dsMax 2016 + obj', 'Corona', 'None', 'None', '2024-11-11', 'dofen', 314, 166]\n",
      "Append: [2, '2024-12-01', 'Benuta Leon Cream Wool Rug', 'https://3dsky.org/3dmodels/show/benuta_leon_cream_wool_rug', 'Decoration', 'Carpets', '3dsMax 2015 + obj', 'Corona', 'None', 'None', '2024-11-03', '3Dmitruk', 335, 219]\n",
      "Append: [3, '2024-12-01', 'Office chair Ashley', 'https://3dsky.org/3dmodels/show/ofisnoe_kreslo_eshli', 'Furniture', 'Office furniture', '3dsMax 2015 + obj', 'Corona', 'None', 'None', '2024-10-13', 'illidan_', 6, 135]\n",
      "Append: [4, '2024-12-01', 'Clothes for wardrobe NG15', 'https://3dsky.org/3dmodels/show/odezhda_dlia_garderoba_ng15', 'Decoration', 'Clothes', '3dsMax 2016 + obj', 'Corona', 'V-Ray', 'None', '2024-11-12', 'niga2323', 746, 98]\n",
      "Append: [5, '2024-12-01', 'Indoor Plant Set 89', 'https://3dsky.org/3dmodels/show/indoor_plant_set_89_23', 'Plants', 'Indoor', '3dsMax 2015 + obj', 'Corona', 'V-Ray', 'None', '2024-04-30', 'mh.designer', 212, 52]\n",
      "Append: [6, '2024-12-01', 'Boucle Fabric', 'https://3dsky.org/3dmodels/show/boucle_fabric', 'Materials', 'Miscellaneous', '3dsMax 2019 + obj', 'Corona', 'None', 'None', '2024-10-27', 'marchik3d', 151, 415]\n",
      "Append: [7, '2024-12-01', 'Benuta Dave Rectangular Fur Rug (3 colors)', 'https://3dsky.org/3dmodels/show/benuta_dave_rectangular_fur_rug_3_colors', 'Decoration', 'Carpets', '3dsMax 2015 + obj', 'Corona', 'None', 'None', '2024-06-27', '3Dmitruk', 335, 539]\n",
      "Append: [8, '2024-12-01', 'Dressing room 28', 'https://3dsky.org/3dmodels/show/garderobnaia_28', 'Furniture', 'Wardrobe & Display cabinets', '3dsMax 2017 + fbx', 'Corona', 'None', 'None', '2024-11-14', 'protektor', 322, 69]\n",
      "Append: [9, '2024-12-01', 'Curtains with Roman blinds 2', 'https://3dsky.org/3dmodels/show/shtory_s_rimskimi_shtorami_2', 'Decoration', 'Curtain', '3dsMax 2014 + obj', 'Corona', 'None', 'None', '2024-08-26', 'Rolan05', 128, 243]\n",
      "Append: [10, '2024-12-01', 'Decorative Set 089', 'https://3dsky.org/3dmodels/show/decorative_set_089_4', 'Decoration', 'Decorative set', '3dsMax 2016 + fbx', 'Corona', 'V-Ray', 'None', '2024-10-27', 'Moriiiz', 87, 226]\n",
      "Append: [11, '2024-12-01', 'Kitchen 10', 'https://3dsky.org/3dmodels/show/kukhnia_10_6', 'Kitchen', 'Kitchen', '3dsMax 2015 + obj', 'Corona', 'None', 'None', '2024-06-29', 'RazorS95', 11, 90]\n",
      "Append: [12, '2024-12-01', 'Carpeting. Seamless carpet', 'https://3dsky.org/3dmodels/show/carpeting_seamless_carpet', 'Materials', 'Miscellaneous', '3dsMax 2015 + fbx', 'Corona', 'V-Ray', 'None', '2024-09-10', 'sofiakholina', 772, 144]\n",
      "Append: [13, '2024-12-01', 'Omnires mixers', 'https://3dsky.org/3dmodels/show/smesiteli_omnires', 'Bathroom', 'Faucet', '3dsMax 2018 + fbx', 'Corona', 'V-Ray', 'None', '2024-10-12', 'fffaaa12', 1217, 71]\n",
      "Append: [14, '2024-12-01', 'Cairns pedestal Divan.ru', 'https://3dsky.org/3dmodels/show/kerns_tumba_divan_ru', 'Furniture', 'Sideboard & Chest of drawer', '3dsMax 2016 + obj', 'Corona', 'V-Ray', 'None', '2024-11-05', 'niga2323', 746, 71]\n",
      "Append: [15, '2024-12-01', 'Bathroom decor with a set of different cosmetic products', 'https://3dsky.org/3dmodels/show/bathroom_decor_with_a_set_of_different_cosmetic_products', 'Bathroom', 'Bathroom accessories', '3dsMax 2015 + fbx', 'Corona', 'V-Ray', 'None', '2024-07-10', 'sofiakholina', 772, 268]\n",
      "Append: [16, '2024-12-01', 'Snow', 'https://3dsky.org/3dmodels/show/sneg_4', 'Materials', 'Miscellaneous', '3dsMax 2013 + obj', 'Corona', 'None', 'None', '2024-11-09', 'maltsev_stepan', 310, 67]\n",
      "Append: [17, '2024-12-01', 'Pinch Pleat Linen Curtain with Roller Blind', 'https://3dsky.org/3dmodels/show/pinch_pleat_linen_curtain_with_roller_blind', 'Decoration', 'Curtain', '3dsMax 2013 + fbx', 'Corona', 'V-Ray', 'None', '2024-11-20', 'kapusta', 129, 53]\n",
      "Append: [18, '2024-12-01', 'Equipe BALI', 'https://3dsky.org/3dmodels/show/equipe_bali_2', 'Textures', 'Tile', '3dsMax 2016 + obj', 'Corona', 'V-Ray', 'None', '2024-09-25', 'StanisLOVE.viz', 162, 101]\n",
      "Append: [19, '2024-12-01', 'coffee table decor set 005', 'https://3dsky.org/3dmodels/show/coffee_table_decor_set_005', 'Decoration', 'Decorative set', '3dsMax 2015 + fbx', 'Corona', 'V-Ray', 'None', '2024-11-15', 'Mitya87', 190, 139]\n",
      "Append: [20, '2024-12-01', 'Siena Kids Bed By Como', 'https://3dsky.org/3dmodels/show/siena_kids_bed_by_como_5', 'Childroom', 'Bed', '3dsMax 2015 + obj', 'Corona', 'None', 'None', '2024-02-18', 'ZikKoo', 417, 773]\n",
      "Append: [21, '2024-12-01', 'Dressing room 16', 'https://3dsky.org/3dmodels/show/garderobnaia_16_1', 'Furniture', 'Wardrobe & Display cabinets', '3dsMax 2017 + fbx', 'Corona', 'None', 'None', '2024-05-06', 'protektor', 322, 386]\n",
      "Append: [22, '2024-12-01', 'Faucets and showers Boheme uno set 2', 'https://3dsky.org/3dmodels/show/faucets_and_showers_boheme_uno_set_2', 'Bathroom', 'Faucet', '3dsMax 2017 + fbx', 'Corona', 'V-Ray', 'None', '2024-09-13', 'Ashlesha', 22, 61]\n",
      "Append: [23, '2024-12-01', 'Decorative Set 088', 'https://3dsky.org/3dmodels/show/decorative_set_088_2', 'Decoration', 'Decorative set', '3dsMax 2016 + fbx', 'Corona', 'V-Ray', 'None', '2024-10-13', 'Moriiiz', 87, 202]\n",
      "Append: [24, '2024-12-01', 'Porcelain tiles Nolana Estima', 'https://3dsky.org/3dmodels/show/keramogranit_nolana_estima', 'Materials', 'Tile', '3dsMax 2020 + obj', 'Corona', 'None', 'None', '2024-09-14', 'RazorS95', 11, 169]\n",
      "Append: [25, '2024-12-01', 'Bathroom decor set P06', 'https://3dsky.org/3dmodels/show/bathroom_decor_set_p06', 'Bathroom', 'Bathroom accessories', '3dsMax 2020 + fbx', 'Corona', 'None', 'None', '2024-08-06', 'picture.cg', 8, 94]\n",
      "Append: [26, '2024-12-01', 'Milam chair Divan.ru', 'https://3dsky.org/3dmodels/show/milam_stul_divan_ru', 'Furniture', 'Chair', '3dsMax 2016 + obj', 'Corona', 'V-Ray', 'None', '2024-10-08', 'niga2323', 746, 93]\n",
      "Append: [27, '2024-12-01', 'A set of clothes in bright colors for a wardrobe or showroom and a store', 'https://3dsky.org/3dmodels/show/a_set_of_clothes_in_bright_colors_for_a_wardrobe_or_showroom_and_a_store', 'Decoration', 'Clothes', '3dsMax 2015 + fbx', 'Corona', 'V-Ray', 'None', '2024-10-26', 'sofiakholina', 772, 192]\n",
      "Append: [28, '2024-12-01', 'Grilles for ventilation and air conditioning Redvent', 'https://3dsky.org/3dmodels/show/reshetki_dlia_ventiliatsii_i_konditsionirovaniia_redvent', 'Other Models', 'Miscellaneous', '3dsMax 2017 + obj', 'Corona', 'V-Ray', 'None', '2024-10-27', 'DashutaG', 31, 96]\n",
      "Append: [29, '2024-12-01', 'Bathroom accessories Z42', 'https://3dsky.org/3dmodels/show/bathroom_accessories_z42', 'Bathroom', 'Bathroom accessories', '3dsMax 2016 + obj', 'Corona', 'V-Ray', 'None', '2024-11-13', 'zyazdiyan', 34, 28]\n",
      "Append: [30, '2024-12-01', 'HOMARY island for dressing room NG16', 'https://3dsky.org/3dmodels/show/homary_ostrov_dlia_garderobnoi_ng16', 'Furniture', 'Other', '3dsMax 2016 + obj', 'Corona', 'V-Ray', 'None', '2024-11-18', 'niga2323', 746, 249]\n",
      "Append: [31, '2024-12-01', 'Khmara by Makhno Rough Plaster Pendant Lamps', 'https://3dsky.org/3dmodels/show/khmara_by_makhno_rough_plaster_pendant_lamps_set_01_3', 'Lighting', 'Pendant light', '3dsMax 2018 + obj', 'Corona', 'V-Ray', 'None', '2024-03-12', 'CG__Aryan', 29, 308]\n",
      "Append: [32, '2024-12-01', 'Basic wardrobe made of cabinet furniture with doors', 'https://3dsky.org/3dmodels/show/basic_wardrobe_made_of_cabinet_furniture_with_doors', 'Furniture', 'Wardrobe & Display cabinets', '3dsMax 2015 + fbx', 'Corona', 'V-Ray', 'None', '2024-11-12', 'sofiakholina', 772, 110]\n",
      "Append: [33, '2024-12-01', 'Track system centersvet Infinity', 'https://3dsky.org/3dmodels/show/trekovaia_sistema_centersvet_infinity', 'Lighting', 'Technical lighting', '3dsMax 2020 + obj', 'Corona', 'None', 'None', '2024-10-30', 'Beliy', 22, 29]\n",
      "Append: [34, '2024-12-01', 'Glass Block Wall 08', 'https://3dsky.org/3dmodels/show/glass_block_wall_08', 'Decoration', 'Other decorative objects', '3dsMax 2014 + fbx', 'Corona', 'V-Ray', 'None', '2022-05-26', 'NK3D', 128, 812]\n",
      "Append: [35, '2024-12-01', 'Sinks and faucets Omoikiri', 'https://3dsky.org/3dmodels/show/moiki_i_smesiteli_omoikiri', 'Kitchen', 'Sink', '3dsMax 2017 + fbx', 'Corona', 'None', 'None', '2023-10-15', 'oleksandroleksandr', 125, 502]\n",
      "Append: [36, '2024-12-01', 'Faucets and showers Boheme uno set 1', 'https://3dsky.org/3dmodels/show/faucets_and_showers_boheme_uno_set_1', 'Bathroom', 'Bathtub', '3dsMax 2017 + fbx', 'Corona', 'V-Ray', 'None', '2024-09-10', 'Ashlesha', 22, 39]\n",
      "Append: [37, '2024-12-01', 'Parquet board 4', 'https://3dsky.org/3dmodels/show/parketnaia_doska_4_1', 'Textures', 'Floor coverings', '3dsMax 2016 + obj', 'Corona', 'V-Ray', 'None', '2024-10-21', 'dofen', 314, 85]\n",
      "Append: [38, '2024-12-01', 'Moooi Drape Lights', 'https://3dsky.org/3dmodels/show/moooi_drape_lights', 'Lighting', 'Pendant light', '3dsMax 2014 + obj', 'None', 'V-Ray', 'None', '2024-10-28', 'Karloo', 100, 101]\n",
      "Append: [39, '2024-12-01', 'Children play area | Interactive', 'https://3dsky.org/3dmodels/show/children_play_area_interactive', 'Childroom', 'Miscellaneous', '3dsMax 2016 + fbx', 'Corona', 'V-Ray', 'None', '2024-11-04', 'lzv_cg', 85, 156]\n",
      "Append: [40, '2024-12-01', 'Roman blinds, Roman blinds', 'https://3dsky.org/3dmodels/show/roman_blinds_rimskie_shtory', 'Decoration', 'Curtain', '3dsMax 2016 + obj', 'Corona', 'None', 'None', '2024-11-12', 'Neeo', 420, 86]\n",
      "Append: [41, '2024-12-01', 'TV Wall 52', 'https://3dsky.org/3dmodels/show/tv_wall_52_7', 'Furniture', 'TV Wall', '3dsMax 2016 + obj', 'Corona', 'V-Ray', 'None', '2024-10-27', 'sirous21', 232, 62]\n",
      "Append: [42, '2024-12-01', 'TV wall with Xiaomi laser projector', 'https://3dsky.org/3dmodels/show/tv_stena_s_lazernym_proektorom_xiaomi', 'Furniture', 'TV Wall', '3dsMax 2015 + fbx', 'Corona', 'V-Ray', 'None', '2023-12-09', 'aoverina', 2229, 1488]\n",
      "Append: [43, '2024-12-01', 'Nice Christmas tree', 'https://3dsky.org/3dmodels/show/khoroshaia_elochka', 'Decoration', 'Other decorative objects', '3dsMax 2015 + fbx', 'Corona', 'None', 'None', '2023-11-23', 'fffaaa12', 1217, 1411]\n",
      "Append: [44, '2024-12-01', 'Padel', 'https://3dsky.org/3dmodels/show/padel_padel', 'Other Models', 'Sports', '3dsMax 2017 + obj', 'Corona', 'V-Ray', 'None', '2023-11-03', 'alexsm2014', 22, 117]\n",
      "Append: [45, '2024-12-01', 'Decorative set with a small beige bag', 'https://3dsky.org/3dmodels/show/dekorativnyi_nabor_s_malenkoi_sumkoi_bezh', 'Decoration', 'Decorative set', '3dsMax 2017 + obj', 'Corona', 'V-Ray', 'None', '2024-05-19', 'Lana3D', 29, 32]\n",
      "Append: [46, '2024-12-01', 'Realistic meadow grass', 'https://3dsky.org/3dmodels/show/realistichnaia_lugovaia_trava', 'Plants', 'Grass', '3dsMax 2020 + obj', 'Corona', 'None', 'None', '2024-09-05', 'AlexHappy', 1675, 440]\n",
      "Append: [47, '2024-12-01', 'Christmas tree with fireplace 4', 'https://3dsky.org/3dmodels/show/novogodniaia_elka_s_kaminom_4', 'Decoration', 'Other decorative objects', '3dsMax 2016 + obj', 'Corona', 'None', 'None', '2023-12-22', 'dofen', 314, 348]\n",
      "Append: [48, '2024-12-01', 'Cookware set NG5', 'https://3dsky.org/3dmodels/show/nabor_posudy_ng5', 'Kitchen', 'Tableware', '3dsMax 2016 + obj', 'Corona', 'V-Ray', 'None', '2024-10-07', 'niga2323', 746, 324]\n",
      "Append: [49, '2024-12-01', 'Pila Vessels en gold / Jug', 'https://3dsky.org/3dmodels/show/pila_vessels_en_gold_kuvshin', 'Decoration', 'Vase', '3dsMax 2020 + fbx', 'Corona', 'V-Ray', 'None', '2024-11-03', 'picture.cg', 8, 229]\n",
      "Append: [50, '2024-12-01', 'Lindsay Laurie coffee table Divan.ru', 'https://3dsky.org/3dmodels/show/lindsi_lori_zhurnalnyi_stolik_divan_ru', 'Furniture', 'Table', '3dsMax 2016 + obj', 'Corona', 'V-Ray', 'None', '2024-11-05', 'niga2323', 746, 33]\n",
      "Append: [51, '2024-12-01', 'A set of clothes and accessories to fill a wardrobe or store and showroom', 'https://3dsky.org/3dmodels/show/a_set_of_clothes_and_accessories_to_fill_a_wardrobe_or_store_and_showroom', 'Decoration', 'Clothes', '3dsMax 2015 + fbx', 'Corona', 'V-Ray', 'None', '2024-11-23', 'sofiakholina', 772, 35]\n",
      "Append: [52, '2024-12-01', 'Kitchen 27', 'https://3dsky.org/3dmodels/show/kukhnia_27_3', 'Kitchen', 'Kitchen', '3dsMax 2018 + fbx', 'Corona', 'V-Ray', 'None', '2024-11-14', 'Bensy', 91, 26]\n",
      "Append: [53, '2024-12-01', 'Herringbone parquet chevron s8', 'https://3dsky.org/3dmodels/show/parket_elochka_shevron_s8', 'Textures', 'Floor coverings', '3dsMax 2016 + obj', 'Corona', 'V-Ray', 'None', '2024-05-24', 'StanisLOVE.viz', 162, 215]\n",
      "Append: [54, '2024-12-01', 'Wine with chocolate set/1', 'https://3dsky.org/3dmodels/show/vino_s_shokoladom_set_1', 'Kitchen', 'Food and drinks', '3dsMax 2016 + obj', 'Corona', 'None', 'None', '2024-08-02', 'unrepeatable', 73, 262]\n",
      "Append: [55, '2024-12-01', 'Bathroom furniture 21', 'https://3dsky.org/3dmodels/show/mebel_dlia_vannoi_komnaty_21', 'Bathroom', 'Bathroom furniture', '3dsMax 2013 + obj', 'Corona', 'None', 'None', '2024-07-28', 'don2432', 170, 202]\n",
      "Append: [56, '2024-12-01', 'Christmas table setting 3', 'https://3dsky.org/3dmodels/show/novogodniaia_servirovka_3_2', 'Kitchen', 'Tableware', '3dsMax 2016 + obj', 'Corona', 'V-Ray', 'None', '2023-12-10', 'dofen', 314, 193]\n",
      "Append: [57, '2024-12-01', 'Faucets and showers Boheme Specter set', 'https://3dsky.org/3dmodels/show/faucets_and_showers_boheme_spectre_set', 'Bathroom', 'Faucet', '3dsMax 2017 + fbx', 'Corona', 'V-Ray', 'None', '2024-10-04', 'Ashlesha', 22, 28]\n",
      "Append: [58, '2024-12-01', 'Office chair Sergio La Redoute', 'https://3dsky.org/3dmodels/show/kreslo_ofisnoe_sergio_la_redoute', 'Furniture', 'Office furniture', '3dsMax 2013 + obj', 'Corona', 'V-Ray', 'None', '2024-10-13', 'Артур56', 245, 82]\n",
      "Append: [59, '2024-12-01', 'A bouquet of lilacs in a glass vase', 'https://3dsky.org/3dmodels/show/buket_sireni_v_stekliannoi_vaze_1', 'Plants', 'Bouquet', '3dsMax 2012 + obj', 'Corona', 'V-Ray', 'None', '2024-10-22', 'auralis', 228, 193]\n",
      "Append: [60, '2024-12-01', 'kitchen 0252', 'https://3dsky.org/3dmodels/show/kitchen_0252', 'Kitchen', 'Kitchen', '3dsMax 2014 + fbx', 'Corona', 'V-Ray', 'None', '2024-11-05', 'Hasan3596', 97, 58]\n",
      "Append: [61, '2024-12-01', 'Minotti Pilots Bench', 'https://3dsky.org/3dmodels/show/minotti_pilotis_bench', 'Furniture', 'Other soft seating', '3dsMax 2013 + obj', 'Corona', 'V-Ray', 'None', '2024-11-01', 'horrortechnology', 717, 71]\n",
      "Append: [62, '2024-12-01', 'Wonderful Christmas Tree', 'https://3dsky.org/3dmodels/show/elochka_1', 'Decoration', 'Other decorative objects', '3dsMax 2015 + fbx', 'Corona', 'V-Ray', 'None', '2024-11-16', 'fffaaa12', 1217, 83]\n",
      "Append: [63, '2024-12-01', 'Childrens open wardrobe with desk, modular, modern, 25', 'https://3dsky.org/3dmodels/show/shkaf_otkrytyi_detskii_s_pismennym_stolom_modulnyi_sovremennyi_25', 'Childroom', 'Wardrobe', '3dsMax 2013 + obj', 'Corona', 'None', 'None', '2024-11-13', 'don2432', 170, 50]\n",
      "Append: [64, '2024-12-01', 'FloorGen Tools 1.5.4', 'https://3dsky.org/3dmodels/show/floorgen_tools_1_5_4', 'Scripts', 'Scripts', 'Script', 'Corona', 'V-Ray', 'None', '2019-04-14', '-NiK-', 40, 801]\n",
      "Append: [65, '2024-12-01', 'Guitar. Guitar set for stage. Musical instrument. Microphone', 'https://3dsky.org/3dmodels/show/gitara_stsenicheskii_nabor_gitarista_muzykalnyi_instrument_mikrofon', 'Other Models', 'Musical instrument', '3dsMax 2016 + fbx', 'Corona', 'V-Ray', 'None', '2021-03-02', 'paradize', 89, 477]\n",
      "Append: [66, '2024-12-01', 'Christmas tree 5', 'https://3dsky.org/3dmodels/show/novogodniaia_elka_5_1', 'Decoration', 'Other decorative objects', '3dsMax 2015 + fbx', 'Corona', 'V-Ray', 'None', '2022-12-10', 'fffaaa12', 1217, 610]\n",
      "Append: [67, '2024-12-01', 'Wet asphalt with leaves. Autumn. Editable', 'https://3dsky.org/3dmodels/show/mokryi_asfalt_s_listiami_osen_redaktiruemyi', 'Architecture', 'Urban environment', '3dsMax 2020 + fbx', 'Corona', 'V-Ray', 'None', '2023-10-24', 'paz', 130, 473]\n",
      "Append: [68, '2024-12-01', 'Panel with waves', 'https://3dsky.org/3dmodels/show/panel_s_volnami', 'Decoration', 'Sculpture', '3dsMax 2017 + obj', 'Corona', 'V-Ray', 'None', '2024-04-28', 'Manax', 69, 488]\n",
      "Append: [69, '2024-12-01', 'Robot vacuum cleaner Xiaomi Robot Vacuum Cleaner X20', 'https://3dsky.org/3dmodels/show/robot_pylesos_xiaomi_robot_vacuum_cleaner_x20', 'Technology', 'Household appliance', '3dsMax 2018 + fbx', 'Corona', 'None', 'None', '2024-05-31', 'dilya_1', 99, 128]\n",
      "Append: [70, '2024-12-01', 'A wall with a rack for gym equipment 2', 'https://3dsky.org/3dmodels/show/a_wall_with_a_rack_for_gym_equipment_2', 'Other Models', 'Sports', '3dsMax 2015 + fbx', 'Corona', 'V-Ray', 'None', '2024-06-12', 'sofiakholina', 772, 278]\n",
      "Append: [71, '2024-12-01', 'Emmi Armchair by Minotti', 'https://3dsky.org/3dmodels/show/emmi_armchair_by_minotti_2', 'Furniture', 'Arm chair', '3dsMax 2014 + obj', 'Corona', 'V-Ray', 'None', '2024-07-26', 'wesftgyhnj', 193, 298]\n",
      "Append: [72, '2024-12-01', 'Rubber Coating', 'https://3dsky.org/3dmodels/show/rezinovoe_pokrytie_1', 'Materials', 'Miscellaneous', '3dsMax 2011 + obj', 'Corona', 'None', 'None', '2024-08-13', 'maltsev_stepan', 310, 187]\n",
      "Append: [73, '2024-12-01', 'Volhovec Rift Doors', 'https://3dsky.org/3dmodels/show/volhovec_rift_doors_1', 'Other Models', 'Doors', '3dsMax 2014 + obj', 'Corona', 'V-Ray', 'None', '2024-07-03', 'Игорь1969', 66, 197]\n",
      "Append: [74, '2024-12-01', 'Banquette Taks boucle cappuccino', 'https://3dsky.org/3dmodels/show/banketka_taks_bukle_kapuchino_3', 'Furniture', 'Other soft seating', '3dsMax 2017 + fbx', 'Corona', 'None', 'None', '2024-08-26', 'zircon', 68, 81]\n",
      "Append: [75, '2024-12-01', 'Canon printer set.', 'https://3dsky.org/3dmodels/show/nabor_printerov_canon_1', 'Technology', 'PC & other electronics', '3dsMax 2015 + fbx', 'Corona', 'V-Ray', 'None', '2024-09-24', 'slipknot1111', 20, 41]\n",
      "Append: [76, '2024-12-01', 'Calder Lander Build table Divan.ru', 'https://3dsky.org/3dmodels/show/kolder_lander_bild_stolik_divan_ru', 'Furniture', 'Table', '3dsMax 2016 + obj', 'Corona', 'V-Ray', 'None', '2024-10-23', 'niga2323', 746, 69]\n",
      "Append: [77, '2024-12-01', '3DArt Relief NG41', 'https://3dsky.org/3dmodels/show/3dart_relef_ng41', 'Decoration', 'Frame', '3dsMax 2016 + obj', 'Corona', 'V-Ray', 'None', '2024-10-22', 'niga2323', 746, 90]\n",
      "Append: [78, '2024-12-01', 'Cecily Nara bedside table Cosmo', 'https://3dsky.org/3dmodels/show/cecily_nara_prikrovatnaia_tumba_cosmo', 'Furniture', 'Sideboard & Chest of drawer', '3dsMax 2016 + obj', 'Corona', 'V-Ray', 'None', '2024-10-21', 'niga2323', 746, 79]\n",
      "Append: [79, '2024-12-01', 'A set for a clothing store and showroom', 'https://3dsky.org/3dmodels/show/a_set_for_a_clothing_store_and_showroom', 'Other Models', 'Shop', '3dsMax 2015 + fbx', 'Corona', 'V-Ray', 'None', '2024-10-29', 'sofiakholina', 772, 173]\n",
      "Append: [80, '2024-12-01', 'Furniture Composition 271', 'https://3dsky.org/3dmodels/show/furniture_composition_271', 'Furniture', 'Wardrobe & Display cabinets', '3dsMax 2013 + obj', 'Corona', 'V-Ray', 'None', '2024-10-19', 'Stt.HuynOneShine', 178, 80]\n",
      "Append: [81, '2024-12-01', 'Pinboard with childrens drawings', 'https://3dsky.org/3dmodels/show/pinbord_doska_s_detskimi_risunkami', 'Childroom', 'Miscellaneous', '3dsMax 2017 + obj', 'Corona', 'V-Ray', 'None', '2024-10-14', 'DashutaG', 31, 92]\n",
      "Append: [82, '2024-12-01', 'Bouquet 06', 'https://3dsky.org/3dmodels/show/bouquet_06_10', 'Plants', 'Bouquet', '3dsMax 2020 + fbx', 'Corona', 'None', 'None', '2024-11-08', 'Mahikoo', 10, 116]\n",
      "Append: [83, '2024-12-01', 'Dinning Set 162', 'https://3dsky.org/3dmodels/show/dinning_set_162', 'Furniture', 'Table + Chair', '3dsMax 2012 + fbx', 'Corona', 'V-Ray', 'None', '2024-11-02', 'лааппп', 76, 35]\n",
      "Append: [84, '2024-12-01', 'Decorative Set-086 Shelf Accessories', 'https://3dsky.org/3dmodels/show/decorative_set_086_4', 'Decoration', 'Decorative set', '3dsMax 2015 + obj', 'Corona', 'V-Ray', 'None', '2024-11-17', 'mhl.hnr', 256, 42]\n",
      "Append: [85, '2024-12-01', 'LAUNDRY SET (Poliform FITTED + ASKO)', 'https://3dsky.org/3dmodels/show/laundry_set_poliform_fitted_asko', 'Bathroom', 'Bathroom accessories', '3dsMax 2012 + obj', 'Corona', 'V-Ray', 'None', '2019-08-24', 'vitaly_y_panov', 223, 2213]\n",
      "Append: [86, '2024-12-01', 'Christmas Tree Street', 'https://3dsky.org/3dmodels/show/ulichnaia_novogodniaia_elka', 'Architecture', 'Urban environment', '3dsMax 2016 + fbx', 'Corona', 'None', 'None', '2021-11-27', 'Al-make', 50, 288]\n",
      "Append: [87, '2024-12-01', 'Coffee Shop 6', 'https://3dsky.org/3dmodels/show/coffee_shop_6_1', 'Other Models', 'Restaurant', '3dsMax 2012 + obj', 'Corona', 'V-Ray', 'None', '2024-03-11', 'omnomn', 311, 600]\n",
      "Append: [88, '2024-12-01', 'Set of Apple equipment 2', 'https://3dsky.org/3dmodels/show/set_of_apple_equipment_2', 'Technology', 'PC & other electronics', '3dsMax 2015 + fbx', 'Corona', 'V-Ray', 'None', '2024-01-11', 'sofiakholina', 772, 287]\n",
      "Append: [89, '2024-12-01', 'Timo Saona', 'https://3dsky.org/3dmodels/show/timo_saona', 'Bathroom', 'Faucet', '3dsMax 2014 + fbx', 'Corona', 'V-Ray', 'None', '2024-05-28', 'tokyokyoto', 78, 185]\n",
      "Append: [90, '2024-12-01', 'Indoor Plant 702 - Olive Plant', 'https://3dsky.org/3dmodels/show/indoor_plant_702_olive_plant', 'Plants', 'Indoor', '3dsMax 2015 + obj', 'Corona', 'V-Ray', 'None', '2024-03-18', '3Design.FB', 1563, 254]\n",
      "Append: [91, '2024-12-01', 'Hotel Bathroom Accessories LE LABO', 'https://3dsky.org/3dmodels/show/hotel_bathroom_accessories_le_labo', 'Bathroom', 'Bathroom accessories', '3dsMax 2016 + obj', 'Corona', 'V-Ray', 'None', '2024-04-25', 'lzv_cg', 85, 412]\n",
      "Append: [92, '2024-12-01', 'Gianna Natural Walnut Wood King Bed Frame', 'https://3dsky.org/3dmodels/show/gianna_natural_walnut_wood_king_bed_frame', 'Furniture', 'Bed', '3dsMax 2015 + obj', 'Corona', 'None', 'None', '2024-08-10', 'ZikKoo', 417, 307]\n",
      "Append: [93, '2024-12-01', 'Travis shelving Divan.ru', 'https://3dsky.org/3dmodels/show/treivis_stellazh_divan_ru', 'Furniture', 'Rack', '3dsMax 2016 + obj', 'Corona', 'V-Ray', 'None', '2024-04-16', 'niga2323', 746, 130]\n",
      "Append: [94, '2024-12-01', 'Interactive panel for children room', 'https://3dsky.org/3dmodels/show/interactive_panel_for_children_room', 'Childroom', 'Miscellaneous', '3dsMax 2016 + fbx', 'Corona', 'V-Ray', 'None', '2024-08-15', 'lzv_cg', 85, 340]\n",
      "Append: [95, '2024-12-01', 'Shelving with decor', 'https://3dsky.org/3dmodels/show/stellazh_s_dekorom_11', 'Furniture', 'Rack', '3dsMax 2019 + obj', 'Corona', 'None', 'None', '2024-07-11', 'ekaterrina7', 56, 378]\n",
      "Append: [96, '2024-12-01', 'Pilates exercise machine .fonv Reformer Professional', 'https://3dsky.org/3dmodels/show/trenazher_dlia_pilatesa_fonv_reformer_professional', 'Other Models', 'Sports', '3dsMax 2016 + fbx', 'Corona', 'None', 'None', '2024-05-05', 'VeneraBakh', 8, 53]\n",
      "Append: [97, '2024-12-01', 'Cafe Equipment Set 8', 'https://3dsky.org/3dmodels/show/oborudovanie_dlia_kafe_set_8', 'Other Models', 'Restaurant', '3dsMax 2017 + fbx', 'Corona', 'V-Ray', 'None', '2024-08-30', 'Стаска', 72, 153]\n",
      "Append: [98, '2024-12-01', 'GESSI HABITO bathroom faucet collection 1', 'https://3dsky.org/3dmodels/show/gessi_habito_bathroom_faucet_collection_1_1', 'Bathroom', 'Faucet', '3dsMax 2016 + obj', 'Corona', 'V-Ray', 'None', '2024-08-02', 'sirous21', 232, 76]\n",
      "Append: [99, '2024-12-01', 'Kitchen Appliance Bosch Kitchen 81', 'https://3dsky.org/3dmodels/show/kitchen_appliance_bosch_kitchen_81_2', 'Kitchen', 'Kitchen', '3dsMax 2015 + obj', 'Corona', 'V-Ray', 'None', '2024-09-17', 'freesection', 135, 224]\n",
      "Append: [100, '2024-12-01', 'EWRIKA Penelope electric heated towel rail', 'https://3dsky.org/3dmodels/show/ewrika_penelopa_polotentsesushitel_elektricheskii', 'Bathroom', 'Towel rail', '3dsMax 2016 + obj', 'Corona', 'V-Ray', 'None', '2024-10-21', 'niga2323', 746, 50]\n",
      "Append: [101, '2024-12-01', 'Rooftop HVAC Systems', 'https://3dsky.org/3dmodels/show/rooftop_hvac_systems_obekty_kryshi_zdanii', 'Architecture', 'Facade element', '3dsMax 2014 + fbx', 'Corona', 'V-Ray', 'None', '2024-10-20', 'labzin', 73, 55]\n",
      "Append: [102, '2024-12-01', 'Boheme UNO towel warmers', 'https://3dsky.org/3dmodels/show/polotentsesushiteli_boheme_uno', 'Bathroom', 'Towel rail', '3dsMax 2018 + obj', 'Corona', 'None', 'None', '2024-10-02', 'wodg123', 1, 20]\n",
      "Append: [103, '2024-12-01', 'Shower cabin 07', 'https://3dsky.org/3dmodels/show/shower_cabin_07', 'Bathroom', 'Shower', '3dsMax 2017 + obj', 'Corona', 'V-Ray', 'None', '2024-10-19', '3Design.Dii', 118, 32]\n",
      "Append: [104, '2024-12-01', 'Decorative set NG25', 'https://3dsky.org/3dmodels/show/dekorativnyi_nabor_ng25', 'Decoration', 'Decorative set', '3dsMax 2016 + obj', 'Corona', 'V-Ray', 'None', '2024-10-28', 'niga2323', 746, 72]\n",
      "Append: [105, '2024-12-01', 'TV Wall Black Wood - Set 192', 'https://3dsky.org/3dmodels/show/tv_wall_black_wood_set_192', 'Furniture', 'TV Wall', '3dsMax 2015 + obj', 'Corona', 'V-Ray', 'None', '2024-11-06', '3Design.FB', 1563, 66]\n",
      "Append: [106, '2024-12-01', 'Christmas Tree and Decoration 78', 'https://3dsky.org/3dmodels/show/christmas_tree_and_decoration_78', 'Decoration', 'Other decorative objects', '3dsMax 2015 + obj', 'Corona', 'V-Ray', 'None', '2024-11-12', '3Design.FB', 1563, 123]\n",
      "Append: [107, '2024-12-01', 'Set of ceilings Armstrong and Grilyato', 'https://3dsky.org/3dmodels/show/nabor_potolkov_armstrong_i_griliato_1', 'Other Models', 'Miscellaneous', '3dsMax 2013 + fbx', 'Corona', 'V-Ray', 'None', '2022-08-18', 'solomon5555', 430, 827]\n",
      "Append: [108, '2024-12-01', 'Equipe Hopp', 'https://3dsky.org/3dmodels/show/equipe_hopp_2', 'Textures', 'Tile', '3dsMax 2016 + obj', 'Corona', 'V-Ray', 'None', '2024-02-28', 'StanisLOVE.viz', 162, 237]\n",
      "Append: [109, '2024-12-01', 'Serving NG3', 'https://3dsky.org/3dmodels/show/cervirovka_ng3', 'Kitchen', 'Tableware', '3dsMax 2016 + obj', 'Corona', 'V-Ray', 'None', '2023-08-22', 'niga2323', 746, 457]\n",
      "Append: [110, '2024-12-01', 'Cezares Stylus + Boheme Uno + AlcaPlast Thin', 'https://3dsky.org/3dmodels/show/cezares_stylus_boheme_uno_alcaplast_thin', 'Bathroom', 'Toilet and Bidet', '3dsMax 2015 + fbx', 'Corona', 'V-Ray', 'None', '2024-05-31', 'star_vera', 7, 172]\n",
      "Append: [111, '2024-12-01', 'Wardrobe system Rimadesio Dress Bold', 'https://3dsky.org/3dmodels/show/garderobnaia_sistema_rimadesio_dress_bold', 'Furniture', 'Wardrobe & Display cabinets', '3dsMax 2013 + obj', 'Corona', 'V-Ray', 'None', '2024-06-20', 'restereo', 98, 505]\n",
      "Append: [112, '2024-12-01', 'PlayStation 5 Collection', 'https://3dsky.org/3dmodels/show/playstation_5_collection', 'Technology', 'PC & other electronics', '3dsMax 2014 + fbx', 'Corona', 'V-Ray', 'None', '2024-05-23', 'Aviato', 2269, 96]\n",
      "Append: [113, '2024-12-01', 'Ventilation system.', 'https://3dsky.org/3dmodels/show/industrialnyi_potolok_2', 'Other Models', 'Miscellaneous', '3dsMax 2015 + fbx', 'Corona', 'V-Ray', 'None', '2024-08-24', 'slipknot1111', 20, 146]\n",
      "Append: [114, '2024-12-01', 'Round carpet', 'https://3dsky.org/3dmodels/show/kruglyi_kovior', 'Decoration', 'Carpets', '3dsMax 2017 + obj', 'Corona', 'V-Ray', 'None', '2024-08-16', 'miklob', 18, 207]\n",
      "Append: [115, '2024-12-01', 'Pattie Armchair by Minotti', 'https://3dsky.org/3dmodels/show/pattie_armchair_by_minotti_3', 'Furniture', 'Arm chair', '3dsMax 2013 + obj', 'Corona', 'None', 'None', '2024-07-13', 'QrisTina', 55, 173]\n",
      "Append: [116, '2024-12-01', 'garage tools set 23', 'https://3dsky.org/3dmodels/show/garage_tools_set_23_1', 'Furniture', 'Rack', '3dsMax 2013 + obj', 'Corona', 'V-Ray', 'None', '2024-08-19', 'pluse44', 9, 73]\n",
      "Append: [117, '2024-12-01', 'Flat Metal Material', 'https://3dsky.org/3dmodels/show/flat_metal_material', 'Materials', 'Metal', '3dsMax 2015 + fbx', 'Corona', 'V-Ray', 'None', '2024-09-30', 'jy893dsky', 51, 218]\n",
      "Append: [118, '2024-12-01', 'Curtains 9', 'https://3dsky.org/3dmodels/show/curtains_9_12', 'Decoration', 'Curtain', '3dsMax 2015 + fbx', 'Corona', 'None', 'None', '2024-09-14', 'fffaaa12', 1217, 67]\n",
      "Append: [119, '2024-12-01', 'Vigo Deephouse Chair', 'https://3dsky.org/3dmodels/show/stul_vigo_deephouse', 'Furniture', 'Chair', '3dsMax 2016 + obj', 'Corona', 'V-Ray', 'None', '2024-09-03', 'niga2323', 746, 61]\n",
      "Append: [120, '2024-12-01', 'Equipe MASSIMO', 'https://3dsky.org/3dmodels/show/equipe_massimo', 'Textures', 'Tile', '3dsMax 2016 + obj', 'Corona', 'V-Ray', 'None', '2024-09-25', 'StanisLOVE.viz', 162, 72]\n"
     ]
    }
   ],
   "source": [
    "# Парсинг топа продаж 3dsky\n",
    "from selenium import webdriver\n",
    "from selenium.webdriver.common.by import By\n",
    "from selenium.webdriver.chrome.service import Service\n",
    "from selenium.webdriver.common.keys import Keys\n",
    "from selenium.webdriver.chrome.options import Options\n",
    "from datetime import datetime\n",
    "import time\n",
    "\n",
    "# Настройка Selenium\n",
    "chrome_options = Options()\n",
    "chrome_options.add_argument(\"--headless\")  # Запуск без интерфейса (опционально)\n",
    "chrome_options.add_argument(\"--disable-gpu\")\n",
    "chrome_options.add_argument(\"--window-size=1920,1080\")\n",
    "chrome_service = Service(\"C:\\\\Users\\\\mi_al\\\\Desktop\\\\chromedriver-win64\\\\chromedriver.exe\")  # Замените на путь к вашему ChromeDriver\n",
    "\n",
    "# Инициализация констант и переменных\n",
    "result = []                                                         # итоговый список\n",
    "maxpage = 2                                                         # сколько страниц топа грузим\n",
    "basic_url = \"https://3dsky.org/3dmodels?order=sell_rating&page=\"    # адрес (без номера страницы)\n",
    "pause_time = 5                                                      # время задержки на загрузку в сек\n",
    "page_size = 60                                                      # число моделей на странице\n",
    "\n",
    "# Формируем список моделей\n",
    "for page in range(maxpage):\n",
    "    # Инициализация браузера\n",
    "    driver = webdriver.Chrome(service=chrome_service, options=chrome_options)\n",
    "    \n",
    "    url = \"https://3dsky.org/3dmodels?order=sell_rating&page=\" + str(page + 1)\n",
    "    driver.get(url)\n",
    "\n",
    "    # Небольшая пауза для загрузки контента\n",
    "    time.sleep(pause_time)\n",
    "\n",
    "    # Парсинг данных\n",
    "    try:\n",
    "        # Получаем список моделей с заданной страницы топа\n",
    "        models = driver.find_elements(By.CSS_SELECTOR, \"div.model-title\")\n",
    "\n",
    "        for n, model in enumerate(models, 1):\n",
    "            # Извлечение данных\n",
    "            curdate = str(datetime.now().date())\n",
    "            title = model.find_element(By.TAG_NAME, \"a\").get_attribute(\"title\") if model.find_elements(By.TAG_NAME, \"a\") else \"No title\"\n",
    "            link = model.find_element(By.TAG_NAME, \"a\").get_attribute(\"href\") if model.find_elements(By.TAG_NAME, \"a\") else \"No link\"\n",
    "            #print(f\"Название: {title}, Ссылка: {link}\")\n",
    "            \n",
    "            # Формируем заготовку строки: номер строки, текущая дата, название модели, ссылка              \n",
    "            line_num = page*page_size + n\n",
    "            result.append([line_num, curdate, title, link])\n",
    "\n",
    "    finally:\n",
    "        # Закрытие браузера\n",
    "        driver.quit()\n",
    "\n",
    "# В цикле по списку получаем подробную информацию по каждой модели\n",
    "for model in result:\n",
    "    # Инициализация браузера\n",
    "    driver = webdriver.Chrome(service=chrome_service, options=chrome_options)\n",
    "    \n",
    "    # Открытие страницы конкретной модели\n",
    "    url = model[3]\n",
    "    driver.get(url)\n",
    "    \n",
    "    # Небольшая пауза для загрузки контента\n",
    "    time.sleep(pause_time)\n",
    "    \n",
    "    # Парсинг данных\n",
    "    try:\n",
    "        category = driver.find_elements(By.CSS_SELECTOR, \"body > app-root > app-model > app-base-wide > main > section.container.main-base-container > div.row.white-background > div.col-md-12.model-page-top.ng-tns-c55-0 > div.favourite-and-category.ng-tns-c55-0.ng-star-inserted > div:nth-child(1) > div.category.ng-tns-c55-0 > a > span\")\n",
    "        subcategory = driver.find_elements(By.CSS_SELECTOR, \"body > app-root > app-model > app-base-wide > main > section.container.main-base-container > div.row.white-background > div.col-md-12.model-page-top.ng-tns-c55-0 > div.favourite-and-category.ng-tns-c55-0.ng-star-inserted > div:nth-child(1) > div.subcategory.ng-tns-c55-0 > a > span\")\n",
    "        platform = driver.find_elements(By.CSS_SELECTOR, \"#info-desktop > div.model-info-block.ng-tns-c55-0 > table > tbody > tr:nth-child(1) > td:nth-child(2)\")\n",
    "        renders = driver.find_elements(By.CSS_SELECTOR, \"#info-desktop > div.model-info-block.ng-tns-c55-0 > table > tbody > tr:nth-child(2) > td:nth-child(2) > div\")\n",
    "        published = driver.find_elements(By.CSS_SELECTOR, \"#info-desktop > div.model-info-block.ng-tns-c55-0 > div.publication-date.ng-tns-c55-0.ng-star-inserted\")\n",
    "        username = driver.find_elements(By.CSS_SELECTOR, \"#info-desktop > div:nth-child(1) > div > div > a > div > div > div.model-user-name.ng-tns-c55-0\")\n",
    "        followers = driver.find_elements(By.CSS_SELECTOR, \"#info-desktop > div:nth-child(1) > div > div > a > div > div > div.model-subscribe-count.ng-tns-c55-0.ng-star-inserted\")\n",
    "        selected = driver.find_elements(By.CSS_SELECTOR, \"#info-desktop > div:nth-child(1) > div > div > div:nth-child(3) > div.price-block.ng-tns-c55-0.ng-star-inserted > div.bookmarks-block-wrapper-mobile.ng-tns-c55-0.ng-star-inserted > div > div\")\n",
    "        \n",
    "        # Добавляем полученные данные в строку: категория, подкатегория, платформа, рендер\n",
    "        if category:\n",
    "            model.append(category[0].text)\n",
    "        if subcategory:\n",
    "            model.append(subcategory[0].text)\n",
    "        if platform:\n",
    "            model.append(platform[0].text)\n",
    "        \n",
    "        render_text = renders[0].text\n",
    "        if ('Corona' in render_text) and ('V-Ray' in render_text):\n",
    "            model.extend(['Corona','V-Ray','None'])\n",
    "        elif ('Corona' in render_text):\n",
    "            model.extend(['Corona','None','None'])\n",
    "        elif ('V-Ray' in render_text):\n",
    "            model.extend(['None','V-Ray','None'])\n",
    "        elif ('Standard' in render_text):\n",
    "            model.extend(['None','None','Standard'])\n",
    "        else:\n",
    "            model.extend(['None','None','None'])\n",
    "        \n",
    "        if published:\n",
    "            pub_date = \" \".join(str(published[0].text).split(\" \")[1:])\n",
    "            date_object = datetime.strptime(pub_date, \"%d %B %Y\")\n",
    "            formatted_date = date_object.strftime(\"%Y-%m-%d\")\n",
    "            model.append(formatted_date)\n",
    "        if username:\n",
    "            model.append(username[0].text)\n",
    "        if followers:\n",
    "            model.append(int(followers[0].text.split(\" \")[0]))\n",
    "        if selected:\n",
    "            selected_text = driver.execute_script(\"return arguments[0].innerText;\", selected[0])\n",
    "            model.append(int(selected_text.strip()))\n",
    "    \n",
    "        print(f'Append: {model}')\n",
    "       \n",
    "    finally:\n",
    "        # Закрытие браузера\n",
    "        driver.quit()\n",
    "\n",
    "# Выводим результат для контроля\n",
    "# print(result)"
   ]
  },
  {
   "cell_type": "code",
   "execution_count": 240,
   "metadata": {},
   "outputs": [
    {
     "name": "stdout",
     "output_type": "stream",
     "text": [
      "Данные успешно сохранены в output.xlsx\n"
     ]
    }
   ],
   "source": [
    "# Добавляем результат в конец файла\n",
    "import pandas as pd\n",
    "file_path = \"output.xlsx\"\n",
    "\n",
    "# Чтение данных\n",
    "existing_data = pd.read_excel(file_path)\n",
    "\n",
    "# Преобразование текущих данных DataFrame\n",
    "new_data_df = pd.DataFrame(result[0:], columns=['N','Curdate','Title','Link','Category','Subcategory','Platform','Corona','V-Ray','Standard','Pubdate','Username','Followers','Selected'])\n",
    "\n",
    "# Конкатенация и запись результата в Excel\n",
    "updated_data = pd.concat([existing_data, new_data_df], ignore_index=True)\n",
    "updated_data.to_excel(file_path, index=False)\n",
    "\n",
    "# Выводим результат для контроля\n",
    "print(f\"Данные успешно сохранены в {file_path}\")\n"
   ]
  },
  {
   "cell_type": "code",
   "execution_count": 98,
   "metadata": {},
   "outputs": [
    {
     "name": "stdout",
     "output_type": "stream",
     "text": [
      "Corona\n"
     ]
    }
   ],
   "source": [
    "# Песочница для апробации парсинга конкретного элемента\n",
    "# Настройка Selenium\n",
    "chrome_options = Options()\n",
    "chrome_options.add_argument(\"--headless\")  # Запуск без интерфейса (опционально)\n",
    "chrome_options.add_argument(\"--disable-gpu\")\n",
    "chrome_options.add_argument(\"--window-size=1920,1080\")\n",
    "chrome_service = Service(\"C:\\\\Users\\\\mi_al\\\\Desktop\\\\chromedriver-win64\\\\chromedriver.exe\")  # Замените на путь к вашему ChromeDriver\n",
    "\n",
    "# Инициализация браузера\n",
    "driver = webdriver.Chrome(service=chrome_service, options=chrome_options)\n",
    "\n",
    "# Открытие сайта\n",
    "url = \"https://3dsky.org/3dmodels/show/kerns_tumba_divan_ru\"\n",
    "driver.get(url)\n",
    "\n",
    "# Небольшая пауза для загрузки контента\n",
    "time.sleep(5)  # Настройте задержку в зависимости от скорости интернета\n",
    "\n",
    "# Парсинг данных\n",
    "try:\n",
    "    # Пример: Найти все элементы с моделями (настройте селектор под сайт)\n",
    "    models = driver.find_elements(By.CSS_SELECTOR, \"#info-desktop > div.model-info-block.ng-tns-c55-0 > table > tbody > tr:nth-child(2) > td:nth-child(2) > div > div\")\n",
    "    print(models[1].text)\n",
    "    \n",
    "\n",
    "   \n",
    "    #published = str(models[0].text)\n",
    "\n",
    "finally:\n",
    "    # Закрытие браузера\n",
    "    driver.quit()"
   ]
  },
  {
   "cell_type": "code",
   "execution_count": 230,
   "metadata": {},
   "outputs": [
    {
     "data": {
      "text/html": [
       "<div>\n",
       "<style scoped>\n",
       "    .dataframe tbody tr th:only-of-type {\n",
       "        vertical-align: middle;\n",
       "    }\n",
       "\n",
       "    .dataframe tbody tr th {\n",
       "        vertical-align: top;\n",
       "    }\n",
       "\n",
       "    .dataframe thead th {\n",
       "        text-align: right;\n",
       "    }\n",
       "</style>\n",
       "<table border=\"1\" class=\"dataframe\">\n",
       "  <thead>\n",
       "    <tr style=\"text-align: right;\">\n",
       "      <th></th>\n",
       "      <th>N</th>\n",
       "      <th>Curdate</th>\n",
       "      <th>Title</th>\n",
       "      <th>Link</th>\n",
       "      <th>Category</th>\n",
       "      <th>Subcategory</th>\n",
       "      <th>Platform</th>\n",
       "      <th>Corona</th>\n",
       "      <th>V-Ray</th>\n",
       "      <th>Standard</th>\n",
       "      <th>Pubdate</th>\n",
       "      <th>Username</th>\n",
       "      <th>Followers</th>\n",
       "      <th>Selected</th>\n",
       "      <th>Duration</th>\n",
       "    </tr>\n",
       "  </thead>\n",
       "  <tbody>\n",
       "    <tr>\n",
       "      <th>0</th>\n",
       "      <td>1</td>\n",
       "      <td>2024-11-30</td>\n",
       "      <td>Christmas tree with fireplace 5</td>\n",
       "      <td>https://3dsky.org/3dmodels/show/novogodniaia_e...</td>\n",
       "      <td>Decoration</td>\n",
       "      <td>Other decorative objects</td>\n",
       "      <td>3dsMax 2016 + obj</td>\n",
       "      <td>Corona</td>\n",
       "      <td>None</td>\n",
       "      <td>None</td>\n",
       "      <td>2024-11-11</td>\n",
       "      <td>dofen</td>\n",
       "      <td>314</td>\n",
       "      <td>159</td>\n",
       "      <td>19</td>\n",
       "    </tr>\n",
       "    <tr>\n",
       "      <th>1</th>\n",
       "      <td>2</td>\n",
       "      <td>2024-11-30</td>\n",
       "      <td>Benuta Leon Cream Wool Rug</td>\n",
       "      <td>https://3dsky.org/3dmodels/show/benuta_leon_cr...</td>\n",
       "      <td>Decoration</td>\n",
       "      <td>Carpets</td>\n",
       "      <td>3dsMax 2015 + obj</td>\n",
       "      <td>Corona</td>\n",
       "      <td>None</td>\n",
       "      <td>None</td>\n",
       "      <td>2024-11-03</td>\n",
       "      <td>3Dmitruk</td>\n",
       "      <td>335</td>\n",
       "      <td>212</td>\n",
       "      <td>27</td>\n",
       "    </tr>\n",
       "    <tr>\n",
       "      <th>2</th>\n",
       "      <td>3</td>\n",
       "      <td>2024-11-30</td>\n",
       "      <td>Office chair Ashley</td>\n",
       "      <td>https://3dsky.org/3dmodels/show/ofisnoe_kreslo...</td>\n",
       "      <td>Furniture</td>\n",
       "      <td>Office furniture</td>\n",
       "      <td>3dsMax 2015 + obj</td>\n",
       "      <td>Corona</td>\n",
       "      <td>None</td>\n",
       "      <td>None</td>\n",
       "      <td>2024-10-13</td>\n",
       "      <td>illidan_</td>\n",
       "      <td>6</td>\n",
       "      <td>131</td>\n",
       "      <td>48</td>\n",
       "    </tr>\n",
       "    <tr>\n",
       "      <th>3</th>\n",
       "      <td>4</td>\n",
       "      <td>2024-11-30</td>\n",
       "      <td>Indoor Plant Set 89</td>\n",
       "      <td>https://3dsky.org/3dmodels/show/indoor_plant_s...</td>\n",
       "      <td>Plants</td>\n",
       "      <td>Indoor</td>\n",
       "      <td>3dsMax 2015 + obj</td>\n",
       "      <td>Corona</td>\n",
       "      <td>V-Ray</td>\n",
       "      <td>None</td>\n",
       "      <td>2024-04-30</td>\n",
       "      <td>mh.designer</td>\n",
       "      <td>211</td>\n",
       "      <td>49</td>\n",
       "      <td>214</td>\n",
       "    </tr>\n",
       "    <tr>\n",
       "      <th>4</th>\n",
       "      <td>5</td>\n",
       "      <td>2024-11-30</td>\n",
       "      <td>Clothes for wardrobe NG15</td>\n",
       "      <td>https://3dsky.org/3dmodels/show/odezhda_dlia_g...</td>\n",
       "      <td>Decoration</td>\n",
       "      <td>Clothes</td>\n",
       "      <td>3dsMax 2016 + obj</td>\n",
       "      <td>Corona</td>\n",
       "      <td>V-Ray</td>\n",
       "      <td>None</td>\n",
       "      <td>2024-11-12</td>\n",
       "      <td>niga2323</td>\n",
       "      <td>744</td>\n",
       "      <td>95</td>\n",
       "      <td>18</td>\n",
       "    </tr>\n",
       "    <tr>\n",
       "      <th>...</th>\n",
       "      <td>...</td>\n",
       "      <td>...</td>\n",
       "      <td>...</td>\n",
       "      <td>...</td>\n",
       "      <td>...</td>\n",
       "      <td>...</td>\n",
       "      <td>...</td>\n",
       "      <td>...</td>\n",
       "      <td>...</td>\n",
       "      <td>...</td>\n",
       "      <td>...</td>\n",
       "      <td>...</td>\n",
       "      <td>...</td>\n",
       "      <td>...</td>\n",
       "      <td>...</td>\n",
       "    </tr>\n",
       "    <tr>\n",
       "      <th>115</th>\n",
       "      <td>116</td>\n",
       "      <td>2024-11-30</td>\n",
       "      <td>Christmas Tree Street</td>\n",
       "      <td>https://3dsky.org/3dmodels/show/ulichnaia_novo...</td>\n",
       "      <td>Architecture</td>\n",
       "      <td>Urban environment</td>\n",
       "      <td>3dsMax 2016 + fbx</td>\n",
       "      <td>Corona</td>\n",
       "      <td>None</td>\n",
       "      <td>None</td>\n",
       "      <td>2021-11-27</td>\n",
       "      <td>Al-make</td>\n",
       "      <td>50</td>\n",
       "      <td>288</td>\n",
       "      <td>1099</td>\n",
       "    </tr>\n",
       "    <tr>\n",
       "      <th>116</th>\n",
       "      <td>117</td>\n",
       "      <td>2024-11-30</td>\n",
       "      <td>Coffee Shop 6</td>\n",
       "      <td>https://3dsky.org/3dmodels/show/coffee_shop_6_1</td>\n",
       "      <td>Other Models</td>\n",
       "      <td>Restaurant</td>\n",
       "      <td>3dsMax 2012 + obj</td>\n",
       "      <td>Corona</td>\n",
       "      <td>V-Ray</td>\n",
       "      <td>None</td>\n",
       "      <td>2024-03-11</td>\n",
       "      <td>omnomn</td>\n",
       "      <td>310</td>\n",
       "      <td>600</td>\n",
       "      <td>264</td>\n",
       "    </tr>\n",
       "    <tr>\n",
       "      <th>117</th>\n",
       "      <td>118</td>\n",
       "      <td>2024-11-30</td>\n",
       "      <td>Benuta Dave Round Fur Rug (3 colors)</td>\n",
       "      <td>https://3dsky.org/3dmodels/show/benuta_dave_ro...</td>\n",
       "      <td>Decoration</td>\n",
       "      <td>Carpets</td>\n",
       "      <td>3dsMax 2015 + obj</td>\n",
       "      <td>Corona</td>\n",
       "      <td>None</td>\n",
       "      <td>None</td>\n",
       "      <td>2024-06-23</td>\n",
       "      <td>3Dmitruk</td>\n",
       "      <td>335</td>\n",
       "      <td>323</td>\n",
       "      <td>160</td>\n",
       "    </tr>\n",
       "    <tr>\n",
       "      <th>118</th>\n",
       "      <td>119</td>\n",
       "      <td>2024-11-30</td>\n",
       "      <td>Cezares Stylus + Boheme Uno + AlcaPlast Thin</td>\n",
       "      <td>https://3dsky.org/3dmodels/show/cezares_stylus...</td>\n",
       "      <td>Bathroom</td>\n",
       "      <td>Toilet and Bidet</td>\n",
       "      <td>3dsMax 2015 + fbx</td>\n",
       "      <td>Corona</td>\n",
       "      <td>V-Ray</td>\n",
       "      <td>None</td>\n",
       "      <td>2024-05-31</td>\n",
       "      <td>star_vera</td>\n",
       "      <td>7</td>\n",
       "      <td>171</td>\n",
       "      <td>183</td>\n",
       "    </tr>\n",
       "    <tr>\n",
       "      <th>119</th>\n",
       "      <td>120</td>\n",
       "      <td>2024-11-30</td>\n",
       "      <td>Cafe Equipment Set 8</td>\n",
       "      <td>https://3dsky.org/3dmodels/show/oborudovanie_d...</td>\n",
       "      <td>Other Models</td>\n",
       "      <td>Restaurant</td>\n",
       "      <td>3dsMax 2017 + fbx</td>\n",
       "      <td>Corona</td>\n",
       "      <td>V-Ray</td>\n",
       "      <td>None</td>\n",
       "      <td>2024-08-30</td>\n",
       "      <td>Стаска</td>\n",
       "      <td>72</td>\n",
       "      <td>153</td>\n",
       "      <td>92</td>\n",
       "    </tr>\n",
       "  </tbody>\n",
       "</table>\n",
       "<p>120 rows × 15 columns</p>\n",
       "</div>"
      ],
      "text/plain": [
       "       N     Curdate                                         Title  \\\n",
       "0      1  2024-11-30               Christmas tree with fireplace 5   \n",
       "1      2  2024-11-30                    Benuta Leon Cream Wool Rug   \n",
       "2      3  2024-11-30                           Office chair Ashley   \n",
       "3      4  2024-11-30                           Indoor Plant Set 89   \n",
       "4      5  2024-11-30                     Clothes for wardrobe NG15   \n",
       "..   ...         ...                                           ...   \n",
       "115  116  2024-11-30                         Christmas Tree Street   \n",
       "116  117  2024-11-30                                 Coffee Shop 6   \n",
       "117  118  2024-11-30          Benuta Dave Round Fur Rug (3 colors)   \n",
       "118  119  2024-11-30  Cezares Stylus + Boheme Uno + AlcaPlast Thin   \n",
       "119  120  2024-11-30                          Cafe Equipment Set 8   \n",
       "\n",
       "                                                  Link      Category  \\\n",
       "0    https://3dsky.org/3dmodels/show/novogodniaia_e...    Decoration   \n",
       "1    https://3dsky.org/3dmodels/show/benuta_leon_cr...    Decoration   \n",
       "2    https://3dsky.org/3dmodels/show/ofisnoe_kreslo...     Furniture   \n",
       "3    https://3dsky.org/3dmodels/show/indoor_plant_s...        Plants   \n",
       "4    https://3dsky.org/3dmodels/show/odezhda_dlia_g...    Decoration   \n",
       "..                                                 ...           ...   \n",
       "115  https://3dsky.org/3dmodels/show/ulichnaia_novo...  Architecture   \n",
       "116    https://3dsky.org/3dmodels/show/coffee_shop_6_1  Other Models   \n",
       "117  https://3dsky.org/3dmodels/show/benuta_dave_ro...    Decoration   \n",
       "118  https://3dsky.org/3dmodels/show/cezares_stylus...      Bathroom   \n",
       "119  https://3dsky.org/3dmodels/show/oborudovanie_d...  Other Models   \n",
       "\n",
       "                  Subcategory           Platform  Corona  V-Ray Standard  \\\n",
       "0    Other decorative objects  3dsMax 2016 + obj  Corona   None     None   \n",
       "1                     Carpets  3dsMax 2015 + obj  Corona   None     None   \n",
       "2            Office furniture  3dsMax 2015 + obj  Corona   None     None   \n",
       "3                      Indoor  3dsMax 2015 + obj  Corona  V-Ray     None   \n",
       "4                     Clothes  3dsMax 2016 + obj  Corona  V-Ray     None   \n",
       "..                        ...                ...     ...    ...      ...   \n",
       "115         Urban environment  3dsMax 2016 + fbx  Corona   None     None   \n",
       "116                Restaurant  3dsMax 2012 + obj  Corona  V-Ray     None   \n",
       "117                   Carpets  3dsMax 2015 + obj  Corona   None     None   \n",
       "118          Toilet and Bidet  3dsMax 2015 + fbx  Corona  V-Ray     None   \n",
       "119                Restaurant  3dsMax 2017 + fbx  Corona  V-Ray     None   \n",
       "\n",
       "       Pubdate     Username  Followers  Selected  Duration  \n",
       "0   2024-11-11        dofen        314       159        19  \n",
       "1   2024-11-03     3Dmitruk        335       212        27  \n",
       "2   2024-10-13     illidan_          6       131        48  \n",
       "3   2024-04-30  mh.designer        211        49       214  \n",
       "4   2024-11-12     niga2323        744        95        18  \n",
       "..         ...          ...        ...       ...       ...  \n",
       "115 2021-11-27      Al-make         50       288      1099  \n",
       "116 2024-03-11       omnomn        310       600       264  \n",
       "117 2024-06-23     3Dmitruk        335       323       160  \n",
       "118 2024-05-31    star_vera          7       171       183  \n",
       "119 2024-08-30       Стаска         72       153        92  \n",
       "\n",
       "[120 rows x 15 columns]"
      ]
     },
     "metadata": {},
     "output_type": "display_data"
    }
   ],
   "source": [
    "import pandas as pd\n",
    "import plotly.express as px\n",
    "\n",
    "result_vis = pd.DataFrame(result, columns=['N','Curdate','Title','Link','Category','Subcategory','Platform','Corona','V-Ray','Standard','Pubdate','Username','Followers','Selected'])\n",
    "result_vis['Pubdate'] = pd.to_datetime(result_vis['Pubdate'])\n",
    "#result_vis.drop('N', axis=1, inplace=True)\n",
    "\n",
    "current_date = datetime.now()\n",
    "result_vis['Duration'] = (current_date - result_vis['Pubdate']).dt.days\n",
    "\n",
    "display(result_vis)"
   ]
  },
  {
   "cell_type": "code",
   "execution_count": 231,
   "metadata": {},
   "outputs": [
    {
     "data": {
      "application/vnd.plotly.v1+json": {
       "config": {
        "plotlyServerURL": "https://plot.ly"
       },
       "data": [
        {
         "alignmentgroup": "True",
         "hovertemplate": "Category=%{x}<br>Count=%{y}<extra></extra>",
         "legendgroup": "",
         "marker": {
          "color": "#636efa",
          "pattern": {
           "shape": ""
          }
         },
         "name": "",
         "offsetgroup": "",
         "orientation": "v",
         "showlegend": false,
         "textposition": "auto",
         "type": "bar",
         "x": [
          "Decoration",
          "Furniture",
          "Bathroom",
          "Other Models",
          "Kitchen",
          "Childroom",
          "Materials",
          "Plants",
          "Textures",
          "Lighting",
          "Architecture",
          "Technology",
          "Scripts"
         ],
         "xaxis": "x",
         "y": [
          27,
          26,
          15,
          12,
          9,
          6,
          6,
          6,
          5,
          3,
          2,
          2,
          1
         ],
         "yaxis": "y"
        }
       ],
       "layout": {
        "barmode": "relative",
        "legend": {
         "tracegroupgap": 0
        },
        "template": {
         "data": {
          "bar": [
           {
            "error_x": {
             "color": "#2a3f5f"
            },
            "error_y": {
             "color": "#2a3f5f"
            },
            "marker": {
             "line": {
              "color": "#E5ECF6",
              "width": 0.5
             },
             "pattern": {
              "fillmode": "overlay",
              "size": 10,
              "solidity": 0.2
             }
            },
            "type": "bar"
           }
          ],
          "barpolar": [
           {
            "marker": {
             "line": {
              "color": "#E5ECF6",
              "width": 0.5
             },
             "pattern": {
              "fillmode": "overlay",
              "size": 10,
              "solidity": 0.2
             }
            },
            "type": "barpolar"
           }
          ],
          "carpet": [
           {
            "aaxis": {
             "endlinecolor": "#2a3f5f",
             "gridcolor": "white",
             "linecolor": "white",
             "minorgridcolor": "white",
             "startlinecolor": "#2a3f5f"
            },
            "baxis": {
             "endlinecolor": "#2a3f5f",
             "gridcolor": "white",
             "linecolor": "white",
             "minorgridcolor": "white",
             "startlinecolor": "#2a3f5f"
            },
            "type": "carpet"
           }
          ],
          "choropleth": [
           {
            "colorbar": {
             "outlinewidth": 0,
             "ticks": ""
            },
            "type": "choropleth"
           }
          ],
          "contour": [
           {
            "colorbar": {
             "outlinewidth": 0,
             "ticks": ""
            },
            "colorscale": [
             [
              0,
              "#0d0887"
             ],
             [
              0.1111111111111111,
              "#46039f"
             ],
             [
              0.2222222222222222,
              "#7201a8"
             ],
             [
              0.3333333333333333,
              "#9c179e"
             ],
             [
              0.4444444444444444,
              "#bd3786"
             ],
             [
              0.5555555555555556,
              "#d8576b"
             ],
             [
              0.6666666666666666,
              "#ed7953"
             ],
             [
              0.7777777777777778,
              "#fb9f3a"
             ],
             [
              0.8888888888888888,
              "#fdca26"
             ],
             [
              1,
              "#f0f921"
             ]
            ],
            "type": "contour"
           }
          ],
          "contourcarpet": [
           {
            "colorbar": {
             "outlinewidth": 0,
             "ticks": ""
            },
            "type": "contourcarpet"
           }
          ],
          "heatmap": [
           {
            "colorbar": {
             "outlinewidth": 0,
             "ticks": ""
            },
            "colorscale": [
             [
              0,
              "#0d0887"
             ],
             [
              0.1111111111111111,
              "#46039f"
             ],
             [
              0.2222222222222222,
              "#7201a8"
             ],
             [
              0.3333333333333333,
              "#9c179e"
             ],
             [
              0.4444444444444444,
              "#bd3786"
             ],
             [
              0.5555555555555556,
              "#d8576b"
             ],
             [
              0.6666666666666666,
              "#ed7953"
             ],
             [
              0.7777777777777778,
              "#fb9f3a"
             ],
             [
              0.8888888888888888,
              "#fdca26"
             ],
             [
              1,
              "#f0f921"
             ]
            ],
            "type": "heatmap"
           }
          ],
          "heatmapgl": [
           {
            "colorbar": {
             "outlinewidth": 0,
             "ticks": ""
            },
            "colorscale": [
             [
              0,
              "#0d0887"
             ],
             [
              0.1111111111111111,
              "#46039f"
             ],
             [
              0.2222222222222222,
              "#7201a8"
             ],
             [
              0.3333333333333333,
              "#9c179e"
             ],
             [
              0.4444444444444444,
              "#bd3786"
             ],
             [
              0.5555555555555556,
              "#d8576b"
             ],
             [
              0.6666666666666666,
              "#ed7953"
             ],
             [
              0.7777777777777778,
              "#fb9f3a"
             ],
             [
              0.8888888888888888,
              "#fdca26"
             ],
             [
              1,
              "#f0f921"
             ]
            ],
            "type": "heatmapgl"
           }
          ],
          "histogram": [
           {
            "marker": {
             "pattern": {
              "fillmode": "overlay",
              "size": 10,
              "solidity": 0.2
             }
            },
            "type": "histogram"
           }
          ],
          "histogram2d": [
           {
            "colorbar": {
             "outlinewidth": 0,
             "ticks": ""
            },
            "colorscale": [
             [
              0,
              "#0d0887"
             ],
             [
              0.1111111111111111,
              "#46039f"
             ],
             [
              0.2222222222222222,
              "#7201a8"
             ],
             [
              0.3333333333333333,
              "#9c179e"
             ],
             [
              0.4444444444444444,
              "#bd3786"
             ],
             [
              0.5555555555555556,
              "#d8576b"
             ],
             [
              0.6666666666666666,
              "#ed7953"
             ],
             [
              0.7777777777777778,
              "#fb9f3a"
             ],
             [
              0.8888888888888888,
              "#fdca26"
             ],
             [
              1,
              "#f0f921"
             ]
            ],
            "type": "histogram2d"
           }
          ],
          "histogram2dcontour": [
           {
            "colorbar": {
             "outlinewidth": 0,
             "ticks": ""
            },
            "colorscale": [
             [
              0,
              "#0d0887"
             ],
             [
              0.1111111111111111,
              "#46039f"
             ],
             [
              0.2222222222222222,
              "#7201a8"
             ],
             [
              0.3333333333333333,
              "#9c179e"
             ],
             [
              0.4444444444444444,
              "#bd3786"
             ],
             [
              0.5555555555555556,
              "#d8576b"
             ],
             [
              0.6666666666666666,
              "#ed7953"
             ],
             [
              0.7777777777777778,
              "#fb9f3a"
             ],
             [
              0.8888888888888888,
              "#fdca26"
             ],
             [
              1,
              "#f0f921"
             ]
            ],
            "type": "histogram2dcontour"
           }
          ],
          "mesh3d": [
           {
            "colorbar": {
             "outlinewidth": 0,
             "ticks": ""
            },
            "type": "mesh3d"
           }
          ],
          "parcoords": [
           {
            "line": {
             "colorbar": {
              "outlinewidth": 0,
              "ticks": ""
             }
            },
            "type": "parcoords"
           }
          ],
          "pie": [
           {
            "automargin": true,
            "type": "pie"
           }
          ],
          "scatter": [
           {
            "fillpattern": {
             "fillmode": "overlay",
             "size": 10,
             "solidity": 0.2
            },
            "type": "scatter"
           }
          ],
          "scatter3d": [
           {
            "line": {
             "colorbar": {
              "outlinewidth": 0,
              "ticks": ""
             }
            },
            "marker": {
             "colorbar": {
              "outlinewidth": 0,
              "ticks": ""
             }
            },
            "type": "scatter3d"
           }
          ],
          "scattercarpet": [
           {
            "marker": {
             "colorbar": {
              "outlinewidth": 0,
              "ticks": ""
             }
            },
            "type": "scattercarpet"
           }
          ],
          "scattergeo": [
           {
            "marker": {
             "colorbar": {
              "outlinewidth": 0,
              "ticks": ""
             }
            },
            "type": "scattergeo"
           }
          ],
          "scattergl": [
           {
            "marker": {
             "colorbar": {
              "outlinewidth": 0,
              "ticks": ""
             }
            },
            "type": "scattergl"
           }
          ],
          "scattermapbox": [
           {
            "marker": {
             "colorbar": {
              "outlinewidth": 0,
              "ticks": ""
             }
            },
            "type": "scattermapbox"
           }
          ],
          "scatterpolar": [
           {
            "marker": {
             "colorbar": {
              "outlinewidth": 0,
              "ticks": ""
             }
            },
            "type": "scatterpolar"
           }
          ],
          "scatterpolargl": [
           {
            "marker": {
             "colorbar": {
              "outlinewidth": 0,
              "ticks": ""
             }
            },
            "type": "scatterpolargl"
           }
          ],
          "scatterternary": [
           {
            "marker": {
             "colorbar": {
              "outlinewidth": 0,
              "ticks": ""
             }
            },
            "type": "scatterternary"
           }
          ],
          "surface": [
           {
            "colorbar": {
             "outlinewidth": 0,
             "ticks": ""
            },
            "colorscale": [
             [
              0,
              "#0d0887"
             ],
             [
              0.1111111111111111,
              "#46039f"
             ],
             [
              0.2222222222222222,
              "#7201a8"
             ],
             [
              0.3333333333333333,
              "#9c179e"
             ],
             [
              0.4444444444444444,
              "#bd3786"
             ],
             [
              0.5555555555555556,
              "#d8576b"
             ],
             [
              0.6666666666666666,
              "#ed7953"
             ],
             [
              0.7777777777777778,
              "#fb9f3a"
             ],
             [
              0.8888888888888888,
              "#fdca26"
             ],
             [
              1,
              "#f0f921"
             ]
            ],
            "type": "surface"
           }
          ],
          "table": [
           {
            "cells": {
             "fill": {
              "color": "#EBF0F8"
             },
             "line": {
              "color": "white"
             }
            },
            "header": {
             "fill": {
              "color": "#C8D4E3"
             },
             "line": {
              "color": "white"
             }
            },
            "type": "table"
           }
          ]
         },
         "layout": {
          "annotationdefaults": {
           "arrowcolor": "#2a3f5f",
           "arrowhead": 0,
           "arrowwidth": 1
          },
          "autotypenumbers": "strict",
          "coloraxis": {
           "colorbar": {
            "outlinewidth": 0,
            "ticks": ""
           }
          },
          "colorscale": {
           "diverging": [
            [
             0,
             "#8e0152"
            ],
            [
             0.1,
             "#c51b7d"
            ],
            [
             0.2,
             "#de77ae"
            ],
            [
             0.3,
             "#f1b6da"
            ],
            [
             0.4,
             "#fde0ef"
            ],
            [
             0.5,
             "#f7f7f7"
            ],
            [
             0.6,
             "#e6f5d0"
            ],
            [
             0.7,
             "#b8e186"
            ],
            [
             0.8,
             "#7fbc41"
            ],
            [
             0.9,
             "#4d9221"
            ],
            [
             1,
             "#276419"
            ]
           ],
           "sequential": [
            [
             0,
             "#0d0887"
            ],
            [
             0.1111111111111111,
             "#46039f"
            ],
            [
             0.2222222222222222,
             "#7201a8"
            ],
            [
             0.3333333333333333,
             "#9c179e"
            ],
            [
             0.4444444444444444,
             "#bd3786"
            ],
            [
             0.5555555555555556,
             "#d8576b"
            ],
            [
             0.6666666666666666,
             "#ed7953"
            ],
            [
             0.7777777777777778,
             "#fb9f3a"
            ],
            [
             0.8888888888888888,
             "#fdca26"
            ],
            [
             1,
             "#f0f921"
            ]
           ],
           "sequentialminus": [
            [
             0,
             "#0d0887"
            ],
            [
             0.1111111111111111,
             "#46039f"
            ],
            [
             0.2222222222222222,
             "#7201a8"
            ],
            [
             0.3333333333333333,
             "#9c179e"
            ],
            [
             0.4444444444444444,
             "#bd3786"
            ],
            [
             0.5555555555555556,
             "#d8576b"
            ],
            [
             0.6666666666666666,
             "#ed7953"
            ],
            [
             0.7777777777777778,
             "#fb9f3a"
            ],
            [
             0.8888888888888888,
             "#fdca26"
            ],
            [
             1,
             "#f0f921"
            ]
           ]
          },
          "colorway": [
           "#636efa",
           "#EF553B",
           "#00cc96",
           "#ab63fa",
           "#FFA15A",
           "#19d3f3",
           "#FF6692",
           "#B6E880",
           "#FF97FF",
           "#FECB52"
          ],
          "font": {
           "color": "#2a3f5f"
          },
          "geo": {
           "bgcolor": "white",
           "lakecolor": "white",
           "landcolor": "#E5ECF6",
           "showlakes": true,
           "showland": true,
           "subunitcolor": "white"
          },
          "hoverlabel": {
           "align": "left"
          },
          "hovermode": "closest",
          "mapbox": {
           "style": "light"
          },
          "paper_bgcolor": "white",
          "plot_bgcolor": "#E5ECF6",
          "polar": {
           "angularaxis": {
            "gridcolor": "white",
            "linecolor": "white",
            "ticks": ""
           },
           "bgcolor": "#E5ECF6",
           "radialaxis": {
            "gridcolor": "white",
            "linecolor": "white",
            "ticks": ""
           }
          },
          "scene": {
           "xaxis": {
            "backgroundcolor": "#E5ECF6",
            "gridcolor": "white",
            "gridwidth": 2,
            "linecolor": "white",
            "showbackground": true,
            "ticks": "",
            "zerolinecolor": "white"
           },
           "yaxis": {
            "backgroundcolor": "#E5ECF6",
            "gridcolor": "white",
            "gridwidth": 2,
            "linecolor": "white",
            "showbackground": true,
            "ticks": "",
            "zerolinecolor": "white"
           },
           "zaxis": {
            "backgroundcolor": "#E5ECF6",
            "gridcolor": "white",
            "gridwidth": 2,
            "linecolor": "white",
            "showbackground": true,
            "ticks": "",
            "zerolinecolor": "white"
           }
          },
          "shapedefaults": {
           "line": {
            "color": "#2a3f5f"
           }
          },
          "ternary": {
           "aaxis": {
            "gridcolor": "white",
            "linecolor": "white",
            "ticks": ""
           },
           "baxis": {
            "gridcolor": "white",
            "linecolor": "white",
            "ticks": ""
           },
           "bgcolor": "#E5ECF6",
           "caxis": {
            "gridcolor": "white",
            "linecolor": "white",
            "ticks": ""
           }
          },
          "title": {
           "x": 0.05
          },
          "xaxis": {
           "automargin": true,
           "gridcolor": "white",
           "linecolor": "white",
           "ticks": "",
           "title": {
            "standoff": 15
           },
           "zerolinecolor": "white",
           "zerolinewidth": 2
          },
          "yaxis": {
           "automargin": true,
           "gridcolor": "white",
           "linecolor": "white",
           "ticks": "",
           "title": {
            "standoff": 15
           },
           "zerolinecolor": "white",
           "zerolinewidth": 2
          }
         }
        },
        "title": {
         "text": "Top 120 Count by Category"
        },
        "xaxis": {
         "anchor": "y",
         "domain": [
          0,
          1
         ],
         "title": {
          "text": "Category"
         }
        },
        "yaxis": {
         "anchor": "x",
         "domain": [
          0,
          1
         ],
         "title": {
          "text": "Count"
         }
        }
       }
      }
     },
     "metadata": {},
     "output_type": "display_data"
    }
   ],
   "source": [
    "result_grouped_cat = result_vis.groupby(by=['Category'], as_index=False).size()\n",
    "result_grouped_cat.columns = ['Category', 'Count']\n",
    "result_grouped_sort = result_grouped_cat.sort_values(by='Count', ascending=False) # type: ignore\n",
    "\n",
    "fig1 = px.bar(result_grouped_sort, x='Category', y='Count', title='Top 120 Count by Category')\n",
    "fig1.show()"
   ]
  },
  {
   "cell_type": "code",
   "execution_count": 232,
   "metadata": {},
   "outputs": [
    {
     "data": {
      "application/vnd.plotly.v1+json": {
       "config": {
        "plotlyServerURL": "https://plot.ly"
       },
       "data": [
        {
         "alignmentgroup": "True",
         "hovertemplate": "Category=Decoration<br>Subcategory=%{x}<br>Count=%{y}<extra></extra>",
         "legendgroup": "Decoration",
         "marker": {
          "color": "#636efa",
          "pattern": {
           "shape": ""
          }
         },
         "name": "Decoration",
         "offsetgroup": "Decoration",
         "orientation": "v",
         "showlegend": true,
         "textposition": "auto",
         "type": "bar",
         "x": [
          "Other decorative objects",
          "Decorative set",
          "Curtain",
          "Carpets",
          "Clothes",
          "Frame",
          "Sculpture",
          "Vase"
         ],
         "xaxis": "x",
         "y": [
          7,
          6,
          5,
          4,
          2,
          1,
          1,
          1
         ],
         "yaxis": "y"
        },
        {
         "alignmentgroup": "True",
         "hovertemplate": "Category=Bathroom<br>Subcategory=%{x}<br>Count=%{y}<extra></extra>",
         "legendgroup": "Bathroom",
         "marker": {
          "color": "#EF553B",
          "pattern": {
           "shape": ""
          }
         },
         "name": "Bathroom",
         "offsetgroup": "Bathroom",
         "orientation": "v",
         "showlegend": true,
         "textposition": "auto",
         "type": "bar",
         "x": [
          "Bathroom accessories",
          "Faucet",
          "Bathroom furniture",
          "Towel rail",
          "Toilet and Bidet",
          "Bathtub"
         ],
         "xaxis": "x",
         "y": [
          6,
          4,
          2,
          1,
          1,
          1
         ],
         "yaxis": "y"
        },
        {
         "alignmentgroup": "True",
         "hovertemplate": "Category=Furniture<br>Subcategory=%{x}<br>Count=%{y}<extra></extra>",
         "legendgroup": "Furniture",
         "marker": {
          "color": "#00cc96",
          "pattern": {
           "shape": ""
          }
         },
         "name": "Furniture",
         "offsetgroup": "Furniture",
         "orientation": "v",
         "showlegend": true,
         "textposition": "auto",
         "type": "bar",
         "x": [
          "Wardrobe & Display cabinets",
          "Office furniture",
          "Sideboard & Chest of drawer",
          "Rack",
          "TV Wall",
          "Table",
          "Bed",
          "Other",
          "Arm chair",
          "Other soft seating",
          "Table + Chair",
          "Chair"
         ],
         "xaxis": "x",
         "y": [
          5,
          3,
          3,
          2,
          2,
          2,
          2,
          2,
          2,
          1,
          1,
          1
         ],
         "yaxis": "y"
        },
        {
         "alignmentgroup": "True",
         "hovertemplate": "Category=Kitchen<br>Subcategory=%{x}<br>Count=%{y}<extra></extra>",
         "legendgroup": "Kitchen",
         "marker": {
          "color": "#ab63fa",
          "pattern": {
           "shape": ""
          }
         },
         "name": "Kitchen",
         "offsetgroup": "Kitchen",
         "orientation": "v",
         "showlegend": true,
         "textposition": "auto",
         "type": "bar",
         "x": [
          "Kitchen",
          "Tableware",
          "Sink",
          "Food and drinks"
         ],
         "xaxis": "x",
         "y": [
          5,
          2,
          1,
          1
         ],
         "yaxis": "y"
        },
        {
         "alignmentgroup": "True",
         "hovertemplate": "Category=Materials<br>Subcategory=%{x}<br>Count=%{y}<extra></extra>",
         "legendgroup": "Materials",
         "marker": {
          "color": "#FFA15A",
          "pattern": {
           "shape": ""
          }
         },
         "name": "Materials",
         "offsetgroup": "Materials",
         "orientation": "v",
         "showlegend": true,
         "textposition": "auto",
         "type": "bar",
         "x": [
          "Miscellaneous",
          "Tile",
          "Metal"
         ],
         "xaxis": "x",
         "y": [
          4,
          1,
          1
         ],
         "yaxis": "y"
        },
        {
         "alignmentgroup": "True",
         "hovertemplate": "Category=Childroom<br>Subcategory=%{x}<br>Count=%{y}<extra></extra>",
         "legendgroup": "Childroom",
         "marker": {
          "color": "#19d3f3",
          "pattern": {
           "shape": ""
          }
         },
         "name": "Childroom",
         "offsetgroup": "Childroom",
         "orientation": "v",
         "showlegend": true,
         "textposition": "auto",
         "type": "bar",
         "x": [
          "Miscellaneous",
          "Bed",
          "Wardrobe"
         ],
         "xaxis": "x",
         "y": [
          4,
          1,
          1
         ],
         "yaxis": "y"
        },
        {
         "alignmentgroup": "True",
         "hovertemplate": "Category=Other Models<br>Subcategory=%{x}<br>Count=%{y}<extra></extra>",
         "legendgroup": "Other Models",
         "marker": {
          "color": "#FF6692",
          "pattern": {
           "shape": ""
          }
         },
         "name": "Other Models",
         "offsetgroup": "Other Models",
         "orientation": "v",
         "showlegend": true,
         "textposition": "auto",
         "type": "bar",
         "x": [
          "Miscellaneous",
          "Restaurant",
          "Sports",
          "Transport",
          "Musical instrument",
          "Doors"
         ],
         "xaxis": "x",
         "y": [
          3,
          3,
          3,
          1,
          1,
          1
         ],
         "yaxis": "y"
        },
        {
         "alignmentgroup": "True",
         "hovertemplate": "Category=Textures<br>Subcategory=%{x}<br>Count=%{y}<extra></extra>",
         "legendgroup": "Textures",
         "marker": {
          "color": "#B6E880",
          "pattern": {
           "shape": ""
          }
         },
         "name": "Textures",
         "offsetgroup": "Textures",
         "orientation": "v",
         "showlegend": true,
         "textposition": "auto",
         "type": "bar",
         "x": [
          "Floor coverings",
          "Tile"
         ],
         "xaxis": "x",
         "y": [
          3,
          2
         ],
         "yaxis": "y"
        },
        {
         "alignmentgroup": "True",
         "hovertemplate": "Category=Lighting<br>Subcategory=%{x}<br>Count=%{y}<extra></extra>",
         "legendgroup": "Lighting",
         "marker": {
          "color": "#FF97FF",
          "pattern": {
           "shape": ""
          }
         },
         "name": "Lighting",
         "offsetgroup": "Lighting",
         "orientation": "v",
         "showlegend": true,
         "textposition": "auto",
         "type": "bar",
         "x": [
          "Pendant light",
          "Technical lighting"
         ],
         "xaxis": "x",
         "y": [
          2,
          1
         ],
         "yaxis": "y"
        },
        {
         "alignmentgroup": "True",
         "hovertemplate": "Category=Plants<br>Subcategory=%{x}<br>Count=%{y}<extra></extra>",
         "legendgroup": "Plants",
         "marker": {
          "color": "#FECB52",
          "pattern": {
           "shape": ""
          }
         },
         "name": "Plants",
         "offsetgroup": "Plants",
         "orientation": "v",
         "showlegend": true,
         "textposition": "auto",
         "type": "bar",
         "x": [
          "Bouquet",
          "Indoor",
          "Grass",
          "Tree"
         ],
         "xaxis": "x",
         "y": [
          2,
          2,
          1,
          1
         ],
         "yaxis": "y"
        },
        {
         "alignmentgroup": "True",
         "hovertemplate": "Category=Architecture<br>Subcategory=%{x}<br>Count=%{y}<extra></extra>",
         "legendgroup": "Architecture",
         "marker": {
          "color": "#636efa",
          "pattern": {
           "shape": ""
          }
         },
         "name": "Architecture",
         "offsetgroup": "Architecture",
         "orientation": "v",
         "showlegend": true,
         "textposition": "auto",
         "type": "bar",
         "x": [
          "Urban environment"
         ],
         "xaxis": "x",
         "y": [
          2
         ],
         "yaxis": "y"
        },
        {
         "alignmentgroup": "True",
         "hovertemplate": "Category=Scripts<br>Subcategory=%{x}<br>Count=%{y}<extra></extra>",
         "legendgroup": "Scripts",
         "marker": {
          "color": "#EF553B",
          "pattern": {
           "shape": ""
          }
         },
         "name": "Scripts",
         "offsetgroup": "Scripts",
         "orientation": "v",
         "showlegend": true,
         "textposition": "auto",
         "type": "bar",
         "x": [
          "Scripts"
         ],
         "xaxis": "x",
         "y": [
          1
         ],
         "yaxis": "y"
        },
        {
         "alignmentgroup": "True",
         "hovertemplate": "Category=Technology<br>Subcategory=%{x}<br>Count=%{y}<extra></extra>",
         "legendgroup": "Technology",
         "marker": {
          "color": "#00cc96",
          "pattern": {
           "shape": ""
          }
         },
         "name": "Technology",
         "offsetgroup": "Technology",
         "orientation": "v",
         "showlegend": true,
         "textposition": "auto",
         "type": "bar",
         "x": [
          "Household appliance",
          "PC & other electronics"
         ],
         "xaxis": "x",
         "y": [
          1,
          1
         ],
         "yaxis": "y"
        }
       ],
       "layout": {
        "barmode": "relative",
        "legend": {
         "title": {
          "text": "Category"
         },
         "tracegroupgap": 0
        },
        "template": {
         "data": {
          "bar": [
           {
            "error_x": {
             "color": "#2a3f5f"
            },
            "error_y": {
             "color": "#2a3f5f"
            },
            "marker": {
             "line": {
              "color": "#E5ECF6",
              "width": 0.5
             },
             "pattern": {
              "fillmode": "overlay",
              "size": 10,
              "solidity": 0.2
             }
            },
            "type": "bar"
           }
          ],
          "barpolar": [
           {
            "marker": {
             "line": {
              "color": "#E5ECF6",
              "width": 0.5
             },
             "pattern": {
              "fillmode": "overlay",
              "size": 10,
              "solidity": 0.2
             }
            },
            "type": "barpolar"
           }
          ],
          "carpet": [
           {
            "aaxis": {
             "endlinecolor": "#2a3f5f",
             "gridcolor": "white",
             "linecolor": "white",
             "minorgridcolor": "white",
             "startlinecolor": "#2a3f5f"
            },
            "baxis": {
             "endlinecolor": "#2a3f5f",
             "gridcolor": "white",
             "linecolor": "white",
             "minorgridcolor": "white",
             "startlinecolor": "#2a3f5f"
            },
            "type": "carpet"
           }
          ],
          "choropleth": [
           {
            "colorbar": {
             "outlinewidth": 0,
             "ticks": ""
            },
            "type": "choropleth"
           }
          ],
          "contour": [
           {
            "colorbar": {
             "outlinewidth": 0,
             "ticks": ""
            },
            "colorscale": [
             [
              0,
              "#0d0887"
             ],
             [
              0.1111111111111111,
              "#46039f"
             ],
             [
              0.2222222222222222,
              "#7201a8"
             ],
             [
              0.3333333333333333,
              "#9c179e"
             ],
             [
              0.4444444444444444,
              "#bd3786"
             ],
             [
              0.5555555555555556,
              "#d8576b"
             ],
             [
              0.6666666666666666,
              "#ed7953"
             ],
             [
              0.7777777777777778,
              "#fb9f3a"
             ],
             [
              0.8888888888888888,
              "#fdca26"
             ],
             [
              1,
              "#f0f921"
             ]
            ],
            "type": "contour"
           }
          ],
          "contourcarpet": [
           {
            "colorbar": {
             "outlinewidth": 0,
             "ticks": ""
            },
            "type": "contourcarpet"
           }
          ],
          "heatmap": [
           {
            "colorbar": {
             "outlinewidth": 0,
             "ticks": ""
            },
            "colorscale": [
             [
              0,
              "#0d0887"
             ],
             [
              0.1111111111111111,
              "#46039f"
             ],
             [
              0.2222222222222222,
              "#7201a8"
             ],
             [
              0.3333333333333333,
              "#9c179e"
             ],
             [
              0.4444444444444444,
              "#bd3786"
             ],
             [
              0.5555555555555556,
              "#d8576b"
             ],
             [
              0.6666666666666666,
              "#ed7953"
             ],
             [
              0.7777777777777778,
              "#fb9f3a"
             ],
             [
              0.8888888888888888,
              "#fdca26"
             ],
             [
              1,
              "#f0f921"
             ]
            ],
            "type": "heatmap"
           }
          ],
          "heatmapgl": [
           {
            "colorbar": {
             "outlinewidth": 0,
             "ticks": ""
            },
            "colorscale": [
             [
              0,
              "#0d0887"
             ],
             [
              0.1111111111111111,
              "#46039f"
             ],
             [
              0.2222222222222222,
              "#7201a8"
             ],
             [
              0.3333333333333333,
              "#9c179e"
             ],
             [
              0.4444444444444444,
              "#bd3786"
             ],
             [
              0.5555555555555556,
              "#d8576b"
             ],
             [
              0.6666666666666666,
              "#ed7953"
             ],
             [
              0.7777777777777778,
              "#fb9f3a"
             ],
             [
              0.8888888888888888,
              "#fdca26"
             ],
             [
              1,
              "#f0f921"
             ]
            ],
            "type": "heatmapgl"
           }
          ],
          "histogram": [
           {
            "marker": {
             "pattern": {
              "fillmode": "overlay",
              "size": 10,
              "solidity": 0.2
             }
            },
            "type": "histogram"
           }
          ],
          "histogram2d": [
           {
            "colorbar": {
             "outlinewidth": 0,
             "ticks": ""
            },
            "colorscale": [
             [
              0,
              "#0d0887"
             ],
             [
              0.1111111111111111,
              "#46039f"
             ],
             [
              0.2222222222222222,
              "#7201a8"
             ],
             [
              0.3333333333333333,
              "#9c179e"
             ],
             [
              0.4444444444444444,
              "#bd3786"
             ],
             [
              0.5555555555555556,
              "#d8576b"
             ],
             [
              0.6666666666666666,
              "#ed7953"
             ],
             [
              0.7777777777777778,
              "#fb9f3a"
             ],
             [
              0.8888888888888888,
              "#fdca26"
             ],
             [
              1,
              "#f0f921"
             ]
            ],
            "type": "histogram2d"
           }
          ],
          "histogram2dcontour": [
           {
            "colorbar": {
             "outlinewidth": 0,
             "ticks": ""
            },
            "colorscale": [
             [
              0,
              "#0d0887"
             ],
             [
              0.1111111111111111,
              "#46039f"
             ],
             [
              0.2222222222222222,
              "#7201a8"
             ],
             [
              0.3333333333333333,
              "#9c179e"
             ],
             [
              0.4444444444444444,
              "#bd3786"
             ],
             [
              0.5555555555555556,
              "#d8576b"
             ],
             [
              0.6666666666666666,
              "#ed7953"
             ],
             [
              0.7777777777777778,
              "#fb9f3a"
             ],
             [
              0.8888888888888888,
              "#fdca26"
             ],
             [
              1,
              "#f0f921"
             ]
            ],
            "type": "histogram2dcontour"
           }
          ],
          "mesh3d": [
           {
            "colorbar": {
             "outlinewidth": 0,
             "ticks": ""
            },
            "type": "mesh3d"
           }
          ],
          "parcoords": [
           {
            "line": {
             "colorbar": {
              "outlinewidth": 0,
              "ticks": ""
             }
            },
            "type": "parcoords"
           }
          ],
          "pie": [
           {
            "automargin": true,
            "type": "pie"
           }
          ],
          "scatter": [
           {
            "fillpattern": {
             "fillmode": "overlay",
             "size": 10,
             "solidity": 0.2
            },
            "type": "scatter"
           }
          ],
          "scatter3d": [
           {
            "line": {
             "colorbar": {
              "outlinewidth": 0,
              "ticks": ""
             }
            },
            "marker": {
             "colorbar": {
              "outlinewidth": 0,
              "ticks": ""
             }
            },
            "type": "scatter3d"
           }
          ],
          "scattercarpet": [
           {
            "marker": {
             "colorbar": {
              "outlinewidth": 0,
              "ticks": ""
             }
            },
            "type": "scattercarpet"
           }
          ],
          "scattergeo": [
           {
            "marker": {
             "colorbar": {
              "outlinewidth": 0,
              "ticks": ""
             }
            },
            "type": "scattergeo"
           }
          ],
          "scattergl": [
           {
            "marker": {
             "colorbar": {
              "outlinewidth": 0,
              "ticks": ""
             }
            },
            "type": "scattergl"
           }
          ],
          "scattermapbox": [
           {
            "marker": {
             "colorbar": {
              "outlinewidth": 0,
              "ticks": ""
             }
            },
            "type": "scattermapbox"
           }
          ],
          "scatterpolar": [
           {
            "marker": {
             "colorbar": {
              "outlinewidth": 0,
              "ticks": ""
             }
            },
            "type": "scatterpolar"
           }
          ],
          "scatterpolargl": [
           {
            "marker": {
             "colorbar": {
              "outlinewidth": 0,
              "ticks": ""
             }
            },
            "type": "scatterpolargl"
           }
          ],
          "scatterternary": [
           {
            "marker": {
             "colorbar": {
              "outlinewidth": 0,
              "ticks": ""
             }
            },
            "type": "scatterternary"
           }
          ],
          "surface": [
           {
            "colorbar": {
             "outlinewidth": 0,
             "ticks": ""
            },
            "colorscale": [
             [
              0,
              "#0d0887"
             ],
             [
              0.1111111111111111,
              "#46039f"
             ],
             [
              0.2222222222222222,
              "#7201a8"
             ],
             [
              0.3333333333333333,
              "#9c179e"
             ],
             [
              0.4444444444444444,
              "#bd3786"
             ],
             [
              0.5555555555555556,
              "#d8576b"
             ],
             [
              0.6666666666666666,
              "#ed7953"
             ],
             [
              0.7777777777777778,
              "#fb9f3a"
             ],
             [
              0.8888888888888888,
              "#fdca26"
             ],
             [
              1,
              "#f0f921"
             ]
            ],
            "type": "surface"
           }
          ],
          "table": [
           {
            "cells": {
             "fill": {
              "color": "#EBF0F8"
             },
             "line": {
              "color": "white"
             }
            },
            "header": {
             "fill": {
              "color": "#C8D4E3"
             },
             "line": {
              "color": "white"
             }
            },
            "type": "table"
           }
          ]
         },
         "layout": {
          "annotationdefaults": {
           "arrowcolor": "#2a3f5f",
           "arrowhead": 0,
           "arrowwidth": 1
          },
          "autotypenumbers": "strict",
          "coloraxis": {
           "colorbar": {
            "outlinewidth": 0,
            "ticks": ""
           }
          },
          "colorscale": {
           "diverging": [
            [
             0,
             "#8e0152"
            ],
            [
             0.1,
             "#c51b7d"
            ],
            [
             0.2,
             "#de77ae"
            ],
            [
             0.3,
             "#f1b6da"
            ],
            [
             0.4,
             "#fde0ef"
            ],
            [
             0.5,
             "#f7f7f7"
            ],
            [
             0.6,
             "#e6f5d0"
            ],
            [
             0.7,
             "#b8e186"
            ],
            [
             0.8,
             "#7fbc41"
            ],
            [
             0.9,
             "#4d9221"
            ],
            [
             1,
             "#276419"
            ]
           ],
           "sequential": [
            [
             0,
             "#0d0887"
            ],
            [
             0.1111111111111111,
             "#46039f"
            ],
            [
             0.2222222222222222,
             "#7201a8"
            ],
            [
             0.3333333333333333,
             "#9c179e"
            ],
            [
             0.4444444444444444,
             "#bd3786"
            ],
            [
             0.5555555555555556,
             "#d8576b"
            ],
            [
             0.6666666666666666,
             "#ed7953"
            ],
            [
             0.7777777777777778,
             "#fb9f3a"
            ],
            [
             0.8888888888888888,
             "#fdca26"
            ],
            [
             1,
             "#f0f921"
            ]
           ],
           "sequentialminus": [
            [
             0,
             "#0d0887"
            ],
            [
             0.1111111111111111,
             "#46039f"
            ],
            [
             0.2222222222222222,
             "#7201a8"
            ],
            [
             0.3333333333333333,
             "#9c179e"
            ],
            [
             0.4444444444444444,
             "#bd3786"
            ],
            [
             0.5555555555555556,
             "#d8576b"
            ],
            [
             0.6666666666666666,
             "#ed7953"
            ],
            [
             0.7777777777777778,
             "#fb9f3a"
            ],
            [
             0.8888888888888888,
             "#fdca26"
            ],
            [
             1,
             "#f0f921"
            ]
           ]
          },
          "colorway": [
           "#636efa",
           "#EF553B",
           "#00cc96",
           "#ab63fa",
           "#FFA15A",
           "#19d3f3",
           "#FF6692",
           "#B6E880",
           "#FF97FF",
           "#FECB52"
          ],
          "font": {
           "color": "#2a3f5f"
          },
          "geo": {
           "bgcolor": "white",
           "lakecolor": "white",
           "landcolor": "#E5ECF6",
           "showlakes": true,
           "showland": true,
           "subunitcolor": "white"
          },
          "hoverlabel": {
           "align": "left"
          },
          "hovermode": "closest",
          "mapbox": {
           "style": "light"
          },
          "paper_bgcolor": "white",
          "plot_bgcolor": "#E5ECF6",
          "polar": {
           "angularaxis": {
            "gridcolor": "white",
            "linecolor": "white",
            "ticks": ""
           },
           "bgcolor": "#E5ECF6",
           "radialaxis": {
            "gridcolor": "white",
            "linecolor": "white",
            "ticks": ""
           }
          },
          "scene": {
           "xaxis": {
            "backgroundcolor": "#E5ECF6",
            "gridcolor": "white",
            "gridwidth": 2,
            "linecolor": "white",
            "showbackground": true,
            "ticks": "",
            "zerolinecolor": "white"
           },
           "yaxis": {
            "backgroundcolor": "#E5ECF6",
            "gridcolor": "white",
            "gridwidth": 2,
            "linecolor": "white",
            "showbackground": true,
            "ticks": "",
            "zerolinecolor": "white"
           },
           "zaxis": {
            "backgroundcolor": "#E5ECF6",
            "gridcolor": "white",
            "gridwidth": 2,
            "linecolor": "white",
            "showbackground": true,
            "ticks": "",
            "zerolinecolor": "white"
           }
          },
          "shapedefaults": {
           "line": {
            "color": "#2a3f5f"
           }
          },
          "ternary": {
           "aaxis": {
            "gridcolor": "white",
            "linecolor": "white",
            "ticks": ""
           },
           "baxis": {
            "gridcolor": "white",
            "linecolor": "white",
            "ticks": ""
           },
           "bgcolor": "#E5ECF6",
           "caxis": {
            "gridcolor": "white",
            "linecolor": "white",
            "ticks": ""
           }
          },
          "title": {
           "x": 0.05
          },
          "xaxis": {
           "automargin": true,
           "gridcolor": "white",
           "linecolor": "white",
           "ticks": "",
           "title": {
            "standoff": 15
           },
           "zerolinecolor": "white",
           "zerolinewidth": 2
          },
          "yaxis": {
           "automargin": true,
           "gridcolor": "white",
           "linecolor": "white",
           "ticks": "",
           "title": {
            "standoff": 15
           },
           "zerolinecolor": "white",
           "zerolinewidth": 2
          }
         }
        },
        "title": {
         "text": "Top 120 Count by Subcategory"
        },
        "xaxis": {
         "anchor": "y",
         "domain": [
          0,
          1
         ],
         "title": {
          "text": "Subcategory"
         }
        },
        "yaxis": {
         "anchor": "x",
         "domain": [
          0,
          1
         ],
         "title": {
          "text": "Count"
         }
        }
       }
      }
     },
     "metadata": {},
     "output_type": "display_data"
    }
   ],
   "source": [
    "result_grouped_subcat = result_vis.groupby(by=['Category', 'Subcategory'], as_index=False).size()\n",
    "result_grouped_subcat.columns = ['Category', 'Subcategory', 'Count']\n",
    "result_grouped_subsort = result_grouped_subcat.sort_values(by='Count', ascending=False) # type: ignore\n",
    "\n",
    "fig2 = px.bar(result_grouped_subsort, x='Subcategory', y='Count', color = 'Category', title='Top 120 Count by Subcategory')\n",
    "fig2.show()"
   ]
  },
  {
   "cell_type": "code",
   "execution_count": 233,
   "metadata": {},
   "outputs": [
    {
     "data": {
      "application/vnd.plotly.v1+json": {
       "config": {
        "plotlyServerURL": "https://plot.ly"
       },
       "data": [
        {
         "customdata": [
          [
           "Christmas tree with fireplace 5"
          ],
          [
           "Benuta Leon Cream Wool Rug"
          ],
          [
           "Office chair Ashley"
          ],
          [
           "Indoor Plant Set 89"
          ],
          [
           "Clothes for wardrobe NG15"
          ],
          [
           "Boucle Fabric"
          ],
          [
           "Benuta Dave Rectangular Fur Rug (3 colors)"
          ],
          [
           "Curtains with Roman blinds 2"
          ],
          [
           "Kitchen 10"
          ],
          [
           "Decorative Set 089"
          ],
          [
           "Carpeting. Seamless carpet"
          ],
          [
           "Dressing room 28"
          ],
          [
           "Bathroom decor with a set of different cosmetic products"
          ],
          [
           "Cairns pedestal Divan.ru"
          ],
          [
           "Decorative Set 088"
          ],
          [
           "coffee table decor set 005"
          ],
          [
           "Faucets and showers Boheme uno set 2"
          ],
          [
           "Grilles for ventilation and air conditioning Redvent"
          ],
          [
           "Snow"
          ],
          [
           "TV wall with Xiaomi laser projector"
          ],
          [
           "Dressing room 16"
          ],
          [
           "Equipe BALI"
          ],
          [
           "Bathroom decor set P06"
          ],
          [
           "A set of clothes in bright colors for a wardrobe or showroom and a store"
          ],
          [
           "Roman blinds, Roman blinds"
          ],
          [
           "Lindsay Laurie coffee table Divan.ru"
          ],
          [
           "Omnires mixers"
          ],
          [
           "HOMARY island for dressing room NG16"
          ],
          [
           "Siena Kids Bed By Como"
          ],
          [
           "Padel"
          ],
          [
           "Porcelain tiles Nolana Estima"
          ],
          [
           "Milam chair Divan.ru"
          ],
          [
           "Moooi Drape Lights"
          ],
          [
           "Basic wardrobe made of cabinet furniture with doors"
          ],
          [
           "Track system centersvet Infinity"
          ],
          [
           "Glass Block Wall 08"
          ],
          [
           "Robot vacuum cleaner Xiaomi Robot Vacuum Cleaner X20"
          ],
          [
           "Cookware set NG5"
          ],
          [
           "Faucets and showers Boheme uno set 1"
          ],
          [
           "Parquet board 4"
          ],
          [
           "Cecily Nara bedside table Cosmo"
          ],
          [
           "TV Wall 52"
          ],
          [
           "Bathroom accessories Z42"
          ],
          [
           "Nice Christmas tree"
          ],
          [
           "Sinks and faucets Omoikiri"
          ],
          [
           "Realistic meadow grass"
          ],
          [
           "Bathroom furniture 21"
          ],
          [
           "3DArt Relief NG41"
          ],
          [
           "Pila Vessels en gold / Jug"
          ],
          [
           "West Elm Curved Modern Upholstered Bed"
          ],
          [
           "Children play area | Interactive"
          ],
          [
           "Pinch Pleat Linen Curtain with Roller Blind"
          ],
          [
           "Herringbone parquet chevron s8"
          ],
          [
           "Volhovec Rift Doors"
          ],
          [
           "Wine with chocolate set/1"
          ],
          [
           "Faucets and showers Boheme Specter set"
          ],
          [
           "Office chair Sergio La Redoute"
          ],
          [
           "A bouquet of lilacs in a glass vase"
          ],
          [
           "Pinboard with childrens drawings"
          ],
          [
           "kitchen 0252"
          ],
          [
           "Minotti Pilots Bench"
          ],
          [
           "Bouquet 06"
          ],
          [
           "Childrens open wardrobe with desk, modular, modern, 25"
          ],
          [
           "FloorGen Tools 1.5.4"
          ],
          [
           "Guitar. Guitar set for stage. Musical instrument. Microphone"
          ],
          [
           "Set of ceilings Armstrong and Grilyato"
          ],
          [
           "Boen parquet board wood flooring"
          ],
          [
           "Wet asphalt with leaves. Autumn. Editable"
          ],
          [
           "Decorative set with a small beige bag"
          ],
          [
           "Timo Saona"
          ],
          [
           "Panel with waves"
          ],
          [
           "Khmara by Makhno Rough Plaster Pendant Lamps"
          ],
          [
           "Indoor Plant 702 - Olive Plant"
          ],
          [
           "Emmi Armchair by Minotti"
          ],
          [
           "Gianna Natural Walnut Wood King Bed Frame"
          ],
          [
           "Soft seat by the window in the children's room"
          ],
          [
           "Christmas tree with fireplace 4"
          ],
          [
           "garage tools set 23"
          ],
          [
           "Kitchen Appliance Bosch Kitchen 81"
          ],
          [
           "Decorative Set 270"
          ],
          [
           "Bedside table Tammi"
          ],
          [
           "Furniture Composition 271"
          ],
          [
           "Dinning Set 162"
          ],
          [
           "Kitchen 27"
          ],
          [
           "Wonderful Christmas Tree"
          ],
          [
           "Laundry Room _ 0005"
          ],
          [
           "Christmas tree 5"
          ],
          [
           "Yoga & Meditation Set"
          ],
          [
           "Equipe Hopp"
          ],
          [
           "Serving NG3"
          ],
          [
           "Wardrobe system Rimadesio Dress Bold"
          ],
          [
           "Oval island for dressing room NG14"
          ],
          [
           "A wall with a rack for gym equipment 2"
          ],
          [
           "Hotel Bathroom Accessories LE LABO"
          ],
          [
           "Rubber Coating"
          ],
          [
           "Travis shelving Divan.ru"
          ],
          [
           "Ventilation system."
          ],
          [
           "Interactive panel for children room"
          ],
          [
           "Round carpet"
          ],
          [
           "Pattie Armchair by Minotti"
          ],
          [
           "Flat Metal Material"
          ],
          [
           "Canon printer set."
          ],
          [
           "Curtains 9"
          ],
          [
           "Office Furniture | 4 | Workplace"
          ],
          [
           "Calder Lander Build table Divan.ru"
          ],
          [
           "EWRIKA Penelope electric heated towel rail"
          ],
          [
           "kitchen modern-067"
          ],
          [
           "Curtain #121"
          ],
          [
           "Christmas Tree and Decoration 78"
          ],
          [
           "Decorative Set-086 Shelf Accessories"
          ],
          [
           "LAUNDRY SET (Poliform FITTED + ASKO)"
          ],
          [
           "LAUNDRY SET 2 (L'ORIGINE Aeterna + ASKO)"
          ],
          [
           "Bakery Equipment"
          ],
          [
           "Acer Ginnala"
          ],
          [
           "CAT Forklift, Manual Loader and Warehouse Carts Kit"
          ],
          [
           "Christmas Tree Street"
          ],
          [
           "Coffee Shop 6"
          ],
          [
           "Benuta Dave Round Fur Rug (3 colors)"
          ],
          [
           "Cezares Stylus + Boheme Uno + AlcaPlast Thin"
          ],
          [
           "Cafe Equipment Set 8"
          ]
         ],
         "hovertemplate": "Selected=%{x}<br>Followers=%{y}<br>Title=%{customdata[0]}<br>N=%{marker.color}<extra></extra>",
         "legendgroup": "",
         "marker": {
          "color": [
           1,
           2,
           3,
           4,
           5,
           6,
           7,
           8,
           9,
           10,
           11,
           12,
           13,
           14,
           15,
           16,
           17,
           18,
           19,
           20,
           21,
           22,
           23,
           24,
           25,
           26,
           27,
           28,
           29,
           30,
           31,
           32,
           33,
           34,
           35,
           36,
           37,
           38,
           39,
           40,
           41,
           42,
           43,
           44,
           45,
           46,
           47,
           48,
           49,
           50,
           51,
           52,
           53,
           54,
           55,
           56,
           57,
           58,
           59,
           60,
           61,
           62,
           63,
           64,
           65,
           66,
           67,
           68,
           69,
           70,
           71,
           72,
           73,
           74,
           75,
           76,
           77,
           78,
           79,
           80,
           81,
           82,
           83,
           84,
           85,
           86,
           87,
           88,
           89,
           90,
           91,
           92,
           93,
           94,
           95,
           96,
           97,
           98,
           99,
           100,
           101,
           102,
           103,
           104,
           105,
           106,
           107,
           108,
           109,
           110,
           111,
           112,
           113,
           114,
           115,
           116,
           117,
           118,
           119,
           120
          ],
          "coloraxis": "coloraxis",
          "symbol": "circle"
         },
         "mode": "markers",
         "name": "",
         "orientation": "v",
         "showlegend": false,
         "type": "scatter",
         "x": [
          159,
          212,
          131,
          49,
          95,
          410,
          538,
          243,
          86,
          225,
          142,
          65,
          266,
          70,
          200,
          130,
          60,
          90,
          64,
          1486,
          386,
          99,
          94,
          191,
          83,
          33,
          71,
          244,
          771,
          117,
          169,
          93,
          101,
          108,
          28,
          812,
          128,
          323,
          39,
          84,
          76,
          60,
          27,
          1410,
          502,
          439,
          202,
          89,
          227,
          89,
          153,
          53,
          215,
          197,
          261,
          26,
          80,
          192,
          89,
          58,
          69,
          115,
          50,
          801,
          477,
          826,
          878,
          472,
          31,
          185,
          487,
          308,
          254,
          297,
          306,
          335,
          347,
          73,
          224,
          40,
          42,
          79,
          34,
          25,
          81,
          933,
          610,
          501,
          237,
          457,
          504,
          442,
          278,
          412,
          187,
          130,
          146,
          340,
          206,
          171,
          216,
          41,
          66,
          103,
          69,
          50,
          58,
          22,
          123,
          41,
          2213,
          2700,
          1260,
          471,
          541,
          288,
          600,
          323,
          171,
          153
         ],
         "xaxis": "x",
         "y": [
          314,
          335,
          6,
          211,
          744,
          150,
          335,
          128,
          11,
          87,
          772,
          322,
          772,
          744,
          87,
          190,
          22,
          31,
          310,
          2224,
          322,
          162,
          8,
          772,
          417,
          744,
          1217,
          744,
          417,
          22,
          11,
          744,
          100,
          772,
          22,
          128,
          99,
          744,
          22,
          314,
          744,
          231,
          34,
          1217,
          125,
          1671,
          170,
          744,
          8,
          610,
          85,
          128,
          162,
          66,
          73,
          22,
          245,
          228,
          31,
          97,
          717,
          10,
          170,
          40,
          89,
          430,
          314,
          130,
          28,
          78,
          69,
          29,
          1563,
          192,
          417,
          85,
          314,
          9,
          135,
          566,
          5,
          178,
          76,
          91,
          1217,
          311,
          1217,
          192,
          162,
          744,
          98,
          744,
          772,
          85,
          310,
          744,
          20,
          85,
          18,
          55,
          51,
          20,
          1217,
          381,
          744,
          744,
          24,
          86,
          1563,
          256,
          223,
          223,
          72,
          871,
          99,
          50,
          310,
          335,
          7,
          72
         ],
         "yaxis": "y"
        }
       ],
       "layout": {
        "coloraxis": {
         "colorbar": {
          "title": {
           "text": "N"
          }
         },
         "colorscale": [
          [
           0,
           "#0d0887"
          ],
          [
           0.1111111111111111,
           "#46039f"
          ],
          [
           0.2222222222222222,
           "#7201a8"
          ],
          [
           0.3333333333333333,
           "#9c179e"
          ],
          [
           0.4444444444444444,
           "#bd3786"
          ],
          [
           0.5555555555555556,
           "#d8576b"
          ],
          [
           0.6666666666666666,
           "#ed7953"
          ],
          [
           0.7777777777777778,
           "#fb9f3a"
          ],
          [
           0.8888888888888888,
           "#fdca26"
          ],
          [
           1,
           "#f0f921"
          ]
         ]
        },
        "legend": {
         "tracegroupgap": 0
        },
        "template": {
         "data": {
          "bar": [
           {
            "error_x": {
             "color": "#2a3f5f"
            },
            "error_y": {
             "color": "#2a3f5f"
            },
            "marker": {
             "line": {
              "color": "#E5ECF6",
              "width": 0.5
             },
             "pattern": {
              "fillmode": "overlay",
              "size": 10,
              "solidity": 0.2
             }
            },
            "type": "bar"
           }
          ],
          "barpolar": [
           {
            "marker": {
             "line": {
              "color": "#E5ECF6",
              "width": 0.5
             },
             "pattern": {
              "fillmode": "overlay",
              "size": 10,
              "solidity": 0.2
             }
            },
            "type": "barpolar"
           }
          ],
          "carpet": [
           {
            "aaxis": {
             "endlinecolor": "#2a3f5f",
             "gridcolor": "white",
             "linecolor": "white",
             "minorgridcolor": "white",
             "startlinecolor": "#2a3f5f"
            },
            "baxis": {
             "endlinecolor": "#2a3f5f",
             "gridcolor": "white",
             "linecolor": "white",
             "minorgridcolor": "white",
             "startlinecolor": "#2a3f5f"
            },
            "type": "carpet"
           }
          ],
          "choropleth": [
           {
            "colorbar": {
             "outlinewidth": 0,
             "ticks": ""
            },
            "type": "choropleth"
           }
          ],
          "contour": [
           {
            "colorbar": {
             "outlinewidth": 0,
             "ticks": ""
            },
            "colorscale": [
             [
              0,
              "#0d0887"
             ],
             [
              0.1111111111111111,
              "#46039f"
             ],
             [
              0.2222222222222222,
              "#7201a8"
             ],
             [
              0.3333333333333333,
              "#9c179e"
             ],
             [
              0.4444444444444444,
              "#bd3786"
             ],
             [
              0.5555555555555556,
              "#d8576b"
             ],
             [
              0.6666666666666666,
              "#ed7953"
             ],
             [
              0.7777777777777778,
              "#fb9f3a"
             ],
             [
              0.8888888888888888,
              "#fdca26"
             ],
             [
              1,
              "#f0f921"
             ]
            ],
            "type": "contour"
           }
          ],
          "contourcarpet": [
           {
            "colorbar": {
             "outlinewidth": 0,
             "ticks": ""
            },
            "type": "contourcarpet"
           }
          ],
          "heatmap": [
           {
            "colorbar": {
             "outlinewidth": 0,
             "ticks": ""
            },
            "colorscale": [
             [
              0,
              "#0d0887"
             ],
             [
              0.1111111111111111,
              "#46039f"
             ],
             [
              0.2222222222222222,
              "#7201a8"
             ],
             [
              0.3333333333333333,
              "#9c179e"
             ],
             [
              0.4444444444444444,
              "#bd3786"
             ],
             [
              0.5555555555555556,
              "#d8576b"
             ],
             [
              0.6666666666666666,
              "#ed7953"
             ],
             [
              0.7777777777777778,
              "#fb9f3a"
             ],
             [
              0.8888888888888888,
              "#fdca26"
             ],
             [
              1,
              "#f0f921"
             ]
            ],
            "type": "heatmap"
           }
          ],
          "heatmapgl": [
           {
            "colorbar": {
             "outlinewidth": 0,
             "ticks": ""
            },
            "colorscale": [
             [
              0,
              "#0d0887"
             ],
             [
              0.1111111111111111,
              "#46039f"
             ],
             [
              0.2222222222222222,
              "#7201a8"
             ],
             [
              0.3333333333333333,
              "#9c179e"
             ],
             [
              0.4444444444444444,
              "#bd3786"
             ],
             [
              0.5555555555555556,
              "#d8576b"
             ],
             [
              0.6666666666666666,
              "#ed7953"
             ],
             [
              0.7777777777777778,
              "#fb9f3a"
             ],
             [
              0.8888888888888888,
              "#fdca26"
             ],
             [
              1,
              "#f0f921"
             ]
            ],
            "type": "heatmapgl"
           }
          ],
          "histogram": [
           {
            "marker": {
             "pattern": {
              "fillmode": "overlay",
              "size": 10,
              "solidity": 0.2
             }
            },
            "type": "histogram"
           }
          ],
          "histogram2d": [
           {
            "colorbar": {
             "outlinewidth": 0,
             "ticks": ""
            },
            "colorscale": [
             [
              0,
              "#0d0887"
             ],
             [
              0.1111111111111111,
              "#46039f"
             ],
             [
              0.2222222222222222,
              "#7201a8"
             ],
             [
              0.3333333333333333,
              "#9c179e"
             ],
             [
              0.4444444444444444,
              "#bd3786"
             ],
             [
              0.5555555555555556,
              "#d8576b"
             ],
             [
              0.6666666666666666,
              "#ed7953"
             ],
             [
              0.7777777777777778,
              "#fb9f3a"
             ],
             [
              0.8888888888888888,
              "#fdca26"
             ],
             [
              1,
              "#f0f921"
             ]
            ],
            "type": "histogram2d"
           }
          ],
          "histogram2dcontour": [
           {
            "colorbar": {
             "outlinewidth": 0,
             "ticks": ""
            },
            "colorscale": [
             [
              0,
              "#0d0887"
             ],
             [
              0.1111111111111111,
              "#46039f"
             ],
             [
              0.2222222222222222,
              "#7201a8"
             ],
             [
              0.3333333333333333,
              "#9c179e"
             ],
             [
              0.4444444444444444,
              "#bd3786"
             ],
             [
              0.5555555555555556,
              "#d8576b"
             ],
             [
              0.6666666666666666,
              "#ed7953"
             ],
             [
              0.7777777777777778,
              "#fb9f3a"
             ],
             [
              0.8888888888888888,
              "#fdca26"
             ],
             [
              1,
              "#f0f921"
             ]
            ],
            "type": "histogram2dcontour"
           }
          ],
          "mesh3d": [
           {
            "colorbar": {
             "outlinewidth": 0,
             "ticks": ""
            },
            "type": "mesh3d"
           }
          ],
          "parcoords": [
           {
            "line": {
             "colorbar": {
              "outlinewidth": 0,
              "ticks": ""
             }
            },
            "type": "parcoords"
           }
          ],
          "pie": [
           {
            "automargin": true,
            "type": "pie"
           }
          ],
          "scatter": [
           {
            "fillpattern": {
             "fillmode": "overlay",
             "size": 10,
             "solidity": 0.2
            },
            "type": "scatter"
           }
          ],
          "scatter3d": [
           {
            "line": {
             "colorbar": {
              "outlinewidth": 0,
              "ticks": ""
             }
            },
            "marker": {
             "colorbar": {
              "outlinewidth": 0,
              "ticks": ""
             }
            },
            "type": "scatter3d"
           }
          ],
          "scattercarpet": [
           {
            "marker": {
             "colorbar": {
              "outlinewidth": 0,
              "ticks": ""
             }
            },
            "type": "scattercarpet"
           }
          ],
          "scattergeo": [
           {
            "marker": {
             "colorbar": {
              "outlinewidth": 0,
              "ticks": ""
             }
            },
            "type": "scattergeo"
           }
          ],
          "scattergl": [
           {
            "marker": {
             "colorbar": {
              "outlinewidth": 0,
              "ticks": ""
             }
            },
            "type": "scattergl"
           }
          ],
          "scattermapbox": [
           {
            "marker": {
             "colorbar": {
              "outlinewidth": 0,
              "ticks": ""
             }
            },
            "type": "scattermapbox"
           }
          ],
          "scatterpolar": [
           {
            "marker": {
             "colorbar": {
              "outlinewidth": 0,
              "ticks": ""
             }
            },
            "type": "scatterpolar"
           }
          ],
          "scatterpolargl": [
           {
            "marker": {
             "colorbar": {
              "outlinewidth": 0,
              "ticks": ""
             }
            },
            "type": "scatterpolargl"
           }
          ],
          "scatterternary": [
           {
            "marker": {
             "colorbar": {
              "outlinewidth": 0,
              "ticks": ""
             }
            },
            "type": "scatterternary"
           }
          ],
          "surface": [
           {
            "colorbar": {
             "outlinewidth": 0,
             "ticks": ""
            },
            "colorscale": [
             [
              0,
              "#0d0887"
             ],
             [
              0.1111111111111111,
              "#46039f"
             ],
             [
              0.2222222222222222,
              "#7201a8"
             ],
             [
              0.3333333333333333,
              "#9c179e"
             ],
             [
              0.4444444444444444,
              "#bd3786"
             ],
             [
              0.5555555555555556,
              "#d8576b"
             ],
             [
              0.6666666666666666,
              "#ed7953"
             ],
             [
              0.7777777777777778,
              "#fb9f3a"
             ],
             [
              0.8888888888888888,
              "#fdca26"
             ],
             [
              1,
              "#f0f921"
             ]
            ],
            "type": "surface"
           }
          ],
          "table": [
           {
            "cells": {
             "fill": {
              "color": "#EBF0F8"
             },
             "line": {
              "color": "white"
             }
            },
            "header": {
             "fill": {
              "color": "#C8D4E3"
             },
             "line": {
              "color": "white"
             }
            },
            "type": "table"
           }
          ]
         },
         "layout": {
          "annotationdefaults": {
           "arrowcolor": "#2a3f5f",
           "arrowhead": 0,
           "arrowwidth": 1
          },
          "autotypenumbers": "strict",
          "coloraxis": {
           "colorbar": {
            "outlinewidth": 0,
            "ticks": ""
           }
          },
          "colorscale": {
           "diverging": [
            [
             0,
             "#8e0152"
            ],
            [
             0.1,
             "#c51b7d"
            ],
            [
             0.2,
             "#de77ae"
            ],
            [
             0.3,
             "#f1b6da"
            ],
            [
             0.4,
             "#fde0ef"
            ],
            [
             0.5,
             "#f7f7f7"
            ],
            [
             0.6,
             "#e6f5d0"
            ],
            [
             0.7,
             "#b8e186"
            ],
            [
             0.8,
             "#7fbc41"
            ],
            [
             0.9,
             "#4d9221"
            ],
            [
             1,
             "#276419"
            ]
           ],
           "sequential": [
            [
             0,
             "#0d0887"
            ],
            [
             0.1111111111111111,
             "#46039f"
            ],
            [
             0.2222222222222222,
             "#7201a8"
            ],
            [
             0.3333333333333333,
             "#9c179e"
            ],
            [
             0.4444444444444444,
             "#bd3786"
            ],
            [
             0.5555555555555556,
             "#d8576b"
            ],
            [
             0.6666666666666666,
             "#ed7953"
            ],
            [
             0.7777777777777778,
             "#fb9f3a"
            ],
            [
             0.8888888888888888,
             "#fdca26"
            ],
            [
             1,
             "#f0f921"
            ]
           ],
           "sequentialminus": [
            [
             0,
             "#0d0887"
            ],
            [
             0.1111111111111111,
             "#46039f"
            ],
            [
             0.2222222222222222,
             "#7201a8"
            ],
            [
             0.3333333333333333,
             "#9c179e"
            ],
            [
             0.4444444444444444,
             "#bd3786"
            ],
            [
             0.5555555555555556,
             "#d8576b"
            ],
            [
             0.6666666666666666,
             "#ed7953"
            ],
            [
             0.7777777777777778,
             "#fb9f3a"
            ],
            [
             0.8888888888888888,
             "#fdca26"
            ],
            [
             1,
             "#f0f921"
            ]
           ]
          },
          "colorway": [
           "#636efa",
           "#EF553B",
           "#00cc96",
           "#ab63fa",
           "#FFA15A",
           "#19d3f3",
           "#FF6692",
           "#B6E880",
           "#FF97FF",
           "#FECB52"
          ],
          "font": {
           "color": "#2a3f5f"
          },
          "geo": {
           "bgcolor": "white",
           "lakecolor": "white",
           "landcolor": "#E5ECF6",
           "showlakes": true,
           "showland": true,
           "subunitcolor": "white"
          },
          "hoverlabel": {
           "align": "left"
          },
          "hovermode": "closest",
          "mapbox": {
           "style": "light"
          },
          "paper_bgcolor": "white",
          "plot_bgcolor": "#E5ECF6",
          "polar": {
           "angularaxis": {
            "gridcolor": "white",
            "linecolor": "white",
            "ticks": ""
           },
           "bgcolor": "#E5ECF6",
           "radialaxis": {
            "gridcolor": "white",
            "linecolor": "white",
            "ticks": ""
           }
          },
          "scene": {
           "xaxis": {
            "backgroundcolor": "#E5ECF6",
            "gridcolor": "white",
            "gridwidth": 2,
            "linecolor": "white",
            "showbackground": true,
            "ticks": "",
            "zerolinecolor": "white"
           },
           "yaxis": {
            "backgroundcolor": "#E5ECF6",
            "gridcolor": "white",
            "gridwidth": 2,
            "linecolor": "white",
            "showbackground": true,
            "ticks": "",
            "zerolinecolor": "white"
           },
           "zaxis": {
            "backgroundcolor": "#E5ECF6",
            "gridcolor": "white",
            "gridwidth": 2,
            "linecolor": "white",
            "showbackground": true,
            "ticks": "",
            "zerolinecolor": "white"
           }
          },
          "shapedefaults": {
           "line": {
            "color": "#2a3f5f"
           }
          },
          "ternary": {
           "aaxis": {
            "gridcolor": "white",
            "linecolor": "white",
            "ticks": ""
           },
           "baxis": {
            "gridcolor": "white",
            "linecolor": "white",
            "ticks": ""
           },
           "bgcolor": "#E5ECF6",
           "caxis": {
            "gridcolor": "white",
            "linecolor": "white",
            "ticks": ""
           }
          },
          "title": {
           "x": 0.05
          },
          "xaxis": {
           "automargin": true,
           "gridcolor": "white",
           "linecolor": "white",
           "ticks": "",
           "title": {
            "standoff": 15
           },
           "zerolinecolor": "white",
           "zerolinewidth": 2
          },
          "yaxis": {
           "automargin": true,
           "gridcolor": "white",
           "linecolor": "white",
           "ticks": "",
           "title": {
            "standoff": 15
           },
           "zerolinecolor": "white",
           "zerolinewidth": 2
          }
         }
        },
        "title": {
         "text": "Top 120 by Selected and Followers"
        },
        "xaxis": {
         "anchor": "y",
         "domain": [
          0,
          1
         ],
         "title": {
          "text": "Selected"
         },
         "type": "log"
        },
        "yaxis": {
         "anchor": "x",
         "domain": [
          0,
          1
         ],
         "title": {
          "text": "Followers"
         },
         "type": "log"
        }
       }
      }
     },
     "metadata": {},
     "output_type": "display_data"
    }
   ],
   "source": [
    "fig3 = px.scatter(result_vis, x='Selected', y='Followers', color='N', log_x=True, log_y=True, hover_data=['Title','Selected','Followers'], title='Top 120 by Selected and Followers')\n",
    "fig3.show()"
   ]
  },
  {
   "cell_type": "code",
   "execution_count": 234,
   "metadata": {},
   "outputs": [
    {
     "data": {
      "application/vnd.plotly.v1+json": {
       "config": {
        "plotlyServerURL": "https://plot.ly"
       },
       "data": [
        {
         "alignmentgroup": "True",
         "bingroup": "x",
         "hovertemplate": "Dur_Shrink=%{x}<br>count=%{y}<extra></extra>",
         "legendgroup": "",
         "marker": {
          "color": "#636efa",
          "pattern": {
           "shape": ""
          }
         },
         "name": "",
         "nbinsx": 50,
         "offsetgroup": "",
         "orientation": "v",
         "showlegend": false,
         "type": "histogram",
         "x": [
          19,
          27,
          48,
          214,
          18,
          34,
          156,
          96,
          154,
          34,
          81,
          16,
          143,
          25,
          48,
          15,
          78,
          34,
          21,
          357,
          208,
          66,
          116,
          35,
          18,
          25,
          49,
          12,
          286,
          393,
          77,
          53,
          33,
          18,
          31,
          500,
          183,
          54,
          81,
          40,
          40,
          34,
          17,
          373,
          412,
          86,
          125,
          39,
          27,
          24,
          26,
          10,
          190,
          150,
          120,
          57,
          48,
          39,
          47,
          25,
          29,
          22,
          17,
          500,
          500,
          500,
          328,
          403,
          195,
          186,
          216,
          263,
          257,
          127,
          112,
          128,
          344,
          103,
          74,
          33,
          48,
          42,
          28,
          16,
          14,
          500,
          500,
          437,
          276,
          466,
          163,
          144,
          171,
          219,
          109,
          228,
          98,
          107,
          106,
          140,
          61,
          67,
          77,
          86,
          38,
          40,
          39,
          40,
          18,
          13,
          500,
          500,
          500,
          500,
          500,
          500,
          264,
          160,
          183,
          92
         ],
         "xaxis": "x",
         "yaxis": "y"
        }
       ],
       "layout": {
        "barmode": "relative",
        "legend": {
         "tracegroupgap": 0
        },
        "template": {
         "data": {
          "bar": [
           {
            "error_x": {
             "color": "#2a3f5f"
            },
            "error_y": {
             "color": "#2a3f5f"
            },
            "marker": {
             "line": {
              "color": "#E5ECF6",
              "width": 0.5
             },
             "pattern": {
              "fillmode": "overlay",
              "size": 10,
              "solidity": 0.2
             }
            },
            "type": "bar"
           }
          ],
          "barpolar": [
           {
            "marker": {
             "line": {
              "color": "#E5ECF6",
              "width": 0.5
             },
             "pattern": {
              "fillmode": "overlay",
              "size": 10,
              "solidity": 0.2
             }
            },
            "type": "barpolar"
           }
          ],
          "carpet": [
           {
            "aaxis": {
             "endlinecolor": "#2a3f5f",
             "gridcolor": "white",
             "linecolor": "white",
             "minorgridcolor": "white",
             "startlinecolor": "#2a3f5f"
            },
            "baxis": {
             "endlinecolor": "#2a3f5f",
             "gridcolor": "white",
             "linecolor": "white",
             "minorgridcolor": "white",
             "startlinecolor": "#2a3f5f"
            },
            "type": "carpet"
           }
          ],
          "choropleth": [
           {
            "colorbar": {
             "outlinewidth": 0,
             "ticks": ""
            },
            "type": "choropleth"
           }
          ],
          "contour": [
           {
            "colorbar": {
             "outlinewidth": 0,
             "ticks": ""
            },
            "colorscale": [
             [
              0,
              "#0d0887"
             ],
             [
              0.1111111111111111,
              "#46039f"
             ],
             [
              0.2222222222222222,
              "#7201a8"
             ],
             [
              0.3333333333333333,
              "#9c179e"
             ],
             [
              0.4444444444444444,
              "#bd3786"
             ],
             [
              0.5555555555555556,
              "#d8576b"
             ],
             [
              0.6666666666666666,
              "#ed7953"
             ],
             [
              0.7777777777777778,
              "#fb9f3a"
             ],
             [
              0.8888888888888888,
              "#fdca26"
             ],
             [
              1,
              "#f0f921"
             ]
            ],
            "type": "contour"
           }
          ],
          "contourcarpet": [
           {
            "colorbar": {
             "outlinewidth": 0,
             "ticks": ""
            },
            "type": "contourcarpet"
           }
          ],
          "heatmap": [
           {
            "colorbar": {
             "outlinewidth": 0,
             "ticks": ""
            },
            "colorscale": [
             [
              0,
              "#0d0887"
             ],
             [
              0.1111111111111111,
              "#46039f"
             ],
             [
              0.2222222222222222,
              "#7201a8"
             ],
             [
              0.3333333333333333,
              "#9c179e"
             ],
             [
              0.4444444444444444,
              "#bd3786"
             ],
             [
              0.5555555555555556,
              "#d8576b"
             ],
             [
              0.6666666666666666,
              "#ed7953"
             ],
             [
              0.7777777777777778,
              "#fb9f3a"
             ],
             [
              0.8888888888888888,
              "#fdca26"
             ],
             [
              1,
              "#f0f921"
             ]
            ],
            "type": "heatmap"
           }
          ],
          "heatmapgl": [
           {
            "colorbar": {
             "outlinewidth": 0,
             "ticks": ""
            },
            "colorscale": [
             [
              0,
              "#0d0887"
             ],
             [
              0.1111111111111111,
              "#46039f"
             ],
             [
              0.2222222222222222,
              "#7201a8"
             ],
             [
              0.3333333333333333,
              "#9c179e"
             ],
             [
              0.4444444444444444,
              "#bd3786"
             ],
             [
              0.5555555555555556,
              "#d8576b"
             ],
             [
              0.6666666666666666,
              "#ed7953"
             ],
             [
              0.7777777777777778,
              "#fb9f3a"
             ],
             [
              0.8888888888888888,
              "#fdca26"
             ],
             [
              1,
              "#f0f921"
             ]
            ],
            "type": "heatmapgl"
           }
          ],
          "histogram": [
           {
            "marker": {
             "pattern": {
              "fillmode": "overlay",
              "size": 10,
              "solidity": 0.2
             }
            },
            "type": "histogram"
           }
          ],
          "histogram2d": [
           {
            "colorbar": {
             "outlinewidth": 0,
             "ticks": ""
            },
            "colorscale": [
             [
              0,
              "#0d0887"
             ],
             [
              0.1111111111111111,
              "#46039f"
             ],
             [
              0.2222222222222222,
              "#7201a8"
             ],
             [
              0.3333333333333333,
              "#9c179e"
             ],
             [
              0.4444444444444444,
              "#bd3786"
             ],
             [
              0.5555555555555556,
              "#d8576b"
             ],
             [
              0.6666666666666666,
              "#ed7953"
             ],
             [
              0.7777777777777778,
              "#fb9f3a"
             ],
             [
              0.8888888888888888,
              "#fdca26"
             ],
             [
              1,
              "#f0f921"
             ]
            ],
            "type": "histogram2d"
           }
          ],
          "histogram2dcontour": [
           {
            "colorbar": {
             "outlinewidth": 0,
             "ticks": ""
            },
            "colorscale": [
             [
              0,
              "#0d0887"
             ],
             [
              0.1111111111111111,
              "#46039f"
             ],
             [
              0.2222222222222222,
              "#7201a8"
             ],
             [
              0.3333333333333333,
              "#9c179e"
             ],
             [
              0.4444444444444444,
              "#bd3786"
             ],
             [
              0.5555555555555556,
              "#d8576b"
             ],
             [
              0.6666666666666666,
              "#ed7953"
             ],
             [
              0.7777777777777778,
              "#fb9f3a"
             ],
             [
              0.8888888888888888,
              "#fdca26"
             ],
             [
              1,
              "#f0f921"
             ]
            ],
            "type": "histogram2dcontour"
           }
          ],
          "mesh3d": [
           {
            "colorbar": {
             "outlinewidth": 0,
             "ticks": ""
            },
            "type": "mesh3d"
           }
          ],
          "parcoords": [
           {
            "line": {
             "colorbar": {
              "outlinewidth": 0,
              "ticks": ""
             }
            },
            "type": "parcoords"
           }
          ],
          "pie": [
           {
            "automargin": true,
            "type": "pie"
           }
          ],
          "scatter": [
           {
            "fillpattern": {
             "fillmode": "overlay",
             "size": 10,
             "solidity": 0.2
            },
            "type": "scatter"
           }
          ],
          "scatter3d": [
           {
            "line": {
             "colorbar": {
              "outlinewidth": 0,
              "ticks": ""
             }
            },
            "marker": {
             "colorbar": {
              "outlinewidth": 0,
              "ticks": ""
             }
            },
            "type": "scatter3d"
           }
          ],
          "scattercarpet": [
           {
            "marker": {
             "colorbar": {
              "outlinewidth": 0,
              "ticks": ""
             }
            },
            "type": "scattercarpet"
           }
          ],
          "scattergeo": [
           {
            "marker": {
             "colorbar": {
              "outlinewidth": 0,
              "ticks": ""
             }
            },
            "type": "scattergeo"
           }
          ],
          "scattergl": [
           {
            "marker": {
             "colorbar": {
              "outlinewidth": 0,
              "ticks": ""
             }
            },
            "type": "scattergl"
           }
          ],
          "scattermapbox": [
           {
            "marker": {
             "colorbar": {
              "outlinewidth": 0,
              "ticks": ""
             }
            },
            "type": "scattermapbox"
           }
          ],
          "scatterpolar": [
           {
            "marker": {
             "colorbar": {
              "outlinewidth": 0,
              "ticks": ""
             }
            },
            "type": "scatterpolar"
           }
          ],
          "scatterpolargl": [
           {
            "marker": {
             "colorbar": {
              "outlinewidth": 0,
              "ticks": ""
             }
            },
            "type": "scatterpolargl"
           }
          ],
          "scatterternary": [
           {
            "marker": {
             "colorbar": {
              "outlinewidth": 0,
              "ticks": ""
             }
            },
            "type": "scatterternary"
           }
          ],
          "surface": [
           {
            "colorbar": {
             "outlinewidth": 0,
             "ticks": ""
            },
            "colorscale": [
             [
              0,
              "#0d0887"
             ],
             [
              0.1111111111111111,
              "#46039f"
             ],
             [
              0.2222222222222222,
              "#7201a8"
             ],
             [
              0.3333333333333333,
              "#9c179e"
             ],
             [
              0.4444444444444444,
              "#bd3786"
             ],
             [
              0.5555555555555556,
              "#d8576b"
             ],
             [
              0.6666666666666666,
              "#ed7953"
             ],
             [
              0.7777777777777778,
              "#fb9f3a"
             ],
             [
              0.8888888888888888,
              "#fdca26"
             ],
             [
              1,
              "#f0f921"
             ]
            ],
            "type": "surface"
           }
          ],
          "table": [
           {
            "cells": {
             "fill": {
              "color": "#EBF0F8"
             },
             "line": {
              "color": "white"
             }
            },
            "header": {
             "fill": {
              "color": "#C8D4E3"
             },
             "line": {
              "color": "white"
             }
            },
            "type": "table"
           }
          ]
         },
         "layout": {
          "annotationdefaults": {
           "arrowcolor": "#2a3f5f",
           "arrowhead": 0,
           "arrowwidth": 1
          },
          "autotypenumbers": "strict",
          "coloraxis": {
           "colorbar": {
            "outlinewidth": 0,
            "ticks": ""
           }
          },
          "colorscale": {
           "diverging": [
            [
             0,
             "#8e0152"
            ],
            [
             0.1,
             "#c51b7d"
            ],
            [
             0.2,
             "#de77ae"
            ],
            [
             0.3,
             "#f1b6da"
            ],
            [
             0.4,
             "#fde0ef"
            ],
            [
             0.5,
             "#f7f7f7"
            ],
            [
             0.6,
             "#e6f5d0"
            ],
            [
             0.7,
             "#b8e186"
            ],
            [
             0.8,
             "#7fbc41"
            ],
            [
             0.9,
             "#4d9221"
            ],
            [
             1,
             "#276419"
            ]
           ],
           "sequential": [
            [
             0,
             "#0d0887"
            ],
            [
             0.1111111111111111,
             "#46039f"
            ],
            [
             0.2222222222222222,
             "#7201a8"
            ],
            [
             0.3333333333333333,
             "#9c179e"
            ],
            [
             0.4444444444444444,
             "#bd3786"
            ],
            [
             0.5555555555555556,
             "#d8576b"
            ],
            [
             0.6666666666666666,
             "#ed7953"
            ],
            [
             0.7777777777777778,
             "#fb9f3a"
            ],
            [
             0.8888888888888888,
             "#fdca26"
            ],
            [
             1,
             "#f0f921"
            ]
           ],
           "sequentialminus": [
            [
             0,
             "#0d0887"
            ],
            [
             0.1111111111111111,
             "#46039f"
            ],
            [
             0.2222222222222222,
             "#7201a8"
            ],
            [
             0.3333333333333333,
             "#9c179e"
            ],
            [
             0.4444444444444444,
             "#bd3786"
            ],
            [
             0.5555555555555556,
             "#d8576b"
            ],
            [
             0.6666666666666666,
             "#ed7953"
            ],
            [
             0.7777777777777778,
             "#fb9f3a"
            ],
            [
             0.8888888888888888,
             "#fdca26"
            ],
            [
             1,
             "#f0f921"
            ]
           ]
          },
          "colorway": [
           "#636efa",
           "#EF553B",
           "#00cc96",
           "#ab63fa",
           "#FFA15A",
           "#19d3f3",
           "#FF6692",
           "#B6E880",
           "#FF97FF",
           "#FECB52"
          ],
          "font": {
           "color": "#2a3f5f"
          },
          "geo": {
           "bgcolor": "white",
           "lakecolor": "white",
           "landcolor": "#E5ECF6",
           "showlakes": true,
           "showland": true,
           "subunitcolor": "white"
          },
          "hoverlabel": {
           "align": "left"
          },
          "hovermode": "closest",
          "mapbox": {
           "style": "light"
          },
          "paper_bgcolor": "white",
          "plot_bgcolor": "#E5ECF6",
          "polar": {
           "angularaxis": {
            "gridcolor": "white",
            "linecolor": "white",
            "ticks": ""
           },
           "bgcolor": "#E5ECF6",
           "radialaxis": {
            "gridcolor": "white",
            "linecolor": "white",
            "ticks": ""
           }
          },
          "scene": {
           "xaxis": {
            "backgroundcolor": "#E5ECF6",
            "gridcolor": "white",
            "gridwidth": 2,
            "linecolor": "white",
            "showbackground": true,
            "ticks": "",
            "zerolinecolor": "white"
           },
           "yaxis": {
            "backgroundcolor": "#E5ECF6",
            "gridcolor": "white",
            "gridwidth": 2,
            "linecolor": "white",
            "showbackground": true,
            "ticks": "",
            "zerolinecolor": "white"
           },
           "zaxis": {
            "backgroundcolor": "#E5ECF6",
            "gridcolor": "white",
            "gridwidth": 2,
            "linecolor": "white",
            "showbackground": true,
            "ticks": "",
            "zerolinecolor": "white"
           }
          },
          "shapedefaults": {
           "line": {
            "color": "#2a3f5f"
           }
          },
          "ternary": {
           "aaxis": {
            "gridcolor": "white",
            "linecolor": "white",
            "ticks": ""
           },
           "baxis": {
            "gridcolor": "white",
            "linecolor": "white",
            "ticks": ""
           },
           "bgcolor": "#E5ECF6",
           "caxis": {
            "gridcolor": "white",
            "linecolor": "white",
            "ticks": ""
           }
          },
          "title": {
           "x": 0.05
          },
          "xaxis": {
           "automargin": true,
           "gridcolor": "white",
           "linecolor": "white",
           "ticks": "",
           "title": {
            "standoff": 15
           },
           "zerolinecolor": "white",
           "zerolinewidth": 2
          },
          "yaxis": {
           "automargin": true,
           "gridcolor": "white",
           "linecolor": "white",
           "ticks": "",
           "title": {
            "standoff": 15
           },
           "zerolinecolor": "white",
           "zerolinewidth": 2
          }
         }
        },
        "title": {
         "text": "Top 120 Count by Duration"
        },
        "xaxis": {
         "anchor": "y",
         "domain": [
          0,
          1
         ],
         "title": {
          "text": "Dur_Shrink"
         }
        },
        "yaxis": {
         "anchor": "x",
         "domain": [
          0,
          1
         ],
         "title": {
          "text": "count"
         }
        }
       }
      }
     },
     "metadata": {},
     "output_type": "display_data"
    }
   ],
   "source": [
    "result_vis['Dur_Shrink'] = result_vis['Duration'].apply(lambda x: x if x<500 else 500)\n",
    "#display(result_vis)\n",
    "\n",
    "fig4 = px.histogram(result_vis, x='Dur_Shrink', nbins=50, title='Top 120 Count by Duration')\n",
    "fig4.show()"
   ]
  },
  {
   "cell_type": "code",
   "execution_count": 235,
   "metadata": {},
   "outputs": [
    {
     "data": {
      "application/vnd.plotly.v1+json": {
       "config": {
        "plotlyServerURL": "https://plot.ly"
       },
       "data": [
        {
         "alignmentgroup": "True",
         "hovertemplate": "Category=%{x}<br>Total_Ranking=%{y}<extra></extra>",
         "legendgroup": "",
         "marker": {
          "color": "#636efa",
          "pattern": {
           "shape": ""
          }
         },
         "name": "",
         "offsetgroup": "",
         "orientation": "v",
         "showlegend": false,
         "textposition": "auto",
         "type": "bar",
         "x": [
          "Decoration",
          "Furniture",
          "Bathroom",
          "Kitchen",
          "Other Models",
          "Materials",
          "Plants",
          "Childroom",
          "Textures",
          "Lighting",
          "Technology",
          "Architecture",
          "Scripts"
         ],
         "xaxis": "x",
         "y": [
          1809,
          1644,
          852,
          522,
          476,
          463,
          369,
          350,
          334,
          223,
          103,
          58,
          57
         ],
         "yaxis": "y"
        }
       ],
       "layout": {
        "barmode": "relative",
        "legend": {
         "tracegroupgap": 0
        },
        "template": {
         "data": {
          "bar": [
           {
            "error_x": {
             "color": "#2a3f5f"
            },
            "error_y": {
             "color": "#2a3f5f"
            },
            "marker": {
             "line": {
              "color": "#E5ECF6",
              "width": 0.5
             },
             "pattern": {
              "fillmode": "overlay",
              "size": 10,
              "solidity": 0.2
             }
            },
            "type": "bar"
           }
          ],
          "barpolar": [
           {
            "marker": {
             "line": {
              "color": "#E5ECF6",
              "width": 0.5
             },
             "pattern": {
              "fillmode": "overlay",
              "size": 10,
              "solidity": 0.2
             }
            },
            "type": "barpolar"
           }
          ],
          "carpet": [
           {
            "aaxis": {
             "endlinecolor": "#2a3f5f",
             "gridcolor": "white",
             "linecolor": "white",
             "minorgridcolor": "white",
             "startlinecolor": "#2a3f5f"
            },
            "baxis": {
             "endlinecolor": "#2a3f5f",
             "gridcolor": "white",
             "linecolor": "white",
             "minorgridcolor": "white",
             "startlinecolor": "#2a3f5f"
            },
            "type": "carpet"
           }
          ],
          "choropleth": [
           {
            "colorbar": {
             "outlinewidth": 0,
             "ticks": ""
            },
            "type": "choropleth"
           }
          ],
          "contour": [
           {
            "colorbar": {
             "outlinewidth": 0,
             "ticks": ""
            },
            "colorscale": [
             [
              0,
              "#0d0887"
             ],
             [
              0.1111111111111111,
              "#46039f"
             ],
             [
              0.2222222222222222,
              "#7201a8"
             ],
             [
              0.3333333333333333,
              "#9c179e"
             ],
             [
              0.4444444444444444,
              "#bd3786"
             ],
             [
              0.5555555555555556,
              "#d8576b"
             ],
             [
              0.6666666666666666,
              "#ed7953"
             ],
             [
              0.7777777777777778,
              "#fb9f3a"
             ],
             [
              0.8888888888888888,
              "#fdca26"
             ],
             [
              1,
              "#f0f921"
             ]
            ],
            "type": "contour"
           }
          ],
          "contourcarpet": [
           {
            "colorbar": {
             "outlinewidth": 0,
             "ticks": ""
            },
            "type": "contourcarpet"
           }
          ],
          "heatmap": [
           {
            "colorbar": {
             "outlinewidth": 0,
             "ticks": ""
            },
            "colorscale": [
             [
              0,
              "#0d0887"
             ],
             [
              0.1111111111111111,
              "#46039f"
             ],
             [
              0.2222222222222222,
              "#7201a8"
             ],
             [
              0.3333333333333333,
              "#9c179e"
             ],
             [
              0.4444444444444444,
              "#bd3786"
             ],
             [
              0.5555555555555556,
              "#d8576b"
             ],
             [
              0.6666666666666666,
              "#ed7953"
             ],
             [
              0.7777777777777778,
              "#fb9f3a"
             ],
             [
              0.8888888888888888,
              "#fdca26"
             ],
             [
              1,
              "#f0f921"
             ]
            ],
            "type": "heatmap"
           }
          ],
          "heatmapgl": [
           {
            "colorbar": {
             "outlinewidth": 0,
             "ticks": ""
            },
            "colorscale": [
             [
              0,
              "#0d0887"
             ],
             [
              0.1111111111111111,
              "#46039f"
             ],
             [
              0.2222222222222222,
              "#7201a8"
             ],
             [
              0.3333333333333333,
              "#9c179e"
             ],
             [
              0.4444444444444444,
              "#bd3786"
             ],
             [
              0.5555555555555556,
              "#d8576b"
             ],
             [
              0.6666666666666666,
              "#ed7953"
             ],
             [
              0.7777777777777778,
              "#fb9f3a"
             ],
             [
              0.8888888888888888,
              "#fdca26"
             ],
             [
              1,
              "#f0f921"
             ]
            ],
            "type": "heatmapgl"
           }
          ],
          "histogram": [
           {
            "marker": {
             "pattern": {
              "fillmode": "overlay",
              "size": 10,
              "solidity": 0.2
             }
            },
            "type": "histogram"
           }
          ],
          "histogram2d": [
           {
            "colorbar": {
             "outlinewidth": 0,
             "ticks": ""
            },
            "colorscale": [
             [
              0,
              "#0d0887"
             ],
             [
              0.1111111111111111,
              "#46039f"
             ],
             [
              0.2222222222222222,
              "#7201a8"
             ],
             [
              0.3333333333333333,
              "#9c179e"
             ],
             [
              0.4444444444444444,
              "#bd3786"
             ],
             [
              0.5555555555555556,
              "#d8576b"
             ],
             [
              0.6666666666666666,
              "#ed7953"
             ],
             [
              0.7777777777777778,
              "#fb9f3a"
             ],
             [
              0.8888888888888888,
              "#fdca26"
             ],
             [
              1,
              "#f0f921"
             ]
            ],
            "type": "histogram2d"
           }
          ],
          "histogram2dcontour": [
           {
            "colorbar": {
             "outlinewidth": 0,
             "ticks": ""
            },
            "colorscale": [
             [
              0,
              "#0d0887"
             ],
             [
              0.1111111111111111,
              "#46039f"
             ],
             [
              0.2222222222222222,
              "#7201a8"
             ],
             [
              0.3333333333333333,
              "#9c179e"
             ],
             [
              0.4444444444444444,
              "#bd3786"
             ],
             [
              0.5555555555555556,
              "#d8576b"
             ],
             [
              0.6666666666666666,
              "#ed7953"
             ],
             [
              0.7777777777777778,
              "#fb9f3a"
             ],
             [
              0.8888888888888888,
              "#fdca26"
             ],
             [
              1,
              "#f0f921"
             ]
            ],
            "type": "histogram2dcontour"
           }
          ],
          "mesh3d": [
           {
            "colorbar": {
             "outlinewidth": 0,
             "ticks": ""
            },
            "type": "mesh3d"
           }
          ],
          "parcoords": [
           {
            "line": {
             "colorbar": {
              "outlinewidth": 0,
              "ticks": ""
             }
            },
            "type": "parcoords"
           }
          ],
          "pie": [
           {
            "automargin": true,
            "type": "pie"
           }
          ],
          "scatter": [
           {
            "fillpattern": {
             "fillmode": "overlay",
             "size": 10,
             "solidity": 0.2
            },
            "type": "scatter"
           }
          ],
          "scatter3d": [
           {
            "line": {
             "colorbar": {
              "outlinewidth": 0,
              "ticks": ""
             }
            },
            "marker": {
             "colorbar": {
              "outlinewidth": 0,
              "ticks": ""
             }
            },
            "type": "scatter3d"
           }
          ],
          "scattercarpet": [
           {
            "marker": {
             "colorbar": {
              "outlinewidth": 0,
              "ticks": ""
             }
            },
            "type": "scattercarpet"
           }
          ],
          "scattergeo": [
           {
            "marker": {
             "colorbar": {
              "outlinewidth": 0,
              "ticks": ""
             }
            },
            "type": "scattergeo"
           }
          ],
          "scattergl": [
           {
            "marker": {
             "colorbar": {
              "outlinewidth": 0,
              "ticks": ""
             }
            },
            "type": "scattergl"
           }
          ],
          "scattermapbox": [
           {
            "marker": {
             "colorbar": {
              "outlinewidth": 0,
              "ticks": ""
             }
            },
            "type": "scattermapbox"
           }
          ],
          "scatterpolar": [
           {
            "marker": {
             "colorbar": {
              "outlinewidth": 0,
              "ticks": ""
             }
            },
            "type": "scatterpolar"
           }
          ],
          "scatterpolargl": [
           {
            "marker": {
             "colorbar": {
              "outlinewidth": 0,
              "ticks": ""
             }
            },
            "type": "scatterpolargl"
           }
          ],
          "scatterternary": [
           {
            "marker": {
             "colorbar": {
              "outlinewidth": 0,
              "ticks": ""
             }
            },
            "type": "scatterternary"
           }
          ],
          "surface": [
           {
            "colorbar": {
             "outlinewidth": 0,
             "ticks": ""
            },
            "colorscale": [
             [
              0,
              "#0d0887"
             ],
             [
              0.1111111111111111,
              "#46039f"
             ],
             [
              0.2222222222222222,
              "#7201a8"
             ],
             [
              0.3333333333333333,
              "#9c179e"
             ],
             [
              0.4444444444444444,
              "#bd3786"
             ],
             [
              0.5555555555555556,
              "#d8576b"
             ],
             [
              0.6666666666666666,
              "#ed7953"
             ],
             [
              0.7777777777777778,
              "#fb9f3a"
             ],
             [
              0.8888888888888888,
              "#fdca26"
             ],
             [
              1,
              "#f0f921"
             ]
            ],
            "type": "surface"
           }
          ],
          "table": [
           {
            "cells": {
             "fill": {
              "color": "#EBF0F8"
             },
             "line": {
              "color": "white"
             }
            },
            "header": {
             "fill": {
              "color": "#C8D4E3"
             },
             "line": {
              "color": "white"
             }
            },
            "type": "table"
           }
          ]
         },
         "layout": {
          "annotationdefaults": {
           "arrowcolor": "#2a3f5f",
           "arrowhead": 0,
           "arrowwidth": 1
          },
          "autotypenumbers": "strict",
          "coloraxis": {
           "colorbar": {
            "outlinewidth": 0,
            "ticks": ""
           }
          },
          "colorscale": {
           "diverging": [
            [
             0,
             "#8e0152"
            ],
            [
             0.1,
             "#c51b7d"
            ],
            [
             0.2,
             "#de77ae"
            ],
            [
             0.3,
             "#f1b6da"
            ],
            [
             0.4,
             "#fde0ef"
            ],
            [
             0.5,
             "#f7f7f7"
            ],
            [
             0.6,
             "#e6f5d0"
            ],
            [
             0.7,
             "#b8e186"
            ],
            [
             0.8,
             "#7fbc41"
            ],
            [
             0.9,
             "#4d9221"
            ],
            [
             1,
             "#276419"
            ]
           ],
           "sequential": [
            [
             0,
             "#0d0887"
            ],
            [
             0.1111111111111111,
             "#46039f"
            ],
            [
             0.2222222222222222,
             "#7201a8"
            ],
            [
             0.3333333333333333,
             "#9c179e"
            ],
            [
             0.4444444444444444,
             "#bd3786"
            ],
            [
             0.5555555555555556,
             "#d8576b"
            ],
            [
             0.6666666666666666,
             "#ed7953"
            ],
            [
             0.7777777777777778,
             "#fb9f3a"
            ],
            [
             0.8888888888888888,
             "#fdca26"
            ],
            [
             1,
             "#f0f921"
            ]
           ],
           "sequentialminus": [
            [
             0,
             "#0d0887"
            ],
            [
             0.1111111111111111,
             "#46039f"
            ],
            [
             0.2222222222222222,
             "#7201a8"
            ],
            [
             0.3333333333333333,
             "#9c179e"
            ],
            [
             0.4444444444444444,
             "#bd3786"
            ],
            [
             0.5555555555555556,
             "#d8576b"
            ],
            [
             0.6666666666666666,
             "#ed7953"
            ],
            [
             0.7777777777777778,
             "#fb9f3a"
            ],
            [
             0.8888888888888888,
             "#fdca26"
            ],
            [
             1,
             "#f0f921"
            ]
           ]
          },
          "colorway": [
           "#636efa",
           "#EF553B",
           "#00cc96",
           "#ab63fa",
           "#FFA15A",
           "#19d3f3",
           "#FF6692",
           "#B6E880",
           "#FF97FF",
           "#FECB52"
          ],
          "font": {
           "color": "#2a3f5f"
          },
          "geo": {
           "bgcolor": "white",
           "lakecolor": "white",
           "landcolor": "#E5ECF6",
           "showlakes": true,
           "showland": true,
           "subunitcolor": "white"
          },
          "hoverlabel": {
           "align": "left"
          },
          "hovermode": "closest",
          "mapbox": {
           "style": "light"
          },
          "paper_bgcolor": "white",
          "plot_bgcolor": "#E5ECF6",
          "polar": {
           "angularaxis": {
            "gridcolor": "white",
            "linecolor": "white",
            "ticks": ""
           },
           "bgcolor": "#E5ECF6",
           "radialaxis": {
            "gridcolor": "white",
            "linecolor": "white",
            "ticks": ""
           }
          },
          "scene": {
           "xaxis": {
            "backgroundcolor": "#E5ECF6",
            "gridcolor": "white",
            "gridwidth": 2,
            "linecolor": "white",
            "showbackground": true,
            "ticks": "",
            "zerolinecolor": "white"
           },
           "yaxis": {
            "backgroundcolor": "#E5ECF6",
            "gridcolor": "white",
            "gridwidth": 2,
            "linecolor": "white",
            "showbackground": true,
            "ticks": "",
            "zerolinecolor": "white"
           },
           "zaxis": {
            "backgroundcolor": "#E5ECF6",
            "gridcolor": "white",
            "gridwidth": 2,
            "linecolor": "white",
            "showbackground": true,
            "ticks": "",
            "zerolinecolor": "white"
           }
          },
          "shapedefaults": {
           "line": {
            "color": "#2a3f5f"
           }
          },
          "ternary": {
           "aaxis": {
            "gridcolor": "white",
            "linecolor": "white",
            "ticks": ""
           },
           "baxis": {
            "gridcolor": "white",
            "linecolor": "white",
            "ticks": ""
           },
           "bgcolor": "#E5ECF6",
           "caxis": {
            "gridcolor": "white",
            "linecolor": "white",
            "ticks": ""
           }
          },
          "title": {
           "x": 0.05
          },
          "xaxis": {
           "automargin": true,
           "gridcolor": "white",
           "linecolor": "white",
           "ticks": "",
           "title": {
            "standoff": 15
           },
           "zerolinecolor": "white",
           "zerolinewidth": 2
          },
          "yaxis": {
           "automargin": true,
           "gridcolor": "white",
           "linecolor": "white",
           "ticks": "",
           "title": {
            "standoff": 15
           },
           "zerolinecolor": "white",
           "zerolinewidth": 2
          }
         }
        },
        "title": {
         "text": "Top 120 total Rank by Category"
        },
        "xaxis": {
         "anchor": "y",
         "domain": [
          0,
          1
         ],
         "title": {
          "text": "Category"
         }
        },
        "yaxis": {
         "anchor": "x",
         "domain": [
          0,
          1
         ],
         "title": {
          "text": "Total_Ranking"
         }
        }
       }
      }
     },
     "metadata": {},
     "output_type": "display_data"
    }
   ],
   "source": [
    "result_vis['Ranking'] = 121 - result_vis['N']\n",
    "\n",
    "result_grouped_cat_ranking = result_vis.groupby(by=['Category'], as_index=False)['Ranking'].sum()\n",
    "result_grouped_cat_ranking.columns = ['Category', 'Total_Ranking']\n",
    "result_grouped_sort_ranking = result_grouped_cat_ranking.sort_values(by='Total_Ranking', ascending=False) # type: ignore\n",
    "\n",
    "fig5 = px.bar(result_grouped_sort_ranking, x='Category', y='Total_Ranking', title='Top 120 total Rank by Category')\n",
    "fig5.show()"
   ]
  },
  {
   "cell_type": "code",
   "execution_count": 236,
   "metadata": {},
   "outputs": [
    {
     "data": {
      "application/vnd.plotly.v1+json": {
       "config": {
        "plotlyServerURL": "https://plot.ly"
       },
       "data": [
        {
         "alignmentgroup": "True",
         "hovertemplate": "Category=%{x}<br>Ranking=%{y}<extra></extra>",
         "legendgroup": "Decoration",
         "marker": {
          "color": "#636efa"
         },
         "name": "Decoration",
         "notched": false,
         "offsetgroup": "Decoration",
         "orientation": "v",
         "showlegend": true,
         "type": "box",
         "x": [
          "Decoration",
          "Decoration",
          "Decoration",
          "Decoration",
          "Decoration",
          "Decoration",
          "Decoration",
          "Decoration",
          "Decoration",
          "Decoration",
          "Decoration",
          "Decoration",
          "Decoration",
          "Decoration",
          "Decoration",
          "Decoration",
          "Decoration",
          "Decoration",
          "Decoration",
          "Decoration",
          "Decoration",
          "Decoration",
          "Decoration",
          "Decoration",
          "Decoration",
          "Decoration",
          "Decoration"
         ],
         "x0": " ",
         "xaxis": "x",
         "y": [
          120,
          119,
          116,
          114,
          113,
          111,
          106,
          105,
          97,
          96,
          85,
          77,
          73,
          72,
          69,
          52,
          50,
          44,
          41,
          36,
          34,
          22,
          18,
          13,
          12,
          11,
          3
         ],
         "y0": " ",
         "yaxis": "y"
        },
        {
         "alignmentgroup": "True",
         "hovertemplate": "Category=%{x}<br>Ranking=%{y}<extra></extra>",
         "legendgroup": "Furniture",
         "marker": {
          "color": "#EF553B"
         },
         "name": "Furniture",
         "notched": false,
         "offsetgroup": "Furniture",
         "orientation": "v",
         "showlegend": true,
         "type": "box",
         "x": [
          "Furniture",
          "Furniture",
          "Furniture",
          "Furniture",
          "Furniture",
          "Furniture",
          "Furniture",
          "Furniture",
          "Furniture",
          "Furniture",
          "Furniture",
          "Furniture",
          "Furniture",
          "Furniture",
          "Furniture",
          "Furniture",
          "Furniture",
          "Furniture",
          "Furniture",
          "Furniture",
          "Furniture",
          "Furniture",
          "Furniture",
          "Furniture",
          "Furniture",
          "Furniture"
         ],
         "x0": " ",
         "xaxis": "x",
         "y": [
          118,
          109,
          107,
          101,
          100,
          95,
          93,
          89,
          87,
          80,
          79,
          71,
          64,
          60,
          47,
          46,
          43,
          40,
          39,
          38,
          30,
          29,
          25,
          21,
          17,
          16
         ],
         "y0": " ",
         "yaxis": "y"
        },
        {
         "alignmentgroup": "True",
         "hovertemplate": "Category=%{x}<br>Ranking=%{y}<extra></extra>",
         "legendgroup": "Plants",
         "marker": {
          "color": "#00cc96"
         },
         "name": "Plants",
         "notched": false,
         "offsetgroup": "Plants",
         "orientation": "v",
         "showlegend": true,
         "type": "box",
         "x": [
          "Plants",
          "Plants",
          "Plants",
          "Plants",
          "Plants",
          "Plants"
         ],
         "x0": " ",
         "xaxis": "x",
         "y": [
          117,
          75,
          63,
          59,
          48,
          7
         ],
         "y0": " ",
         "yaxis": "y"
        },
        {
         "alignmentgroup": "True",
         "hovertemplate": "Category=%{x}<br>Ranking=%{y}<extra></extra>",
         "legendgroup": "Materials",
         "marker": {
          "color": "#ab63fa"
         },
         "name": "Materials",
         "notched": false,
         "offsetgroup": "Materials",
         "orientation": "v",
         "showlegend": true,
         "type": "box",
         "x": [
          "Materials",
          "Materials",
          "Materials",
          "Materials",
          "Materials",
          "Materials"
         ],
         "x0": " ",
         "xaxis": "x",
         "y": [
          115,
          110,
          102,
          90,
          26,
          20
         ],
         "y0": " ",
         "yaxis": "y"
        },
        {
         "alignmentgroup": "True",
         "hovertemplate": "Category=%{x}<br>Ranking=%{y}<extra></extra>",
         "legendgroup": "Kitchen",
         "marker": {
          "color": "#FFA15A"
         },
         "name": "Kitchen",
         "notched": false,
         "offsetgroup": "Kitchen",
         "orientation": "v",
         "showlegend": true,
         "type": "box",
         "x": [
          "Kitchen",
          "Kitchen",
          "Kitchen",
          "Kitchen",
          "Kitchen",
          "Kitchen",
          "Kitchen",
          "Kitchen",
          "Kitchen"
         ],
         "x0": " ",
         "xaxis": "x",
         "y": [
          112,
          83,
          76,
          66,
          61,
          42,
          37,
          31,
          14
         ],
         "y0": " ",
         "yaxis": "y"
        },
        {
         "alignmentgroup": "True",
         "hovertemplate": "Category=%{x}<br>Ranking=%{y}<extra></extra>",
         "legendgroup": "Bathroom",
         "marker": {
          "color": "#19d3f3"
         },
         "name": "Bathroom",
         "notched": false,
         "offsetgroup": "Bathroom",
         "orientation": "v",
         "showlegend": true,
         "type": "box",
         "x": [
          "Bathroom",
          "Bathroom",
          "Bathroom",
          "Bathroom",
          "Bathroom",
          "Bathroom",
          "Bathroom",
          "Bathroom",
          "Bathroom",
          "Bathroom",
          "Bathroom",
          "Bathroom",
          "Bathroom",
          "Bathroom",
          "Bathroom"
         ],
         "x0": " ",
         "xaxis": "x",
         "y": [
          108,
          104,
          98,
          94,
          82,
          78,
          74,
          65,
          51,
          35,
          27,
          15,
          10,
          9,
          2
         ],
         "y0": " ",
         "yaxis": "y"
        },
        {
         "alignmentgroup": "True",
         "hovertemplate": "Category=%{x}<br>Ranking=%{y}<extra></extra>",
         "legendgroup": "Other Models",
         "marker": {
          "color": "#FF6692"
         },
         "name": "Other Models",
         "notched": false,
         "offsetgroup": "Other Models",
         "orientation": "v",
         "showlegend": true,
         "type": "box",
         "x": [
          "Other Models",
          "Other Models",
          "Other Models",
          "Other Models",
          "Other Models",
          "Other Models",
          "Other Models",
          "Other Models",
          "Other Models",
          "Other Models",
          "Other Models",
          "Other Models"
         ],
         "x0": " ",
         "xaxis": "x",
         "y": [
          103,
          91,
          67,
          56,
          55,
          33,
          28,
          24,
          8,
          6,
          4,
          1
         ],
         "y0": " ",
         "yaxis": "y"
        },
        {
         "alignmentgroup": "True",
         "hovertemplate": "Category=%{x}<br>Ranking=%{y}<extra></extra>",
         "legendgroup": "Textures",
         "marker": {
          "color": "#B6E880"
         },
         "name": "Textures",
         "notched": false,
         "offsetgroup": "Textures",
         "orientation": "v",
         "showlegend": true,
         "type": "box",
         "x": [
          "Textures",
          "Textures",
          "Textures",
          "Textures",
          "Textures"
         ],
         "x0": " ",
         "xaxis": "x",
         "y": [
          99,
          81,
          68,
          54,
          32
         ],
         "y0": " ",
         "yaxis": "y"
        },
        {
         "alignmentgroup": "True",
         "hovertemplate": "Category=%{x}<br>Ranking=%{y}<extra></extra>",
         "legendgroup": "Childroom",
         "marker": {
          "color": "#FF97FF"
         },
         "name": "Childroom",
         "notched": false,
         "offsetgroup": "Childroom",
         "orientation": "v",
         "showlegend": true,
         "type": "box",
         "x": [
          "Childroom",
          "Childroom",
          "Childroom",
          "Childroom",
          "Childroom",
          "Childroom"
         ],
         "x0": " ",
         "xaxis": "x",
         "y": [
          92,
          70,
          62,
          58,
          45,
          23
         ],
         "y0": " ",
         "yaxis": "y"
        },
        {
         "alignmentgroup": "True",
         "hovertemplate": "Category=%{x}<br>Ranking=%{y}<extra></extra>",
         "legendgroup": "Lighting",
         "marker": {
          "color": "#FECB52"
         },
         "name": "Lighting",
         "notched": false,
         "offsetgroup": "Lighting",
         "orientation": "v",
         "showlegend": true,
         "type": "box",
         "x": [
          "Lighting",
          "Lighting",
          "Lighting"
         ],
         "x0": " ",
         "xaxis": "x",
         "y": [
          88,
          86,
          49
         ],
         "y0": " ",
         "yaxis": "y"
        },
        {
         "alignmentgroup": "True",
         "hovertemplate": "Category=%{x}<br>Ranking=%{y}<extra></extra>",
         "legendgroup": "Technology",
         "marker": {
          "color": "#636efa"
         },
         "name": "Technology",
         "notched": false,
         "offsetgroup": "Technology",
         "orientation": "v",
         "showlegend": true,
         "type": "box",
         "x": [
          "Technology",
          "Technology"
         ],
         "x0": " ",
         "xaxis": "x",
         "y": [
          84,
          19
         ],
         "y0": " ",
         "yaxis": "y"
        },
        {
         "alignmentgroup": "True",
         "hovertemplate": "Category=%{x}<br>Ranking=%{y}<extra></extra>",
         "legendgroup": "Scripts",
         "marker": {
          "color": "#EF553B"
         },
         "name": "Scripts",
         "notched": false,
         "offsetgroup": "Scripts",
         "orientation": "v",
         "showlegend": true,
         "type": "box",
         "x": [
          "Scripts"
         ],
         "x0": " ",
         "xaxis": "x",
         "y": [
          57
         ],
         "y0": " ",
         "yaxis": "y"
        },
        {
         "alignmentgroup": "True",
         "hovertemplate": "Category=%{x}<br>Ranking=%{y}<extra></extra>",
         "legendgroup": "Architecture",
         "marker": {
          "color": "#00cc96"
         },
         "name": "Architecture",
         "notched": false,
         "offsetgroup": "Architecture",
         "orientation": "v",
         "showlegend": true,
         "type": "box",
         "x": [
          "Architecture",
          "Architecture"
         ],
         "x0": " ",
         "xaxis": "x",
         "y": [
          53,
          5
         ],
         "y0": " ",
         "yaxis": "y"
        }
       ],
       "layout": {
        "boxmode": "overlay",
        "legend": {
         "title": {
          "text": "Category"
         },
         "tracegroupgap": 0
        },
        "template": {
         "data": {
          "bar": [
           {
            "error_x": {
             "color": "#2a3f5f"
            },
            "error_y": {
             "color": "#2a3f5f"
            },
            "marker": {
             "line": {
              "color": "#E5ECF6",
              "width": 0.5
             },
             "pattern": {
              "fillmode": "overlay",
              "size": 10,
              "solidity": 0.2
             }
            },
            "type": "bar"
           }
          ],
          "barpolar": [
           {
            "marker": {
             "line": {
              "color": "#E5ECF6",
              "width": 0.5
             },
             "pattern": {
              "fillmode": "overlay",
              "size": 10,
              "solidity": 0.2
             }
            },
            "type": "barpolar"
           }
          ],
          "carpet": [
           {
            "aaxis": {
             "endlinecolor": "#2a3f5f",
             "gridcolor": "white",
             "linecolor": "white",
             "minorgridcolor": "white",
             "startlinecolor": "#2a3f5f"
            },
            "baxis": {
             "endlinecolor": "#2a3f5f",
             "gridcolor": "white",
             "linecolor": "white",
             "minorgridcolor": "white",
             "startlinecolor": "#2a3f5f"
            },
            "type": "carpet"
           }
          ],
          "choropleth": [
           {
            "colorbar": {
             "outlinewidth": 0,
             "ticks": ""
            },
            "type": "choropleth"
           }
          ],
          "contour": [
           {
            "colorbar": {
             "outlinewidth": 0,
             "ticks": ""
            },
            "colorscale": [
             [
              0,
              "#0d0887"
             ],
             [
              0.1111111111111111,
              "#46039f"
             ],
             [
              0.2222222222222222,
              "#7201a8"
             ],
             [
              0.3333333333333333,
              "#9c179e"
             ],
             [
              0.4444444444444444,
              "#bd3786"
             ],
             [
              0.5555555555555556,
              "#d8576b"
             ],
             [
              0.6666666666666666,
              "#ed7953"
             ],
             [
              0.7777777777777778,
              "#fb9f3a"
             ],
             [
              0.8888888888888888,
              "#fdca26"
             ],
             [
              1,
              "#f0f921"
             ]
            ],
            "type": "contour"
           }
          ],
          "contourcarpet": [
           {
            "colorbar": {
             "outlinewidth": 0,
             "ticks": ""
            },
            "type": "contourcarpet"
           }
          ],
          "heatmap": [
           {
            "colorbar": {
             "outlinewidth": 0,
             "ticks": ""
            },
            "colorscale": [
             [
              0,
              "#0d0887"
             ],
             [
              0.1111111111111111,
              "#46039f"
             ],
             [
              0.2222222222222222,
              "#7201a8"
             ],
             [
              0.3333333333333333,
              "#9c179e"
             ],
             [
              0.4444444444444444,
              "#bd3786"
             ],
             [
              0.5555555555555556,
              "#d8576b"
             ],
             [
              0.6666666666666666,
              "#ed7953"
             ],
             [
              0.7777777777777778,
              "#fb9f3a"
             ],
             [
              0.8888888888888888,
              "#fdca26"
             ],
             [
              1,
              "#f0f921"
             ]
            ],
            "type": "heatmap"
           }
          ],
          "heatmapgl": [
           {
            "colorbar": {
             "outlinewidth": 0,
             "ticks": ""
            },
            "colorscale": [
             [
              0,
              "#0d0887"
             ],
             [
              0.1111111111111111,
              "#46039f"
             ],
             [
              0.2222222222222222,
              "#7201a8"
             ],
             [
              0.3333333333333333,
              "#9c179e"
             ],
             [
              0.4444444444444444,
              "#bd3786"
             ],
             [
              0.5555555555555556,
              "#d8576b"
             ],
             [
              0.6666666666666666,
              "#ed7953"
             ],
             [
              0.7777777777777778,
              "#fb9f3a"
             ],
             [
              0.8888888888888888,
              "#fdca26"
             ],
             [
              1,
              "#f0f921"
             ]
            ],
            "type": "heatmapgl"
           }
          ],
          "histogram": [
           {
            "marker": {
             "pattern": {
              "fillmode": "overlay",
              "size": 10,
              "solidity": 0.2
             }
            },
            "type": "histogram"
           }
          ],
          "histogram2d": [
           {
            "colorbar": {
             "outlinewidth": 0,
             "ticks": ""
            },
            "colorscale": [
             [
              0,
              "#0d0887"
             ],
             [
              0.1111111111111111,
              "#46039f"
             ],
             [
              0.2222222222222222,
              "#7201a8"
             ],
             [
              0.3333333333333333,
              "#9c179e"
             ],
             [
              0.4444444444444444,
              "#bd3786"
             ],
             [
              0.5555555555555556,
              "#d8576b"
             ],
             [
              0.6666666666666666,
              "#ed7953"
             ],
             [
              0.7777777777777778,
              "#fb9f3a"
             ],
             [
              0.8888888888888888,
              "#fdca26"
             ],
             [
              1,
              "#f0f921"
             ]
            ],
            "type": "histogram2d"
           }
          ],
          "histogram2dcontour": [
           {
            "colorbar": {
             "outlinewidth": 0,
             "ticks": ""
            },
            "colorscale": [
             [
              0,
              "#0d0887"
             ],
             [
              0.1111111111111111,
              "#46039f"
             ],
             [
              0.2222222222222222,
              "#7201a8"
             ],
             [
              0.3333333333333333,
              "#9c179e"
             ],
             [
              0.4444444444444444,
              "#bd3786"
             ],
             [
              0.5555555555555556,
              "#d8576b"
             ],
             [
              0.6666666666666666,
              "#ed7953"
             ],
             [
              0.7777777777777778,
              "#fb9f3a"
             ],
             [
              0.8888888888888888,
              "#fdca26"
             ],
             [
              1,
              "#f0f921"
             ]
            ],
            "type": "histogram2dcontour"
           }
          ],
          "mesh3d": [
           {
            "colorbar": {
             "outlinewidth": 0,
             "ticks": ""
            },
            "type": "mesh3d"
           }
          ],
          "parcoords": [
           {
            "line": {
             "colorbar": {
              "outlinewidth": 0,
              "ticks": ""
             }
            },
            "type": "parcoords"
           }
          ],
          "pie": [
           {
            "automargin": true,
            "type": "pie"
           }
          ],
          "scatter": [
           {
            "fillpattern": {
             "fillmode": "overlay",
             "size": 10,
             "solidity": 0.2
            },
            "type": "scatter"
           }
          ],
          "scatter3d": [
           {
            "line": {
             "colorbar": {
              "outlinewidth": 0,
              "ticks": ""
             }
            },
            "marker": {
             "colorbar": {
              "outlinewidth": 0,
              "ticks": ""
             }
            },
            "type": "scatter3d"
           }
          ],
          "scattercarpet": [
           {
            "marker": {
             "colorbar": {
              "outlinewidth": 0,
              "ticks": ""
             }
            },
            "type": "scattercarpet"
           }
          ],
          "scattergeo": [
           {
            "marker": {
             "colorbar": {
              "outlinewidth": 0,
              "ticks": ""
             }
            },
            "type": "scattergeo"
           }
          ],
          "scattergl": [
           {
            "marker": {
             "colorbar": {
              "outlinewidth": 0,
              "ticks": ""
             }
            },
            "type": "scattergl"
           }
          ],
          "scattermapbox": [
           {
            "marker": {
             "colorbar": {
              "outlinewidth": 0,
              "ticks": ""
             }
            },
            "type": "scattermapbox"
           }
          ],
          "scatterpolar": [
           {
            "marker": {
             "colorbar": {
              "outlinewidth": 0,
              "ticks": ""
             }
            },
            "type": "scatterpolar"
           }
          ],
          "scatterpolargl": [
           {
            "marker": {
             "colorbar": {
              "outlinewidth": 0,
              "ticks": ""
             }
            },
            "type": "scatterpolargl"
           }
          ],
          "scatterternary": [
           {
            "marker": {
             "colorbar": {
              "outlinewidth": 0,
              "ticks": ""
             }
            },
            "type": "scatterternary"
           }
          ],
          "surface": [
           {
            "colorbar": {
             "outlinewidth": 0,
             "ticks": ""
            },
            "colorscale": [
             [
              0,
              "#0d0887"
             ],
             [
              0.1111111111111111,
              "#46039f"
             ],
             [
              0.2222222222222222,
              "#7201a8"
             ],
             [
              0.3333333333333333,
              "#9c179e"
             ],
             [
              0.4444444444444444,
              "#bd3786"
             ],
             [
              0.5555555555555556,
              "#d8576b"
             ],
             [
              0.6666666666666666,
              "#ed7953"
             ],
             [
              0.7777777777777778,
              "#fb9f3a"
             ],
             [
              0.8888888888888888,
              "#fdca26"
             ],
             [
              1,
              "#f0f921"
             ]
            ],
            "type": "surface"
           }
          ],
          "table": [
           {
            "cells": {
             "fill": {
              "color": "#EBF0F8"
             },
             "line": {
              "color": "white"
             }
            },
            "header": {
             "fill": {
              "color": "#C8D4E3"
             },
             "line": {
              "color": "white"
             }
            },
            "type": "table"
           }
          ]
         },
         "layout": {
          "annotationdefaults": {
           "arrowcolor": "#2a3f5f",
           "arrowhead": 0,
           "arrowwidth": 1
          },
          "autotypenumbers": "strict",
          "coloraxis": {
           "colorbar": {
            "outlinewidth": 0,
            "ticks": ""
           }
          },
          "colorscale": {
           "diverging": [
            [
             0,
             "#8e0152"
            ],
            [
             0.1,
             "#c51b7d"
            ],
            [
             0.2,
             "#de77ae"
            ],
            [
             0.3,
             "#f1b6da"
            ],
            [
             0.4,
             "#fde0ef"
            ],
            [
             0.5,
             "#f7f7f7"
            ],
            [
             0.6,
             "#e6f5d0"
            ],
            [
             0.7,
             "#b8e186"
            ],
            [
             0.8,
             "#7fbc41"
            ],
            [
             0.9,
             "#4d9221"
            ],
            [
             1,
             "#276419"
            ]
           ],
           "sequential": [
            [
             0,
             "#0d0887"
            ],
            [
             0.1111111111111111,
             "#46039f"
            ],
            [
             0.2222222222222222,
             "#7201a8"
            ],
            [
             0.3333333333333333,
             "#9c179e"
            ],
            [
             0.4444444444444444,
             "#bd3786"
            ],
            [
             0.5555555555555556,
             "#d8576b"
            ],
            [
             0.6666666666666666,
             "#ed7953"
            ],
            [
             0.7777777777777778,
             "#fb9f3a"
            ],
            [
             0.8888888888888888,
             "#fdca26"
            ],
            [
             1,
             "#f0f921"
            ]
           ],
           "sequentialminus": [
            [
             0,
             "#0d0887"
            ],
            [
             0.1111111111111111,
             "#46039f"
            ],
            [
             0.2222222222222222,
             "#7201a8"
            ],
            [
             0.3333333333333333,
             "#9c179e"
            ],
            [
             0.4444444444444444,
             "#bd3786"
            ],
            [
             0.5555555555555556,
             "#d8576b"
            ],
            [
             0.6666666666666666,
             "#ed7953"
            ],
            [
             0.7777777777777778,
             "#fb9f3a"
            ],
            [
             0.8888888888888888,
             "#fdca26"
            ],
            [
             1,
             "#f0f921"
            ]
           ]
          },
          "colorway": [
           "#636efa",
           "#EF553B",
           "#00cc96",
           "#ab63fa",
           "#FFA15A",
           "#19d3f3",
           "#FF6692",
           "#B6E880",
           "#FF97FF",
           "#FECB52"
          ],
          "font": {
           "color": "#2a3f5f"
          },
          "geo": {
           "bgcolor": "white",
           "lakecolor": "white",
           "landcolor": "#E5ECF6",
           "showlakes": true,
           "showland": true,
           "subunitcolor": "white"
          },
          "hoverlabel": {
           "align": "left"
          },
          "hovermode": "closest",
          "mapbox": {
           "style": "light"
          },
          "paper_bgcolor": "white",
          "plot_bgcolor": "#E5ECF6",
          "polar": {
           "angularaxis": {
            "gridcolor": "white",
            "linecolor": "white",
            "ticks": ""
           },
           "bgcolor": "#E5ECF6",
           "radialaxis": {
            "gridcolor": "white",
            "linecolor": "white",
            "ticks": ""
           }
          },
          "scene": {
           "xaxis": {
            "backgroundcolor": "#E5ECF6",
            "gridcolor": "white",
            "gridwidth": 2,
            "linecolor": "white",
            "showbackground": true,
            "ticks": "",
            "zerolinecolor": "white"
           },
           "yaxis": {
            "backgroundcolor": "#E5ECF6",
            "gridcolor": "white",
            "gridwidth": 2,
            "linecolor": "white",
            "showbackground": true,
            "ticks": "",
            "zerolinecolor": "white"
           },
           "zaxis": {
            "backgroundcolor": "#E5ECF6",
            "gridcolor": "white",
            "gridwidth": 2,
            "linecolor": "white",
            "showbackground": true,
            "ticks": "",
            "zerolinecolor": "white"
           }
          },
          "shapedefaults": {
           "line": {
            "color": "#2a3f5f"
           }
          },
          "ternary": {
           "aaxis": {
            "gridcolor": "white",
            "linecolor": "white",
            "ticks": ""
           },
           "baxis": {
            "gridcolor": "white",
            "linecolor": "white",
            "ticks": ""
           },
           "bgcolor": "#E5ECF6",
           "caxis": {
            "gridcolor": "white",
            "linecolor": "white",
            "ticks": ""
           }
          },
          "title": {
           "x": 0.05
          },
          "xaxis": {
           "automargin": true,
           "gridcolor": "white",
           "linecolor": "white",
           "ticks": "",
           "title": {
            "standoff": 15
           },
           "zerolinecolor": "white",
           "zerolinewidth": 2
          },
          "yaxis": {
           "automargin": true,
           "gridcolor": "white",
           "linecolor": "white",
           "ticks": "",
           "title": {
            "standoff": 15
           },
           "zerolinecolor": "white",
           "zerolinewidth": 2
          }
         }
        },
        "title": {
         "text": "Top 120 Rank distribution by Category"
        },
        "xaxis": {
         "anchor": "y",
         "categoryarray": [
          "Decoration",
          "Furniture",
          "Plants",
          "Materials",
          "Kitchen",
          "Bathroom",
          "Other Models",
          "Textures",
          "Childroom",
          "Lighting",
          "Technology",
          "Scripts",
          "Architecture"
         ],
         "categoryorder": "array",
         "domain": [
          0,
          1
         ],
         "title": {
          "text": "Category"
         }
        },
        "yaxis": {
         "anchor": "x",
         "domain": [
          0,
          1
         ],
         "title": {
          "text": "Ranking"
         }
        }
       }
      }
     },
     "metadata": {},
     "output_type": "display_data"
    }
   ],
   "source": [
    "fig6 = px.box(result_vis, x='Category', y='Ranking', color='Category', title='Top 120 Rank distribution by Category')\n",
    "fig6.show()"
   ]
  },
  {
   "cell_type": "code",
   "execution_count": 237,
   "metadata": {},
   "outputs": [
    {
     "data": {
      "application/vnd.plotly.v1+json": {
       "config": {
        "plotlyServerURL": "https://plot.ly"
       },
       "data": [
        {
         "alignmentgroup": "True",
         "hovertemplate": "Category=%{x}<br>Dur_Shrink=%{y}<extra></extra>",
         "legendgroup": "Decoration",
         "marker": {
          "color": "#636efa"
         },
         "name": "Decoration",
         "notched": false,
         "offsetgroup": "Decoration",
         "orientation": "v",
         "showlegend": true,
         "type": "box",
         "x": [
          "Decoration",
          "Decoration",
          "Decoration",
          "Decoration",
          "Decoration",
          "Decoration",
          "Decoration",
          "Decoration",
          "Decoration",
          "Decoration",
          "Decoration",
          "Decoration",
          "Decoration",
          "Decoration",
          "Decoration",
          "Decoration",
          "Decoration",
          "Decoration",
          "Decoration",
          "Decoration",
          "Decoration",
          "Decoration",
          "Decoration",
          "Decoration",
          "Decoration",
          "Decoration",
          "Decoration"
         ],
         "x0": " ",
         "xaxis": "x",
         "y": [
          19,
          27,
          18,
          156,
          96,
          34,
          48,
          15,
          35,
          18,
          500,
          373,
          39,
          27,
          10,
          195,
          216,
          344,
          33,
          14,
          500,
          106,
          77,
          40,
          18,
          13,
          160
         ],
         "y0": " ",
         "yaxis": "y"
        },
        {
         "alignmentgroup": "True",
         "hovertemplate": "Category=%{x}<br>Dur_Shrink=%{y}<extra></extra>",
         "legendgroup": "Furniture",
         "marker": {
          "color": "#EF553B"
         },
         "name": "Furniture",
         "notched": false,
         "offsetgroup": "Furniture",
         "orientation": "v",
         "showlegend": true,
         "type": "box",
         "x": [
          "Furniture",
          "Furniture",
          "Furniture",
          "Furniture",
          "Furniture",
          "Furniture",
          "Furniture",
          "Furniture",
          "Furniture",
          "Furniture",
          "Furniture",
          "Furniture",
          "Furniture",
          "Furniture",
          "Furniture",
          "Furniture",
          "Furniture",
          "Furniture",
          "Furniture",
          "Furniture",
          "Furniture",
          "Furniture",
          "Furniture",
          "Furniture",
          "Furniture",
          "Furniture"
         ],
         "x0": " ",
         "xaxis": "x",
         "y": [
          48,
          16,
          25,
          357,
          208,
          25,
          12,
          53,
          18,
          40,
          34,
          24,
          48,
          29,
          127,
          112,
          103,
          48,
          42,
          28,
          163,
          144,
          228,
          140,
          86,
          38
         ],
         "y0": " ",
         "yaxis": "y"
        },
        {
         "alignmentgroup": "True",
         "hovertemplate": "Category=%{x}<br>Dur_Shrink=%{y}<extra></extra>",
         "legendgroup": "Plants",
         "marker": {
          "color": "#00cc96"
         },
         "name": "Plants",
         "notched": false,
         "offsetgroup": "Plants",
         "orientation": "v",
         "showlegend": true,
         "type": "box",
         "x": [
          "Plants",
          "Plants",
          "Plants",
          "Plants",
          "Plants",
          "Plants"
         ],
         "x0": " ",
         "xaxis": "x",
         "y": [
          214,
          86,
          39,
          22,
          257,
          500
         ],
         "y0": " ",
         "yaxis": "y"
        },
        {
         "alignmentgroup": "True",
         "hovertemplate": "Category=%{x}<br>Dur_Shrink=%{y}<extra></extra>",
         "legendgroup": "Materials",
         "marker": {
          "color": "#ab63fa"
         },
         "name": "Materials",
         "notched": false,
         "offsetgroup": "Materials",
         "orientation": "v",
         "showlegend": true,
         "type": "box",
         "x": [
          "Materials",
          "Materials",
          "Materials",
          "Materials",
          "Materials",
          "Materials"
         ],
         "x0": " ",
         "xaxis": "x",
         "y": [
          34,
          81,
          21,
          77,
          109,
          61
         ],
         "y0": " ",
         "yaxis": "y"
        },
        {
         "alignmentgroup": "True",
         "hovertemplate": "Category=%{x}<br>Dur_Shrink=%{y}<extra></extra>",
         "legendgroup": "Kitchen",
         "marker": {
          "color": "#FFA15A"
         },
         "name": "Kitchen",
         "notched": false,
         "offsetgroup": "Kitchen",
         "orientation": "v",
         "showlegend": true,
         "type": "box",
         "x": [
          "Kitchen",
          "Kitchen",
          "Kitchen",
          "Kitchen",
          "Kitchen",
          "Kitchen",
          "Kitchen",
          "Kitchen",
          "Kitchen"
         ],
         "x0": " ",
         "xaxis": "x",
         "y": [
          154,
          54,
          412,
          120,
          25,
          74,
          16,
          466,
          39
         ],
         "y0": " ",
         "yaxis": "y"
        },
        {
         "alignmentgroup": "True",
         "hovertemplate": "Category=%{x}<br>Dur_Shrink=%{y}<extra></extra>",
         "legendgroup": "Bathroom",
         "marker": {
          "color": "#19d3f3"
         },
         "name": "Bathroom",
         "notched": false,
         "offsetgroup": "Bathroom",
         "orientation": "v",
         "showlegend": true,
         "type": "box",
         "x": [
          "Bathroom",
          "Bathroom",
          "Bathroom",
          "Bathroom",
          "Bathroom",
          "Bathroom",
          "Bathroom",
          "Bathroom",
          "Bathroom",
          "Bathroom",
          "Bathroom",
          "Bathroom",
          "Bathroom",
          "Bathroom",
          "Bathroom"
         ],
         "x0": " ",
         "xaxis": "x",
         "y": [
          143,
          78,
          116,
          49,
          81,
          17,
          125,
          57,
          186,
          500,
          219,
          40,
          500,
          500,
          183
         ],
         "y0": " ",
         "yaxis": "y"
        },
        {
         "alignmentgroup": "True",
         "hovertemplate": "Category=%{x}<br>Dur_Shrink=%{y}<extra></extra>",
         "legendgroup": "Other Models",
         "marker": {
          "color": "#FF6692"
         },
         "name": "Other Models",
         "notched": false,
         "offsetgroup": "Other Models",
         "orientation": "v",
         "showlegend": true,
         "type": "box",
         "x": [
          "Other Models",
          "Other Models",
          "Other Models",
          "Other Models",
          "Other Models",
          "Other Models",
          "Other Models",
          "Other Models",
          "Other Models",
          "Other Models",
          "Other Models",
          "Other Models"
         ],
         "x0": " ",
         "xaxis": "x",
         "y": [
          34,
          393,
          150,
          500,
          500,
          437,
          171,
          98,
          500,
          500,
          264,
          92
         ],
         "y0": " ",
         "yaxis": "y"
        },
        {
         "alignmentgroup": "True",
         "hovertemplate": "Category=%{x}<br>Dur_Shrink=%{y}<extra></extra>",
         "legendgroup": "Textures",
         "marker": {
          "color": "#B6E880"
         },
         "name": "Textures",
         "notched": false,
         "offsetgroup": "Textures",
         "orientation": "v",
         "showlegend": true,
         "type": "box",
         "x": [
          "Textures",
          "Textures",
          "Textures",
          "Textures",
          "Textures"
         ],
         "x0": " ",
         "xaxis": "x",
         "y": [
          66,
          40,
          190,
          328,
          276
         ],
         "y0": " ",
         "yaxis": "y"
        },
        {
         "alignmentgroup": "True",
         "hovertemplate": "Category=%{x}<br>Dur_Shrink=%{y}<extra></extra>",
         "legendgroup": "Childroom",
         "marker": {
          "color": "#FF97FF"
         },
         "name": "Childroom",
         "notched": false,
         "offsetgroup": "Childroom",
         "orientation": "v",
         "showlegend": true,
         "type": "box",
         "x": [
          "Childroom",
          "Childroom",
          "Childroom",
          "Childroom",
          "Childroom",
          "Childroom"
         ],
         "x0": " ",
         "xaxis": "x",
         "y": [
          286,
          26,
          47,
          17,
          128,
          107
         ],
         "y0": " ",
         "yaxis": "y"
        },
        {
         "alignmentgroup": "True",
         "hovertemplate": "Category=%{x}<br>Dur_Shrink=%{y}<extra></extra>",
         "legendgroup": "Lighting",
         "marker": {
          "color": "#FECB52"
         },
         "name": "Lighting",
         "notched": false,
         "offsetgroup": "Lighting",
         "orientation": "v",
         "showlegend": true,
         "type": "box",
         "x": [
          "Lighting",
          "Lighting",
          "Lighting"
         ],
         "x0": " ",
         "xaxis": "x",
         "y": [
          33,
          31,
          263
         ],
         "y0": " ",
         "yaxis": "y"
        },
        {
         "alignmentgroup": "True",
         "hovertemplate": "Category=%{x}<br>Dur_Shrink=%{y}<extra></extra>",
         "legendgroup": "Technology",
         "marker": {
          "color": "#636efa"
         },
         "name": "Technology",
         "notched": false,
         "offsetgroup": "Technology",
         "orientation": "v",
         "showlegend": true,
         "type": "box",
         "x": [
          "Technology",
          "Technology"
         ],
         "x0": " ",
         "xaxis": "x",
         "y": [
          183,
          67
         ],
         "y0": " ",
         "yaxis": "y"
        },
        {
         "alignmentgroup": "True",
         "hovertemplate": "Category=%{x}<br>Dur_Shrink=%{y}<extra></extra>",
         "legendgroup": "Scripts",
         "marker": {
          "color": "#EF553B"
         },
         "name": "Scripts",
         "notched": false,
         "offsetgroup": "Scripts",
         "orientation": "v",
         "showlegend": true,
         "type": "box",
         "x": [
          "Scripts"
         ],
         "x0": " ",
         "xaxis": "x",
         "y": [
          500
         ],
         "y0": " ",
         "yaxis": "y"
        },
        {
         "alignmentgroup": "True",
         "hovertemplate": "Category=%{x}<br>Dur_Shrink=%{y}<extra></extra>",
         "legendgroup": "Architecture",
         "marker": {
          "color": "#00cc96"
         },
         "name": "Architecture",
         "notched": false,
         "offsetgroup": "Architecture",
         "orientation": "v",
         "showlegend": true,
         "type": "box",
         "x": [
          "Architecture",
          "Architecture"
         ],
         "x0": " ",
         "xaxis": "x",
         "y": [
          403,
          500
         ],
         "y0": " ",
         "yaxis": "y"
        }
       ],
       "layout": {
        "boxmode": "overlay",
        "legend": {
         "title": {
          "text": "Category"
         },
         "tracegroupgap": 0
        },
        "template": {
         "data": {
          "bar": [
           {
            "error_x": {
             "color": "#2a3f5f"
            },
            "error_y": {
             "color": "#2a3f5f"
            },
            "marker": {
             "line": {
              "color": "#E5ECF6",
              "width": 0.5
             },
             "pattern": {
              "fillmode": "overlay",
              "size": 10,
              "solidity": 0.2
             }
            },
            "type": "bar"
           }
          ],
          "barpolar": [
           {
            "marker": {
             "line": {
              "color": "#E5ECF6",
              "width": 0.5
             },
             "pattern": {
              "fillmode": "overlay",
              "size": 10,
              "solidity": 0.2
             }
            },
            "type": "barpolar"
           }
          ],
          "carpet": [
           {
            "aaxis": {
             "endlinecolor": "#2a3f5f",
             "gridcolor": "white",
             "linecolor": "white",
             "minorgridcolor": "white",
             "startlinecolor": "#2a3f5f"
            },
            "baxis": {
             "endlinecolor": "#2a3f5f",
             "gridcolor": "white",
             "linecolor": "white",
             "minorgridcolor": "white",
             "startlinecolor": "#2a3f5f"
            },
            "type": "carpet"
           }
          ],
          "choropleth": [
           {
            "colorbar": {
             "outlinewidth": 0,
             "ticks": ""
            },
            "type": "choropleth"
           }
          ],
          "contour": [
           {
            "colorbar": {
             "outlinewidth": 0,
             "ticks": ""
            },
            "colorscale": [
             [
              0,
              "#0d0887"
             ],
             [
              0.1111111111111111,
              "#46039f"
             ],
             [
              0.2222222222222222,
              "#7201a8"
             ],
             [
              0.3333333333333333,
              "#9c179e"
             ],
             [
              0.4444444444444444,
              "#bd3786"
             ],
             [
              0.5555555555555556,
              "#d8576b"
             ],
             [
              0.6666666666666666,
              "#ed7953"
             ],
             [
              0.7777777777777778,
              "#fb9f3a"
             ],
             [
              0.8888888888888888,
              "#fdca26"
             ],
             [
              1,
              "#f0f921"
             ]
            ],
            "type": "contour"
           }
          ],
          "contourcarpet": [
           {
            "colorbar": {
             "outlinewidth": 0,
             "ticks": ""
            },
            "type": "contourcarpet"
           }
          ],
          "heatmap": [
           {
            "colorbar": {
             "outlinewidth": 0,
             "ticks": ""
            },
            "colorscale": [
             [
              0,
              "#0d0887"
             ],
             [
              0.1111111111111111,
              "#46039f"
             ],
             [
              0.2222222222222222,
              "#7201a8"
             ],
             [
              0.3333333333333333,
              "#9c179e"
             ],
             [
              0.4444444444444444,
              "#bd3786"
             ],
             [
              0.5555555555555556,
              "#d8576b"
             ],
             [
              0.6666666666666666,
              "#ed7953"
             ],
             [
              0.7777777777777778,
              "#fb9f3a"
             ],
             [
              0.8888888888888888,
              "#fdca26"
             ],
             [
              1,
              "#f0f921"
             ]
            ],
            "type": "heatmap"
           }
          ],
          "heatmapgl": [
           {
            "colorbar": {
             "outlinewidth": 0,
             "ticks": ""
            },
            "colorscale": [
             [
              0,
              "#0d0887"
             ],
             [
              0.1111111111111111,
              "#46039f"
             ],
             [
              0.2222222222222222,
              "#7201a8"
             ],
             [
              0.3333333333333333,
              "#9c179e"
             ],
             [
              0.4444444444444444,
              "#bd3786"
             ],
             [
              0.5555555555555556,
              "#d8576b"
             ],
             [
              0.6666666666666666,
              "#ed7953"
             ],
             [
              0.7777777777777778,
              "#fb9f3a"
             ],
             [
              0.8888888888888888,
              "#fdca26"
             ],
             [
              1,
              "#f0f921"
             ]
            ],
            "type": "heatmapgl"
           }
          ],
          "histogram": [
           {
            "marker": {
             "pattern": {
              "fillmode": "overlay",
              "size": 10,
              "solidity": 0.2
             }
            },
            "type": "histogram"
           }
          ],
          "histogram2d": [
           {
            "colorbar": {
             "outlinewidth": 0,
             "ticks": ""
            },
            "colorscale": [
             [
              0,
              "#0d0887"
             ],
             [
              0.1111111111111111,
              "#46039f"
             ],
             [
              0.2222222222222222,
              "#7201a8"
             ],
             [
              0.3333333333333333,
              "#9c179e"
             ],
             [
              0.4444444444444444,
              "#bd3786"
             ],
             [
              0.5555555555555556,
              "#d8576b"
             ],
             [
              0.6666666666666666,
              "#ed7953"
             ],
             [
              0.7777777777777778,
              "#fb9f3a"
             ],
             [
              0.8888888888888888,
              "#fdca26"
             ],
             [
              1,
              "#f0f921"
             ]
            ],
            "type": "histogram2d"
           }
          ],
          "histogram2dcontour": [
           {
            "colorbar": {
             "outlinewidth": 0,
             "ticks": ""
            },
            "colorscale": [
             [
              0,
              "#0d0887"
             ],
             [
              0.1111111111111111,
              "#46039f"
             ],
             [
              0.2222222222222222,
              "#7201a8"
             ],
             [
              0.3333333333333333,
              "#9c179e"
             ],
             [
              0.4444444444444444,
              "#bd3786"
             ],
             [
              0.5555555555555556,
              "#d8576b"
             ],
             [
              0.6666666666666666,
              "#ed7953"
             ],
             [
              0.7777777777777778,
              "#fb9f3a"
             ],
             [
              0.8888888888888888,
              "#fdca26"
             ],
             [
              1,
              "#f0f921"
             ]
            ],
            "type": "histogram2dcontour"
           }
          ],
          "mesh3d": [
           {
            "colorbar": {
             "outlinewidth": 0,
             "ticks": ""
            },
            "type": "mesh3d"
           }
          ],
          "parcoords": [
           {
            "line": {
             "colorbar": {
              "outlinewidth": 0,
              "ticks": ""
             }
            },
            "type": "parcoords"
           }
          ],
          "pie": [
           {
            "automargin": true,
            "type": "pie"
           }
          ],
          "scatter": [
           {
            "fillpattern": {
             "fillmode": "overlay",
             "size": 10,
             "solidity": 0.2
            },
            "type": "scatter"
           }
          ],
          "scatter3d": [
           {
            "line": {
             "colorbar": {
              "outlinewidth": 0,
              "ticks": ""
             }
            },
            "marker": {
             "colorbar": {
              "outlinewidth": 0,
              "ticks": ""
             }
            },
            "type": "scatter3d"
           }
          ],
          "scattercarpet": [
           {
            "marker": {
             "colorbar": {
              "outlinewidth": 0,
              "ticks": ""
             }
            },
            "type": "scattercarpet"
           }
          ],
          "scattergeo": [
           {
            "marker": {
             "colorbar": {
              "outlinewidth": 0,
              "ticks": ""
             }
            },
            "type": "scattergeo"
           }
          ],
          "scattergl": [
           {
            "marker": {
             "colorbar": {
              "outlinewidth": 0,
              "ticks": ""
             }
            },
            "type": "scattergl"
           }
          ],
          "scattermapbox": [
           {
            "marker": {
             "colorbar": {
              "outlinewidth": 0,
              "ticks": ""
             }
            },
            "type": "scattermapbox"
           }
          ],
          "scatterpolar": [
           {
            "marker": {
             "colorbar": {
              "outlinewidth": 0,
              "ticks": ""
             }
            },
            "type": "scatterpolar"
           }
          ],
          "scatterpolargl": [
           {
            "marker": {
             "colorbar": {
              "outlinewidth": 0,
              "ticks": ""
             }
            },
            "type": "scatterpolargl"
           }
          ],
          "scatterternary": [
           {
            "marker": {
             "colorbar": {
              "outlinewidth": 0,
              "ticks": ""
             }
            },
            "type": "scatterternary"
           }
          ],
          "surface": [
           {
            "colorbar": {
             "outlinewidth": 0,
             "ticks": ""
            },
            "colorscale": [
             [
              0,
              "#0d0887"
             ],
             [
              0.1111111111111111,
              "#46039f"
             ],
             [
              0.2222222222222222,
              "#7201a8"
             ],
             [
              0.3333333333333333,
              "#9c179e"
             ],
             [
              0.4444444444444444,
              "#bd3786"
             ],
             [
              0.5555555555555556,
              "#d8576b"
             ],
             [
              0.6666666666666666,
              "#ed7953"
             ],
             [
              0.7777777777777778,
              "#fb9f3a"
             ],
             [
              0.8888888888888888,
              "#fdca26"
             ],
             [
              1,
              "#f0f921"
             ]
            ],
            "type": "surface"
           }
          ],
          "table": [
           {
            "cells": {
             "fill": {
              "color": "#EBF0F8"
             },
             "line": {
              "color": "white"
             }
            },
            "header": {
             "fill": {
              "color": "#C8D4E3"
             },
             "line": {
              "color": "white"
             }
            },
            "type": "table"
           }
          ]
         },
         "layout": {
          "annotationdefaults": {
           "arrowcolor": "#2a3f5f",
           "arrowhead": 0,
           "arrowwidth": 1
          },
          "autotypenumbers": "strict",
          "coloraxis": {
           "colorbar": {
            "outlinewidth": 0,
            "ticks": ""
           }
          },
          "colorscale": {
           "diverging": [
            [
             0,
             "#8e0152"
            ],
            [
             0.1,
             "#c51b7d"
            ],
            [
             0.2,
             "#de77ae"
            ],
            [
             0.3,
             "#f1b6da"
            ],
            [
             0.4,
             "#fde0ef"
            ],
            [
             0.5,
             "#f7f7f7"
            ],
            [
             0.6,
             "#e6f5d0"
            ],
            [
             0.7,
             "#b8e186"
            ],
            [
             0.8,
             "#7fbc41"
            ],
            [
             0.9,
             "#4d9221"
            ],
            [
             1,
             "#276419"
            ]
           ],
           "sequential": [
            [
             0,
             "#0d0887"
            ],
            [
             0.1111111111111111,
             "#46039f"
            ],
            [
             0.2222222222222222,
             "#7201a8"
            ],
            [
             0.3333333333333333,
             "#9c179e"
            ],
            [
             0.4444444444444444,
             "#bd3786"
            ],
            [
             0.5555555555555556,
             "#d8576b"
            ],
            [
             0.6666666666666666,
             "#ed7953"
            ],
            [
             0.7777777777777778,
             "#fb9f3a"
            ],
            [
             0.8888888888888888,
             "#fdca26"
            ],
            [
             1,
             "#f0f921"
            ]
           ],
           "sequentialminus": [
            [
             0,
             "#0d0887"
            ],
            [
             0.1111111111111111,
             "#46039f"
            ],
            [
             0.2222222222222222,
             "#7201a8"
            ],
            [
             0.3333333333333333,
             "#9c179e"
            ],
            [
             0.4444444444444444,
             "#bd3786"
            ],
            [
             0.5555555555555556,
             "#d8576b"
            ],
            [
             0.6666666666666666,
             "#ed7953"
            ],
            [
             0.7777777777777778,
             "#fb9f3a"
            ],
            [
             0.8888888888888888,
             "#fdca26"
            ],
            [
             1,
             "#f0f921"
            ]
           ]
          },
          "colorway": [
           "#636efa",
           "#EF553B",
           "#00cc96",
           "#ab63fa",
           "#FFA15A",
           "#19d3f3",
           "#FF6692",
           "#B6E880",
           "#FF97FF",
           "#FECB52"
          ],
          "font": {
           "color": "#2a3f5f"
          },
          "geo": {
           "bgcolor": "white",
           "lakecolor": "white",
           "landcolor": "#E5ECF6",
           "showlakes": true,
           "showland": true,
           "subunitcolor": "white"
          },
          "hoverlabel": {
           "align": "left"
          },
          "hovermode": "closest",
          "mapbox": {
           "style": "light"
          },
          "paper_bgcolor": "white",
          "plot_bgcolor": "#E5ECF6",
          "polar": {
           "angularaxis": {
            "gridcolor": "white",
            "linecolor": "white",
            "ticks": ""
           },
           "bgcolor": "#E5ECF6",
           "radialaxis": {
            "gridcolor": "white",
            "linecolor": "white",
            "ticks": ""
           }
          },
          "scene": {
           "xaxis": {
            "backgroundcolor": "#E5ECF6",
            "gridcolor": "white",
            "gridwidth": 2,
            "linecolor": "white",
            "showbackground": true,
            "ticks": "",
            "zerolinecolor": "white"
           },
           "yaxis": {
            "backgroundcolor": "#E5ECF6",
            "gridcolor": "white",
            "gridwidth": 2,
            "linecolor": "white",
            "showbackground": true,
            "ticks": "",
            "zerolinecolor": "white"
           },
           "zaxis": {
            "backgroundcolor": "#E5ECF6",
            "gridcolor": "white",
            "gridwidth": 2,
            "linecolor": "white",
            "showbackground": true,
            "ticks": "",
            "zerolinecolor": "white"
           }
          },
          "shapedefaults": {
           "line": {
            "color": "#2a3f5f"
           }
          },
          "ternary": {
           "aaxis": {
            "gridcolor": "white",
            "linecolor": "white",
            "ticks": ""
           },
           "baxis": {
            "gridcolor": "white",
            "linecolor": "white",
            "ticks": ""
           },
           "bgcolor": "#E5ECF6",
           "caxis": {
            "gridcolor": "white",
            "linecolor": "white",
            "ticks": ""
           }
          },
          "title": {
           "x": 0.05
          },
          "xaxis": {
           "automargin": true,
           "gridcolor": "white",
           "linecolor": "white",
           "ticks": "",
           "title": {
            "standoff": 15
           },
           "zerolinecolor": "white",
           "zerolinewidth": 2
          },
          "yaxis": {
           "automargin": true,
           "gridcolor": "white",
           "linecolor": "white",
           "ticks": "",
           "title": {
            "standoff": 15
           },
           "zerolinecolor": "white",
           "zerolinewidth": 2
          }
         }
        },
        "title": {
         "text": "Top 120 Duration distribution by Category"
        },
        "xaxis": {
         "anchor": "y",
         "categoryarray": [
          "Decoration",
          "Furniture",
          "Plants",
          "Materials",
          "Kitchen",
          "Bathroom",
          "Other Models",
          "Textures",
          "Childroom",
          "Lighting",
          "Technology",
          "Scripts",
          "Architecture"
         ],
         "categoryorder": "array",
         "domain": [
          0,
          1
         ],
         "title": {
          "text": "Category"
         }
        },
        "yaxis": {
         "anchor": "x",
         "domain": [
          0,
          1
         ],
         "title": {
          "text": "Dur_Shrink"
         }
        }
       }
      }
     },
     "metadata": {},
     "output_type": "display_data"
    }
   ],
   "source": [
    "fig7 = px.box(result_vis, x='Category', y='Dur_Shrink', color='Category', title='Top 120 Duration distribution by Category')\n",
    "fig7.show()"
   ]
  },
  {
   "cell_type": "code",
   "execution_count": 238,
   "metadata": {},
   "outputs": [
    {
     "data": {
      "application/vnd.plotly.v1+json": {
       "config": {
        "plotlyServerURL": "https://plot.ly"
       },
       "data": [
        {
         "customdata": [
          [
           1,
           "Christmas tree with fireplace 5",
           "dofen",
           314
          ],
          [
           2,
           "Benuta Leon Cream Wool Rug",
           "3Dmitruk",
           335
          ],
          [
           5,
           "Clothes for wardrobe NG15",
           "niga2323",
           744
          ],
          [
           7,
           "Benuta Dave Rectangular Fur Rug (3 colors)",
           "3Dmitruk",
           335
          ],
          [
           8,
           "Curtains with Roman blinds 2",
           "Rolan05",
           128
          ],
          [
           10,
           "Decorative Set 089",
           "Moriiiz",
           87
          ],
          [
           15,
           "Decorative Set 088",
           "Moriiiz",
           87
          ],
          [
           16,
           "coffee table decor set 005",
           "Mitya87",
           190
          ],
          [
           24,
           "A set of clothes in bright colors for a wardrobe or showroom and a store",
           "sofiakholina",
           772
          ],
          [
           25,
           "Roman blinds, Roman blinds",
           "Neeo",
           417
          ],
          [
           36,
           "Glass Block Wall 08",
           "NK3D",
           128
          ],
          [
           44,
           "Nice Christmas tree",
           "fffaaa12",
           1217
          ],
          [
           48,
           "3DArt Relief NG41",
           "niga2323",
           744
          ],
          [
           49,
           "Pila Vessels en gold / Jug",
           "picture.cg",
           8
          ],
          [
           52,
           "Pinch Pleat Linen Curtain with Roller Blind",
           "kapusta",
           128
          ],
          [
           69,
           "Decorative set with a small beige bag",
           "Lana3D",
           28
          ],
          [
           71,
           "Panel with waves",
           "Manax",
           69
          ],
          [
           77,
           "Christmas tree with fireplace 4",
           "dofen",
           314
          ],
          [
           80,
           "Decorative Set 270",
           "☆☆Roohollah.3DArtist☆☆",
           566
          ],
          [
           85,
           "Wonderful Christmas Tree",
           "fffaaa12",
           1217
          ],
          [
           87,
           "Christmas tree 5",
           "fffaaa12",
           1217
          ],
          [
           99,
           "Round carpet",
           "miklob",
           18
          ],
          [
           103,
           "Curtains 9",
           "fffaaa12",
           1217
          ],
          [
           108,
           "Curtain #121",
           "deez",
           86
          ],
          [
           109,
           "Christmas Tree and Decoration 78",
           "3Design.FB",
           1563
          ],
          [
           110,
           "Decorative Set-086 Shelf Accessories",
           "mhl.hnr",
           256
          ],
          [
           118,
           "Benuta Dave Round Fur Rug (3 colors)",
           "3Dmitruk",
           335
          ]
         ],
         "hovertemplate": "Category=Decoration<br>Dur_Shrink=%{x}<br>Ranking=%{y}<br>Followers=%{customdata[3]}<br>N=%{customdata[0]}<br>Title=%{customdata[1]}<br>Username=%{customdata[2]}<extra></extra>",
         "legendgroup": "Decoration",
         "marker": {
          "color": "#636efa",
          "size": [
           314,
           335,
           744,
           335,
           128,
           87,
           87,
           190,
           772,
           417,
           128,
           1217,
           744,
           8,
           128,
           28,
           69,
           314,
           566,
           1217,
           1217,
           18,
           1217,
           86,
           1563,
           256,
           335
          ],
          "sizemode": "area",
          "sizeref": 5.56,
          "symbol": "circle"
         },
         "mode": "markers",
         "name": "Decoration",
         "orientation": "v",
         "showlegend": true,
         "type": "scatter",
         "x": [
          19,
          27,
          18,
          156,
          96,
          34,
          48,
          15,
          35,
          18,
          500,
          373,
          39,
          27,
          10,
          195,
          216,
          344,
          33,
          14,
          500,
          106,
          77,
          40,
          18,
          13,
          160
         ],
         "xaxis": "x",
         "y": [
          120,
          119,
          116,
          114,
          113,
          111,
          106,
          105,
          97,
          96,
          85,
          77,
          73,
          72,
          69,
          52,
          50,
          44,
          41,
          36,
          34,
          22,
          18,
          13,
          12,
          11,
          3
         ],
         "yaxis": "y"
        },
        {
         "customdata": [
          [
           3,
           "Office chair Ashley",
           "illidan_",
           6
          ],
          [
           12,
           "Dressing room 28",
           "protektor",
           322
          ],
          [
           14,
           "Cairns pedestal Divan.ru",
           "niga2323",
           744
          ],
          [
           20,
           "TV wall with Xiaomi laser projector",
           "aoverina",
           2224
          ],
          [
           21,
           "Dressing room 16",
           "protektor",
           322
          ],
          [
           26,
           "Lindsay Laurie coffee table Divan.ru",
           "niga2323",
           744
          ],
          [
           28,
           "HOMARY island for dressing room NG16",
           "niga2323",
           744
          ],
          [
           32,
           "Milam chair Divan.ru",
           "niga2323",
           744
          ],
          [
           34,
           "Basic wardrobe made of cabinet furniture with doors",
           "sofiakholina",
           772
          ],
          [
           41,
           "Cecily Nara bedside table Cosmo",
           "niga2323",
           744
          ],
          [
           42,
           "TV Wall 52",
           "sirous21",
           231
          ],
          [
           50,
           "West Elm Curved Modern Upholstered Bed",
           "Ney",
           610
          ],
          [
           57,
           "Office chair Sergio La Redoute",
           "Артур56",
           245
          ],
          [
           61,
           "Minotti Pilots Bench",
           "horrortechnology",
           717
          ],
          [
           74,
           "Emmi Armchair by Minotti",
           "wesftgyhnj",
           192
          ],
          [
           75,
           "Gianna Natural Walnut Wood King Bed Frame",
           "ZikKoo",
           417
          ],
          [
           78,
           "garage tools set 23",
           "pluse44",
           9
          ],
          [
           81,
           "Bedside table Tammi",
           "evgeni77712",
           5
          ],
          [
           82,
           "Furniture Composition 271",
           "Stt.HuynOneShine",
           178
          ],
          [
           83,
           "Dinning Set 162",
           "лааппп",
           76
          ],
          [
           91,
           "Wardrobe system Rimadesio Dress Bold",
           "restereo",
           98
          ],
          [
           92,
           "Oval island for dressing room NG14",
           "niga2323",
           744
          ],
          [
           96,
           "Travis shelving Divan.ru",
           "niga2323",
           744
          ],
          [
           100,
           "Pattie Armchair by Minotti",
           "QrisTina",
           55
          ],
          [
           104,
           "Office Furniture | 4 | Workplace",
           "spurt",
           381
          ],
          [
           105,
           "Calder Lander Build table Divan.ru",
           "niga2323",
           744
          ]
         ],
         "hovertemplate": "Category=Furniture<br>Dur_Shrink=%{x}<br>Ranking=%{y}<br>Followers=%{customdata[3]}<br>N=%{customdata[0]}<br>Title=%{customdata[1]}<br>Username=%{customdata[2]}<extra></extra>",
         "legendgroup": "Furniture",
         "marker": {
          "color": "#EF553B",
          "size": [
           6,
           322,
           744,
           2224,
           322,
           744,
           744,
           744,
           772,
           744,
           231,
           610,
           245,
           717,
           192,
           417,
           9,
           5,
           178,
           76,
           98,
           744,
           744,
           55,
           381,
           744
          ],
          "sizemode": "area",
          "sizeref": 5.56,
          "symbol": "circle"
         },
         "mode": "markers",
         "name": "Furniture",
         "orientation": "v",
         "showlegend": true,
         "type": "scatter",
         "x": [
          48,
          16,
          25,
          357,
          208,
          25,
          12,
          53,
          18,
          40,
          34,
          24,
          48,
          29,
          127,
          112,
          103,
          48,
          42,
          28,
          163,
          144,
          228,
          140,
          86,
          38
         ],
         "xaxis": "x",
         "y": [
          118,
          109,
          107,
          101,
          100,
          95,
          93,
          89,
          87,
          80,
          79,
          71,
          64,
          60,
          47,
          46,
          43,
          40,
          39,
          38,
          30,
          29,
          25,
          21,
          17,
          16
         ],
         "yaxis": "y"
        },
        {
         "customdata": [
          [
           4,
           "Indoor Plant Set 89",
           "mh.designer",
           211
          ],
          [
           46,
           "Realistic meadow grass",
           "AlexHappy",
           1671
          ],
          [
           58,
           "A bouquet of lilacs in a glass vase",
           "auralis",
           228
          ],
          [
           62,
           "Bouquet 06",
           "Mahikoo",
           10
          ],
          [
           73,
           "Indoor Plant 702 - Olive Plant",
           "3Design.FB",
           1563
          ],
          [
           114,
           "Acer Ginnala",
           "Istwood15",
           871
          ]
         ],
         "hovertemplate": "Category=Plants<br>Dur_Shrink=%{x}<br>Ranking=%{y}<br>Followers=%{customdata[3]}<br>N=%{customdata[0]}<br>Title=%{customdata[1]}<br>Username=%{customdata[2]}<extra></extra>",
         "legendgroup": "Plants",
         "marker": {
          "color": "#00cc96",
          "size": [
           211,
           1671,
           228,
           10,
           1563,
           871
          ],
          "sizemode": "area",
          "sizeref": 5.56,
          "symbol": "circle"
         },
         "mode": "markers",
         "name": "Plants",
         "orientation": "v",
         "showlegend": true,
         "type": "scatter",
         "x": [
          214,
          86,
          39,
          22,
          257,
          500
         ],
         "xaxis": "x",
         "y": [
          117,
          75,
          63,
          59,
          48,
          7
         ],
         "yaxis": "y"
        },
        {
         "customdata": [
          [
           6,
           "Boucle Fabric",
           "marchik3d",
           150
          ],
          [
           11,
           "Carpeting. Seamless carpet",
           "sofiakholina",
           772
          ],
          [
           19,
           "Snow",
           "maltsev_stepan",
           310
          ],
          [
           31,
           "Porcelain tiles Nolana Estima",
           "RazorS95",
           11
          ],
          [
           95,
           "Rubber Coating",
           "maltsev_stepan",
           310
          ],
          [
           101,
           "Flat Metal Material",
           "jy893dsky",
           51
          ]
         ],
         "hovertemplate": "Category=Materials<br>Dur_Shrink=%{x}<br>Ranking=%{y}<br>Followers=%{customdata[3]}<br>N=%{customdata[0]}<br>Title=%{customdata[1]}<br>Username=%{customdata[2]}<extra></extra>",
         "legendgroup": "Materials",
         "marker": {
          "color": "#ab63fa",
          "size": [
           150,
           772,
           310,
           11,
           310,
           51
          ],
          "sizemode": "area",
          "sizeref": 5.56,
          "symbol": "circle"
         },
         "mode": "markers",
         "name": "Materials",
         "orientation": "v",
         "showlegend": true,
         "type": "scatter",
         "x": [
          34,
          81,
          21,
          77,
          109,
          61
         ],
         "xaxis": "x",
         "y": [
          115,
          110,
          102,
          90,
          26,
          20
         ],
         "yaxis": "y"
        },
        {
         "customdata": [
          [
           9,
           "Kitchen 10",
           "RazorS95",
           11
          ],
          [
           38,
           "Cookware set NG5",
           "niga2323",
           744
          ],
          [
           45,
           "Sinks and faucets Omoikiri",
           "oleksandroleksandr",
           125
          ],
          [
           55,
           "Wine with chocolate set/1",
           "unrepeatable",
           73
          ],
          [
           60,
           "kitchen 0252",
           "Hasan3596",
           97
          ],
          [
           79,
           "Kitchen Appliance Bosch Kitchen 81",
           "freesection",
           135
          ],
          [
           84,
           "Kitchen 27",
           "Bensy",
           91
          ],
          [
           90,
           "Serving NG3",
           "niga2323",
           744
          ],
          [
           107,
           "kitchen modern-067",
           "moon_3dart296",
           24
          ]
         ],
         "hovertemplate": "Category=Kitchen<br>Dur_Shrink=%{x}<br>Ranking=%{y}<br>Followers=%{customdata[3]}<br>N=%{customdata[0]}<br>Title=%{customdata[1]}<br>Username=%{customdata[2]}<extra></extra>",
         "legendgroup": "Kitchen",
         "marker": {
          "color": "#FFA15A",
          "size": [
           11,
           744,
           125,
           73,
           97,
           135,
           91,
           744,
           24
          ],
          "sizemode": "area",
          "sizeref": 5.56,
          "symbol": "circle"
         },
         "mode": "markers",
         "name": "Kitchen",
         "orientation": "v",
         "showlegend": true,
         "type": "scatter",
         "x": [
          154,
          54,
          412,
          120,
          25,
          74,
          16,
          466,
          39
         ],
         "xaxis": "x",
         "y": [
          112,
          83,
          76,
          66,
          61,
          42,
          37,
          31,
          14
         ],
         "yaxis": "y"
        },
        {
         "customdata": [
          [
           13,
           "Bathroom decor with a set of different cosmetic products",
           "sofiakholina",
           772
          ],
          [
           17,
           "Faucets and showers Boheme uno set 2",
           "Ashlesha",
           22
          ],
          [
           23,
           "Bathroom decor set P06",
           "picture.cg",
           8
          ],
          [
           27,
           "Omnires mixers",
           "fffaaa12",
           1217
          ],
          [
           39,
           "Faucets and showers Boheme uno set 1",
           "Ashlesha",
           22
          ],
          [
           43,
           "Bathroom accessories Z42",
           "zyazdiyan",
           34
          ],
          [
           47,
           "Bathroom furniture 21",
           "don2432",
           170
          ],
          [
           56,
           "Faucets and showers Boheme Specter set",
           "Ashlesha",
           22
          ],
          [
           70,
           "Timo Saona",
           "tokyokyoto",
           78
          ],
          [
           86,
           "Laundry Room _ 0005",
           "grol69",
           311
          ],
          [
           94,
           "Hotel Bathroom Accessories LE LABO",
           "lzv_cg",
           85
          ],
          [
           106,
           "EWRIKA Penelope electric heated towel rail",
           "niga2323",
           744
          ],
          [
           111,
           "LAUNDRY SET (Poliform FITTED + ASKO)",
           "vitaly_y_panov",
           223
          ],
          [
           112,
           "LAUNDRY SET 2 (L'ORIGINE Aeterna + ASKO)",
           "vitaly_y_panov",
           223
          ],
          [
           119,
           "Cezares Stylus + Boheme Uno + AlcaPlast Thin",
           "star_vera",
           7
          ]
         ],
         "hovertemplate": "Category=Bathroom<br>Dur_Shrink=%{x}<br>Ranking=%{y}<br>Followers=%{customdata[3]}<br>N=%{customdata[0]}<br>Title=%{customdata[1]}<br>Username=%{customdata[2]}<extra></extra>",
         "legendgroup": "Bathroom",
         "marker": {
          "color": "#19d3f3",
          "size": [
           772,
           22,
           8,
           1217,
           22,
           34,
           170,
           22,
           78,
           311,
           85,
           744,
           223,
           223,
           7
          ],
          "sizemode": "area",
          "sizeref": 5.56,
          "symbol": "circle"
         },
         "mode": "markers",
         "name": "Bathroom",
         "orientation": "v",
         "showlegend": true,
         "type": "scatter",
         "x": [
          143,
          78,
          116,
          49,
          81,
          17,
          125,
          57,
          186,
          500,
          219,
          40,
          500,
          500,
          183
         ],
         "xaxis": "x",
         "y": [
          108,
          104,
          98,
          94,
          82,
          78,
          74,
          65,
          51,
          35,
          27,
          15,
          10,
          9,
          2
         ],
         "yaxis": "y"
        },
        {
         "customdata": [
          [
           18,
           "Grilles for ventilation and air conditioning Redvent",
           "DashutaG",
           31
          ],
          [
           30,
           "Padel",
           "alexsm2014",
           22
          ],
          [
           54,
           "Volhovec Rift Doors",
           "Игорь1969",
           66
          ],
          [
           65,
           "Guitar. Guitar set for stage. Musical instrument. Microphone",
           "paradize",
           89
          ],
          [
           66,
           "Set of ceilings Armstrong and Grilyato",
           "solomon5555",
           430
          ],
          [
           88,
           "Yoga & Meditation Set",
           "wesftgyhnj",
           192
          ],
          [
           93,
           "A wall with a rack for gym equipment 2",
           "sofiakholina",
           772
          ],
          [
           97,
           "Ventilation system.",
           "slipknot1111",
           20
          ],
          [
           113,
           "Bakery Equipment",
           "Стаска",
           72
          ],
          [
           115,
           "CAT Forklift, Manual Loader and Warehouse Carts Kit",
           "quantum_4141",
           99
          ],
          [
           117,
           "Coffee Shop 6",
           "omnomn",
           310
          ],
          [
           120,
           "Cafe Equipment Set 8",
           "Стаска",
           72
          ]
         ],
         "hovertemplate": "Category=Other Models<br>Dur_Shrink=%{x}<br>Ranking=%{y}<br>Followers=%{customdata[3]}<br>N=%{customdata[0]}<br>Title=%{customdata[1]}<br>Username=%{customdata[2]}<extra></extra>",
         "legendgroup": "Other Models",
         "marker": {
          "color": "#FF6692",
          "size": [
           31,
           22,
           66,
           89,
           430,
           192,
           772,
           20,
           72,
           99,
           310,
           72
          ],
          "sizemode": "area",
          "sizeref": 5.56,
          "symbol": "circle"
         },
         "mode": "markers",
         "name": "Other Models",
         "orientation": "v",
         "showlegend": true,
         "type": "scatter",
         "x": [
          34,
          393,
          150,
          500,
          500,
          437,
          171,
          98,
          500,
          500,
          264,
          92
         ],
         "xaxis": "x",
         "y": [
          103,
          91,
          67,
          56,
          55,
          33,
          28,
          24,
          8,
          6,
          4,
          1
         ],
         "yaxis": "y"
        },
        {
         "customdata": [
          [
           22,
           "Equipe BALI",
           "StanisLOVE.viz",
           162
          ],
          [
           40,
           "Parquet board 4",
           "dofen",
           314
          ],
          [
           53,
           "Herringbone parquet chevron s8",
           "StanisLOVE.viz",
           162
          ],
          [
           67,
           "Boen parquet board wood flooring",
           "dofen",
           314
          ],
          [
           89,
           "Equipe Hopp",
           "StanisLOVE.viz",
           162
          ]
         ],
         "hovertemplate": "Category=Textures<br>Dur_Shrink=%{x}<br>Ranking=%{y}<br>Followers=%{customdata[3]}<br>N=%{customdata[0]}<br>Title=%{customdata[1]}<br>Username=%{customdata[2]}<extra></extra>",
         "legendgroup": "Textures",
         "marker": {
          "color": "#B6E880",
          "size": [
           162,
           314,
           162,
           314,
           162
          ],
          "sizemode": "area",
          "sizeref": 5.56,
          "symbol": "circle"
         },
         "mode": "markers",
         "name": "Textures",
         "orientation": "v",
         "showlegend": true,
         "type": "scatter",
         "x": [
          66,
          40,
          190,
          328,
          276
         ],
         "xaxis": "x",
         "y": [
          99,
          81,
          68,
          54,
          32
         ],
         "yaxis": "y"
        },
        {
         "customdata": [
          [
           29,
           "Siena Kids Bed By Como",
           "ZikKoo",
           417
          ],
          [
           51,
           "Children play area | Interactive",
           "lzv_cg",
           85
          ],
          [
           59,
           "Pinboard with childrens drawings",
           "DashutaG",
           31
          ],
          [
           63,
           "Childrens open wardrobe with desk, modular, modern, 25",
           "don2432",
           170
          ],
          [
           76,
           "Soft seat by the window in the children's room",
           "lzv_cg",
           85
          ],
          [
           98,
           "Interactive panel for children room",
           "lzv_cg",
           85
          ]
         ],
         "hovertemplate": "Category=Childroom<br>Dur_Shrink=%{x}<br>Ranking=%{y}<br>Followers=%{customdata[3]}<br>N=%{customdata[0]}<br>Title=%{customdata[1]}<br>Username=%{customdata[2]}<extra></extra>",
         "legendgroup": "Childroom",
         "marker": {
          "color": "#FF97FF",
          "size": [
           417,
           85,
           31,
           170,
           85,
           85
          ],
          "sizemode": "area",
          "sizeref": 5.56,
          "symbol": "circle"
         },
         "mode": "markers",
         "name": "Childroom",
         "orientation": "v",
         "showlegend": true,
         "type": "scatter",
         "x": [
          286,
          26,
          47,
          17,
          128,
          107
         ],
         "xaxis": "x",
         "y": [
          92,
          70,
          62,
          58,
          45,
          23
         ],
         "yaxis": "y"
        },
        {
         "customdata": [
          [
           33,
           "Moooi Drape Lights",
           "Karloo",
           100
          ],
          [
           35,
           "Track system centersvet Infinity",
           "Beliy",
           22
          ],
          [
           72,
           "Khmara by Makhno Rough Plaster Pendant Lamps",
           "CG__Aryan",
           29
          ]
         ],
         "hovertemplate": "Category=Lighting<br>Dur_Shrink=%{x}<br>Ranking=%{y}<br>Followers=%{customdata[3]}<br>N=%{customdata[0]}<br>Title=%{customdata[1]}<br>Username=%{customdata[2]}<extra></extra>",
         "legendgroup": "Lighting",
         "marker": {
          "color": "#FECB52",
          "size": [
           100,
           22,
           29
          ],
          "sizemode": "area",
          "sizeref": 5.56,
          "symbol": "circle"
         },
         "mode": "markers",
         "name": "Lighting",
         "orientation": "v",
         "showlegend": true,
         "type": "scatter",
         "x": [
          33,
          31,
          263
         ],
         "xaxis": "x",
         "y": [
          88,
          86,
          49
         ],
         "yaxis": "y"
        },
        {
         "customdata": [
          [
           37,
           "Robot vacuum cleaner Xiaomi Robot Vacuum Cleaner X20",
           "dilya_1",
           99
          ],
          [
           102,
           "Canon printer set.",
           "slipknot1111",
           20
          ]
         ],
         "hovertemplate": "Category=Technology<br>Dur_Shrink=%{x}<br>Ranking=%{y}<br>Followers=%{customdata[3]}<br>N=%{customdata[0]}<br>Title=%{customdata[1]}<br>Username=%{customdata[2]}<extra></extra>",
         "legendgroup": "Technology",
         "marker": {
          "color": "#636efa",
          "size": [
           99,
           20
          ],
          "sizemode": "area",
          "sizeref": 5.56,
          "symbol": "circle"
         },
         "mode": "markers",
         "name": "Technology",
         "orientation": "v",
         "showlegend": true,
         "type": "scatter",
         "x": [
          183,
          67
         ],
         "xaxis": "x",
         "y": [
          84,
          19
         ],
         "yaxis": "y"
        },
        {
         "customdata": [
          [
           64,
           "FloorGen Tools 1.5.4",
           "-NiK-",
           40
          ]
         ],
         "hovertemplate": "Category=Scripts<br>Dur_Shrink=%{x}<br>Ranking=%{y}<br>Followers=%{customdata[3]}<br>N=%{customdata[0]}<br>Title=%{customdata[1]}<br>Username=%{customdata[2]}<extra></extra>",
         "legendgroup": "Scripts",
         "marker": {
          "color": "#EF553B",
          "size": [
           40
          ],
          "sizemode": "area",
          "sizeref": 5.56,
          "symbol": "circle"
         },
         "mode": "markers",
         "name": "Scripts",
         "orientation": "v",
         "showlegend": true,
         "type": "scatter",
         "x": [
          500
         ],
         "xaxis": "x",
         "y": [
          57
         ],
         "yaxis": "y"
        },
        {
         "customdata": [
          [
           68,
           "Wet asphalt with leaves. Autumn. Editable",
           "paz",
           130
          ],
          [
           116,
           "Christmas Tree Street",
           "Al-make",
           50
          ]
         ],
         "hovertemplate": "Category=Architecture<br>Dur_Shrink=%{x}<br>Ranking=%{y}<br>Followers=%{customdata[3]}<br>N=%{customdata[0]}<br>Title=%{customdata[1]}<br>Username=%{customdata[2]}<extra></extra>",
         "legendgroup": "Architecture",
         "marker": {
          "color": "#00cc96",
          "size": [
           130,
           50
          ],
          "sizemode": "area",
          "sizeref": 5.56,
          "symbol": "circle"
         },
         "mode": "markers",
         "name": "Architecture",
         "orientation": "v",
         "showlegend": true,
         "type": "scatter",
         "x": [
          403,
          500
         ],
         "xaxis": "x",
         "y": [
          53,
          5
         ],
         "yaxis": "y"
        }
       ],
       "layout": {
        "legend": {
         "itemsizing": "constant",
         "title": {
          "text": "Category"
         },
         "tracegroupgap": 0
        },
        "template": {
         "data": {
          "bar": [
           {
            "error_x": {
             "color": "#2a3f5f"
            },
            "error_y": {
             "color": "#2a3f5f"
            },
            "marker": {
             "line": {
              "color": "#E5ECF6",
              "width": 0.5
             },
             "pattern": {
              "fillmode": "overlay",
              "size": 10,
              "solidity": 0.2
             }
            },
            "type": "bar"
           }
          ],
          "barpolar": [
           {
            "marker": {
             "line": {
              "color": "#E5ECF6",
              "width": 0.5
             },
             "pattern": {
              "fillmode": "overlay",
              "size": 10,
              "solidity": 0.2
             }
            },
            "type": "barpolar"
           }
          ],
          "carpet": [
           {
            "aaxis": {
             "endlinecolor": "#2a3f5f",
             "gridcolor": "white",
             "linecolor": "white",
             "minorgridcolor": "white",
             "startlinecolor": "#2a3f5f"
            },
            "baxis": {
             "endlinecolor": "#2a3f5f",
             "gridcolor": "white",
             "linecolor": "white",
             "minorgridcolor": "white",
             "startlinecolor": "#2a3f5f"
            },
            "type": "carpet"
           }
          ],
          "choropleth": [
           {
            "colorbar": {
             "outlinewidth": 0,
             "ticks": ""
            },
            "type": "choropleth"
           }
          ],
          "contour": [
           {
            "colorbar": {
             "outlinewidth": 0,
             "ticks": ""
            },
            "colorscale": [
             [
              0,
              "#0d0887"
             ],
             [
              0.1111111111111111,
              "#46039f"
             ],
             [
              0.2222222222222222,
              "#7201a8"
             ],
             [
              0.3333333333333333,
              "#9c179e"
             ],
             [
              0.4444444444444444,
              "#bd3786"
             ],
             [
              0.5555555555555556,
              "#d8576b"
             ],
             [
              0.6666666666666666,
              "#ed7953"
             ],
             [
              0.7777777777777778,
              "#fb9f3a"
             ],
             [
              0.8888888888888888,
              "#fdca26"
             ],
             [
              1,
              "#f0f921"
             ]
            ],
            "type": "contour"
           }
          ],
          "contourcarpet": [
           {
            "colorbar": {
             "outlinewidth": 0,
             "ticks": ""
            },
            "type": "contourcarpet"
           }
          ],
          "heatmap": [
           {
            "colorbar": {
             "outlinewidth": 0,
             "ticks": ""
            },
            "colorscale": [
             [
              0,
              "#0d0887"
             ],
             [
              0.1111111111111111,
              "#46039f"
             ],
             [
              0.2222222222222222,
              "#7201a8"
             ],
             [
              0.3333333333333333,
              "#9c179e"
             ],
             [
              0.4444444444444444,
              "#bd3786"
             ],
             [
              0.5555555555555556,
              "#d8576b"
             ],
             [
              0.6666666666666666,
              "#ed7953"
             ],
             [
              0.7777777777777778,
              "#fb9f3a"
             ],
             [
              0.8888888888888888,
              "#fdca26"
             ],
             [
              1,
              "#f0f921"
             ]
            ],
            "type": "heatmap"
           }
          ],
          "heatmapgl": [
           {
            "colorbar": {
             "outlinewidth": 0,
             "ticks": ""
            },
            "colorscale": [
             [
              0,
              "#0d0887"
             ],
             [
              0.1111111111111111,
              "#46039f"
             ],
             [
              0.2222222222222222,
              "#7201a8"
             ],
             [
              0.3333333333333333,
              "#9c179e"
             ],
             [
              0.4444444444444444,
              "#bd3786"
             ],
             [
              0.5555555555555556,
              "#d8576b"
             ],
             [
              0.6666666666666666,
              "#ed7953"
             ],
             [
              0.7777777777777778,
              "#fb9f3a"
             ],
             [
              0.8888888888888888,
              "#fdca26"
             ],
             [
              1,
              "#f0f921"
             ]
            ],
            "type": "heatmapgl"
           }
          ],
          "histogram": [
           {
            "marker": {
             "pattern": {
              "fillmode": "overlay",
              "size": 10,
              "solidity": 0.2
             }
            },
            "type": "histogram"
           }
          ],
          "histogram2d": [
           {
            "colorbar": {
             "outlinewidth": 0,
             "ticks": ""
            },
            "colorscale": [
             [
              0,
              "#0d0887"
             ],
             [
              0.1111111111111111,
              "#46039f"
             ],
             [
              0.2222222222222222,
              "#7201a8"
             ],
             [
              0.3333333333333333,
              "#9c179e"
             ],
             [
              0.4444444444444444,
              "#bd3786"
             ],
             [
              0.5555555555555556,
              "#d8576b"
             ],
             [
              0.6666666666666666,
              "#ed7953"
             ],
             [
              0.7777777777777778,
              "#fb9f3a"
             ],
             [
              0.8888888888888888,
              "#fdca26"
             ],
             [
              1,
              "#f0f921"
             ]
            ],
            "type": "histogram2d"
           }
          ],
          "histogram2dcontour": [
           {
            "colorbar": {
             "outlinewidth": 0,
             "ticks": ""
            },
            "colorscale": [
             [
              0,
              "#0d0887"
             ],
             [
              0.1111111111111111,
              "#46039f"
             ],
             [
              0.2222222222222222,
              "#7201a8"
             ],
             [
              0.3333333333333333,
              "#9c179e"
             ],
             [
              0.4444444444444444,
              "#bd3786"
             ],
             [
              0.5555555555555556,
              "#d8576b"
             ],
             [
              0.6666666666666666,
              "#ed7953"
             ],
             [
              0.7777777777777778,
              "#fb9f3a"
             ],
             [
              0.8888888888888888,
              "#fdca26"
             ],
             [
              1,
              "#f0f921"
             ]
            ],
            "type": "histogram2dcontour"
           }
          ],
          "mesh3d": [
           {
            "colorbar": {
             "outlinewidth": 0,
             "ticks": ""
            },
            "type": "mesh3d"
           }
          ],
          "parcoords": [
           {
            "line": {
             "colorbar": {
              "outlinewidth": 0,
              "ticks": ""
             }
            },
            "type": "parcoords"
           }
          ],
          "pie": [
           {
            "automargin": true,
            "type": "pie"
           }
          ],
          "scatter": [
           {
            "fillpattern": {
             "fillmode": "overlay",
             "size": 10,
             "solidity": 0.2
            },
            "type": "scatter"
           }
          ],
          "scatter3d": [
           {
            "line": {
             "colorbar": {
              "outlinewidth": 0,
              "ticks": ""
             }
            },
            "marker": {
             "colorbar": {
              "outlinewidth": 0,
              "ticks": ""
             }
            },
            "type": "scatter3d"
           }
          ],
          "scattercarpet": [
           {
            "marker": {
             "colorbar": {
              "outlinewidth": 0,
              "ticks": ""
             }
            },
            "type": "scattercarpet"
           }
          ],
          "scattergeo": [
           {
            "marker": {
             "colorbar": {
              "outlinewidth": 0,
              "ticks": ""
             }
            },
            "type": "scattergeo"
           }
          ],
          "scattergl": [
           {
            "marker": {
             "colorbar": {
              "outlinewidth": 0,
              "ticks": ""
             }
            },
            "type": "scattergl"
           }
          ],
          "scattermapbox": [
           {
            "marker": {
             "colorbar": {
              "outlinewidth": 0,
              "ticks": ""
             }
            },
            "type": "scattermapbox"
           }
          ],
          "scatterpolar": [
           {
            "marker": {
             "colorbar": {
              "outlinewidth": 0,
              "ticks": ""
             }
            },
            "type": "scatterpolar"
           }
          ],
          "scatterpolargl": [
           {
            "marker": {
             "colorbar": {
              "outlinewidth": 0,
              "ticks": ""
             }
            },
            "type": "scatterpolargl"
           }
          ],
          "scatterternary": [
           {
            "marker": {
             "colorbar": {
              "outlinewidth": 0,
              "ticks": ""
             }
            },
            "type": "scatterternary"
           }
          ],
          "surface": [
           {
            "colorbar": {
             "outlinewidth": 0,
             "ticks": ""
            },
            "colorscale": [
             [
              0,
              "#0d0887"
             ],
             [
              0.1111111111111111,
              "#46039f"
             ],
             [
              0.2222222222222222,
              "#7201a8"
             ],
             [
              0.3333333333333333,
              "#9c179e"
             ],
             [
              0.4444444444444444,
              "#bd3786"
             ],
             [
              0.5555555555555556,
              "#d8576b"
             ],
             [
              0.6666666666666666,
              "#ed7953"
             ],
             [
              0.7777777777777778,
              "#fb9f3a"
             ],
             [
              0.8888888888888888,
              "#fdca26"
             ],
             [
              1,
              "#f0f921"
             ]
            ],
            "type": "surface"
           }
          ],
          "table": [
           {
            "cells": {
             "fill": {
              "color": "#EBF0F8"
             },
             "line": {
              "color": "white"
             }
            },
            "header": {
             "fill": {
              "color": "#C8D4E3"
             },
             "line": {
              "color": "white"
             }
            },
            "type": "table"
           }
          ]
         },
         "layout": {
          "annotationdefaults": {
           "arrowcolor": "#2a3f5f",
           "arrowhead": 0,
           "arrowwidth": 1
          },
          "autotypenumbers": "strict",
          "coloraxis": {
           "colorbar": {
            "outlinewidth": 0,
            "ticks": ""
           }
          },
          "colorscale": {
           "diverging": [
            [
             0,
             "#8e0152"
            ],
            [
             0.1,
             "#c51b7d"
            ],
            [
             0.2,
             "#de77ae"
            ],
            [
             0.3,
             "#f1b6da"
            ],
            [
             0.4,
             "#fde0ef"
            ],
            [
             0.5,
             "#f7f7f7"
            ],
            [
             0.6,
             "#e6f5d0"
            ],
            [
             0.7,
             "#b8e186"
            ],
            [
             0.8,
             "#7fbc41"
            ],
            [
             0.9,
             "#4d9221"
            ],
            [
             1,
             "#276419"
            ]
           ],
           "sequential": [
            [
             0,
             "#0d0887"
            ],
            [
             0.1111111111111111,
             "#46039f"
            ],
            [
             0.2222222222222222,
             "#7201a8"
            ],
            [
             0.3333333333333333,
             "#9c179e"
            ],
            [
             0.4444444444444444,
             "#bd3786"
            ],
            [
             0.5555555555555556,
             "#d8576b"
            ],
            [
             0.6666666666666666,
             "#ed7953"
            ],
            [
             0.7777777777777778,
             "#fb9f3a"
            ],
            [
             0.8888888888888888,
             "#fdca26"
            ],
            [
             1,
             "#f0f921"
            ]
           ],
           "sequentialminus": [
            [
             0,
             "#0d0887"
            ],
            [
             0.1111111111111111,
             "#46039f"
            ],
            [
             0.2222222222222222,
             "#7201a8"
            ],
            [
             0.3333333333333333,
             "#9c179e"
            ],
            [
             0.4444444444444444,
             "#bd3786"
            ],
            [
             0.5555555555555556,
             "#d8576b"
            ],
            [
             0.6666666666666666,
             "#ed7953"
            ],
            [
             0.7777777777777778,
             "#fb9f3a"
            ],
            [
             0.8888888888888888,
             "#fdca26"
            ],
            [
             1,
             "#f0f921"
            ]
           ]
          },
          "colorway": [
           "#636efa",
           "#EF553B",
           "#00cc96",
           "#ab63fa",
           "#FFA15A",
           "#19d3f3",
           "#FF6692",
           "#B6E880",
           "#FF97FF",
           "#FECB52"
          ],
          "font": {
           "color": "#2a3f5f"
          },
          "geo": {
           "bgcolor": "white",
           "lakecolor": "white",
           "landcolor": "#E5ECF6",
           "showlakes": true,
           "showland": true,
           "subunitcolor": "white"
          },
          "hoverlabel": {
           "align": "left"
          },
          "hovermode": "closest",
          "mapbox": {
           "style": "light"
          },
          "paper_bgcolor": "white",
          "plot_bgcolor": "#E5ECF6",
          "polar": {
           "angularaxis": {
            "gridcolor": "white",
            "linecolor": "white",
            "ticks": ""
           },
           "bgcolor": "#E5ECF6",
           "radialaxis": {
            "gridcolor": "white",
            "linecolor": "white",
            "ticks": ""
           }
          },
          "scene": {
           "xaxis": {
            "backgroundcolor": "#E5ECF6",
            "gridcolor": "white",
            "gridwidth": 2,
            "linecolor": "white",
            "showbackground": true,
            "ticks": "",
            "zerolinecolor": "white"
           },
           "yaxis": {
            "backgroundcolor": "#E5ECF6",
            "gridcolor": "white",
            "gridwidth": 2,
            "linecolor": "white",
            "showbackground": true,
            "ticks": "",
            "zerolinecolor": "white"
           },
           "zaxis": {
            "backgroundcolor": "#E5ECF6",
            "gridcolor": "white",
            "gridwidth": 2,
            "linecolor": "white",
            "showbackground": true,
            "ticks": "",
            "zerolinecolor": "white"
           }
          },
          "shapedefaults": {
           "line": {
            "color": "#2a3f5f"
           }
          },
          "ternary": {
           "aaxis": {
            "gridcolor": "white",
            "linecolor": "white",
            "ticks": ""
           },
           "baxis": {
            "gridcolor": "white",
            "linecolor": "white",
            "ticks": ""
           },
           "bgcolor": "#E5ECF6",
           "caxis": {
            "gridcolor": "white",
            "linecolor": "white",
            "ticks": ""
           }
          },
          "title": {
           "x": 0.05
          },
          "xaxis": {
           "automargin": true,
           "gridcolor": "white",
           "linecolor": "white",
           "ticks": "",
           "title": {
            "standoff": 15
           },
           "zerolinecolor": "white",
           "zerolinewidth": 2
          },
          "yaxis": {
           "automargin": true,
           "gridcolor": "white",
           "linecolor": "white",
           "ticks": "",
           "title": {
            "standoff": 15
           },
           "zerolinecolor": "white",
           "zerolinewidth": 2
          }
         }
        },
        "title": {
         "text": "Top 120 by Duration and Ranking"
        },
        "xaxis": {
         "anchor": "y",
         "domain": [
          0,
          1
         ],
         "title": {
          "text": "Dur_Shrink"
         }
        },
        "yaxis": {
         "anchor": "x",
         "domain": [
          0,
          1
         ],
         "title": {
          "text": "Ranking"
         }
        }
       }
      }
     },
     "metadata": {},
     "output_type": "display_data"
    }
   ],
   "source": [
    "fig8 = px.scatter(result_vis, x='Dur_Shrink', y='Ranking', color='Category', size='Followers', hover_data=['N','Title','Username','Followers'], title='Top 120 by Duration and Ranking')\n",
    "fig8.show()"
   ]
  },
  {
   "cell_type": "code",
   "execution_count": 203,
   "metadata": {},
   "outputs": [],
   "source": [
    "fig1.write_html(\"Top 120 Count by Category.html\")\n",
    "fig2.write_html(\"Top 120 Count by Subcategory.html\")\n",
    "fig3.write_html(\"Top 120 by Selected and Followers.html\")\n",
    "fig4.write_html(\"Top 120 Count by Duration.html\")\n",
    "fig5.write_html(\"Top 120 total Rank by Category.html\")\n",
    "fig6.write_html(\"Top 120 Rank distribution by Category.html\")\n",
    "fig7.write_html(\"Top 120 Duration distribution by Category.html\")\n",
    "fig8.write_html(\"Top 120 by Duration and Ranking.html\")\n",
    "\n"
   ]
  },
  {
   "cell_type": "code",
   "execution_count": 228,
   "metadata": {},
   "outputs": [
    {
     "data": {
      "application/vnd.plotly.v1+json": {
       "config": {
        "plotlyServerURL": "https://plot.ly"
       },
       "data": [
        {
         "hovertemplate": "Title=Christmas tree with fireplace 5<br>Curdate=%{x}<br>Ranking=%{y}<extra></extra>",
         "legendgroup": "Christmas tree with fireplace 5",
         "line": {
          "color": "#636efa",
          "dash": "solid"
         },
         "marker": {
          "symbol": "circle"
         },
         "mode": "lines",
         "name": "Christmas tree with fireplace 5",
         "orientation": "v",
         "showlegend": true,
         "type": "scatter",
         "x": [
          "2024-11-26",
          "2024-11-27",
          "2024-11-28",
          "2024-11-29",
          "2024-11-30"
         ],
         "xaxis": "x",
         "y": [
          120,
          120,
          120,
          120,
          120
         ],
         "yaxis": "y"
        },
        {
         "hovertemplate": "Title=Benuta Leon Cream Wool Rug<br>Curdate=%{x}<br>Ranking=%{y}<extra></extra>",
         "legendgroup": "Benuta Leon Cream Wool Rug",
         "line": {
          "color": "#EF553B",
          "dash": "solid"
         },
         "marker": {
          "symbol": "circle"
         },
         "mode": "lines",
         "name": "Benuta Leon Cream Wool Rug",
         "orientation": "v",
         "showlegend": true,
         "type": "scatter",
         "x": [
          "2024-11-26",
          "2024-11-27",
          "2024-11-28",
          "2024-11-29",
          "2024-11-30"
         ],
         "xaxis": "x",
         "y": [
          119,
          119,
          119,
          119,
          119
         ],
         "yaxis": "y"
        },
        {
         "hovertemplate": "Title=Office chair Ashley<br>Curdate=%{x}<br>Ranking=%{y}<extra></extra>",
         "legendgroup": "Office chair Ashley",
         "line": {
          "color": "#00cc96",
          "dash": "solid"
         },
         "marker": {
          "symbol": "circle"
         },
         "mode": "lines",
         "name": "Office chair Ashley",
         "orientation": "v",
         "showlegend": true,
         "type": "scatter",
         "x": [
          "2024-11-26",
          "2024-11-27",
          "2024-11-28",
          "2024-11-29",
          "2024-11-30"
         ],
         "xaxis": "x",
         "y": [
          118,
          117,
          117,
          118,
          118
         ],
         "yaxis": "y"
        },
        {
         "hovertemplate": "Title=Indoor Plant Set 89<br>Curdate=%{x}<br>Ranking=%{y}<extra></extra>",
         "legendgroup": "Indoor Plant Set 89",
         "line": {
          "color": "#ab63fa",
          "dash": "solid"
         },
         "marker": {
          "symbol": "circle"
         },
         "mode": "lines",
         "name": "Indoor Plant Set 89",
         "orientation": "v",
         "showlegend": true,
         "type": "scatter",
         "x": [
          "2024-11-26",
          "2024-11-27",
          "2024-11-28",
          "2024-11-29",
          "2024-11-30"
         ],
         "xaxis": "x",
         "y": [
          117,
          116,
          118,
          116,
          117
         ],
         "yaxis": "y"
        },
        {
         "hovertemplate": "Title=Boucle Fabric<br>Curdate=%{x}<br>Ranking=%{y}<extra></extra>",
         "legendgroup": "Boucle Fabric",
         "line": {
          "color": "#FFA15A",
          "dash": "solid"
         },
         "marker": {
          "symbol": "circle"
         },
         "mode": "lines",
         "name": "Boucle Fabric",
         "orientation": "v",
         "showlegend": true,
         "type": "scatter",
         "x": [
          "2024-11-26",
          "2024-11-27",
          "2024-11-28",
          "2024-11-29",
          "2024-11-30"
         ],
         "xaxis": "x",
         "y": [
          116,
          118,
          115,
          115,
          115
         ],
         "yaxis": "y"
        },
        {
         "hovertemplate": "Title=Clothes for wardrobe NG15<br>Curdate=%{x}<br>Ranking=%{y}<extra></extra>",
         "legendgroup": "Clothes for wardrobe NG15",
         "line": {
          "color": "#19d3f3",
          "dash": "solid"
         },
         "marker": {
          "symbol": "circle"
         },
         "mode": "lines",
         "name": "Clothes for wardrobe NG15",
         "orientation": "v",
         "showlegend": true,
         "type": "scatter",
         "x": [
          "2024-11-26",
          "2024-11-27",
          "2024-11-28",
          "2024-11-29",
          "2024-11-30"
         ],
         "xaxis": "x",
         "y": [
          115,
          115,
          116,
          117,
          116
         ],
         "yaxis": "y"
        },
        {
         "hovertemplate": "Title=Benuta Dave Rectangular Fur Rug (3 colors)<br>Curdate=%{x}<br>Ranking=%{y}<extra></extra>",
         "legendgroup": "Benuta Dave Rectangular Fur Rug (3 colors)",
         "line": {
          "color": "#FF6692",
          "dash": "solid"
         },
         "marker": {
          "symbol": "circle"
         },
         "mode": "lines",
         "name": "Benuta Dave Rectangular Fur Rug (3 colors)",
         "orientation": "v",
         "showlegend": true,
         "type": "scatter",
         "x": [
          "2024-11-26",
          "2024-11-27",
          "2024-11-28",
          "2024-11-29",
          "2024-11-30"
         ],
         "xaxis": "x",
         "y": [
          114,
          114,
          113,
          114,
          114
         ],
         "yaxis": "y"
        },
        {
         "hovertemplate": "Title=Decorative Set 089<br>Curdate=%{x}<br>Ranking=%{y}<extra></extra>",
         "legendgroup": "Decorative Set 089",
         "line": {
          "color": "#B6E880",
          "dash": "solid"
         },
         "marker": {
          "symbol": "circle"
         },
         "mode": "lines",
         "name": "Decorative Set 089",
         "orientation": "v",
         "showlegend": true,
         "type": "scatter",
         "x": [
          "2024-11-26",
          "2024-11-27",
          "2024-11-28",
          "2024-11-29",
          "2024-11-30"
         ],
         "xaxis": "x",
         "y": [
          113,
          113,
          114,
          111,
          111
         ],
         "yaxis": "y"
        },
        {
         "hovertemplate": "Title=Kitchen 10<br>Curdate=%{x}<br>Ranking=%{y}<extra></extra>",
         "legendgroup": "Kitchen 10",
         "line": {
          "color": "#FF97FF",
          "dash": "solid"
         },
         "marker": {
          "symbol": "circle"
         },
         "mode": "lines",
         "name": "Kitchen 10",
         "orientation": "v",
         "showlegend": true,
         "type": "scatter",
         "x": [
          "2024-11-26",
          "2024-11-27",
          "2024-11-28",
          "2024-11-29",
          "2024-11-30"
         ],
         "xaxis": "x",
         "y": [
          112,
          112,
          111,
          112,
          112
         ],
         "yaxis": "y"
        },
        {
         "hovertemplate": "Title=Curtains with Roman blinds 2<br>Curdate=%{x}<br>Ranking=%{y}<extra></extra>",
         "legendgroup": "Curtains with Roman blinds 2",
         "line": {
          "color": "#FECB52",
          "dash": "solid"
         },
         "marker": {
          "symbol": "circle"
         },
         "mode": "lines",
         "name": "Curtains with Roman blinds 2",
         "orientation": "v",
         "showlegend": true,
         "type": "scatter",
         "x": [
          "2024-11-26",
          "2024-11-27",
          "2024-11-28",
          "2024-11-29",
          "2024-11-30"
         ],
         "xaxis": "x",
         "y": [
          111,
          111,
          112,
          113,
          113
         ],
         "yaxis": "y"
        },
        {
         "hovertemplate": "Title=Decorative Set 088<br>Curdate=%{x}<br>Ranking=%{y}<extra></extra>",
         "legendgroup": "Decorative Set 088",
         "line": {
          "color": "#636efa",
          "dash": "solid"
         },
         "marker": {
          "symbol": "circle"
         },
         "mode": "lines",
         "name": "Decorative Set 088",
         "orientation": "v",
         "showlegend": true,
         "type": "scatter",
         "x": [
          "2024-11-26",
          "2024-11-27",
          "2024-11-28",
          "2024-11-29",
          "2024-11-30"
         ],
         "xaxis": "x",
         "y": [
          110,
          110,
          110,
          106,
          106
         ],
         "yaxis": "y"
        },
        {
         "hovertemplate": "Title=A set of clothes in bright colors for a wardrobe or showroom and a store<br>Curdate=%{x}<br>Ranking=%{y}<extra></extra>",
         "legendgroup": "A set of clothes in bright colors for a wardrobe or showroom and a store",
         "line": {
          "color": "#EF553B",
          "dash": "solid"
         },
         "marker": {
          "symbol": "circle"
         },
         "mode": "lines",
         "name": "A set of clothes in bright colors for a wardrobe or showroom and a store",
         "orientation": "v",
         "showlegend": true,
         "type": "scatter",
         "x": [
          "2024-11-26",
          "2024-11-27",
          "2024-11-28",
          "2024-11-29",
          "2024-11-30"
         ],
         "xaxis": "x",
         "y": [
          109,
          100,
          106,
          98,
          97
         ],
         "yaxis": "y"
        },
        {
         "hovertemplate": "Title=Office chair Sergio La Redoute<br>Curdate=%{x}<br>Ranking=%{y}<extra></extra>",
         "legendgroup": "Office chair Sergio La Redoute",
         "line": {
          "color": "#00cc96",
          "dash": "solid"
         },
         "marker": {
          "symbol": "circle"
         },
         "mode": "lines",
         "name": "Office chair Sergio La Redoute",
         "orientation": "v",
         "showlegend": true,
         "type": "scatter",
         "x": [
          "2024-11-26",
          "2024-11-27",
          "2024-11-28",
          "2024-11-29",
          "2024-11-30"
         ],
         "xaxis": "x",
         "y": [
          108,
          107,
          99,
          62,
          64
         ],
         "yaxis": "y"
        },
        {
         "hovertemplate": "Title=TV wall with Xiaomi laser projector<br>Curdate=%{x}<br>Ranking=%{y}<extra></extra>",
         "legendgroup": "TV wall with Xiaomi laser projector",
         "line": {
          "color": "#ab63fa",
          "dash": "solid"
         },
         "marker": {
          "symbol": "circle"
         },
         "mode": "lines",
         "name": "TV wall with Xiaomi laser projector",
         "orientation": "v",
         "showlegend": true,
         "type": "scatter",
         "x": [
          "2024-11-26",
          "2024-11-27",
          "2024-11-28",
          "2024-11-29",
          "2024-11-30"
         ],
         "xaxis": "x",
         "y": [
          107,
          101,
          101,
          101,
          101
         ],
         "yaxis": "y"
        },
        {
         "hovertemplate": "Title=Dressing room 16<br>Curdate=%{x}<br>Ranking=%{y}<extra></extra>",
         "legendgroup": "Dressing room 16",
         "line": {
          "color": "#FFA15A",
          "dash": "solid"
         },
         "marker": {
          "symbol": "circle"
         },
         "mode": "lines",
         "name": "Dressing room 16",
         "orientation": "v",
         "showlegend": true,
         "type": "scatter",
         "x": [
          "2024-11-26",
          "2024-11-27",
          "2024-11-28",
          "2024-11-29",
          "2024-11-30"
         ],
         "xaxis": "x",
         "y": [
          106,
          109,
          107,
          100,
          100
         ],
         "yaxis": "y"
        },
        {
         "hovertemplate": "Title=Carpeting. Seamless carpet<br>Curdate=%{x}<br>Ranking=%{y}<extra></extra>",
         "legendgroup": "Carpeting. Seamless carpet",
         "line": {
          "color": "#19d3f3",
          "dash": "solid"
         },
         "marker": {
          "symbol": "circle"
         },
         "mode": "lines",
         "name": "Carpeting. Seamless carpet",
         "orientation": "v",
         "showlegend": true,
         "type": "scatter",
         "x": [
          "2024-11-26",
          "2024-11-27",
          "2024-11-28",
          "2024-11-29",
          "2024-11-30"
         ],
         "xaxis": "x",
         "y": [
          105,
          108,
          109,
          110,
          110
         ],
         "yaxis": "y"
        },
        {
         "hovertemplate": "Title=Roman blinds, Roman blinds<br>Curdate=%{x}<br>Ranking=%{y}<extra></extra>",
         "legendgroup": "Roman blinds, Roman blinds",
         "line": {
          "color": "#FF6692",
          "dash": "solid"
         },
         "marker": {
          "symbol": "circle"
         },
         "mode": "lines",
         "name": "Roman blinds, Roman blinds",
         "orientation": "v",
         "showlegend": true,
         "type": "scatter",
         "x": [
          "2024-11-26",
          "2024-11-27",
          "2024-11-28",
          "2024-11-29",
          "2024-11-30"
         ],
         "xaxis": "x",
         "y": [
          104,
          105,
          103,
          96,
          96
         ],
         "yaxis": "y"
        },
        {
         "hovertemplate": "Title=Basic wardrobe made of cabinet furniture with doors<br>Curdate=%{x}<br>Ranking=%{y}<extra></extra>",
         "legendgroup": "Basic wardrobe made of cabinet furniture with doors",
         "line": {
          "color": "#B6E880",
          "dash": "solid"
         },
         "marker": {
          "symbol": "circle"
         },
         "mode": "lines",
         "name": "Basic wardrobe made of cabinet furniture with doors",
         "orientation": "v",
         "showlegend": true,
         "type": "scatter",
         "x": [
          "2024-11-26",
          "2024-11-27",
          "2024-11-28",
          "2024-11-29",
          "2024-11-30"
         ],
         "xaxis": "x",
         "y": [
          103,
          104,
          102,
          87,
          87
         ],
         "yaxis": "y"
        },
        {
         "hovertemplate": "Title=Bathroom decor with a set of different cosmetic products<br>Curdate=%{x}<br>Ranking=%{y}<extra></extra>",
         "legendgroup": "Bathroom decor with a set of different cosmetic products",
         "line": {
          "color": "#FF97FF",
          "dash": "solid"
         },
         "marker": {
          "symbol": "circle"
         },
         "mode": "lines",
         "name": "Bathroom decor with a set of different cosmetic products",
         "orientation": "v",
         "showlegend": true,
         "type": "scatter",
         "x": [
          "2024-11-26",
          "2024-11-27",
          "2024-11-28",
          "2024-11-29",
          "2024-11-30"
         ],
         "xaxis": "x",
         "y": [
          102,
          96,
          95,
          108,
          108
         ],
         "yaxis": "y"
        },
        {
         "hovertemplate": "Title=Cecily Nara bedside table Cosmo<br>Curdate=%{x}<br>Ranking=%{y}<extra></extra>",
         "legendgroup": "Cecily Nara bedside table Cosmo",
         "line": {
          "color": "#FECB52",
          "dash": "solid"
         },
         "marker": {
          "symbol": "circle"
         },
         "mode": "lines",
         "name": "Cecily Nara bedside table Cosmo",
         "orientation": "v",
         "showlegend": true,
         "type": "scatter",
         "x": [
          "2024-11-26",
          "2024-11-27",
          "2024-11-28",
          "2024-11-29",
          "2024-11-30"
         ],
         "xaxis": "x",
         "y": [
          101,
          89,
          86,
          80,
          80
         ],
         "yaxis": "y"
        },
        {
         "hovertemplate": "Title=Cairns pedestal Divan.ru<br>Curdate=%{x}<br>Ranking=%{y}<extra></extra>",
         "legendgroup": "Cairns pedestal Divan.ru",
         "line": {
          "color": "#636efa",
          "dash": "solid"
         },
         "marker": {
          "symbol": "circle"
         },
         "mode": "lines",
         "name": "Cairns pedestal Divan.ru",
         "orientation": "v",
         "showlegend": true,
         "type": "scatter",
         "x": [
          "2024-11-26",
          "2024-11-27",
          "2024-11-28",
          "2024-11-29",
          "2024-11-30"
         ],
         "xaxis": "x",
         "y": [
          100,
          106,
          105,
          107,
          107
         ],
         "yaxis": "y"
        },
        {
         "hovertemplate": "Title=Snow<br>Curdate=%{x}<br>Ranking=%{y}<extra></extra>",
         "legendgroup": "Snow",
         "line": {
          "color": "#EF553B",
          "dash": "solid"
         },
         "marker": {
          "symbol": "circle"
         },
         "mode": "lines",
         "name": "Snow",
         "orientation": "v",
         "showlegend": true,
         "type": "scatter",
         "x": [
          "2024-11-26",
          "2024-11-27",
          "2024-11-28",
          "2024-11-29",
          "2024-11-30"
         ],
         "xaxis": "x",
         "y": [
          99,
          98,
          97,
          102,
          102
         ],
         "yaxis": "y"
        },
        {
         "hovertemplate": "Title=Glass Block Wall 08<br>Curdate=%{x}<br>Ranking=%{y}<extra></extra>",
         "legendgroup": "Glass Block Wall 08",
         "line": {
          "color": "#00cc96",
          "dash": "solid"
         },
         "marker": {
          "symbol": "circle"
         },
         "mode": "lines",
         "name": "Glass Block Wall 08",
         "orientation": "v",
         "showlegend": true,
         "type": "scatter",
         "x": [
          "2024-11-26",
          "2024-11-27",
          "2024-11-28",
          "2024-11-29",
          "2024-11-30"
         ],
         "xaxis": "x",
         "y": [
          98,
          97,
          96,
          86,
          85
         ],
         "yaxis": "y"
        },
        {
         "hovertemplate": "Title=Faucets and showers Boheme uno set 2<br>Curdate=%{x}<br>Ranking=%{y}<extra></extra>",
         "legendgroup": "Faucets and showers Boheme uno set 2",
         "line": {
          "color": "#ab63fa",
          "dash": "solid"
         },
         "marker": {
          "symbol": "circle"
         },
         "mode": "lines",
         "name": "Faucets and showers Boheme uno set 2",
         "orientation": "v",
         "showlegend": true,
         "type": "scatter",
         "x": [
          "2024-11-26",
          "2024-11-27",
          "2024-11-28",
          "2024-11-29",
          "2024-11-30"
         ],
         "xaxis": "x",
         "y": [
          97,
          84,
          89,
          104,
          104
         ],
         "yaxis": "y"
        },
        {
         "hovertemplate": "Title=Porcelain tiles Nolana Estima<br>Curdate=%{x}<br>Ranking=%{y}<extra></extra>",
         "legendgroup": "Porcelain tiles Nolana Estima",
         "line": {
          "color": "#FFA15A",
          "dash": "solid"
         },
         "marker": {
          "symbol": "circle"
         },
         "mode": "lines",
         "name": "Porcelain tiles Nolana Estima",
         "orientation": "v",
         "showlegend": true,
         "type": "scatter",
         "x": [
          "2024-11-26",
          "2024-11-27",
          "2024-11-28",
          "2024-11-29",
          "2024-11-30"
         ],
         "xaxis": "x",
         "y": [
          96,
          95,
          88,
          91,
          90
         ],
         "yaxis": "y"
        },
        {
         "hovertemplate": "Title=Omnires mixers<br>Curdate=%{x}<br>Ranking=%{y}<extra></extra>",
         "legendgroup": "Omnires mixers",
         "line": {
          "color": "#19d3f3",
          "dash": "solid"
         },
         "marker": {
          "symbol": "circle"
         },
         "mode": "lines",
         "name": "Omnires mixers",
         "orientation": "v",
         "showlegend": true,
         "type": "scatter",
         "x": [
          "2024-11-26",
          "2024-11-27",
          "2024-11-28",
          "2024-11-29",
          "2024-11-30"
         ],
         "xaxis": "x",
         "y": [
          95,
          103,
          100,
          95,
          94
         ],
         "yaxis": "y"
        },
        {
         "hovertemplate": "Title=3DArt Relief NG41<br>Curdate=%{x}<br>Ranking=%{y}<extra></extra>",
         "legendgroup": "3DArt Relief NG41",
         "line": {
          "color": "#FF6692",
          "dash": "solid"
         },
         "marker": {
          "symbol": "circle"
         },
         "mode": "lines",
         "name": "3DArt Relief NG41",
         "orientation": "v",
         "showlegend": true,
         "type": "scatter",
         "x": [
          "2024-11-26",
          "2024-11-27",
          "2024-11-28",
          "2024-11-29",
          "2024-11-30"
         ],
         "xaxis": "x",
         "y": [
          94,
          90,
          78,
          73,
          73
         ],
         "yaxis": "y"
        },
        {
         "hovertemplate": "Title=Decorative Set 270<br>Curdate=%{x}<br>Ranking=%{y}<extra></extra>",
         "legendgroup": "Decorative Set 270",
         "line": {
          "color": "#B6E880",
          "dash": "solid"
         },
         "marker": {
          "symbol": "circle"
         },
         "mode": "lines",
         "name": "Decorative Set 270",
         "orientation": "v",
         "showlegend": true,
         "type": "scatter",
         "x": [
          "2024-11-26",
          "2024-11-27",
          "2024-11-28",
          "2024-11-29",
          "2024-11-30"
         ],
         "xaxis": "x",
         "y": [
          93,
          93,
          59,
          39,
          41
         ],
         "yaxis": "y"
        },
        {
         "hovertemplate": "Title=Grilles for ventilation and air conditioning Redvent<br>Curdate=%{x}<br>Ranking=%{y}<extra></extra>",
         "legendgroup": "Grilles for ventilation and air conditioning Redvent",
         "line": {
          "color": "#FF97FF",
          "dash": "solid"
         },
         "marker": {
          "symbol": "circle"
         },
         "mode": "lines",
         "name": "Grilles for ventilation and air conditioning Redvent",
         "orientation": "v",
         "showlegend": true,
         "type": "scatter",
         "x": [
          "2024-11-26",
          "2024-11-27",
          "2024-11-28",
          "2024-11-29",
          "2024-11-30"
         ],
         "xaxis": "x",
         "y": [
          92,
          82,
          93,
          103,
          103
         ],
         "yaxis": "y"
        },
        {
         "hovertemplate": "Title=kitchen 0252<br>Curdate=%{x}<br>Ranking=%{y}<extra></extra>",
         "legendgroup": "kitchen 0252",
         "line": {
          "color": "#FECB52",
          "dash": "solid"
         },
         "marker": {
          "symbol": "circle"
         },
         "mode": "lines",
         "name": "kitchen 0252",
         "orientation": "v",
         "showlegend": true,
         "type": "scatter",
         "x": [
          "2024-11-26",
          "2024-11-27",
          "2024-11-28",
          "2024-11-29",
          "2024-11-30"
         ],
         "xaxis": "x",
         "y": [
          91,
          69,
          85,
          69,
          61
         ],
         "yaxis": "y"
        },
        {
         "hovertemplate": "Title=Dressing room 28<br>Curdate=%{x}<br>Ranking=%{y}<extra></extra>",
         "legendgroup": "Dressing room 28",
         "line": {
          "color": "#636efa",
          "dash": "solid"
         },
         "marker": {
          "symbol": "circle"
         },
         "mode": "lines",
         "name": "Dressing room 28",
         "orientation": "v",
         "showlegend": true,
         "type": "scatter",
         "x": [
          "2024-11-26",
          "2024-11-27",
          "2024-11-28",
          "2024-11-29",
          "2024-11-30"
         ],
         "xaxis": "x",
         "y": [
          90,
          99,
          108,
          109,
          109
         ],
         "yaxis": "y"
        },
        {
         "hovertemplate": "Title=Interactive panel for children room<br>Curdate=%{x}<br>Ranking=%{y}<extra></extra>",
         "legendgroup": "Interactive panel for children room",
         "line": {
          "color": "#EF553B",
          "dash": "solid"
         },
         "marker": {
          "symbol": "circle"
         },
         "mode": "lines",
         "name": "Interactive panel for children room",
         "orientation": "v",
         "showlegend": true,
         "type": "scatter",
         "x": [
          "2024-11-26",
          "2024-11-27",
          "2024-11-28",
          "2024-11-29",
          "2024-11-30"
         ],
         "xaxis": "x",
         "y": [
          89,
          73,
          43,
          43,
          23
         ],
         "yaxis": "y"
        },
        {
         "hovertemplate": "Title=Kitchen Appliance Bosch Kitchen 81<br>Curdate=%{x}<br>Ranking=%{y}<extra></extra>",
         "legendgroup": "Kitchen Appliance Bosch Kitchen 81",
         "line": {
          "color": "#00cc96",
          "dash": "solid"
         },
         "marker": {
          "symbol": "circle"
         },
         "mode": "lines",
         "name": "Kitchen Appliance Bosch Kitchen 81",
         "orientation": "v",
         "showlegend": true,
         "type": "scatter",
         "x": [
          "2024-11-26",
          "2024-11-27",
          "2024-11-28",
          "2024-11-29",
          "2024-11-30"
         ],
         "xaxis": "x",
         "y": [
          88,
          58,
          40,
          40,
          42
         ],
         "yaxis": "y"
        },
        {
         "hovertemplate": "Title=Children play area | Interactive<br>Curdate=%{x}<br>Ranking=%{y}<extra></extra>",
         "legendgroup": "Children play area | Interactive",
         "line": {
          "color": "#ab63fa",
          "dash": "solid"
         },
         "marker": {
          "symbol": "circle"
         },
         "mode": "lines",
         "name": "Children play area | Interactive",
         "orientation": "v",
         "showlegend": true,
         "type": "scatter",
         "x": [
          "2024-11-26",
          "2024-11-27",
          "2024-11-28",
          "2024-11-29",
          "2024-11-30"
         ],
         "xaxis": "x",
         "y": [
          87,
          87,
          98,
          70,
          70
         ],
         "yaxis": "y"
        },
        {
         "hovertemplate": "Title=Siena Kids Bed By Como<br>Curdate=%{x}<br>Ranking=%{y}<extra></extra>",
         "legendgroup": "Siena Kids Bed By Como",
         "line": {
          "color": "#FFA15A",
          "dash": "solid"
         },
         "marker": {
          "symbol": "circle"
         },
         "mode": "lines",
         "name": "Siena Kids Bed By Como",
         "orientation": "v",
         "showlegend": true,
         "type": "scatter",
         "x": [
          "2024-11-26",
          "2024-11-27",
          "2024-11-28",
          "2024-11-29",
          "2024-11-30"
         ],
         "xaxis": "x",
         "y": [
          86,
          92,
          92,
          93,
          92
         ],
         "yaxis": "y"
        },
        {
         "hovertemplate": "Title=Padel<br>Curdate=%{x}<br>Ranking=%{y}<extra></extra>",
         "legendgroup": "Padel",
         "line": {
          "color": "#19d3f3",
          "dash": "solid"
         },
         "marker": {
          "symbol": "circle"
         },
         "mode": "lines",
         "name": "Padel",
         "orientation": "v",
         "showlegend": true,
         "type": "scatter",
         "x": [
          "2024-11-26",
          "2024-11-27",
          "2024-11-28",
          "2024-11-29",
          "2024-11-30"
         ],
         "xaxis": "x",
         "y": [
          85,
          77,
          91,
          92,
          91
         ],
         "yaxis": "y"
        },
        {
         "hovertemplate": "Title=Robot vacuum cleaner Xiaomi Robot Vacuum Cleaner X20<br>Curdate=%{x}<br>Ranking=%{y}<extra></extra>",
         "legendgroup": "Robot vacuum cleaner Xiaomi Robot Vacuum Cleaner X20",
         "line": {
          "color": "#FF6692",
          "dash": "solid"
         },
         "marker": {
          "symbol": "circle"
         },
         "mode": "lines",
         "name": "Robot vacuum cleaner Xiaomi Robot Vacuum Cleaner X20",
         "orientation": "v",
         "showlegend": true,
         "type": "scatter",
         "x": [
          "2024-11-26",
          "2024-11-27",
          "2024-11-28",
          "2024-11-29",
          "2024-11-30"
         ],
         "xaxis": "x",
         "y": [
          84,
          76,
          90,
          85,
          84
         ],
         "yaxis": "y"
        },
        {
         "hovertemplate": "Title=Wine with chocolate set/1<br>Curdate=%{x}<br>Ranking=%{y}<extra></extra>",
         "legendgroup": "Wine with chocolate set/1",
         "line": {
          "color": "#B6E880",
          "dash": "solid"
         },
         "marker": {
          "symbol": "circle"
         },
         "mode": "lines",
         "name": "Wine with chocolate set/1",
         "orientation": "v",
         "showlegend": true,
         "type": "scatter",
         "x": [
          "2024-11-26",
          "2024-11-27",
          "2024-11-28",
          "2024-11-29",
          "2024-11-30"
         ],
         "xaxis": "x",
         "y": [
          83,
          85,
          76,
          64,
          66
         ],
         "yaxis": "y"
        },
        {
         "hovertemplate": "Title=A bouquet of lilacs in a glass vase<br>Curdate=%{x}<br>Ranking=%{y}<extra></extra>",
         "legendgroup": "A bouquet of lilacs in a glass vase",
         "line": {
          "color": "#FF97FF",
          "dash": "solid"
         },
         "marker": {
          "symbol": "circle"
         },
         "mode": "lines",
         "name": "A bouquet of lilacs in a glass vase",
         "orientation": "v",
         "showlegend": true,
         "type": "scatter",
         "x": [
          "2024-11-26",
          "2024-11-27",
          "2024-11-28",
          "2024-11-29",
          "2024-11-30"
         ],
         "xaxis": "x",
         "y": [
          82,
          91,
          72,
          61,
          63
         ],
         "yaxis": "y"
        },
        {
         "hovertemplate": "Title=Moooi Drape Lights<br>Curdate=%{x}<br>Ranking=%{y}<extra></extra>",
         "legendgroup": "Moooi Drape Lights",
         "line": {
          "color": "#FECB52",
          "dash": "solid"
         },
         "marker": {
          "symbol": "circle"
         },
         "mode": "lines",
         "name": "Moooi Drape Lights",
         "orientation": "v",
         "showlegend": true,
         "type": "scatter",
         "x": [
          "2024-11-26",
          "2024-11-27",
          "2024-11-28",
          "2024-11-29",
          "2024-11-30"
         ],
         "xaxis": "x",
         "y": [
          81,
          102,
          94,
          89,
          88
         ],
         "yaxis": "y"
        },
        {
         "hovertemplate": "Title=Pila Vessels en gold / Jug<br>Curdate=%{x}<br>Ranking=%{y}<extra></extra>",
         "legendgroup": "Pila Vessels en gold / Jug",
         "line": {
          "color": "#636efa",
          "dash": "solid"
         },
         "marker": {
          "symbol": "circle"
         },
         "mode": "lines",
         "name": "Pila Vessels en gold / Jug",
         "orientation": "v",
         "showlegend": true,
         "type": "scatter",
         "x": [
          "2024-11-26",
          "2024-11-27",
          "2024-11-28",
          "2024-11-29",
          "2024-11-30"
         ],
         "xaxis": "x",
         "y": [
          80,
          53,
          57,
          72,
          72
         ],
         "yaxis": "y"
        },
        {
         "hovertemplate": "Title=Panel with waves<br>Curdate=%{x}<br>Ranking=%{y}<extra></extra>",
         "legendgroup": "Panel with waves",
         "line": {
          "color": "#EF553B",
          "dash": "solid"
         },
         "marker": {
          "symbol": "circle"
         },
         "mode": "lines",
         "name": "Panel with waves",
         "orientation": "v",
         "showlegend": true,
         "type": "scatter",
         "x": [
          "2024-11-26",
          "2024-11-27",
          "2024-11-28",
          "2024-11-29",
          "2024-11-30"
         ],
         "xaxis": "x",
         "y": [
          79,
          63,
          67,
          49,
          50
         ],
         "yaxis": "y"
        },
        {
         "hovertemplate": "Title=Bathroom furniture 21<br>Curdate=%{x}<br>Ranking=%{y}<extra></extra>",
         "legendgroup": "Bathroom furniture 21",
         "line": {
          "color": "#00cc96",
          "dash": "solid"
         },
         "marker": {
          "symbol": "circle"
         },
         "mode": "lines",
         "name": "Bathroom furniture 21",
         "orientation": "v",
         "showlegend": true,
         "type": "scatter",
         "x": [
          "2024-11-26",
          "2024-11-27",
          "2024-11-28",
          "2024-11-29",
          "2024-11-30"
         ],
         "xaxis": "x",
         "y": [
          78,
          72,
          80,
          74,
          74
         ],
         "yaxis": "y"
        },
        {
         "hovertemplate": "Title=garage tools set 23<br>Curdate=%{x}<br>Ranking=%{y}<extra></extra>",
         "legendgroup": "garage tools set 23",
         "line": {
          "color": "#ab63fa",
          "dash": "solid"
         },
         "marker": {
          "symbol": "circle"
         },
         "mode": "lines",
         "name": "garage tools set 23",
         "orientation": "v",
         "showlegend": true,
         "type": "scatter",
         "x": [
          "2024-11-26",
          "2024-11-27",
          "2024-11-28",
          "2024-11-29",
          "2024-11-30"
         ],
         "xaxis": "x",
         "y": [
          77,
          59,
          75,
          41,
          43
         ],
         "yaxis": "y"
        },
        {
         "hovertemplate": "Title=Bathroom decor set P06<br>Curdate=%{x}<br>Ranking=%{y}<extra></extra>",
         "legendgroup": "Bathroom decor set P06",
         "line": {
          "color": "#FFA15A",
          "dash": "solid"
         },
         "marker": {
          "symbol": "circle"
         },
         "mode": "lines",
         "name": "Bathroom decor set P06",
         "orientation": "v",
         "showlegend": true,
         "type": "scatter",
         "x": [
          "2024-11-26",
          "2024-11-27",
          "2024-11-28",
          "2024-11-29",
          "2024-11-30"
         ],
         "xaxis": "x",
         "y": [
          76,
          94,
          87,
          99,
          98
         ],
         "yaxis": "y"
        },
        {
         "hovertemplate": "Title=Flat Metal Material<br>Curdate=%{x}<br>Ranking=%{y}<extra></extra>",
         "legendgroup": "Flat Metal Material",
         "line": {
          "color": "#19d3f3",
          "dash": "solid"
         },
         "marker": {
          "symbol": "circle"
         },
         "mode": "lines",
         "name": "Flat Metal Material",
         "orientation": "v",
         "showlegend": true,
         "type": "scatter",
         "x": [
          "2024-11-26",
          "2024-11-27",
          "2024-11-29",
          "2024-11-30"
         ],
         "xaxis": "x",
         "y": [
          75,
          57,
          22,
          20
         ],
         "yaxis": "y"
        },
        {
         "hovertemplate": "Title=Milam chair Divan.ru<br>Curdate=%{x}<br>Ranking=%{y}<extra></extra>",
         "legendgroup": "Milam chair Divan.ru",
         "line": {
          "color": "#FF6692",
          "dash": "solid"
         },
         "marker": {
          "symbol": "circle"
         },
         "mode": "lines",
         "name": "Milam chair Divan.ru",
         "orientation": "v",
         "showlegend": true,
         "type": "scatter",
         "x": [
          "2024-11-26",
          "2024-11-27",
          "2024-11-28",
          "2024-11-29",
          "2024-11-30"
         ],
         "xaxis": "x",
         "y": [
          74,
          71,
          73,
          90,
          89
         ],
         "yaxis": "y"
        },
        {
         "hovertemplate": "Title=Curtains 9<br>Curdate=%{x}<br>Ranking=%{y}<extra></extra>",
         "legendgroup": "Curtains 9",
         "line": {
          "color": "#B6E880",
          "dash": "solid"
         },
         "marker": {
          "symbol": "circle"
         },
         "mode": "lines",
         "name": "Curtains 9",
         "orientation": "v",
         "showlegend": true,
         "type": "scatter",
         "x": [
          "2024-11-26",
          "2024-11-27",
          "2024-11-28",
          "2024-11-29",
          "2024-11-30"
         ],
         "xaxis": "x",
         "y": [
          73,
          35,
          39,
          20,
          18
         ],
         "yaxis": "y"
        },
        {
         "hovertemplate": "Title=Parquet board 4<br>Curdate=%{x}<br>Ranking=%{y}<extra></extra>",
         "legendgroup": "Parquet board 4",
         "line": {
          "color": "#FF97FF",
          "dash": "solid"
         },
         "marker": {
          "symbol": "circle"
         },
         "mode": "lines",
         "name": "Parquet board 4",
         "orientation": "v",
         "showlegend": true,
         "type": "scatter",
         "x": [
          "2024-11-26",
          "2024-11-27",
          "2024-11-28",
          "2024-11-29",
          "2024-11-30"
         ],
         "xaxis": "x",
         "y": [
          72,
          70,
          60,
          81,
          81
         ],
         "yaxis": "y"
        },
        {
         "hovertemplate": "Title=West Elm Curved Modern Upholstered Bed<br>Curdate=%{x}<br>Ranking=%{y}<extra></extra>",
         "legendgroup": "West Elm Curved Modern Upholstered Bed",
         "line": {
          "color": "#FECB52",
          "dash": "solid"
         },
         "marker": {
          "symbol": "circle"
         },
         "mode": "lines",
         "name": "West Elm Curved Modern Upholstered Bed",
         "orientation": "v",
         "showlegend": true,
         "type": "scatter",
         "x": [
          "2024-11-26",
          "2024-11-27",
          "2024-11-28",
          "2024-11-29",
          "2024-11-30"
         ],
         "xaxis": "x",
         "y": [
          71,
          81,
          77,
          71,
          71
         ],
         "yaxis": "y"
        },
        {
         "hovertemplate": "Title=Lindsay Laurie coffee table Divan.ru<br>Curdate=%{x}<br>Ranking=%{y}<extra></extra>",
         "legendgroup": "Lindsay Laurie coffee table Divan.ru",
         "line": {
          "color": "#636efa",
          "dash": "solid"
         },
         "marker": {
          "symbol": "circle"
         },
         "mode": "lines",
         "name": "Lindsay Laurie coffee table Divan.ru",
         "orientation": "v",
         "showlegend": true,
         "type": "scatter",
         "x": [
          "2024-11-26",
          "2024-11-27",
          "2024-11-28",
          "2024-11-29",
          "2024-11-30"
         ],
         "xaxis": "x",
         "y": [
          70,
          88,
          84,
          97,
          95
         ],
         "yaxis": "y"
        },
        {
         "hovertemplate": "Title=Minotti Pilots Bench<br>Curdate=%{x}<br>Ranking=%{y}<extra></extra>",
         "legendgroup": "Minotti Pilots Bench",
         "line": {
          "color": "#EF553B",
          "dash": "solid"
         },
         "marker": {
          "symbol": "circle"
         },
         "mode": "lines",
         "name": "Minotti Pilots Bench",
         "orientation": "v",
         "showlegend": true,
         "type": "scatter",
         "x": [
          "2024-11-26",
          "2024-11-27",
          "2024-11-28",
          "2024-11-29",
          "2024-11-30"
         ],
         "xaxis": "x",
         "y": [
          69,
          28,
          55,
          59,
          60
         ],
         "yaxis": "y"
        },
        {
         "hovertemplate": "Title=Bouquet 06<br>Curdate=%{x}<br>Ranking=%{y}<extra></extra>",
         "legendgroup": "Bouquet 06",
         "line": {
          "color": "#00cc96",
          "dash": "solid"
         },
         "marker": {
          "symbol": "circle"
         },
         "mode": "lines",
         "name": "Bouquet 06",
         "orientation": "v",
         "showlegend": true,
         "type": "scatter",
         "x": [
          "2024-11-26",
          "2024-11-27",
          "2024-11-28",
          "2024-11-29",
          "2024-11-30"
         ],
         "xaxis": "x",
         "y": [
          68,
          79,
          71,
          58,
          59
         ],
         "yaxis": "y"
        },
        {
         "hovertemplate": "Title=Photo Studio Kit<br>Curdate=%{x}<br>Ranking=%{y}<extra></extra>",
         "legendgroup": "Photo Studio Kit",
         "line": {
          "color": "#ab63fa",
          "dash": "solid"
         },
         "marker": {
          "symbol": "circle"
         },
         "mode": "lines",
         "name": "Photo Studio Kit",
         "orientation": "v",
         "showlegend": true,
         "type": "scatter",
         "x": [
          "2024-11-26",
          "2024-11-27",
          "2024-11-28"
         ],
         "xaxis": "x",
         "y": [
          67,
          49,
          29
         ],
         "yaxis": "y"
        },
        {
         "hovertemplate": "Title=Laundry Room _ 0005<br>Curdate=%{x}<br>Ranking=%{y}<extra></extra>",
         "legendgroup": "Laundry Room _ 0005",
         "line": {
          "color": "#FFA15A",
          "dash": "solid"
         },
         "marker": {
          "symbol": "circle"
         },
         "mode": "lines",
         "name": "Laundry Room _ 0005",
         "orientation": "v",
         "showlegend": true,
         "type": "scatter",
         "x": [
          "2024-11-26",
          "2024-11-27",
          "2024-11-28",
          "2024-11-29",
          "2024-11-30"
         ],
         "xaxis": "x",
         "y": [
          66,
          67,
          70,
          34,
          35
         ],
         "yaxis": "y"
        },
        {
         "hovertemplate": "Title=Coffee Shop 6<br>Curdate=%{x}<br>Ranking=%{y}<extra></extra>",
         "legendgroup": "Coffee Shop 6",
         "line": {
          "color": "#19d3f3",
          "dash": "solid"
         },
         "marker": {
          "symbol": "circle"
         },
         "mode": "lines",
         "name": "Coffee Shop 6",
         "orientation": "v",
         "showlegend": true,
         "type": "scatter",
         "x": [
          "2024-11-26",
          "2024-11-27",
          "2024-11-28",
          "2024-11-29",
          "2024-11-30"
         ],
         "xaxis": "x",
         "y": [
          65,
          22,
          23,
          5,
          4
         ],
         "yaxis": "y"
        },
        {
         "hovertemplate": "Title=Equipe Hopp<br>Curdate=%{x}<br>Ranking=%{y}<extra></extra>",
         "legendgroup": "Equipe Hopp",
         "line": {
          "color": "#FF6692",
          "dash": "solid"
         },
         "marker": {
          "symbol": "circle"
         },
         "mode": "lines",
         "name": "Equipe Hopp",
         "orientation": "v",
         "showlegend": true,
         "type": "scatter",
         "x": [
          "2024-11-26",
          "2024-11-27",
          "2024-11-28",
          "2024-11-29",
          "2024-11-30"
         ],
         "xaxis": "x",
         "y": [
          64,
          64,
          68,
          33,
          32
         ],
         "yaxis": "y"
        },
        {
         "hovertemplate": "Title=Benuta Dave Round Fur Rug (3 colors)<br>Curdate=%{x}<br>Ranking=%{y}<extra></extra>",
         "legendgroup": "Benuta Dave Round Fur Rug (3 colors)",
         "line": {
          "color": "#B6E880",
          "dash": "solid"
         },
         "marker": {
          "symbol": "circle"
         },
         "mode": "lines",
         "name": "Benuta Dave Round Fur Rug (3 colors)",
         "orientation": "v",
         "showlegend": true,
         "type": "scatter",
         "x": [
          "2024-11-26",
          "2024-11-27",
          "2024-11-29",
          "2024-11-30"
         ],
         "xaxis": "x",
         "y": [
          63,
          19,
          4,
          3
         ],
         "yaxis": "y"
        },
        {
         "hovertemplate": "Title=Realistic meadow grass<br>Curdate=%{x}<br>Ranking=%{y}<extra></extra>",
         "legendgroup": "Realistic meadow grass",
         "line": {
          "color": "#FF97FF",
          "dash": "solid"
         },
         "marker": {
          "symbol": "circle"
         },
         "mode": "lines",
         "name": "Realistic meadow grass",
         "orientation": "v",
         "showlegend": true,
         "type": "scatter",
         "x": [
          "2024-11-26",
          "2024-11-27",
          "2024-11-28",
          "2024-11-29",
          "2024-11-30"
         ],
         "xaxis": "x",
         "y": [
          62,
          75,
          66,
          75,
          75
         ],
         "yaxis": "y"
        },
        {
         "hovertemplate": "Title=Herringbone parquet chevron s8<br>Curdate=%{x}<br>Ranking=%{y}<extra></extra>",
         "legendgroup": "Herringbone parquet chevron s8",
         "line": {
          "color": "#FECB52",
          "dash": "solid"
         },
         "marker": {
          "symbol": "circle"
         },
         "mode": "lines",
         "name": "Herringbone parquet chevron s8",
         "orientation": "v",
         "showlegend": true,
         "type": "scatter",
         "x": [
          "2024-11-26",
          "2024-11-27",
          "2024-11-28",
          "2024-11-29",
          "2024-11-30"
         ],
         "xaxis": "x",
         "y": [
          61,
          74,
          65,
          66,
          68
         ],
         "yaxis": "y"
        },
        {
         "hovertemplate": "Title=Ventilation system.<br>Curdate=%{x}<br>Ranking=%{y}<extra></extra>",
         "legendgroup": "Ventilation system.",
         "line": {
          "color": "#636efa",
          "dash": "solid"
         },
         "marker": {
          "symbol": "circle"
         },
         "mode": "lines",
         "name": "Ventilation system.",
         "orientation": "v",
         "showlegend": true,
         "type": "scatter",
         "x": [
          "2024-11-26",
          "2024-11-27",
          "2024-11-28",
          "2024-11-29",
          "2024-11-30"
         ],
         "xaxis": "x",
         "y": [
          60,
          83,
          44,
          25,
          24
         ],
         "yaxis": "y"
        },
        {
         "hovertemplate": "Title=Round carpet<br>Curdate=%{x}<br>Ranking=%{y}<extra></extra>",
         "legendgroup": "Round carpet",
         "line": {
          "color": "#EF553B",
          "dash": "solid"
         },
         "marker": {
          "symbol": "circle"
         },
         "mode": "lines",
         "name": "Round carpet",
         "orientation": "v",
         "showlegend": true,
         "type": "scatter",
         "x": [
          "2024-11-26",
          "2024-11-27",
          "2024-11-28",
          "2024-11-29",
          "2024-11-30"
         ],
         "xaxis": "x",
         "y": [
          59,
          60,
          41,
          24,
          22
         ],
         "yaxis": "y"
        },
        {
         "hovertemplate": "Title=541 hallway zone 14 minimal modular wardeobe with seating niche<br>Curdate=%{x}<br>Ranking=%{y}<extra></extra>",
         "legendgroup": "541 hallway zone 14 minimal modular wardeobe with seating niche",
         "line": {
          "color": "#00cc96",
          "dash": "solid"
         },
         "marker": {
          "symbol": "circle"
         },
         "mode": "lines",
         "name": "541 hallway zone 14 minimal modular wardeobe with seating niche",
         "orientation": "v",
         "showlegend": true,
         "type": "scatter",
         "x": [
          "2024-11-26",
          "2024-11-27",
          "2024-11-28"
         ],
         "xaxis": "x",
         "y": [
          58,
          38,
          16
         ],
         "yaxis": "y"
        },
        {
         "hovertemplate": "Title=Calder Lander Build table Divan.ru<br>Curdate=%{x}<br>Ranking=%{y}<extra></extra>",
         "legendgroup": "Calder Lander Build table Divan.ru",
         "line": {
          "color": "#ab63fa",
          "dash": "solid"
         },
         "marker": {
          "symbol": "circle"
         },
         "mode": "lines",
         "name": "Calder Lander Build table Divan.ru",
         "orientation": "v",
         "showlegend": true,
         "type": "scatter",
         "x": [
          "2024-11-26",
          "2024-11-27",
          "2024-11-28",
          "2024-11-29",
          "2024-11-30"
         ],
         "xaxis": "x",
         "y": [
          57,
          34,
          14,
          18,
          16
         ],
         "yaxis": "y"
        },
        {
         "hovertemplate": "Title=Rooftop HVAC Systems<br>Curdate=%{x}<br>Ranking=%{y}<extra></extra>",
         "legendgroup": "Rooftop HVAC Systems",
         "line": {
          "color": "#FFA15A",
          "dash": "solid"
         },
         "marker": {
          "symbol": "circle"
         },
         "mode": "lines",
         "name": "Rooftop HVAC Systems",
         "orientation": "v",
         "showlegend": true,
         "type": "scatter",
         "x": [
          "2024-11-26",
          "2024-11-27"
         ],
         "xaxis": "x",
         "y": [
          56,
          33
         ],
         "yaxis": "y"
        },
        {
         "hovertemplate": "Title=Equipe MASSIMO<br>Curdate=%{x}<br>Ranking=%{y}<extra></extra>",
         "legendgroup": "Equipe MASSIMO",
         "line": {
          "color": "#19d3f3",
          "dash": "solid"
         },
         "marker": {
          "symbol": "circle"
         },
         "mode": "lines",
         "name": "Equipe MASSIMO",
         "orientation": "v",
         "showlegend": true,
         "type": "scatter",
         "x": [
          "2024-11-26",
          "2024-11-27",
          "2024-11-28",
          "2024-11-29"
         ],
         "xaxis": "x",
         "y": [
          55,
          55,
          13,
          16
         ],
         "yaxis": "y"
        },
        {
         "hovertemplate": "Title=decorative set 19<br>Curdate=%{x}<br>Ranking=%{y}<extra></extra>",
         "legendgroup": "decorative set 19",
         "line": {
          "color": "#FF6692",
          "dash": "solid"
         },
         "marker": {
          "symbol": "circle"
         },
         "mode": "lines",
         "name": "decorative set 19",
         "orientation": "v",
         "showlegend": true,
         "type": "scatter",
         "x": [
          "2024-11-26",
          "2024-11-27"
         ],
         "xaxis": "x",
         "y": [
          54,
          52
         ],
         "yaxis": "y"
        },
        {
         "hovertemplate": "Title=Indoor Plant Set 0147<br>Curdate=%{x}<br>Ranking=%{y}<extra></extra>",
         "legendgroup": "Indoor Plant Set 0147",
         "line": {
          "color": "#B6E880",
          "dash": "solid"
         },
         "marker": {
          "symbol": "circle"
         },
         "mode": "lines",
         "name": "Indoor Plant Set 0147",
         "orientation": "v",
         "showlegend": true,
         "type": "scatter",
         "x": [
          "2024-11-26",
          "2024-11-27",
          "2024-11-28"
         ],
         "xaxis": "x",
         "y": [
          53,
          27,
          33
         ],
         "yaxis": "y"
        },
        {
         "hovertemplate": "Title=coffee table decor set 005<br>Curdate=%{x}<br>Ranking=%{y}<extra></extra>",
         "legendgroup": "coffee table decor set 005",
         "line": {
          "color": "#FF97FF",
          "dash": "solid"
         },
         "marker": {
          "symbol": "circle"
         },
         "mode": "lines",
         "name": "coffee table decor set 005",
         "orientation": "v",
         "showlegend": true,
         "type": "scatter",
         "x": [
          "2024-11-26",
          "2024-11-27",
          "2024-11-28",
          "2024-11-29",
          "2024-11-30"
         ],
         "xaxis": "x",
         "y": [
          52,
          78,
          104,
          105,
          105
         ],
         "yaxis": "y"
        },
        {
         "hovertemplate": "Title=Christmas Tree and Decoration 78<br>Curdate=%{x}<br>Ranking=%{y}<extra></extra>",
         "legendgroup": "Christmas Tree and Decoration 78",
         "line": {
          "color": "#FECB52",
          "dash": "solid"
         },
         "marker": {
          "symbol": "circle"
         },
         "mode": "lines",
         "name": "Christmas Tree and Decoration 78",
         "orientation": "v",
         "showlegend": true,
         "type": "scatter",
         "x": [
          "2024-11-26",
          "2024-11-27",
          "2024-11-28",
          "2024-11-29",
          "2024-11-30"
         ],
         "xaxis": "x",
         "y": [
          51,
          51,
          10,
          12,
          12
         ],
         "yaxis": "y"
        },
        {
         "hovertemplate": "Title=FloorGen Tools 1.5.4<br>Curdate=%{x}<br>Ranking=%{y}<extra></extra>",
         "legendgroup": "FloorGen Tools 1.5.4",
         "line": {
          "color": "#636efa",
          "dash": "solid"
         },
         "marker": {
          "symbol": "circle"
         },
         "mode": "lines",
         "name": "FloorGen Tools 1.5.4",
         "orientation": "v",
         "showlegend": true,
         "type": "scatter",
         "x": [
          "2024-11-26",
          "2024-11-27",
          "2024-11-28",
          "2024-11-29",
          "2024-11-30"
         ],
         "xaxis": "x",
         "y": [
          50,
          50,
          52,
          67,
          57
         ],
         "yaxis": "y"
        },
        {
         "hovertemplate": "Title=Set of ceilings Armstrong and Grilyato<br>Curdate=%{x}<br>Ranking=%{y}<extra></extra>",
         "legendgroup": "Set of ceilings Armstrong and Grilyato",
         "line": {
          "color": "#EF553B",
          "dash": "solid"
         },
         "marker": {
          "symbol": "circle"
         },
         "mode": "lines",
         "name": "Set of ceilings Armstrong and Grilyato",
         "orientation": "v",
         "showlegend": true,
         "type": "scatter",
         "x": [
          "2024-11-26",
          "2024-11-27",
          "2024-11-28",
          "2024-11-29",
          "2024-11-30"
         ],
         "xaxis": "x",
         "y": [
          49,
          48,
          28,
          55,
          55
         ],
         "yaxis": "y"
        },
        {
         "hovertemplate": "Title=Nice Christmas tree<br>Curdate=%{x}<br>Ranking=%{y}<extra></extra>",
         "legendgroup": "Nice Christmas tree",
         "line": {
          "color": "#00cc96",
          "dash": "solid"
         },
         "marker": {
          "symbol": "circle"
         },
         "mode": "lines",
         "name": "Nice Christmas tree",
         "orientation": "v",
         "showlegend": true,
         "type": "scatter",
         "x": [
          "2024-11-26",
          "2024-11-27",
          "2024-11-28",
          "2024-11-29",
          "2024-11-30"
         ],
         "xaxis": "x",
         "y": [
          48,
          66,
          81,
          77,
          77
         ],
         "yaxis": "y"
        },
        {
         "hovertemplate": "Title=Accessories for public toilets black set 152 part 4<br>Curdate=%{x}<br>Ranking=%{y}<extra></extra>",
         "legendgroup": "Accessories for public toilets black set 152 part 4",
         "line": {
          "color": "#ab63fa",
          "dash": "solid"
         },
         "marker": {
          "symbol": "circle"
         },
         "mode": "lines",
         "name": "Accessories for public toilets black set 152 part 4",
         "orientation": "v",
         "showlegend": true,
         "type": "scatter",
         "x": [
          "2024-11-26",
          "2024-11-27",
          "2024-11-28"
         ],
         "xaxis": "x",
         "y": [
          47,
          65,
          26
         ],
         "yaxis": "y"
        },
        {
         "hovertemplate": "Title=Sinks and faucets Omoikiri<br>Curdate=%{x}<br>Ranking=%{y}<extra></extra>",
         "legendgroup": "Sinks and faucets Omoikiri",
         "line": {
          "color": "#FFA15A",
          "dash": "solid"
         },
         "marker": {
          "symbol": "circle"
         },
         "mode": "lines",
         "name": "Sinks and faucets Omoikiri",
         "orientation": "v",
         "showlegend": true,
         "type": "scatter",
         "x": [
          "2024-11-26",
          "2024-11-27",
          "2024-11-28",
          "2024-11-29",
          "2024-11-30"
         ],
         "xaxis": "x",
         "y": [
          46,
          86,
          69,
          76,
          76
         ],
         "yaxis": "y"
        },
        {
         "hovertemplate": "Title=Clothes dryer in the closet<br>Curdate=%{x}<br>Ranking=%{y}<extra></extra>",
         "legendgroup": "Clothes dryer in the closet",
         "line": {
          "color": "#19d3f3",
          "dash": "solid"
         },
         "marker": {
          "symbol": "circle"
         },
         "mode": "lines",
         "name": "Clothes dryer in the closet",
         "orientation": "v",
         "showlegend": true,
         "type": "scatter",
         "x": [
          "2024-11-26",
          "2024-11-27"
         ],
         "xaxis": "x",
         "y": [
          45,
          44
         ],
         "yaxis": "y"
        },
        {
         "hovertemplate": "Title=Cezares Stylus + Boheme Uno + AlcaPlast Thin<br>Curdate=%{x}<br>Ranking=%{y}<extra></extra>",
         "legendgroup": "Cezares Stylus + Boheme Uno + AlcaPlast Thin",
         "line": {
          "color": "#FF6692",
          "dash": "solid"
         },
         "marker": {
          "symbol": "circle"
         },
         "mode": "lines",
         "name": "Cezares Stylus + Boheme Uno + AlcaPlast Thin",
         "orientation": "v",
         "showlegend": true,
         "type": "scatter",
         "x": [
          "2024-11-26",
          "2024-11-27",
          "2024-11-29",
          "2024-11-30"
         ],
         "xaxis": "x",
         "y": [
          44,
          43,
          3,
          2
         ],
         "yaxis": "y"
        },
        {
         "hovertemplate": "Title=Double bath curtain on Sunerzha cornice<br>Curdate=%{x}<br>Ranking=%{y}<extra></extra>",
         "legendgroup": "Double bath curtain on Sunerzha cornice",
         "line": {
          "color": "#B6E880",
          "dash": "solid"
         },
         "marker": {
          "symbol": "circle"
         },
         "mode": "lines",
         "name": "Double bath curtain on Sunerzha cornice",
         "orientation": "v",
         "showlegend": true,
         "type": "scatter",
         "x": [
          "2024-11-26",
          "2024-11-27",
          "2024-11-28"
         ],
         "xaxis": "x",
         "y": [
          43,
          62,
          21
         ],
         "yaxis": "y"
        },
        {
         "hovertemplate": "Title=Oval island for dressing room NG14<br>Curdate=%{x}<br>Ranking=%{y}<extra></extra>",
         "legendgroup": "Oval island for dressing room NG14",
         "line": {
          "color": "#FF97FF",
          "dash": "solid"
         },
         "marker": {
          "symbol": "circle"
         },
         "mode": "lines",
         "name": "Oval island for dressing room NG14",
         "orientation": "v",
         "showlegend": true,
         "type": "scatter",
         "x": [
          "2024-11-26",
          "2024-11-27",
          "2024-11-28",
          "2024-11-29",
          "2024-11-30"
         ],
         "xaxis": "x",
         "y": [
          42,
          18,
          20,
          30,
          29
         ],
         "yaxis": "y"
        },
        {
         "hovertemplate": "Title=Gianna Natural Walnut Wood King Bed Frame<br>Curdate=%{x}<br>Ranking=%{y}<extra></extra>",
         "legendgroup": "Gianna Natural Walnut Wood King Bed Frame",
         "line": {
          "color": "#FECB52",
          "dash": "solid"
         },
         "marker": {
          "symbol": "circle"
         },
         "mode": "lines",
         "name": "Gianna Natural Walnut Wood King Bed Frame",
         "orientation": "v",
         "showlegend": true,
         "type": "scatter",
         "x": [
          "2024-11-26",
          "2024-11-27",
          "2024-11-29",
          "2024-11-30"
         ],
         "xaxis": "x",
         "y": [
          41,
          17,
          45,
          46
         ],
         "yaxis": "y"
        },
        {
         "hovertemplate": "Title=Soft seat by the window in the children's room<br>Curdate=%{x}<br>Ranking=%{y}<extra></extra>",
         "legendgroup": "Soft seat by the window in the children's room",
         "line": {
          "color": "#636efa",
          "dash": "solid"
         },
         "marker": {
          "symbol": "circle"
         },
         "mode": "lines",
         "name": "Soft seat by the window in the children's room",
         "orientation": "v",
         "showlegend": true,
         "type": "scatter",
         "x": [
          "2024-11-26",
          "2024-11-27",
          "2024-11-28",
          "2024-11-29",
          "2024-11-30"
         ],
         "xaxis": "x",
         "y": [
          40,
          40,
          63,
          44,
          45
         ],
         "yaxis": "y"
        },
        {
         "hovertemplate": "Title=Cookware set NG5<br>Curdate=%{x}<br>Ranking=%{y}<extra></extra>",
         "legendgroup": "Cookware set NG5",
         "line": {
          "color": "#EF553B",
          "dash": "solid"
         },
         "marker": {
          "symbol": "circle"
         },
         "mode": "lines",
         "name": "Cookware set NG5",
         "orientation": "v",
         "showlegend": true,
         "type": "scatter",
         "x": [
          "2024-11-26",
          "2024-11-27",
          "2024-11-28",
          "2024-11-29",
          "2024-11-30"
         ],
         "xaxis": "x",
         "y": [
          39,
          39,
          79,
          84,
          83
         ],
         "yaxis": "y"
        },
        {
         "hovertemplate": "Title=Showcase with glasses<br>Curdate=%{x}<br>Ranking=%{y}<extra></extra>",
         "legendgroup": "Showcase with glasses",
         "line": {
          "color": "#00cc96",
          "dash": "solid"
         },
         "marker": {
          "symbol": "circle"
         },
         "mode": "lines",
         "name": "Showcase with glasses",
         "orientation": "v",
         "showlegend": true,
         "type": "scatter",
         "x": [
          "2024-11-26",
          "2024-11-29"
         ],
         "xaxis": "x",
         "y": [
          38,
          1
         ],
         "yaxis": "y"
        },
        {
         "hovertemplate": "Title=Champagne / set1<br>Curdate=%{x}<br>Ranking=%{y}<extra></extra>",
         "legendgroup": "Champagne / set1",
         "line": {
          "color": "#ab63fa",
          "dash": "solid"
         },
         "marker": {
          "symbol": "circle"
         },
         "mode": "lines",
         "name": "Champagne / set1",
         "orientation": "v",
         "showlegend": true,
         "type": "scatter",
         "x": [
          "2024-11-26",
          "2024-11-27"
         ],
         "xaxis": "x",
         "y": [
          37,
          11
         ],
         "yaxis": "y"
        },
        {
         "hovertemplate": "Title=Faucets and showers Boheme Specter set<br>Curdate=%{x}<br>Ranking=%{y}<extra></extra>",
         "legendgroup": "Faucets and showers Boheme Specter set",
         "line": {
          "color": "#FFA15A",
          "dash": "solid"
         },
         "marker": {
          "symbol": "circle"
         },
         "mode": "lines",
         "name": "Faucets and showers Boheme Specter set",
         "orientation": "v",
         "showlegend": true,
         "type": "scatter",
         "x": [
          "2024-11-26",
          "2024-11-27",
          "2024-11-28",
          "2024-11-29",
          "2024-11-30"
         ],
         "xaxis": "x",
         "y": [
          36,
          37,
          61,
          63,
          65
         ],
         "yaxis": "y"
        },
        {
         "hovertemplate": "Title=Houseplants 01<br>Curdate=%{x}<br>Ranking=%{y}<extra></extra>",
         "legendgroup": "Houseplants 01",
         "line": {
          "color": "#19d3f3",
          "dash": "solid"
         },
         "marker": {
          "symbol": "circle"
         },
         "mode": "lines",
         "name": "Houseplants 01",
         "orientation": "v",
         "showlegend": true,
         "type": "scatter",
         "x": [
          "2024-11-26"
         ],
         "xaxis": "x",
         "y": [
          35
         ],
         "yaxis": "y"
        },
        {
         "hovertemplate": "Title=Residential multi-storey building<br>Curdate=%{x}<br>Ranking=%{y}<extra></extra>",
         "legendgroup": "Residential multi-storey building",
         "line": {
          "color": "#FF6692",
          "dash": "solid"
         },
         "marker": {
          "symbol": "circle"
         },
         "mode": "lines",
         "name": "Residential multi-storey building",
         "orientation": "v",
         "showlegend": true,
         "type": "scatter",
         "x": [
          "2024-11-26"
         ],
         "xaxis": "x",
         "y": [
          34
         ],
         "yaxis": "y"
        },
        {
         "hovertemplate": "Title=Pinboard with childrens drawings<br>Curdate=%{x}<br>Ranking=%{y}<extra></extra>",
         "legendgroup": "Pinboard with childrens drawings",
         "line": {
          "color": "#B6E880",
          "dash": "solid"
         },
         "marker": {
          "symbol": "circle"
         },
         "mode": "lines",
         "name": "Pinboard with childrens drawings",
         "orientation": "v",
         "showlegend": true,
         "type": "scatter",
         "x": [
          "2024-11-26",
          "2024-11-27",
          "2024-11-28",
          "2024-11-29",
          "2024-11-30"
         ],
         "xaxis": "x",
         "y": [
          33,
          32,
          36,
          60,
          62
         ],
         "yaxis": "y"
        },
        {
         "hovertemplate": "Title=Kitchen set09<br>Curdate=%{x}<br>Ranking=%{y}<extra></extra>",
         "legendgroup": "Kitchen set09",
         "line": {
          "color": "#FF97FF",
          "dash": "solid"
         },
         "marker": {
          "symbol": "circle"
         },
         "mode": "lines",
         "name": "Kitchen set09",
         "orientation": "v",
         "showlegend": true,
         "type": "scatter",
         "x": [
          "2024-11-26",
          "2024-11-27"
         ],
         "xaxis": "x",
         "y": [
          32,
          30
         ],
         "yaxis": "y"
        },
        {
         "hovertemplate": "Title=Shower cabin 07<br>Curdate=%{x}<br>Ranking=%{y}<extra></extra>",
         "legendgroup": "Shower cabin 07",
         "line": {
          "color": "#FECB52",
          "dash": "solid"
         },
         "marker": {
          "symbol": "circle"
         },
         "mode": "lines",
         "name": "Shower cabin 07",
         "orientation": "v",
         "showlegend": true,
         "type": "scatter",
         "x": [
          "2024-11-26",
          "2024-11-28"
         ],
         "xaxis": "x",
         "y": [
          31,
          11
         ],
         "yaxis": "y"
        },
        {
         "hovertemplate": "Title=Track system centersvet Infinity<br>Curdate=%{x}<br>Ranking=%{y}<extra></extra>",
         "legendgroup": "Track system centersvet Infinity",
         "line": {
          "color": "#636efa",
          "dash": "solid"
         },
         "marker": {
          "symbol": "circle"
         },
         "mode": "lines",
         "name": "Track system centersvet Infinity",
         "orientation": "v",
         "showlegend": true,
         "type": "scatter",
         "x": [
          "2024-11-26",
          "2024-11-27",
          "2024-11-28",
          "2024-11-29",
          "2024-11-30"
         ],
         "xaxis": "x",
         "y": [
          30,
          80,
          83,
          88,
          86
         ],
         "yaxis": "y"
        },
        {
         "hovertemplate": "Title=Kitchen Decor Set With Pears<br>Curdate=%{x}<br>Ranking=%{y}<extra></extra>",
         "legendgroup": "Kitchen Decor Set With Pears",
         "line": {
          "color": "#EF553B",
          "dash": "solid"
         },
         "marker": {
          "symbol": "circle"
         },
         "mode": "lines",
         "name": "Kitchen Decor Set With Pears",
         "orientation": "v",
         "showlegend": true,
         "type": "scatter",
         "x": [
          "2024-11-26",
          "2024-11-27"
         ],
         "xaxis": "x",
         "y": [
          29,
          7
         ],
         "yaxis": "y"
        },
        {
         "hovertemplate": "Title=HOMARY island for dressing room NG16<br>Curdate=%{x}<br>Ranking=%{y}<extra></extra>",
         "legendgroup": "HOMARY island for dressing room NG16",
         "line": {
          "color": "#00cc96",
          "dash": "solid"
         },
         "marker": {
          "symbol": "circle"
         },
         "mode": "lines",
         "name": "HOMARY island for dressing room NG16",
         "orientation": "v",
         "showlegend": true,
         "type": "scatter",
         "x": [
          "2024-11-26",
          "2024-11-27",
          "2024-11-28",
          "2024-11-29",
          "2024-11-30"
         ],
         "xaxis": "x",
         "y": [
          28,
          68,
          82,
          94,
          93
         ],
         "yaxis": "y"
        },
        {
         "hovertemplate": "Title=TV Wall | set 1056<br>Curdate=%{x}<br>Ranking=%{y}<extra></extra>",
         "legendgroup": "TV Wall | set 1056",
         "line": {
          "color": "#ab63fa",
          "dash": "solid"
         },
         "marker": {
          "symbol": "circle"
         },
         "mode": "lines",
         "name": "TV Wall | set 1056",
         "orientation": "v",
         "showlegend": true,
         "type": "scatter",
         "x": [
          "2024-11-26"
         ],
         "xaxis": "x",
         "y": [
          27
         ],
         "yaxis": "y"
        },
        {
         "hovertemplate": "Title=Siena Kids Bed by Como<br>Curdate=%{x}<br>Ranking=%{y}<extra></extra>",
         "legendgroup": "Siena Kids Bed by Como",
         "line": {
          "color": "#FFA15A",
          "dash": "solid"
         },
         "marker": {
          "symbol": "circle"
         },
         "mode": "lines",
         "name": "Siena Kids Bed by Como",
         "orientation": "v",
         "showlegend": true,
         "type": "scatter",
         "x": [
          "2024-11-26"
         ],
         "xaxis": "x",
         "y": [
          26
         ],
         "yaxis": "y"
        },
        {
         "hovertemplate": "Title=LAUNDRY SET (Poliform FITTED + ASKO)<br>Curdate=%{x}<br>Ranking=%{y}<extra></extra>",
         "legendgroup": "LAUNDRY SET (Poliform FITTED + ASKO)",
         "line": {
          "color": "#19d3f3",
          "dash": "solid"
         },
         "marker": {
          "symbol": "circle"
         },
         "mode": "lines",
         "name": "LAUNDRY SET (Poliform FITTED + ASKO)",
         "orientation": "v",
         "showlegend": true,
         "type": "scatter",
         "x": [
          "2024-11-26",
          "2024-11-27",
          "2024-11-28",
          "2024-11-30"
         ],
         "xaxis": "x",
         "y": [
          25,
          4,
          31,
          10
         ],
         "yaxis": "y"
        },
        {
         "hovertemplate": "Title=LAUNDRY SET 2 (L'ORIGINE Aeterna + ASKO)<br>Curdate=%{x}<br>Ranking=%{y}<extra></extra>",
         "legendgroup": "LAUNDRY SET 2 (L'ORIGINE Aeterna + ASKO)",
         "line": {
          "color": "#FF6692",
          "dash": "solid"
         },
         "marker": {
          "symbol": "circle"
         },
         "mode": "lines",
         "name": "LAUNDRY SET 2 (L'ORIGINE Aeterna + ASKO)",
         "orientation": "v",
         "showlegend": true,
         "type": "scatter",
         "x": [
          "2024-11-26",
          "2024-11-27",
          "2024-11-30"
         ],
         "xaxis": "x",
         "y": [
          24,
          25,
          9
         ],
         "yaxis": "y"
        },
        {
         "hovertemplate": "Title=Christmas tree 5<br>Curdate=%{x}<br>Ranking=%{y}<extra></extra>",
         "legendgroup": "Christmas tree 5",
         "line": {
          "color": "#B6E880",
          "dash": "solid"
         },
         "marker": {
          "symbol": "circle"
         },
         "mode": "lines",
         "name": "Christmas tree 5",
         "orientation": "v",
         "showlegend": true,
         "type": "scatter",
         "x": [
          "2024-11-26",
          "2024-11-27",
          "2024-11-28",
          "2024-11-29",
          "2024-11-30"
         ],
         "xaxis": "x",
         "y": [
          23,
          47,
          51,
          54,
          34
         ],
         "yaxis": "y"
        },
        {
         "hovertemplate": "Title=Boen parquet board wood flooring<br>Curdate=%{x}<br>Ranking=%{y}<extra></extra>",
         "legendgroup": "Boen parquet board wood flooring",
         "line": {
          "color": "#FF97FF",
          "dash": "solid"
         },
         "marker": {
          "symbol": "circle"
         },
         "mode": "lines",
         "name": "Boen parquet board wood flooring",
         "orientation": "v",
         "showlegend": true,
         "type": "scatter",
         "x": [
          "2024-11-26",
          "2024-11-27",
          "2024-11-28",
          "2024-11-29",
          "2024-11-30"
         ],
         "xaxis": "x",
         "y": [
          22,
          46,
          27,
          53,
          54
         ],
         "yaxis": "y"
        },
        {
         "hovertemplate": "Title=Wet asphalt with leaves. Autumn. Editable<br>Curdate=%{x}<br>Ranking=%{y}<extra></extra>",
         "legendgroup": "Wet asphalt with leaves. Autumn. Editable",
         "line": {
          "color": "#FECB52",
          "dash": "solid"
         },
         "marker": {
          "symbol": "circle"
         },
         "mode": "lines",
         "name": "Wet asphalt with leaves. Autumn. Editable",
         "orientation": "v",
         "showlegend": true,
         "type": "scatter",
         "x": [
          "2024-11-26",
          "2024-11-27",
          "2024-11-28",
          "2024-11-29",
          "2024-11-30"
         ],
         "xaxis": "x",
         "y": [
          21,
          45,
          50,
          52,
          53
         ],
         "yaxis": "y"
        },
        {
         "hovertemplate": "Title=Serving NG3<br>Curdate=%{x}<br>Ranking=%{y}<extra></extra>",
         "legendgroup": "Serving NG3",
         "line": {
          "color": "#636efa",
          "dash": "solid"
         },
         "marker": {
          "symbol": "circle"
         },
         "mode": "lines",
         "name": "Serving NG3",
         "orientation": "v",
         "showlegend": true,
         "type": "scatter",
         "x": [
          "2024-11-26",
          "2024-11-28",
          "2024-11-29",
          "2024-11-30"
         ],
         "xaxis": "x",
         "y": [
          20,
          49,
          32,
          31
         ],
         "yaxis": "y"
        },
        {
         "hovertemplate": "Title=Indoor Plant 702 - Olive Plant<br>Curdate=%{x}<br>Ranking=%{y}<extra></extra>",
         "legendgroup": "Indoor Plant 702 - Olive Plant",
         "line": {
          "color": "#EF553B",
          "dash": "solid"
         },
         "marker": {
          "symbol": "circle"
         },
         "mode": "lines",
         "name": "Indoor Plant 702 - Olive Plant",
         "orientation": "v",
         "showlegend": true,
         "type": "scatter",
         "x": [
          "2024-11-26",
          "2024-11-28",
          "2024-11-29",
          "2024-11-30"
         ],
         "xaxis": "x",
         "y": [
          19,
          48,
          47,
          48
         ],
         "yaxis": "y"
        },
        {
         "hovertemplate": "Title=PlayStation 5 Collection<br>Curdate=%{x}<br>Ranking=%{y}<extra></extra>",
         "legendgroup": "PlayStation 5 Collection",
         "line": {
          "color": "#00cc96",
          "dash": "solid"
         },
         "marker": {
          "symbol": "circle"
         },
         "mode": "lines",
         "name": "PlayStation 5 Collection",
         "orientation": "v",
         "showlegend": true,
         "type": "scatter",
         "x": [
          "2024-11-26"
         ],
         "xaxis": "x",
         "y": [
          18
         ],
         "yaxis": "y"
        },
        {
         "hovertemplate": "Title=A wall with a rack for gym equipment 2<br>Curdate=%{x}<br>Ranking=%{y}<extra></extra>",
         "legendgroup": "A wall with a rack for gym equipment 2",
         "line": {
          "color": "#ab63fa",
          "dash": "solid"
         },
         "marker": {
          "symbol": "circle"
         },
         "mode": "lines",
         "name": "A wall with a rack for gym equipment 2",
         "orientation": "v",
         "showlegend": true,
         "type": "scatter",
         "x": [
          "2024-11-26",
          "2024-11-28",
          "2024-11-29",
          "2024-11-30"
         ],
         "xaxis": "x",
         "y": [
          17,
          19,
          29,
          28
         ],
         "yaxis": "y"
        },
        {
         "hovertemplate": "Title=Hotel Bathroom Accessories LE LABO<br>Curdate=%{x}<br>Ranking=%{y}<extra></extra>",
         "legendgroup": "Hotel Bathroom Accessories LE LABO",
         "line": {
          "color": "#FFA15A",
          "dash": "solid"
         },
         "marker": {
          "symbol": "circle"
         },
         "mode": "lines",
         "name": "Hotel Bathroom Accessories LE LABO",
         "orientation": "v",
         "showlegend": true,
         "type": "scatter",
         "x": [
          "2024-11-26",
          "2024-11-27",
          "2024-11-28",
          "2024-11-29",
          "2024-11-30"
         ],
         "xaxis": "x",
         "y": [
          16,
          41,
          46,
          28,
          27
         ],
         "yaxis": "y"
        },
        {
         "hovertemplate": "Title=Christmas tree with fireplace 4<br>Curdate=%{x}<br>Ranking=%{y}<extra></extra>",
         "legendgroup": "Christmas tree with fireplace 4",
         "line": {
          "color": "#19d3f3",
          "dash": "solid"
         },
         "marker": {
          "symbol": "circle"
         },
         "mode": "lines",
         "name": "Christmas tree with fireplace 4",
         "orientation": "v",
         "showlegend": true,
         "type": "scatter",
         "x": [
          "2024-11-26",
          "2024-11-27",
          "2024-11-28",
          "2024-11-29",
          "2024-11-30"
         ],
         "xaxis": "x",
         "y": [
          15,
          14,
          42,
          42,
          44
         ],
         "yaxis": "y"
        },
        {
         "hovertemplate": "Title=Faucets and showers Boheme uno set 1<br>Curdate=%{x}<br>Ranking=%{y}<extra></extra>",
         "legendgroup": "Faucets and showers Boheme uno set 1",
         "line": {
          "color": "#FF6692",
          "dash": "solid"
         },
         "marker": {
          "symbol": "circle"
         },
         "mode": "lines",
         "name": "Faucets and showers Boheme uno set 1",
         "orientation": "v",
         "showlegend": true,
         "type": "scatter",
         "x": [
          "2024-11-26",
          "2024-11-27",
          "2024-11-28",
          "2024-11-29",
          "2024-11-30"
         ],
         "xaxis": "x",
         "y": [
          14,
          13,
          62,
          83,
          82
         ],
         "yaxis": "y"
        },
        {
         "hovertemplate": "Title=Cafe Equipment Set 8<br>Curdate=%{x}<br>Ranking=%{y}<extra></extra>",
         "legendgroup": "Cafe Equipment Set 8",
         "line": {
          "color": "#B6E880",
          "dash": "solid"
         },
         "marker": {
          "symbol": "circle"
         },
         "mode": "lines",
         "name": "Cafe Equipment Set 8",
         "orientation": "v",
         "showlegend": true,
         "type": "scatter",
         "x": [
          "2024-11-26",
          "2024-11-29",
          "2024-11-30"
         ],
         "xaxis": "x",
         "y": [
          13,
          2,
          1
         ],
         "yaxis": "y"
        },
        {
         "hovertemplate": "Title=Office Furniture | 4 | Workplace<br>Curdate=%{x}<br>Ranking=%{y}<extra></extra>",
         "legendgroup": "Office Furniture | 4 | Workplace",
         "line": {
          "color": "#FF97FF",
          "dash": "solid"
         },
         "marker": {
          "symbol": "circle"
         },
         "mode": "lines",
         "name": "Office Furniture | 4 | Workplace",
         "orientation": "v",
         "showlegend": true,
         "type": "scatter",
         "x": [
          "2024-11-26",
          "2024-11-29",
          "2024-11-30"
         ],
         "xaxis": "x",
         "y": [
          12,
          19,
          17
         ],
         "yaxis": "y"
        },
        {
         "hovertemplate": "Title=Roman blinds<br>Curdate=%{x}<br>Ranking=%{y}<extra></extra>",
         "legendgroup": "Roman blinds",
         "line": {
          "color": "#FECB52",
          "dash": "solid"
         },
         "marker": {
          "symbol": "circle"
         },
         "mode": "lines",
         "name": "Roman blinds",
         "orientation": "v",
         "showlegend": true,
         "type": "scatter",
         "x": [
          "2024-11-26"
         ],
         "xaxis": "x",
         "y": [
          11
         ],
         "yaxis": "y"
        },
        {
         "hovertemplate": "Title=Mononova Roxen Sectional Sofa<br>Curdate=%{x}<br>Ranking=%{y}<extra></extra>",
         "legendgroup": "Mononova Roxen Sectional Sofa",
         "line": {
          "color": "#636efa",
          "dash": "solid"
         },
         "marker": {
          "symbol": "circle"
         },
         "mode": "lines",
         "name": "Mononova Roxen Sectional Sofa",
         "orientation": "v",
         "showlegend": true,
         "type": "scatter",
         "x": [
          "2024-11-26"
         ],
         "xaxis": "x",
         "y": [
          10
         ],
         "yaxis": "y"
        },
        {
         "hovertemplate": "Title=Wood planks 02<br>Curdate=%{x}<br>Ranking=%{y}<extra></extra>",
         "legendgroup": "Wood planks 02",
         "line": {
          "color": "#EF553B",
          "dash": "solid"
         },
         "marker": {
          "symbol": "circle"
         },
         "mode": "lines",
         "name": "Wood planks 02",
         "orientation": "v",
         "showlegend": true,
         "type": "scatter",
         "x": [
          "2024-11-26"
         ],
         "xaxis": "x",
         "y": [
          9
         ],
         "yaxis": "y"
        },
        {
         "hovertemplate": "Title=Arflex Marechiaro Modular sofa<br>Curdate=%{x}<br>Ranking=%{y}<extra></extra>",
         "legendgroup": "Arflex Marechiaro Modular sofa",
         "line": {
          "color": "#00cc96",
          "dash": "solid"
         },
         "marker": {
          "symbol": "circle"
         },
         "mode": "lines",
         "name": "Arflex Marechiaro Modular sofa",
         "orientation": "v",
         "showlegend": true,
         "type": "scatter",
         "x": [
          "2024-11-26",
          "2024-11-27"
         ],
         "xaxis": "x",
         "y": [
          8,
          56
         ],
         "yaxis": "y"
        },
        {
         "hovertemplate": "Title=Yves Sofa 014 by Minotti<br>Curdate=%{x}<br>Ranking=%{y}<extra></extra>",
         "legendgroup": "Yves Sofa 014 by Minotti",
         "line": {
          "color": "#ab63fa",
          "dash": "solid"
         },
         "marker": {
          "symbol": "circle"
         },
         "mode": "lines",
         "name": "Yves Sofa 014 by Minotti",
         "orientation": "v",
         "showlegend": true,
         "type": "scatter",
         "x": [
          "2024-11-26"
         ],
         "xaxis": "x",
         "y": [
          7
         ],
         "yaxis": "y"
        },
        {
         "hovertemplate": "Title=Bedside table Tammi<br>Curdate=%{x}<br>Ranking=%{y}<extra></extra>",
         "legendgroup": "Bedside table Tammi",
         "line": {
          "color": "#FFA15A",
          "dash": "solid"
         },
         "marker": {
          "symbol": "circle"
         },
         "mode": "lines",
         "name": "Bedside table Tammi",
         "orientation": "v",
         "showlegend": true,
         "type": "scatter",
         "x": [
          "2024-11-26",
          "2024-11-27",
          "2024-11-28",
          "2024-11-29",
          "2024-11-30"
         ],
         "xaxis": "x",
         "y": [
          6,
          54,
          58,
          38,
          40
         ],
         "yaxis": "y"
        },
        {
         "hovertemplate": "Title=kitchen modern-067<br>Curdate=%{x}<br>Ranking=%{y}<extra></extra>",
         "legendgroup": "kitchen modern-067",
         "line": {
          "color": "#19d3f3",
          "dash": "solid"
         },
         "marker": {
          "symbol": "circle"
         },
         "mode": "lines",
         "name": "kitchen modern-067",
         "orientation": "v",
         "showlegend": true,
         "type": "scatter",
         "x": [
          "2024-11-26",
          "2024-11-27",
          "2024-11-28",
          "2024-11-29",
          "2024-11-30"
         ],
         "xaxis": "x",
         "y": [
          5,
          8,
          56,
          15,
          14
         ],
         "yaxis": "y"
        },
        {
         "hovertemplate": "Title=Furniture composition GHS-2617<br>Curdate=%{x}<br>Ranking=%{y}<extra></extra>",
         "legendgroup": "Furniture composition GHS-2617",
         "line": {
          "color": "#FF6692",
          "dash": "solid"
         },
         "marker": {
          "symbol": "circle"
         },
         "mode": "lines",
         "name": "Furniture composition GHS-2617",
         "orientation": "v",
         "showlegend": true,
         "type": "scatter",
         "x": [
          "2024-11-26",
          "2024-11-28"
         ],
         "xaxis": "x",
         "y": [
          4,
          12
         ],
         "yaxis": "y"
        },
        {
         "hovertemplate": "Title=Furniture Composition 271<br>Curdate=%{x}<br>Ranking=%{y}<extra></extra>",
         "legendgroup": "Furniture Composition 271",
         "line": {
          "color": "#B6E880",
          "dash": "solid"
         },
         "marker": {
          "symbol": "circle"
         },
         "mode": "lines",
         "name": "Furniture Composition 271",
         "orientation": "v",
         "showlegend": true,
         "type": "scatter",
         "x": [
          "2024-11-26",
          "2024-11-27",
          "2024-11-28",
          "2024-11-29",
          "2024-11-30"
         ],
         "xaxis": "x",
         "y": [
          3,
          31,
          35,
          37,
          39
         ],
         "yaxis": "y"
        },
        {
         "hovertemplate": "Title=Kitchen in neoclassical style 71<br>Curdate=%{x}<br>Ranking=%{y}<extra></extra>",
         "legendgroup": "Kitchen in neoclassical style 71",
         "line": {
          "color": "#FF97FF",
          "dash": "solid"
         },
         "marker": {
          "symbol": "circle"
         },
         "mode": "lines",
         "name": "Kitchen in neoclassical style 71",
         "orientation": "v",
         "showlegend": true,
         "type": "scatter",
         "x": [
          "2024-11-26"
         ],
         "xaxis": "x",
         "y": [
          2
         ],
         "yaxis": "y"
        },
        {
         "hovertemplate": "Title=Bakery Equipment<br>Curdate=%{x}<br>Ranking=%{y}<extra></extra>",
         "legendgroup": "Bakery Equipment",
         "line": {
          "color": "#FECB52",
          "dash": "solid"
         },
         "marker": {
          "symbol": "circle"
         },
         "mode": "lines",
         "name": "Bakery Equipment",
         "orientation": "v",
         "showlegend": true,
         "type": "scatter",
         "x": [
          "2024-11-26",
          "2024-11-27",
          "2024-11-28",
          "2024-11-29",
          "2024-11-30"
         ],
         "xaxis": "x",
         "y": [
          1,
          3,
          30,
          9,
          8
         ],
         "yaxis": "y"
        },
        {
         "hovertemplate": "Title=Rubber Coating<br>Curdate=%{x}<br>Ranking=%{y}<extra></extra>",
         "legendgroup": "Rubber Coating",
         "line": {
          "color": "#636efa",
          "dash": "solid"
         },
         "marker": {
          "symbol": "circle"
         },
         "mode": "lines",
         "name": "Rubber Coating",
         "orientation": "v",
         "showlegend": true,
         "type": "scatter",
         "x": [
          "2024-11-27",
          "2024-11-28",
          "2024-11-29",
          "2024-11-30"
         ],
         "xaxis": "x",
         "y": [
          61,
          45,
          27,
          26
         ],
         "yaxis": "y"
        },
        {
         "hovertemplate": "Title=Wardrobe system Rimadesio Dress Bold<br>Curdate=%{x}<br>Ranking=%{y}<extra></extra>",
         "legendgroup": "Wardrobe system Rimadesio Dress Bold",
         "line": {
          "color": "#EF553B",
          "dash": "solid"
         },
         "marker": {
          "symbol": "circle"
         },
         "mode": "lines",
         "name": "Wardrobe system Rimadesio Dress Bold",
         "orientation": "v",
         "showlegend": true,
         "type": "scatter",
         "x": [
          "2024-11-27",
          "2024-11-28",
          "2024-11-29",
          "2024-11-30"
         ],
         "xaxis": "x",
         "y": [
          42,
          47,
          31,
          30
         ],
         "yaxis": "y"
        },
        {
         "hovertemplate": "Title=Canon printer set.<br>Curdate=%{x}<br>Ranking=%{y}<extra></extra>",
         "legendgroup": "Canon printer set.",
         "line": {
          "color": "#00cc96",
          "dash": "solid"
         },
         "marker": {
          "symbol": "circle"
         },
         "mode": "lines",
         "name": "Canon printer set.",
         "orientation": "v",
         "showlegend": true,
         "type": "scatter",
         "x": [
          "2024-11-27",
          "2024-11-28",
          "2024-11-29",
          "2024-11-30"
         ],
         "xaxis": "x",
         "y": [
          36,
          15,
          21,
          19
         ],
         "yaxis": "y"
        },
        {
         "hovertemplate": "Title=TV Wall 52<br>Curdate=%{x}<br>Ranking=%{y}<extra></extra>",
         "legendgroup": "TV Wall 52",
         "line": {
          "color": "#ab63fa",
          "dash": "solid"
         },
         "marker": {
          "symbol": "circle"
         },
         "mode": "lines",
         "name": "TV Wall 52",
         "orientation": "v",
         "showlegend": true,
         "type": "scatter",
         "x": [
          "2024-11-27",
          "2024-11-28",
          "2024-11-29",
          "2024-11-30"
         ],
         "xaxis": "x",
         "y": [
          29,
          34,
          79,
          79
         ],
         "yaxis": "y"
        },
        {
         "hovertemplate": "Title=Childrens open wardrobe with desk, modular, modern, 25<br>Curdate=%{x}<br>Ranking=%{y}<extra></extra>",
         "legendgroup": "Childrens open wardrobe with desk, modular, modern, 25",
         "line": {
          "color": "#FFA15A",
          "dash": "solid"
         },
         "marker": {
          "symbol": "circle"
         },
         "mode": "lines",
         "name": "Childrens open wardrobe with desk, modular, modern, 25",
         "orientation": "v",
         "showlegend": true,
         "type": "scatter",
         "x": [
          "2024-11-27",
          "2024-11-28",
          "2024-11-29",
          "2024-11-30"
         ],
         "xaxis": "x",
         "y": [
          26,
          32,
          57,
          58
         ],
         "yaxis": "y"
        },
        {
         "hovertemplate": "Title=Kitchen Equipment<br>Curdate=%{x}<br>Ranking=%{y}<extra></extra>",
         "legendgroup": "Kitchen Equipment",
         "line": {
          "color": "#19d3f3",
          "dash": "solid"
         },
         "marker": {
          "symbol": "circle"
         },
         "mode": "lines",
         "name": "Kitchen Equipment",
         "orientation": "v",
         "showlegend": true,
         "type": "scatter",
         "x": [
          "2024-11-27"
         ],
         "xaxis": "x",
         "y": [
          24
         ],
         "yaxis": "y"
        },
        {
         "hovertemplate": "Title=Guitar. Guitar set for stage. Musical instrument. Microphone<br>Curdate=%{x}<br>Ranking=%{y}<extra></extra>",
         "legendgroup": "Guitar. Guitar set for stage. Musical instrument. Microphone",
         "line": {
          "color": "#FF6692",
          "dash": "solid"
         },
         "marker": {
          "symbol": "circle"
         },
         "mode": "lines",
         "name": "Guitar. Guitar set for stage. Musical instrument. Microphone",
         "orientation": "v",
         "showlegend": true,
         "type": "scatter",
         "x": [
          "2024-11-27",
          "2024-11-28",
          "2024-11-29",
          "2024-11-30"
         ],
         "xaxis": "x",
         "y": [
          23,
          6,
          56,
          56
         ],
         "yaxis": "y"
        },
        {
         "hovertemplate": "Title=Dressing room 24<br>Curdate=%{x}<br>Ranking=%{y}<extra></extra>",
         "legendgroup": "Dressing room 24",
         "line": {
          "color": "#B6E880",
          "dash": "solid"
         },
         "marker": {
          "symbol": "circle"
         },
         "mode": "lines",
         "name": "Dressing room 24",
         "orientation": "v",
         "showlegend": true,
         "type": "scatter",
         "x": [
          "2024-11-27",
          "2024-11-28"
         ],
         "xaxis": "x",
         "y": [
          21,
          2
         ],
         "yaxis": "y"
        },
        {
         "hovertemplate": "Title=Khmara by Makhno Rough Plaster Pendant Lamps<br>Curdate=%{x}<br>Ranking=%{y}<extra></extra>",
         "legendgroup": "Khmara by Makhno Rough Plaster Pendant Lamps",
         "line": {
          "color": "#FF97FF",
          "dash": "solid"
         },
         "marker": {
          "symbol": "circle"
         },
         "mode": "lines",
         "name": "Khmara by Makhno Rough Plaster Pendant Lamps",
         "orientation": "v",
         "showlegend": true,
         "type": "scatter",
         "x": [
          "2024-11-27",
          "2024-11-28",
          "2024-11-29",
          "2024-11-30"
         ],
         "xaxis": "x",
         "y": [
          20,
          22,
          48,
          49
         ],
         "yaxis": "y"
        },
        {
         "hovertemplate": "Title=Volhovec Rift Doors<br>Curdate=%{x}<br>Ranking=%{y}<extra></extra>",
         "legendgroup": "Volhovec Rift Doors",
         "line": {
          "color": "#FECB52",
          "dash": "solid"
         },
         "marker": {
          "symbol": "circle"
         },
         "mode": "lines",
         "name": "Volhovec Rift Doors",
         "orientation": "v",
         "showlegend": true,
         "type": "scatter",
         "x": [
          "2024-11-27",
          "2024-11-28",
          "2024-11-29",
          "2024-11-30"
         ],
         "xaxis": "x",
         "y": [
          16,
          64,
          65,
          67
         ],
         "yaxis": "y"
        },
        {
         "hovertemplate": "Title=Saba Italia Pixel sofa<br>Curdate=%{x}<br>Ranking=%{y}<extra></extra>",
         "legendgroup": "Saba Italia Pixel sofa",
         "line": {
          "color": "#636efa",
          "dash": "solid"
         },
         "marker": {
          "symbol": "circle"
         },
         "mode": "lines",
         "name": "Saba Italia Pixel sofa",
         "orientation": "v",
         "showlegend": true,
         "type": "scatter",
         "x": [
          "2024-11-27"
         ],
         "xaxis": "x",
         "y": [
          15
         ],
         "yaxis": "y"
        },
        {
         "hovertemplate": "Title=Pattie Armchair by Minotti<br>Curdate=%{x}<br>Ranking=%{y}<extra></extra>",
         "legendgroup": "Pattie Armchair by Minotti",
         "line": {
          "color": "#EF553B",
          "dash": "solid"
         },
         "marker": {
          "symbol": "circle"
         },
         "mode": "lines",
         "name": "Pattie Armchair by Minotti",
         "orientation": "v",
         "showlegend": true,
         "type": "scatter",
         "x": [
          "2024-11-27",
          "2024-11-29",
          "2024-11-30"
         ],
         "xaxis": "x",
         "y": [
          12,
          23,
          21
         ],
         "yaxis": "y"
        },
        {
         "hovertemplate": "Title=Equipe BALI<br>Curdate=%{x}<br>Ranking=%{y}<extra></extra>",
         "legendgroup": "Equipe BALI",
         "line": {
          "color": "#00cc96",
          "dash": "solid"
         },
         "marker": {
          "symbol": "circle"
         },
         "mode": "lines",
         "name": "Equipe BALI",
         "orientation": "v",
         "showlegend": true,
         "type": "scatter",
         "x": [
          "2024-11-27",
          "2024-11-28",
          "2024-11-29",
          "2024-11-30"
         ],
         "xaxis": "x",
         "y": [
          10,
          74,
          82,
          99
         ],
         "yaxis": "y"
        },
        {
         "hovertemplate": "Title=Thick and Linen Curtains with Roman Shade<br>Curdate=%{x}<br>Ranking=%{y}<extra></extra>",
         "legendgroup": "Thick and Linen Curtains with Roman Shade",
         "line": {
          "color": "#ab63fa",
          "dash": "solid"
         },
         "marker": {
          "symbol": "circle"
         },
         "mode": "lines",
         "name": "Thick and Linen Curtains with Roman Shade",
         "orientation": "v",
         "showlegend": true,
         "type": "scatter",
         "x": [
          "2024-11-27"
         ],
         "xaxis": "x",
         "y": [
          9
         ],
         "yaxis": "y"
        },
        {
         "hovertemplate": "Title=ATO rug by Gallotti&Radice<br>Curdate=%{x}<br>Ranking=%{y}<extra></extra>",
         "legendgroup": "ATO rug by Gallotti&Radice",
         "line": {
          "color": "#FFA15A",
          "dash": "solid"
         },
         "marker": {
          "symbol": "circle"
         },
         "mode": "lines",
         "name": "ATO rug by Gallotti&Radice",
         "orientation": "v",
         "showlegend": true,
         "type": "scatter",
         "x": [
          "2024-11-27"
         ],
         "xaxis": "x",
         "y": [
          6
         ],
         "yaxis": "y"
        },
        {
         "hovertemplate": "Title=Bathroom accessories Z42<br>Curdate=%{x}<br>Ranking=%{y}<extra></extra>",
         "legendgroup": "Bathroom accessories Z42",
         "line": {
          "color": "#19d3f3",
          "dash": "solid"
         },
         "marker": {
          "symbol": "circle"
         },
         "mode": "lines",
         "name": "Bathroom accessories Z42",
         "orientation": "v",
         "showlegend": true,
         "type": "scatter",
         "x": [
          "2024-11-27",
          "2024-11-28",
          "2024-11-29",
          "2024-11-30"
         ],
         "xaxis": "x",
         "y": [
          5,
          53,
          78,
          78
         ],
         "yaxis": "y"
        },
        {
         "hovertemplate": "Title=Christmas Tree Street<br>Curdate=%{x}<br>Ranking=%{y}<extra></extra>",
         "legendgroup": "Christmas Tree Street",
         "line": {
          "color": "#FF6692",
          "dash": "solid"
         },
         "marker": {
          "symbol": "circle"
         },
         "mode": "lines",
         "name": "Christmas Tree Street",
         "orientation": "v",
         "showlegend": true,
         "type": "scatter",
         "x": [
          "2024-11-27",
          "2024-11-28",
          "2024-11-29",
          "2024-11-30"
         ],
         "xaxis": "x",
         "y": [
          2,
          4,
          7,
          5
         ],
         "yaxis": "y"
        },
        {
         "hovertemplate": "Title=Curtain 28/ curtains<br>Curdate=%{x}<br>Ranking=%{y}<extra></extra>",
         "legendgroup": "Curtain 28/ curtains",
         "line": {
          "color": "#B6E880",
          "dash": "solid"
         },
         "marker": {
          "symbol": "circle"
         },
         "mode": "lines",
         "name": "Curtain 28/ curtains",
         "orientation": "v",
         "showlegend": true,
         "type": "scatter",
         "x": [
          "2024-11-27",
          "2024-11-28"
         ],
         "xaxis": "x",
         "y": [
          1,
          25
         ],
         "yaxis": "y"
        },
        {
         "hovertemplate": "Title=Dinning Set 162<br>Curdate=%{x}<br>Ranking=%{y}<extra></extra>",
         "legendgroup": "Dinning Set 162",
         "line": {
          "color": "#FF97FF",
          "dash": "solid"
         },
         "marker": {
          "symbol": "circle"
         },
         "mode": "lines",
         "name": "Dinning Set 162",
         "orientation": "v",
         "showlegend": true,
         "type": "scatter",
         "x": [
          "2024-11-28",
          "2024-11-29",
          "2024-11-30"
         ],
         "xaxis": "x",
         "y": [
          54,
          13,
          38
         ],
         "yaxis": "y"
        },
        {
         "hovertemplate": "Title=EWRIKA Penelope electric heated towel rail<br>Curdate=%{x}<br>Ranking=%{y}<extra></extra>",
         "legendgroup": "EWRIKA Penelope electric heated towel rail",
         "line": {
          "color": "#FECB52",
          "dash": "solid"
         },
         "marker": {
          "symbol": "circle"
         },
         "mode": "lines",
         "name": "EWRIKA Penelope electric heated towel rail",
         "orientation": "v",
         "showlegend": true,
         "type": "scatter",
         "x": [
          "2024-11-28",
          "2024-11-29",
          "2024-11-30"
         ],
         "xaxis": "x",
         "y": [
          38,
          17,
          15
         ],
         "yaxis": "y"
        },
        {
         "hovertemplate": "Title=A set for a clothing store and showroom<br>Curdate=%{x}<br>Ranking=%{y}<extra></extra>",
         "legendgroup": "A set for a clothing store and showroom",
         "line": {
          "color": "#636efa",
          "dash": "solid"
         },
         "marker": {
          "symbol": "circle"
         },
         "mode": "lines",
         "name": "A set for a clothing store and showroom",
         "orientation": "v",
         "showlegend": true,
         "type": "scatter",
         "x": [
          "2024-11-28"
         ],
         "xaxis": "x",
         "y": [
          37
         ],
         "yaxis": "y"
        },
        {
         "hovertemplate": "Title=Decorative set with a small beige bag<br>Curdate=%{x}<br>Ranking=%{y}<extra></extra>",
         "legendgroup": "Decorative set with a small beige bag",
         "line": {
          "color": "#EF553B",
          "dash": "solid"
         },
         "marker": {
          "symbol": "circle"
         },
         "mode": "lines",
         "name": "Decorative set with a small beige bag",
         "orientation": "v",
         "showlegend": true,
         "type": "scatter",
         "x": [
          "2024-11-28",
          "2024-11-29",
          "2024-11-30"
         ],
         "xaxis": "x",
         "y": [
          24,
          51,
          52
         ],
         "yaxis": "y"
        },
        {
         "hovertemplate": "Title=Emmi Armchair by Minotti<br>Curdate=%{x}<br>Ranking=%{y}<extra></extra>",
         "legendgroup": "Emmi Armchair by Minotti",
         "line": {
          "color": "#00cc96",
          "dash": "solid"
         },
         "marker": {
          "symbol": "circle"
         },
         "mode": "lines",
         "name": "Emmi Armchair by Minotti",
         "orientation": "v",
         "showlegend": true,
         "type": "scatter",
         "x": [
          "2024-11-28",
          "2024-11-29",
          "2024-11-30"
         ],
         "xaxis": "x",
         "y": [
          18,
          46,
          47
         ],
         "yaxis": "y"
        },
        {
         "hovertemplate": "Title=Bathroom furniture 11<br>Curdate=%{x}<br>Ranking=%{y}<extra></extra>",
         "legendgroup": "Bathroom furniture 11",
         "line": {
          "color": "#ab63fa",
          "dash": "solid"
         },
         "marker": {
          "symbol": "circle"
         },
         "mode": "lines",
         "name": "Bathroom furniture 11",
         "orientation": "v",
         "showlegend": true,
         "type": "scatter",
         "x": [
          "2024-11-28"
         ],
         "xaxis": "x",
         "y": [
          17
         ],
         "yaxis": "y"
        },
        {
         "hovertemplate": "Title=Pinch Pleat Linen Curtain with Roller Blind<br>Curdate=%{x}<br>Ranking=%{y}<extra></extra>",
         "legendgroup": "Pinch Pleat Linen Curtain with Roller Blind",
         "line": {
          "color": "#FFA15A",
          "dash": "solid"
         },
         "marker": {
          "symbol": "circle"
         },
         "mode": "lines",
         "name": "Pinch Pleat Linen Curtain with Roller Blind",
         "orientation": "v",
         "showlegend": true,
         "type": "scatter",
         "x": [
          "2024-11-28",
          "2024-11-29",
          "2024-11-30"
         ],
         "xaxis": "x",
         "y": [
          9,
          68,
          69
         ],
         "yaxis": "y"
        },
        {
         "hovertemplate": "Title=Wonderful Christmas Tree<br>Curdate=%{x}<br>Ranking=%{y}<extra></extra>",
         "legendgroup": "Wonderful Christmas Tree",
         "line": {
          "color": "#19d3f3",
          "dash": "solid"
         },
         "marker": {
          "symbol": "circle"
         },
         "mode": "lines",
         "name": "Wonderful Christmas Tree",
         "orientation": "v",
         "showlegend": true,
         "type": "scatter",
         "x": [
          "2024-11-28",
          "2024-11-29",
          "2024-11-30"
         ],
         "xaxis": "x",
         "y": [
          8,
          36,
          36
         ],
         "yaxis": "y"
        },
        {
         "hovertemplate": "Title=Kitchen table Loft Tobacco and chairs Dick divan.ru<br>Curdate=%{x}<br>Ranking=%{y}<extra></extra>",
         "legendgroup": "Kitchen table Loft Tobacco and chairs Dick divan.ru",
         "line": {
          "color": "#FF6692",
          "dash": "solid"
         },
         "marker": {
          "symbol": "circle"
         },
         "mode": "lines",
         "name": "Kitchen table Loft Tobacco and chairs Dick divan.ru",
         "orientation": "v",
         "showlegend": true,
         "type": "scatter",
         "x": [
          "2024-11-28"
         ],
         "xaxis": "x",
         "y": [
          7
         ],
         "yaxis": "y"
        },
        {
         "hovertemplate": "Title=Thermal curtain Ballu<br>Curdate=%{x}<br>Ranking=%{y}<extra></extra>",
         "legendgroup": "Thermal curtain Ballu",
         "line": {
          "color": "#B6E880",
          "dash": "solid"
         },
         "marker": {
          "symbol": "circle"
         },
         "mode": "lines",
         "name": "Thermal curtain Ballu",
         "orientation": "v",
         "showlegend": true,
         "type": "scatter",
         "x": [
          "2024-11-28"
         ],
         "xaxis": "x",
         "y": [
          5
         ],
         "yaxis": "y"
        },
        {
         "hovertemplate": "Title=Yoga & Meditation Set<br>Curdate=%{x}<br>Ranking=%{y}<extra></extra>",
         "legendgroup": "Yoga & Meditation Set",
         "line": {
          "color": "#FF97FF",
          "dash": "solid"
         },
         "marker": {
          "symbol": "circle"
         },
         "mode": "lines",
         "name": "Yoga & Meditation Set",
         "orientation": "v",
         "showlegend": true,
         "type": "scatter",
         "x": [
          "2024-11-28",
          "2024-11-29",
          "2024-11-30"
         ],
         "xaxis": "x",
         "y": [
          3,
          6,
          33
         ],
         "yaxis": "y"
        },
        {
         "hovertemplate": "Title=Timo Saona<br>Curdate=%{x}<br>Ranking=%{y}<extra></extra>",
         "legendgroup": "Timo Saona",
         "line": {
          "color": "#FECB52",
          "dash": "solid"
         },
         "marker": {
          "symbol": "circle"
         },
         "mode": "lines",
         "name": "Timo Saona",
         "orientation": "v",
         "showlegend": true,
         "type": "scatter",
         "x": [
          "2024-11-28",
          "2024-11-29",
          "2024-11-30"
         ],
         "xaxis": "x",
         "y": [
          1,
          50,
          51
         ],
         "yaxis": "y"
        },
        {
         "hovertemplate": "Title=Kitchen 27<br>Curdate=%{x}<br>Ranking=%{y}<extra></extra>",
         "legendgroup": "Kitchen 27",
         "line": {
          "color": "#636efa",
          "dash": "solid"
         },
         "marker": {
          "symbol": "circle"
         },
         "mode": "lines",
         "name": "Kitchen 27",
         "orientation": "v",
         "showlegend": true,
         "type": "scatter",
         "x": [
          "2024-11-29",
          "2024-11-30"
         ],
         "xaxis": "x",
         "y": [
          35,
          37
         ],
         "yaxis": "y"
        },
        {
         "hovertemplate": "Title=Travis shelving Divan.ru<br>Curdate=%{x}<br>Ranking=%{y}<extra></extra>",
         "legendgroup": "Travis shelving Divan.ru",
         "line": {
          "color": "#EF553B",
          "dash": "solid"
         },
         "marker": {
          "symbol": "circle"
         },
         "mode": "lines",
         "name": "Travis shelving Divan.ru",
         "orientation": "v",
         "showlegend": true,
         "type": "scatter",
         "x": [
          "2024-11-29",
          "2024-11-30"
         ],
         "xaxis": "x",
         "y": [
          26,
          25
         ],
         "yaxis": "y"
        },
        {
         "hovertemplate": "Title=Curtain #121<br>Curdate=%{x}<br>Ranking=%{y}<extra></extra>",
         "legendgroup": "Curtain #121",
         "line": {
          "color": "#00cc96",
          "dash": "solid"
         },
         "marker": {
          "symbol": "circle"
         },
         "mode": "lines",
         "name": "Curtain #121",
         "orientation": "v",
         "showlegend": true,
         "type": "scatter",
         "x": [
          "2024-11-29",
          "2024-11-30"
         ],
         "xaxis": "x",
         "y": [
          14,
          13
         ],
         "yaxis": "y"
        },
        {
         "hovertemplate": "Title=Decorative Set-086 Shelf Accessories<br>Curdate=%{x}<br>Ranking=%{y}<extra></extra>",
         "legendgroup": "Decorative Set-086 Shelf Accessories",
         "line": {
          "color": "#ab63fa",
          "dash": "solid"
         },
         "marker": {
          "symbol": "circle"
         },
         "mode": "lines",
         "name": "Decorative Set-086 Shelf Accessories",
         "orientation": "v",
         "showlegend": true,
         "type": "scatter",
         "x": [
          "2024-11-29",
          "2024-11-30"
         ],
         "xaxis": "x",
         "y": [
          11,
          11
         ],
         "yaxis": "y"
        },
        {
         "hovertemplate": "Title=Plastic Window | Balcony door<br>Curdate=%{x}<br>Ranking=%{y}<extra></extra>",
         "legendgroup": "Plastic Window | Balcony door",
         "line": {
          "color": "#FFA15A",
          "dash": "solid"
         },
         "marker": {
          "symbol": "circle"
         },
         "mode": "lines",
         "name": "Plastic Window | Balcony door",
         "orientation": "v",
         "showlegend": true,
         "type": "scatter",
         "x": [
          "2024-11-29"
         ],
         "xaxis": "x",
         "y": [
          10
         ],
         "yaxis": "y"
        },
        {
         "hovertemplate": "Title=CAT Forklift, Manual Loader and Warehouse Carts Kit<br>Curdate=%{x}<br>Ranking=%{y}<extra></extra>",
         "legendgroup": "CAT Forklift, Manual Loader and Warehouse Carts Kit",
         "line": {
          "color": "#19d3f3",
          "dash": "solid"
         },
         "marker": {
          "symbol": "circle"
         },
         "mode": "lines",
         "name": "CAT Forklift, Manual Loader and Warehouse Carts Kit",
         "orientation": "v",
         "showlegend": true,
         "type": "scatter",
         "x": [
          "2024-11-29",
          "2024-11-30"
         ],
         "xaxis": "x",
         "y": [
          8,
          6
         ],
         "yaxis": "y"
        },
        {
         "hovertemplate": "Title=Acer Ginnala<br>Curdate=%{x}<br>Ranking=%{y}<extra></extra>",
         "legendgroup": "Acer Ginnala",
         "line": {
          "color": "#FF6692",
          "dash": "solid"
         },
         "marker": {
          "symbol": "circle"
         },
         "mode": "lines",
         "name": "Acer Ginnala",
         "orientation": "v",
         "showlegend": true,
         "type": "scatter",
         "x": [
          "2024-11-30"
         ],
         "xaxis": "x",
         "y": [
          7
         ],
         "yaxis": "y"
        }
       ],
       "layout": {
        "legend": {
         "title": {
          "text": "Title"
         },
         "tracegroupgap": 0
        },
        "template": {
         "data": {
          "bar": [
           {
            "error_x": {
             "color": "#2a3f5f"
            },
            "error_y": {
             "color": "#2a3f5f"
            },
            "marker": {
             "line": {
              "color": "#E5ECF6",
              "width": 0.5
             },
             "pattern": {
              "fillmode": "overlay",
              "size": 10,
              "solidity": 0.2
             }
            },
            "type": "bar"
           }
          ],
          "barpolar": [
           {
            "marker": {
             "line": {
              "color": "#E5ECF6",
              "width": 0.5
             },
             "pattern": {
              "fillmode": "overlay",
              "size": 10,
              "solidity": 0.2
             }
            },
            "type": "barpolar"
           }
          ],
          "carpet": [
           {
            "aaxis": {
             "endlinecolor": "#2a3f5f",
             "gridcolor": "white",
             "linecolor": "white",
             "minorgridcolor": "white",
             "startlinecolor": "#2a3f5f"
            },
            "baxis": {
             "endlinecolor": "#2a3f5f",
             "gridcolor": "white",
             "linecolor": "white",
             "minorgridcolor": "white",
             "startlinecolor": "#2a3f5f"
            },
            "type": "carpet"
           }
          ],
          "choropleth": [
           {
            "colorbar": {
             "outlinewidth": 0,
             "ticks": ""
            },
            "type": "choropleth"
           }
          ],
          "contour": [
           {
            "colorbar": {
             "outlinewidth": 0,
             "ticks": ""
            },
            "colorscale": [
             [
              0,
              "#0d0887"
             ],
             [
              0.1111111111111111,
              "#46039f"
             ],
             [
              0.2222222222222222,
              "#7201a8"
             ],
             [
              0.3333333333333333,
              "#9c179e"
             ],
             [
              0.4444444444444444,
              "#bd3786"
             ],
             [
              0.5555555555555556,
              "#d8576b"
             ],
             [
              0.6666666666666666,
              "#ed7953"
             ],
             [
              0.7777777777777778,
              "#fb9f3a"
             ],
             [
              0.8888888888888888,
              "#fdca26"
             ],
             [
              1,
              "#f0f921"
             ]
            ],
            "type": "contour"
           }
          ],
          "contourcarpet": [
           {
            "colorbar": {
             "outlinewidth": 0,
             "ticks": ""
            },
            "type": "contourcarpet"
           }
          ],
          "heatmap": [
           {
            "colorbar": {
             "outlinewidth": 0,
             "ticks": ""
            },
            "colorscale": [
             [
              0,
              "#0d0887"
             ],
             [
              0.1111111111111111,
              "#46039f"
             ],
             [
              0.2222222222222222,
              "#7201a8"
             ],
             [
              0.3333333333333333,
              "#9c179e"
             ],
             [
              0.4444444444444444,
              "#bd3786"
             ],
             [
              0.5555555555555556,
              "#d8576b"
             ],
             [
              0.6666666666666666,
              "#ed7953"
             ],
             [
              0.7777777777777778,
              "#fb9f3a"
             ],
             [
              0.8888888888888888,
              "#fdca26"
             ],
             [
              1,
              "#f0f921"
             ]
            ],
            "type": "heatmap"
           }
          ],
          "heatmapgl": [
           {
            "colorbar": {
             "outlinewidth": 0,
             "ticks": ""
            },
            "colorscale": [
             [
              0,
              "#0d0887"
             ],
             [
              0.1111111111111111,
              "#46039f"
             ],
             [
              0.2222222222222222,
              "#7201a8"
             ],
             [
              0.3333333333333333,
              "#9c179e"
             ],
             [
              0.4444444444444444,
              "#bd3786"
             ],
             [
              0.5555555555555556,
              "#d8576b"
             ],
             [
              0.6666666666666666,
              "#ed7953"
             ],
             [
              0.7777777777777778,
              "#fb9f3a"
             ],
             [
              0.8888888888888888,
              "#fdca26"
             ],
             [
              1,
              "#f0f921"
             ]
            ],
            "type": "heatmapgl"
           }
          ],
          "histogram": [
           {
            "marker": {
             "pattern": {
              "fillmode": "overlay",
              "size": 10,
              "solidity": 0.2
             }
            },
            "type": "histogram"
           }
          ],
          "histogram2d": [
           {
            "colorbar": {
             "outlinewidth": 0,
             "ticks": ""
            },
            "colorscale": [
             [
              0,
              "#0d0887"
             ],
             [
              0.1111111111111111,
              "#46039f"
             ],
             [
              0.2222222222222222,
              "#7201a8"
             ],
             [
              0.3333333333333333,
              "#9c179e"
             ],
             [
              0.4444444444444444,
              "#bd3786"
             ],
             [
              0.5555555555555556,
              "#d8576b"
             ],
             [
              0.6666666666666666,
              "#ed7953"
             ],
             [
              0.7777777777777778,
              "#fb9f3a"
             ],
             [
              0.8888888888888888,
              "#fdca26"
             ],
             [
              1,
              "#f0f921"
             ]
            ],
            "type": "histogram2d"
           }
          ],
          "histogram2dcontour": [
           {
            "colorbar": {
             "outlinewidth": 0,
             "ticks": ""
            },
            "colorscale": [
             [
              0,
              "#0d0887"
             ],
             [
              0.1111111111111111,
              "#46039f"
             ],
             [
              0.2222222222222222,
              "#7201a8"
             ],
             [
              0.3333333333333333,
              "#9c179e"
             ],
             [
              0.4444444444444444,
              "#bd3786"
             ],
             [
              0.5555555555555556,
              "#d8576b"
             ],
             [
              0.6666666666666666,
              "#ed7953"
             ],
             [
              0.7777777777777778,
              "#fb9f3a"
             ],
             [
              0.8888888888888888,
              "#fdca26"
             ],
             [
              1,
              "#f0f921"
             ]
            ],
            "type": "histogram2dcontour"
           }
          ],
          "mesh3d": [
           {
            "colorbar": {
             "outlinewidth": 0,
             "ticks": ""
            },
            "type": "mesh3d"
           }
          ],
          "parcoords": [
           {
            "line": {
             "colorbar": {
              "outlinewidth": 0,
              "ticks": ""
             }
            },
            "type": "parcoords"
           }
          ],
          "pie": [
           {
            "automargin": true,
            "type": "pie"
           }
          ],
          "scatter": [
           {
            "fillpattern": {
             "fillmode": "overlay",
             "size": 10,
             "solidity": 0.2
            },
            "type": "scatter"
           }
          ],
          "scatter3d": [
           {
            "line": {
             "colorbar": {
              "outlinewidth": 0,
              "ticks": ""
             }
            },
            "marker": {
             "colorbar": {
              "outlinewidth": 0,
              "ticks": ""
             }
            },
            "type": "scatter3d"
           }
          ],
          "scattercarpet": [
           {
            "marker": {
             "colorbar": {
              "outlinewidth": 0,
              "ticks": ""
             }
            },
            "type": "scattercarpet"
           }
          ],
          "scattergeo": [
           {
            "marker": {
             "colorbar": {
              "outlinewidth": 0,
              "ticks": ""
             }
            },
            "type": "scattergeo"
           }
          ],
          "scattergl": [
           {
            "marker": {
             "colorbar": {
              "outlinewidth": 0,
              "ticks": ""
             }
            },
            "type": "scattergl"
           }
          ],
          "scattermapbox": [
           {
            "marker": {
             "colorbar": {
              "outlinewidth": 0,
              "ticks": ""
             }
            },
            "type": "scattermapbox"
           }
          ],
          "scatterpolar": [
           {
            "marker": {
             "colorbar": {
              "outlinewidth": 0,
              "ticks": ""
             }
            },
            "type": "scatterpolar"
           }
          ],
          "scatterpolargl": [
           {
            "marker": {
             "colorbar": {
              "outlinewidth": 0,
              "ticks": ""
             }
            },
            "type": "scatterpolargl"
           }
          ],
          "scatterternary": [
           {
            "marker": {
             "colorbar": {
              "outlinewidth": 0,
              "ticks": ""
             }
            },
            "type": "scatterternary"
           }
          ],
          "surface": [
           {
            "colorbar": {
             "outlinewidth": 0,
             "ticks": ""
            },
            "colorscale": [
             [
              0,
              "#0d0887"
             ],
             [
              0.1111111111111111,
              "#46039f"
             ],
             [
              0.2222222222222222,
              "#7201a8"
             ],
             [
              0.3333333333333333,
              "#9c179e"
             ],
             [
              0.4444444444444444,
              "#bd3786"
             ],
             [
              0.5555555555555556,
              "#d8576b"
             ],
             [
              0.6666666666666666,
              "#ed7953"
             ],
             [
              0.7777777777777778,
              "#fb9f3a"
             ],
             [
              0.8888888888888888,
              "#fdca26"
             ],
             [
              1,
              "#f0f921"
             ]
            ],
            "type": "surface"
           }
          ],
          "table": [
           {
            "cells": {
             "fill": {
              "color": "#EBF0F8"
             },
             "line": {
              "color": "white"
             }
            },
            "header": {
             "fill": {
              "color": "#C8D4E3"
             },
             "line": {
              "color": "white"
             }
            },
            "type": "table"
           }
          ]
         },
         "layout": {
          "annotationdefaults": {
           "arrowcolor": "#2a3f5f",
           "arrowhead": 0,
           "arrowwidth": 1
          },
          "autotypenumbers": "strict",
          "coloraxis": {
           "colorbar": {
            "outlinewidth": 0,
            "ticks": ""
           }
          },
          "colorscale": {
           "diverging": [
            [
             0,
             "#8e0152"
            ],
            [
             0.1,
             "#c51b7d"
            ],
            [
             0.2,
             "#de77ae"
            ],
            [
             0.3,
             "#f1b6da"
            ],
            [
             0.4,
             "#fde0ef"
            ],
            [
             0.5,
             "#f7f7f7"
            ],
            [
             0.6,
             "#e6f5d0"
            ],
            [
             0.7,
             "#b8e186"
            ],
            [
             0.8,
             "#7fbc41"
            ],
            [
             0.9,
             "#4d9221"
            ],
            [
             1,
             "#276419"
            ]
           ],
           "sequential": [
            [
             0,
             "#0d0887"
            ],
            [
             0.1111111111111111,
             "#46039f"
            ],
            [
             0.2222222222222222,
             "#7201a8"
            ],
            [
             0.3333333333333333,
             "#9c179e"
            ],
            [
             0.4444444444444444,
             "#bd3786"
            ],
            [
             0.5555555555555556,
             "#d8576b"
            ],
            [
             0.6666666666666666,
             "#ed7953"
            ],
            [
             0.7777777777777778,
             "#fb9f3a"
            ],
            [
             0.8888888888888888,
             "#fdca26"
            ],
            [
             1,
             "#f0f921"
            ]
           ],
           "sequentialminus": [
            [
             0,
             "#0d0887"
            ],
            [
             0.1111111111111111,
             "#46039f"
            ],
            [
             0.2222222222222222,
             "#7201a8"
            ],
            [
             0.3333333333333333,
             "#9c179e"
            ],
            [
             0.4444444444444444,
             "#bd3786"
            ],
            [
             0.5555555555555556,
             "#d8576b"
            ],
            [
             0.6666666666666666,
             "#ed7953"
            ],
            [
             0.7777777777777778,
             "#fb9f3a"
            ],
            [
             0.8888888888888888,
             "#fdca26"
            ],
            [
             1,
             "#f0f921"
            ]
           ]
          },
          "colorway": [
           "#636efa",
           "#EF553B",
           "#00cc96",
           "#ab63fa",
           "#FFA15A",
           "#19d3f3",
           "#FF6692",
           "#B6E880",
           "#FF97FF",
           "#FECB52"
          ],
          "font": {
           "color": "#2a3f5f"
          },
          "geo": {
           "bgcolor": "white",
           "lakecolor": "white",
           "landcolor": "#E5ECF6",
           "showlakes": true,
           "showland": true,
           "subunitcolor": "white"
          },
          "hoverlabel": {
           "align": "left"
          },
          "hovermode": "closest",
          "mapbox": {
           "style": "light"
          },
          "paper_bgcolor": "white",
          "plot_bgcolor": "#E5ECF6",
          "polar": {
           "angularaxis": {
            "gridcolor": "white",
            "linecolor": "white",
            "ticks": ""
           },
           "bgcolor": "#E5ECF6",
           "radialaxis": {
            "gridcolor": "white",
            "linecolor": "white",
            "ticks": ""
           }
          },
          "scene": {
           "xaxis": {
            "backgroundcolor": "#E5ECF6",
            "gridcolor": "white",
            "gridwidth": 2,
            "linecolor": "white",
            "showbackground": true,
            "ticks": "",
            "zerolinecolor": "white"
           },
           "yaxis": {
            "backgroundcolor": "#E5ECF6",
            "gridcolor": "white",
            "gridwidth": 2,
            "linecolor": "white",
            "showbackground": true,
            "ticks": "",
            "zerolinecolor": "white"
           },
           "zaxis": {
            "backgroundcolor": "#E5ECF6",
            "gridcolor": "white",
            "gridwidth": 2,
            "linecolor": "white",
            "showbackground": true,
            "ticks": "",
            "zerolinecolor": "white"
           }
          },
          "shapedefaults": {
           "line": {
            "color": "#2a3f5f"
           }
          },
          "ternary": {
           "aaxis": {
            "gridcolor": "white",
            "linecolor": "white",
            "ticks": ""
           },
           "baxis": {
            "gridcolor": "white",
            "linecolor": "white",
            "ticks": ""
           },
           "bgcolor": "#E5ECF6",
           "caxis": {
            "gridcolor": "white",
            "linecolor": "white",
            "ticks": ""
           }
          },
          "title": {
           "x": 0.05
          },
          "xaxis": {
           "automargin": true,
           "gridcolor": "white",
           "linecolor": "white",
           "ticks": "",
           "title": {
            "standoff": 15
           },
           "zerolinecolor": "white",
           "zerolinewidth": 2
          },
          "yaxis": {
           "automargin": true,
           "gridcolor": "white",
           "linecolor": "white",
           "ticks": "",
           "title": {
            "standoff": 15
           },
           "zerolinecolor": "white",
           "zerolinewidth": 2
          }
         }
        },
        "title": {
         "text": "Top 120 Rank Dynamics"
        },
        "xaxis": {
         "anchor": "y",
         "domain": [
          0,
          1
         ],
         "title": {
          "text": "Curdate"
         }
        },
        "yaxis": {
         "anchor": "x",
         "domain": [
          0,
          1
         ],
         "title": {
          "text": "Ranking"
         }
        }
       }
      }
     },
     "metadata": {},
     "output_type": "display_data"
    }
   ],
   "source": [
    "# Чтение данных\n",
    "dynamic_data = pd.read_excel(file_path)\n",
    "dynamic_data['Ranking'] = 121 - dynamic_data['N']\n",
    "\n",
    "fig9 = px.line(dynamic_data, x='Curdate', y='Ranking', color='Title', title='Top 120 Rank Dynamics')\n",
    "fig9.show()"
   ]
  },
  {
   "cell_type": "code",
   "execution_count": 229,
   "metadata": {},
   "outputs": [],
   "source": [
    "fig9.write_html(\"Top 120 Rank Dynamics.html\")"
   ]
  }
 ],
 "metadata": {
  "kernelspec": {
   "display_name": "Python 3",
   "language": "python",
   "name": "python3"
  },
  "language_info": {
   "codemirror_mode": {
    "name": "ipython",
    "version": 3
   },
   "file_extension": ".py",
   "mimetype": "text/x-python",
   "name": "python",
   "nbconvert_exporter": "python",
   "pygments_lexer": "ipython3",
   "version": "3.9.13"
  }
 },
 "nbformat": 4,
 "nbformat_minor": 2
}
